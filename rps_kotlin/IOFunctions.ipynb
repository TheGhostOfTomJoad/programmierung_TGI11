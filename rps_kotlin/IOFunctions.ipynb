{
 "cells": [
  {
   "cell_type": "code",
   "metadata": {
    "collapsed": true,
    "ExecuteTime": {
     "end_time": "2024-08-30T10:21:08.948449855Z",
     "start_time": "2024-08-30T10:21:06.484099639Z"
    }
   },
   "source": "%use dataframe",
   "outputs": [],
   "execution_count": 13
  },
  {
   "metadata": {
    "ExecuteTime": {
     "end_time": "2024-08-30T10:29:42.141853823Z",
     "start_time": "2024-08-30T10:29:42.042439601Z"
    }
   },
   "cell_type": "code",
   "source": "import rps.greetPlayerAskChoice",
   "outputs": [],
   "execution_count": 2
  },
  {
   "metadata": {
    "ExecuteTime": {
     "end_time": "2024-08-30T10:29:57.187589222Z",
     "start_time": "2024-08-30T10:29:43.883744198Z"
    }
   },
   "cell_type": "code",
   "source": "greetPlayerAskChoice(\"Alan\")",
   "outputs": [
    {
     "name": "stdout",
     "output_type": "stream",
     "text": [
      "Hey Alan! Please choose rock, paper or scissors!\n"
     ]
    },
    {
     "data": {
      "text/plain": [
       "rock"
      ]
     },
     "execution_count": 3,
     "metadata": {},
     "output_type": "execute_result"
    }
   ],
   "execution_count": 3
  }
 ],
 "metadata": {
  "kernelspec": {
   "display_name": "Kotlin",
   "language": "kotlin",
   "name": "kotlin"
  },
  "language_info": {
   "name": "kotlin",
   "version": "1.9.23",
   "mimetype": "text/x-kotlin",
   "file_extension": ".kt",
   "pygments_lexer": "kotlin",
   "codemirror_mode": "text/x-kotlin",
   "nbconvert_exporter": ""
  },
  "ktnbPluginMetadata": {
   "projectDependencies": [
    "rps_kotlin.main"
   ]
  }
 },
 "nbformat": 4,
 "nbformat_minor": 0
}
