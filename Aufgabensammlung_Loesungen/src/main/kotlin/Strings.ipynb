{
 "cells": [
  {
   "metadata": {},
   "cell_type": "markdown",
   "source": "## Aufgabe 1"
  },
  {
   "cell_type": "code",
   "metadata": {
    "ExecuteTime": {
     "end_time": "2024-09-01T08:04:23.840586777Z",
     "start_time": "2024-09-01T08:04:23.637406042Z"
    }
   },
   "source": [
    "val firstName = \"Grace\"\n",
    "\n",
    "val secondName = \"Hopper\"\n",
    "\n",
    "val fullName = firstName + \" \" + secondName\n",
    "\n",
    "fullName"
   ],
   "outputs": [
    {
     "data": {
      "text/plain": [
       "Grace Hopper"
      ]
     },
     "execution_count": 1,
     "metadata": {},
     "output_type": "execute_result"
    }
   ],
   "execution_count": 1
  },
  {
   "metadata": {},
   "cell_type": "markdown",
   "source": "## Aufgabe 2"
  },
  {
   "metadata": {
    "collapsed": true,
    "ExecuteTime": {
     "end_time": "2024-09-01T08:04:24.207932191Z",
     "start_time": "2024-09-01T08:04:23.923732723Z"
    }
   },
   "cell_type": "code",
   "source": [
    "\n",
    "val twoString = \"2\"\n",
    "\n",
    "val times = \" * \"\n",
    "\n",
    "val computation2Power2 = twoString + times + twoString\n",
    "\n",
    "val computation2Power4 = computation2Power2 + times + computation2Power2\n",
    "\n",
    "val computation2Power8 = computation2Power4 + times + computation2Power4\n",
    "\n",
    "val computation2Power16 = computation2Power8 + times + computation2Power8\n",
    "\n",
    "computation2Power16"
   ],
   "outputs": [
    {
     "data": {
      "text/plain": [
       "2 * 2 * 2 * 2 * 2 * 2 * 2 * 2 * 2 * 2 * 2 * 2 * 2 * 2 * 2 * 2"
      ]
     },
     "execution_count": 2,
     "metadata": {},
     "output_type": "execute_result"
    }
   ],
   "execution_count": 2
  }
 ],
 "metadata": {
  "kernelspec": {
   "display_name": "Kotlin",
   "language": "kotlin",
   "name": "kotlin"
  },
  "language_info": {
   "name": "kotlin",
   "version": "1.9.23",
   "mimetype": "text/x-kotlin",
   "file_extension": ".kt",
   "pygments_lexer": "kotlin",
   "codemirror_mode": "text/x-kotlin",
   "nbconvert_exporter": ""
  }
 },
 "nbformat": 4,
 "nbformat_minor": 0
}
