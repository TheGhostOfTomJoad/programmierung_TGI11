{
 "cells": [
  {
   "metadata": {},
   "cell_type": "markdown",
   "source": "# Aufgabe 1"
  },
  {
   "cell_type": "code",
   "metadata": {
    "collapsed": true,
    "ExecuteTime": {
     "end_time": "2024-09-01T08:01:28.325146863Z",
     "start_time": "2024-09-01T08:01:28.231815621Z"
    }
   },
   "source": "val minutesPerDay = 24 * 60",
   "outputs": [],
   "execution_count": 1
  },
  {
   "metadata": {
    "ExecuteTime": {
     "end_time": "2024-09-01T08:01:28.426366219Z",
     "start_time": "2024-09-01T08:01:28.333721637Z"
    }
   },
   "cell_type": "code",
   "source": "val minutesPerWeek = 24 * minutesPerDay",
   "outputs": [],
   "execution_count": 2
  },
  {
   "metadata": {
    "ExecuteTime": {
     "end_time": "2024-09-01T08:01:28.491376812Z",
     "start_time": "2024-09-01T08:01:28.435656680Z"
    }
   },
   "cell_type": "code",
   "source": "val sevenYardInFeet = 3 * 7",
   "outputs": [],
   "execution_count": 3
  },
  {
   "metadata": {
    "ExecuteTime": {
     "end_time": "2024-09-01T08:01:28.552492548Z",
     "start_time": "2024-09-01T08:01:28.499863722Z"
    }
   },
   "cell_type": "code",
   "source": "val sevenYardInInch= 12 * sevenYardInFeet",
   "outputs": [],
   "execution_count": 4
  },
  {
   "metadata": {},
   "cell_type": "markdown",
   "source": "# Aufgabe 2"
  },
  {
   "metadata": {
    "ExecuteTime": {
     "end_time": "2024-09-01T08:01:40.422228729Z",
     "start_time": "2024-09-01T08:01:40.284487502Z"
    }
   },
   "cell_type": "code",
   "source": [
    "val two = 2\n",
    "val twoPower2 = two * two\n",
    "val twoPower4 = twoPower2 * twoPower2\n",
    "val twoPower8 = twoPower4 * twoPower4\n",
    "val twoPower16 = twoPower8 * twoPower8\n",
    "twoPower16"
   ],
   "outputs": [
    {
     "data": {
      "text/plain": [
       "65536"
      ]
     },
     "execution_count": 6,
     "metadata": {},
     "output_type": "execute_result"
    }
   ],
   "execution_count": 6
  }
 ],
 "metadata": {
  "kernelspec": {
   "display_name": "Kotlin",
   "language": "kotlin",
   "name": "kotlin"
  },
  "language_info": {
   "name": "kotlin",
   "version": "1.9.23",
   "mimetype": "text/x-kotlin",
   "file_extension": ".kt",
   "pygments_lexer": "kotlin",
   "codemirror_mode": "text/x-kotlin",
   "nbconvert_exporter": ""
  }
 },
 "nbformat": 4,
 "nbformat_minor": 0
}
