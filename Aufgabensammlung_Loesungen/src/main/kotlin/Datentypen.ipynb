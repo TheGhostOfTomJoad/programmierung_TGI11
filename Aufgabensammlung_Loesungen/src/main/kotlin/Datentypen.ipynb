{
 "cells": [
  {
   "metadata": {},
   "cell_type": "markdown",
   "source": "## Aufgabe 1"
  },
  {
   "metadata": {
    "ExecuteTime": {
     "end_time": "2024-09-01T08:10:46.893491398Z",
     "start_time": "2024-09-01T08:10:46.672697229Z"
    }
   },
   "cell_type": "code",
   "source": [
    "val twoString = \"2\"\n",
    "\n",
    "val times = \" * \"\n",
    "\n",
    "val computation2Power2 = twoString + times + twoString\n",
    "\n",
    "val computation2Power4 = computation2Power2 + times + computation2Power2\n",
    "\n",
    "val computation2Power8 = computation2Power4 + times + computation2Power4\n",
    "\n",
    "val computation2Power16 = computation2Power8 + times + computation2Power8\n",
    "\n",
    "val two = 2\n",
    "\n",
    "val twoPower2 = two * two\n",
    "\n",
    "val twoPower4 = twoPower2 * twoPower2\n",
    "\n",
    "val twoPower8 = twoPower4 * twoPower4\n",
    "\n",
    "val twoPower16 = twoPower8 * twoPower8\n",
    "\n",
    "val twoPower16ComputationWithResult = computation2Power16 + \" = \" + twoPower16.toInt()\n",
    "\n",
    "twoPower16ComputationWithResult"
   ],
   "outputs": [
    {
     "data": {
      "text/plain": [
       "2 * 2 * 2 * 2 * 2 * 2 * 2 * 2 * 2 * 2 * 2 * 2 * 2 * 2 * 2 * 2 = 65536"
      ]
     },
     "execution_count": 3,
     "metadata": {},
     "output_type": "execute_result"
    }
   ],
   "execution_count": 3
  },
  {
   "metadata": {},
   "cell_type": "markdown",
   "source": "## Aufgabe 2"
  },
  {
   "cell_type": "code",
   "metadata": {
    "collapsed": true,
    "ExecuteTime": {
     "end_time": "2024-09-01T08:11:40.474871197Z",
     "start_time": "2024-09-01T08:11:40.324860691Z"
    }
   },
   "source": [
    "fun ToIntEmptyToZero(number: String) = (\"0\"+ number).toInt()\n",
    "\n",
    "fun sumStr(a:String, b: String) = (ToIntEmptyToZero(a) + ToIntEmptyToZero(b)).toString()\n"
   ],
   "outputs": [],
   "execution_count": 4
  }
 ],
 "metadata": {
  "kernelspec": {
   "display_name": "Kotlin",
   "language": "kotlin",
   "name": "kotlin"
  },
  "language_info": {
   "name": "kotlin",
   "version": "1.9.23",
   "mimetype": "text/x-kotlin",
   "file_extension": ".kt",
   "pygments_lexer": "kotlin",
   "codemirror_mode": "text/x-kotlin",
   "nbconvert_exporter": ""
  }
 },
 "nbformat": 4,
 "nbformat_minor": 0
}
