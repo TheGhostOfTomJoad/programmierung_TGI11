{
 "cells": [
  {
   "metadata": {
    "ExecuteTime": {
     "end_time": "2024-09-01T14:30:52.162231427Z",
     "start_time": "2024-09-01T14:30:52.054344530Z"
    }
   },
   "cell_type": "code",
   "source": "fun square(n:Int) = n * n",
   "outputs": [],
   "execution_count": 1
  },
  {
   "metadata": {
    "ExecuteTime": {
     "end_time": "2024-09-01T14:30:52.242021563Z",
     "start_time": "2024-09-01T14:30:52.179753514Z"
    }
   },
   "cell_type": "code",
   "source": "fun doubleInteger(n:Int) = 2 * n",
   "outputs": [],
   "execution_count": 2
  },
  {
   "metadata": {
    "ExecuteTime": {
     "end_time": "2024-09-01T14:30:52.306802181Z",
     "start_time": "2024-09-01T14:30:52.256065137Z"
    }
   },
   "cell_type": "code",
   "source": "fun opposite(n: Int) = -1 * n",
   "outputs": [],
   "execution_count": 3
  },
  {
   "metadata": {
    "ExecuteTime": {
     "end_time": "2024-09-01T14:30:52.365672498Z",
     "start_time": "2024-09-01T14:30:52.314136536Z"
    }
   },
   "cell_type": "code",
   "source": "fun nthEven(n: Int) = 2 * (n - 1)",
   "outputs": [],
   "execution_count": 4
  },
  {
   "metadata": {
    "ExecuteTime": {
     "end_time": "2024-09-01T14:30:52.420753350Z",
     "start_time": "2024-09-01T14:30:52.373911714Z"
    }
   },
   "cell_type": "code",
   "source": "fun otherAngle(a:Int, b:Int) = 180 - a - b ",
   "outputs": [],
   "execution_count": 5
  },
  {
   "metadata": {
    "ExecuteTime": {
     "end_time": "2024-09-01T14:30:52.490115269Z",
     "start_time": "2024-09-01T14:30:52.427362424Z"
    }
   },
   "cell_type": "code",
   "source": [
    "fun seatsInTheater(totCols: Int, totRows: Int, col: Int, row: Int) = (totCols -\n",
    "col + 1) * (totRows - row)"
   ],
   "outputs": [],
   "execution_count": 6
  },
  {
   "metadata": {
    "ExecuteTime": {
     "end_time": "2024-09-01T14:30:52.575029741Z",
     "start_time": "2024-09-01T14:30:52.497415603Z"
    }
   },
   "cell_type": "code",
   "source": "fun past(h:Int, m:Int, s:Int) = 1000 * (s + 60 * m + 60 * 60 * h)",
   "outputs": [],
   "execution_count": 7
  },
  {
   "metadata": {
    "ExecuteTime": {
     "end_time": "2024-09-01T14:30:52.629197770Z",
     "start_time": "2024-09-01T14:30:52.581220049Z"
    }
   },
   "cell_type": "code",
   "source": "fun multiply(a:Int, b:Int) = a * b",
   "outputs": [],
   "execution_count": 8
  },
  {
   "metadata": {
    "ExecuteTime": {
     "end_time": "2024-09-01T17:05:06.189268717Z",
     "start_time": "2024-09-01T17:05:05.941859268Z"
    }
   },
   "cell_type": "code",
   "source": "",
   "outputs": [],
   "execution_count": 1
  }
 ],
 "metadata": {
  "kernelspec": {
   "display_name": "Kotlin",
   "language": "kotlin",
   "name": "kotlin"
  },
  "language_info": {
   "name": "kotlin",
   "version": "1.9.23",
   "mimetype": "text/x-kotlin",
   "file_extension": ".kt",
   "pygments_lexer": "kotlin",
   "codemirror_mode": "text/x-kotlin",
   "nbconvert_exporter": ""
  }
 },
 "nbformat": 4,
 "nbformat_minor": 0
}
