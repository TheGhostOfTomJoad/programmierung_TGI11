{
 "cells": [
  {
   "metadata": {},
   "cell_type": "markdown",
   "source": "# Aufgabe 1"
  },
  {
   "metadata": {},
   "cell_type": "markdown",
   "source": ""
  },
  {
   "metadata": {
    "ExecuteTime": {
     "end_time": "2024-09-01T07:54:43.793702533Z",
     "start_time": "2024-09-01T07:54:43.700749551Z"
    }
   },
   "cell_type": "code",
   "source": "24 * 60",
   "outputs": [
    {
     "data": {
      "text/plain": [
       "1440"
      ]
     },
     "execution_count": 8,
     "metadata": {},
     "output_type": "execute_result"
    }
   ],
   "execution_count": 8
  },
  {
   "metadata": {
    "ExecuteTime": {
     "end_time": "2024-09-01T07:54:43.970230289Z",
     "start_time": "2024-09-01T07:54:43.877874424Z"
    }
   },
   "cell_type": "code",
   "source": "7 * 24 * 60 ",
   "outputs": [
    {
     "data": {
      "text/plain": [
       "10080"
      ]
     },
     "execution_count": 9,
     "metadata": {},
     "output_type": "execute_result"
    }
   ],
   "execution_count": 9
  },
  {
   "metadata": {
    "ExecuteTime": {
     "end_time": "2024-09-01T07:54:44.248664188Z",
     "start_time": "2024-09-01T07:54:44.079522073Z"
    }
   },
   "cell_type": "code",
   "source": "1 + 2 + 3 + 4 + 5 + 6 + 7 + 8 + 9 + 10",
   "outputs": [
    {
     "data": {
      "text/plain": [
       "55"
      ]
     },
     "execution_count": 10,
     "metadata": {},
     "output_type": "execute_result"
    }
   ],
   "execution_count": 10
  },
  {
   "metadata": {},
   "cell_type": "markdown",
   "source": "# Aufgabe 2"
  },
  {
   "metadata": {
    "ExecuteTime": {
     "end_time": "2024-09-01T07:54:44.423201529Z",
     "start_time": "2024-09-01T07:54:44.335666461Z"
    }
   },
   "cell_type": "code",
   "source": "7 * 3",
   "outputs": [
    {
     "data": {
      "text/plain": [
       "21"
      ]
     },
     "execution_count": 11,
     "metadata": {},
     "output_type": "execute_result"
    }
   ],
   "execution_count": 11
  },
  {
   "metadata": {
    "ExecuteTime": {
     "end_time": "2024-09-01T07:54:44.576368394Z",
     "start_time": "2024-09-01T07:54:44.502432946Z"
    }
   },
   "cell_type": "code",
   "source": "7 * 3 * 12",
   "outputs": [
    {
     "data": {
      "text/plain": [
       "252"
      ]
     },
     "execution_count": 12,
     "metadata": {},
     "output_type": "execute_result"
    }
   ],
   "execution_count": 12
  },
  {
   "metadata": {},
   "cell_type": "markdown",
   "source": "# Aufgabe 3"
  },
  {
   "metadata": {
    "ExecuteTime": {
     "end_time": "2024-09-01T07:54:44.809901660Z",
     "start_time": "2024-09-01T07:54:44.663022095Z"
    }
   },
   "cell_type": "code",
   "source": "1 - 2 - 3",
   "outputs": [
    {
     "data": {
      "text/plain": [
       "-4"
      ]
     },
     "execution_count": 13,
     "metadata": {},
     "output_type": "execute_result"
    }
   ],
   "execution_count": 13
  },
  {
   "metadata": {
    "ExecuteTime": {
     "end_time": "2024-09-01T07:54:44.976018187Z",
     "start_time": "2024-09-01T07:54:44.894957877Z"
    }
   },
   "cell_type": "code",
   "source": "1 - (2 -3)",
   "outputs": [
    {
     "data": {
      "text/plain": [
       "2"
      ]
     },
     "execution_count": 14,
     "metadata": {},
     "output_type": "execute_result"
    }
   ],
   "execution_count": 14
  }
 ],
 "metadata": {
  "kernelspec": {
   "display_name": "Kotlin",
   "language": "kotlin",
   "name": "kotlin"
  },
  "language_info": {
   "name": "kotlin",
   "version": "1.9.23",
   "mimetype": "text/x-kotlin",
   "file_extension": ".kt",
   "pygments_lexer": "kotlin",
   "codemirror_mode": "text/x-kotlin",
   "nbconvert_exporter": ""
  }
 },
 "nbformat": 4,
 "nbformat_minor": 0
}
