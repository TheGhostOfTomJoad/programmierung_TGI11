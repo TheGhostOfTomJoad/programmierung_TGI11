{
 "cells": [
  {
   "metadata": {},
   "cell_type": "markdown",
   "source": [
    "\n",
    "## Aufgabe 1"
   ]
  },
  {
   "cell_type": "code",
   "metadata": {
    "ExecuteTime": {
     "end_time": "2024-09-01T08:37:30.248803128Z",
     "start_time": "2024-09-01T08:37:30.150944084Z"
    }
   },
   "source": "fun say_hello(name: String): String = \"Hello, \" + name",
   "outputs": [],
   "execution_count": 1
  },
  {
   "metadata": {
    "ExecuteTime": {
     "end_time": "2024-09-01T08:37:30.312984027Z",
     "start_time": "2024-09-01T08:37:30.256135838Z"
    }
   },
   "cell_type": "code",
   "source": "fun greet(name: String): String = \"Hello, \" + name + \" how are you doing today?\"",
   "outputs": [],
   "execution_count": 2
  },
  {
   "metadata": {
    "collapsed": true,
    "ExecuteTime": {
     "end_time": "2024-09-01T08:37:30.391996211Z",
     "start_time": "2024-09-01T08:37:30.323466491Z"
    }
   },
   "cell_type": "code",
   "source": [
    "fun combine_names(firstName: String, lastName: String) =  firstName + \" \" +\n",
    "lastName"
   ],
   "outputs": [],
   "execution_count": 3
  },
  {
   "metadata": {},
   "cell_type": "markdown",
   "source": ""
  }
 ],
 "metadata": {
  "kernelspec": {
   "display_name": "Kotlin",
   "language": "kotlin",
   "name": "kotlin"
  },
  "language_info": {
   "name": "kotlin",
   "version": "1.9.23",
   "mimetype": "text/x-kotlin",
   "file_extension": ".kt",
   "pygments_lexer": "kotlin",
   "codemirror_mode": "text/x-kotlin",
   "nbconvert_exporter": ""
  }
 },
 "nbformat": 4,
 "nbformat_minor": 0
}
