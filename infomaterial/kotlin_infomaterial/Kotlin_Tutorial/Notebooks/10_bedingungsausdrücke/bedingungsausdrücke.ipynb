{
 "cells": [
  {
   "cell_type": "markdown",
   "id": "aba2dd97-4ed5-457e-9914-92495ebf8c8d",
   "metadata": {},
   "source": [
    "# Bedingte Ausführung\n",
    "\n",
    "# Grundlegendes und Motivation\n",
    "\n",
    "Wir haben schon viele *Operatoren* kennengelernt, mit denen zwei *Ausdrücke* zu einem *Ausdruck* verknüpft werden können. Bei der Auswertung eines solchen *Ausdrucks* werden zuerst beide Teilausdrücke ausgewertet. Anschließend wird die *Operation*, für die der *Operator* steht, auf die Ergebnisse angewandt. In diesem Kapitel lernen wir `if`-`else`-*Ausdrücken* eine Möglichkeit kennen drei *Ausdrücke* miteinander zu verknüpfen.\n",
    "\n",
    "## if-else-Ausdrücke\n",
    "\n",
    "Bei einem `if`-`else`-*Ausdruck* schreibt man hinter das Schlüsselwort `if` in Klammern einen *booleschen Ausdruck*. Anschließend folgen ein *Ausdruck*, das Schlüsselwort `else` und ein weiter *Ausdruck*. Diese beiden *Ausdrücke* müssen denselben *Typ haben* . Wenn der *booleschen Ausdruck* zu `true` ausgewertet wird, wird der gesamte Ausdruck zum *Wert* des *Ausdrucks* direkt hinter der Klammer ausgewertet."
   ]
  },
  {
   "cell_type": "code",
   "id": "848c82eb-2acc-40f8-9282-7a558e2963a5",
   "metadata": {
    "ExecuteTime": {
     "end_time": "2024-08-21T19:09:51.507040898Z",
     "start_time": "2024-08-21T19:09:51.346786081Z"
    }
   },
   "source": "if (4 == 4) \"hello \" + \"guys\" else \"good\" + \"bye\"",
   "outputs": [
    {
     "data": {
      "text/plain": [
       "goodbye"
      ]
     },
     "execution_count": 2,
     "metadata": {},
     "output_type": "execute_result"
    }
   ],
   "execution_count": 2
  },
  {
   "metadata": {},
   "cell_type": "markdown",
   "source": "Ansonsten wird, der *Ausdruck* zum Wert des *Ausdrucks* hinter `else` ausgewertet.",
   "id": "f89997f6d110ecaa"
  },
  {
   "cell_type": "code",
   "execution_count": null,
   "id": "66185345",
   "metadata": {},
   "outputs": [],
   "source": "if (4 == 3) \"hello \" + \"guys\" else \"good\" + \"bye\"\n"
  },
  {
   "metadata": {},
   "cell_type": "markdown",
   "source": "Mit solchen *Ausdrücken* können wir alles machen, was wir bisher mit *Ausdrücken* gemacht haben. Wir können diese in einem größeren *Ausdrücken* verwenden. Auch hier sind Klammern nützlich um die Reihenfolge der Auswertung zu bestimmen.",
   "id": "4725e348c4299237"
  },
  {
   "metadata": {
    "ExecuteTime": {
     "end_time": "2024-08-21T19:21:37.236443474Z",
     "start_time": "2024-08-21T19:21:37.090737986Z"
    }
   },
   "cell_type": "code",
   "source": "(if (true || false) \"hello \"  else \"bye \") + \"world\"\n",
   "id": "958a7dd30c06b517",
   "outputs": [
    {
     "data": {
      "text/plain": [
       "hello world"
      ]
     },
     "execution_count": 4,
     "metadata": {},
     "output_type": "execute_result"
    }
   ],
   "execution_count": 4
  },
  {
   "metadata": {},
   "cell_type": "markdown",
   "source": "Der *Wert* eines  `if`-`else`-*Ausdrucks* kann in einer *Variablen* gespeichert werden.",
   "id": "861c44d014bdfbde"
  },
  {
   "metadata": {},
   "cell_type": "code",
   "outputs": [],
   "execution_count": null,
   "source": [
    "val message = (if (true || false) \"hello \"  else \"bye \") + \"world\"\n",
    "message"
   ],
   "id": "dd9c5f3cea9c4a5f"
  },
  {
   "metadata": {},
   "cell_type": "markdown",
   "source": [
    "Wir können  `if`-`else`-*Ausdrücke* auch nutzen um den *Rückgabewert* von einer Bedingung abhängig zu machen.\n",
    "\n",
    " "
   ],
   "id": "ac2a6beba9471aec"
  },
  {
   "metadata": {
    "ExecuteTime": {
     "end_time": "2024-08-22T06:06:19.222655937Z",
     "start_time": "2024-08-22T06:06:19.058505717Z"
    }
   },
   "cell_type": "code",
   "source": "fun juggleMotivationBetter(count: Int) : String = if (count >= 15) \"Great, add another ball!\" else \"Try again until you complete 15 repetitions!\"",
   "id": "e5458ad03d6fab0c",
   "outputs": [],
   "execution_count": 1
  },
  {
   "metadata": {
    "ExecuteTime": {
     "end_time": "2024-08-21T19:26:56.237670845Z",
     "start_time": "2024-08-21T19:26:56.083723884Z"
    }
   },
   "cell_type": "code",
   "source": "juggleMotivationBetter(14)",
   "id": "13de352e98b7ff4",
   "outputs": [
    {
     "data": {
      "text/plain": [
       "Try again until you complete 15 repetitions!"
      ]
     },
     "execution_count": 8,
     "metadata": {},
     "output_type": "execute_result"
    }
   ],
   "execution_count": 8
  },
  {
   "metadata": {
    "ExecuteTime": {
     "end_time": "2024-08-21T19:27:12.621354673Z",
     "start_time": "2024-08-21T19:27:12.496021103Z"
    }
   },
   "cell_type": "code",
   "source": "juggleMotivationBetter(15)\n",
   "id": "3a12405e2fbc109",
   "outputs": [
    {
     "data": {
      "text/plain": [
       "Great, add another ball!"
      ]
     },
     "execution_count": 9,
     "metadata": {},
     "output_type": "execute_result"
    }
   ],
   "execution_count": 9
  },
  {
   "cell_type": "markdown",
   "id": "37a6db35-2d44-4b92-8db1-962173cbd1eb",
   "metadata": {},
   "source": [
    "## Mehrere Alternativen\n",
    "\n",
    "Oft will man zwischen mehr als zwei Möglichkeiten unterscheiden. Dann\n",
    "können verschachtelte `if`-`else`-*Ausdrücke* verwendet werden.\n",
    "Dabei schreibt man nach `if` und/oder `else` einen eigenen\n",
    "`if`-`else`-*Ausdruck*."
   ]
  },
  {
   "cell_type": "code",
   "execution_count": null,
   "id": "c4f26923-242e-4b3c-bbf4-00ad5f4d26f3",
   "metadata": {},
   "outputs": [],
   "source": [
    "fun juggleMotivationMuchBetter(count: Int): String =\n",
    "    if (count >= 15) \"Great, add another ball!\" else\n",
    "        (if (count >= 3) \"Try again until you complete 15 repetitions!\"\n",
    "        else \"Please concentrate!\")\n",
    "    "
   ]
  },
  {
   "cell_type": "code",
   "execution_count": null,
   "id": "613c31af-cf18-4c76-aaa7-c1f76aec2ad9",
   "metadata": {},
   "outputs": [],
   "source": "juggleMotivationMuchBetter(15)"
  },
  {
   "cell_type": "code",
   "execution_count": null,
   "id": "a09f2f54",
   "metadata": {},
   "outputs": [],
   "source": "juggleMotivationMuchBetter(14)"
  },
  {
   "cell_type": "code",
   "execution_count": null,
   "id": "deb34e4d",
   "metadata": {},
   "outputs": [],
   "source": "juggleMotivationMuchBetter(2)"
  },
  {
   "cell_type": "markdown",
   "id": "aca06987-b2e9-477e-a657-dac98e10e3fe",
   "metadata": {},
   "source": "Mit einem `when`-*Ausdruck* kann diese Funktion lesbarer geschrieben werden."
  },
  {
   "cell_type": "code",
   "execution_count": null,
   "id": "2252c972-cf8f-4c00-bfbf-cf8c822be1b7",
   "metadata": {},
   "outputs": [],
   "source": [
    "fun juggleMotivationMuchBetter(count: Int): String = when {\n",
    "    count >= 15 -> \"Great, add another ball!\"\n",
    "    count >= 3 -> \"Try again until you complete 15 repetitions!\"\n",
    "    else -> \"Please concentrate!\"\n",
    "}\n",
    "  "
   ]
  },
  {
   "metadata": {},
   "cell_type": "markdown",
   "source": "In den geschweiften Klammer nach dem Schlüsselwort `when`, steht in jeder Zeile eine Bedingung, ein Pfeil `->` und ein Ausdruck. Bei der Auswertung wird geprüft, welches die erste Bedingung ist, die erfüllt ist. Der *Wert* des  *Ausdrucks* der neben dieser Bedingung steht, ist dann der *Wert* des gesamten `when`-*Ausdrucks*. Wenn keine Bedingung erfüllt ist, ist der Wert des gesamten `when`-*Ausdrucks* der Wert des Ausdrucks neben `else`.",
   "id": "48cb9554-52ee-4320-a835-db796d284de5"
  }
 ],
 "metadata": {
  "kernelspec": {
   "display_name": "Kotlin",
   "language": "kotlin",
   "name": "kotlin"
  },
  "language_info": {
   "codemirror_mode": "text/x-kotlin",
   "file_extension": ".kt",
   "mimetype": "text/x-kotlin",
   "name": "kotlin",
   "nbconvert_exporter": "",
   "pygments_lexer": "kotlin",
   "version": "1.9.23"
  }
 },
 "nbformat": 4,
 "nbformat_minor": 5
}
