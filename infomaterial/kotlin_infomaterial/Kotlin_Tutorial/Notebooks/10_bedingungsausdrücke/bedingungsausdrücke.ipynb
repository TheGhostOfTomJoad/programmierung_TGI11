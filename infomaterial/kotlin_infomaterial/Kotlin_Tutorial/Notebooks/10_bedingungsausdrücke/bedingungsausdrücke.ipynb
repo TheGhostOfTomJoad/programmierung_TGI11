{
 "cells": [
  {
   "cell_type": "markdown",
   "id": "aba2dd97-4ed5-457e-9914-92495ebf8c8d",
   "metadata": {},
   "source": [
    "# Bedingte Ausführung\n",
    "\n",
    "# Grundlegendes und Motivation\n",
    "\n",
    "Wir haben schon viele *Operatoren* kennengelernt, mit denen zwei *Ausdrücke* zu einem *Ausdruck* verknüpft werden können. Bei der Auswertung eines solchen *Ausdrucks* werden zuerst beide Teilausdrücke ausgewertet. Anschließend wird die *Operation*, für die der *Operator* steht, auf die Ergebnisse angewandt. In diesem Kapitel lernen wir mit `if`-`else`-*Ausdrücken* eine Möglichkeit kennen, drei *Ausdrücke* miteinander zu verknüpfen.\n",
    "\n",
    "## if-else-Ausdrücke\n",
    "\n",
    "Bei einem `if`-`else`-*Ausdruck* schreibt man hinter das Schlüsselwort `if` in Klammern einen *booleschen Ausdruck*. Anschließend folgen ein *Ausdruck*, das Schlüsselwort `else` und ein weiter *Ausdruck*. Diese beiden *Ausdrücke* vor und nach `else` müssen denselben *Typ haben*. Wenn der *boolesche Ausdruck* zu `true` ausgewertet wird, wird der gesamte *Ausdruck* zum *Wert* des *Ausdrucks* direkt hinter der Klammer ausgewertet."
   ]
  },
  {
   "cell_type": "code",
   "id": "848c82eb-2acc-40f8-9282-7a558e2963a5",
   "metadata": {
    "ExecuteTime": {
     "end_time": "2024-10-13T18:12:27.952176992Z",
     "start_time": "2024-10-13T18:12:27.753370040Z"
    }
   },
   "source": "if (4 == 4) \"hello \" + \"guys\" else \"good\" + \"bye\"",
   "outputs": [
    {
     "data": {
      "text/plain": [
       "hello guys"
      ]
     },
     "execution_count": 1,
     "metadata": {},
     "output_type": "execute_result"
    }
   ],
   "execution_count": 1
  },
  {
   "metadata": {},
   "cell_type": "markdown",
   "source": "Ansonsten wird der *Ausdruck* zum Wert des *Ausdrucks* hinter `else` ausgewertet.",
   "id": "f89997f6d110ecaa"
  },
  {
   "cell_type": "code",
   "id": "66185345",
   "metadata": {
    "ExecuteTime": {
     "end_time": "2024-10-13T18:12:31.142706768Z",
     "start_time": "2024-10-13T18:12:31.007059283Z"
    }
   },
   "source": "if (4 == 3) \"hello \" + \"guys\" else \"good\" + \"bye\"\n",
   "outputs": [
    {
     "data": {
      "text/plain": [
       "goodbye"
      ]
     },
     "execution_count": 2,
     "metadata": {},
     "output_type": "execute_result"
    }
   ],
   "execution_count": 2
  },
  {
   "metadata": {},
   "cell_type": "markdown",
   "source": "Mit solchen *Ausdrücken* können wir alles machen, was wir bisher mit *Ausdrücken* gemacht haben. Wir können diese z.B. in einem größeren *Ausdruck* verwenden. Auch hier sind Klammern nützlich, um die Reihenfolge der Auswertung zu ändern.",
   "id": "4725e348c4299237"
  },
  {
   "metadata": {
    "ExecuteTime": {
     "end_time": "2024-10-13T18:12:35.235451508Z",
     "start_time": "2024-10-13T18:12:35.131702373Z"
    }
   },
   "cell_type": "code",
   "source": "(if (true || false) \"hello \"  else \"bye \") + \"world\"\n",
   "id": "958a7dd30c06b517",
   "outputs": [
    {
     "data": {
      "text/plain": [
       "hello world"
      ]
     },
     "execution_count": 3,
     "metadata": {},
     "output_type": "execute_result"
    }
   ],
   "execution_count": 3
  },
  {
   "metadata": {},
   "cell_type": "markdown",
   "source": "Der *Wert* eines  `if`-`else`-*Ausdrucks* kann in einer *Variablen* gespeichert werden.",
   "id": "861c44d014bdfbde"
  },
  {
   "metadata": {
    "ExecuteTime": {
     "end_time": "2024-10-13T18:12:38.143436023Z",
     "start_time": "2024-10-13T18:12:37.952139608Z"
    }
   },
   "cell_type": "code",
   "source": [
    "val message = (if (true || false) \"hello \"  else \"bye \") + \"world\"\n",
    "message"
   ],
   "id": "dd9c5f3cea9c4a5f",
   "outputs": [
    {
     "data": {
      "text/plain": [
       "hello world"
      ]
     },
     "execution_count": 4,
     "metadata": {},
     "output_type": "execute_result"
    }
   ],
   "execution_count": 4
  },
  {
   "metadata": {},
   "cell_type": "markdown",
   "source": [
    "Wir können  `if`-`else`-*Ausdrücke* auch nutzen um den *Rückgabewert* einer Funktion von einer Bedingung abhängig zu machen.\n",
    "\n",
    " "
   ],
   "id": "ac2a6beba9471aec"
  },
  {
   "metadata": {
    "ExecuteTime": {
     "end_time": "2024-10-13T18:12:42.524267566Z",
     "start_time": "2024-10-13T18:12:42.424932820Z"
    }
   },
   "cell_type": "code",
   "source": "fun juggleMotivationBetter(count: Int): String = if (count >= 15) \"Great, add another ball!\" else \"Try again until you complete 15 repetitions!\"",
   "id": "e5458ad03d6fab0c",
   "outputs": [],
   "execution_count": 5
  },
  {
   "metadata": {
    "ExecuteTime": {
     "end_time": "2024-10-13T18:12:43.750489785Z",
     "start_time": "2024-10-13T18:12:43.597276241Z"
    }
   },
   "cell_type": "code",
   "source": "juggleMotivationBetter(14)",
   "id": "13de352e98b7ff4",
   "outputs": [
    {
     "data": {
      "text/plain": [
       "Try again until you complete 15 repetitions!"
      ]
     },
     "execution_count": 6,
     "metadata": {},
     "output_type": "execute_result"
    }
   ],
   "execution_count": 6
  },
  {
   "metadata": {
    "ExecuteTime": {
     "end_time": "2024-10-13T18:12:45.588921107Z",
     "start_time": "2024-10-13T18:12:45.468110955Z"
    }
   },
   "cell_type": "code",
   "source": "juggleMotivationBetter(15)\n",
   "id": "3a12405e2fbc109",
   "outputs": [
    {
     "data": {
      "text/plain": [
       "Great, add another ball!"
      ]
     },
     "execution_count": 7,
     "metadata": {},
     "output_type": "execute_result"
    }
   ],
   "execution_count": 7
  },
  {
   "cell_type": "markdown",
   "id": "37a6db35-2d44-4b92-8db1-962173cbd1eb",
   "metadata": {},
   "source": [
    "## Mehrere Alternativen\n",
    "\n",
    "Oft will man zwischen mehr als zwei Möglichkeiten unterscheiden. Dann\n",
    "können verschachtelte `if`-`else`-*Ausdrücke* verwendet werden.\n",
    "Dabei schreibt man nach `if` und/oder `else` einen eigenen\n",
    "`if`-`else`-*Ausdruck*."
   ]
  },
  {
   "cell_type": "code",
   "id": "c4f26923-242e-4b3c-bbf4-00ad5f4d26f3",
   "metadata": {
    "ExecuteTime": {
     "end_time": "2024-10-13T18:14:18.849840479Z",
     "start_time": "2024-10-13T18:14:18.761869663Z"
    }
   },
   "source": [
    "fun juggleMotivationMuchBetter(count: Int): String =\n",
    "    if (count >= 15) \"Great, add another ball!\" else\n",
    "        if (count >= 3) \"Try again until you complete 15 repetitions!\"\n",
    "        else \"Please concentrate!\"\n",
    "    "
   ],
   "outputs": [],
   "execution_count": 14
  },
  {
   "cell_type": "code",
   "id": "613c31af-cf18-4c76-aaa7-c1f76aec2ad9",
   "metadata": {
    "ExecuteTime": {
     "end_time": "2024-10-13T18:14:21.203822573Z",
     "start_time": "2024-10-13T18:14:21.094120138Z"
    }
   },
   "source": "juggleMotivationMuchBetter(15)",
   "outputs": [
    {
     "data": {
      "text/plain": [
       "Great, add another ball!"
      ]
     },
     "execution_count": 15,
     "metadata": {},
     "output_type": "execute_result"
    }
   ],
   "execution_count": 15
  },
  {
   "cell_type": "code",
   "id": "a09f2f54",
   "metadata": {
    "ExecuteTime": {
     "end_time": "2024-10-13T18:12:54.077721576Z",
     "start_time": "2024-10-13T18:12:53.955958073Z"
    }
   },
   "source": "juggleMotivationMuchBetter(14)",
   "outputs": [
    {
     "data": {
      "text/plain": [
       "Try again until you complete 15 repetitions!"
      ]
     },
     "execution_count": 11,
     "metadata": {},
     "output_type": "execute_result"
    }
   ],
   "execution_count": 11
  },
  {
   "cell_type": "code",
   "id": "deb34e4d",
   "metadata": {
    "ExecuteTime": {
     "end_time": "2024-10-13T18:12:54.163173029Z",
     "start_time": "2024-10-13T18:12:54.096472666Z"
    }
   },
   "source": "juggleMotivationMuchBetter(2)",
   "outputs": [
    {
     "data": {
      "text/plain": [
       "Please concentrate!"
      ]
     },
     "execution_count": 12,
     "metadata": {},
     "output_type": "execute_result"
    }
   ],
   "execution_count": 12
  },
  {
   "cell_type": "markdown",
   "id": "aca06987-b2e9-477e-a657-dac98e10e3fe",
   "metadata": {},
   "source": "Mit einem `when`-*Ausdruck* kann diese Funktion lesbarer geschrieben werden."
  },
  {
   "cell_type": "code",
   "id": "2252c972-cf8f-4c00-bfbf-cf8c822be1b7",
   "metadata": {
    "ExecuteTime": {
     "end_time": "2024-10-13T18:15:14.623173936Z",
     "start_time": "2024-10-13T18:15:14.510265069Z"
    }
   },
   "source": [
    "fun juggleMotivationMuchBetter(count: Int): String = when {\n",
    "    count >= 15 -> \"Great, add another ball!\"\n",
    "    count >= 3 -> \"Try again until you complete 15 repetitions!\"\n",
    "    else -> \"Please concentrate!\"\n",
    "}\n",
    "  "
   ],
   "outputs": [],
   "execution_count": 17
  },
  {
   "metadata": {},
   "cell_type": "markdown",
   "source": "In der geschweiften Klammer nach dem Schlüsselwort `when` steht in jeder Zeile eine Bedingung, ein Pfeil `->` und ein Ausdruck. Bei der Auswertung wird geprüft, welches die erste Bedingung ist, die erfüllt ist. Der *Wert* des *Ausdrucks* der hinter dieser Bedingung steht, ist dann der *Wert* des gesamten `when`-*Ausdrucks*. Wenn keine Bedingung erfüllt ist, ist der Wert des gesamten `when`-*Ausdrucks* der Wert des Ausdrucks hinter `else`.",
   "id": "48cb9554-52ee-4320-a835-db796d284de5"
  }
 ],
 "metadata": {
  "kernelspec": {
   "display_name": "Kotlin",
   "language": "kotlin",
   "name": "kotlin"
  },
  "language_info": {
   "codemirror_mode": "text/x-kotlin",
   "file_extension": ".kt",
   "mimetype": "text/x-kotlin",
   "name": "kotlin",
   "nbconvert_exporter": "",
   "pygments_lexer": "kotlin",
   "version": "1.9.23"
  }
 },
 "nbformat": 4,
 "nbformat_minor": 5
}
