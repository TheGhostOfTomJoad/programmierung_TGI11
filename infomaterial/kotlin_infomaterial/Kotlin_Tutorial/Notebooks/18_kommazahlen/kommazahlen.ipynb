{
 "cells": [
  {
   "cell_type": "markdown",
   "id": "0d47efd6-5dea-4d40-84e2-6e1b955cbea1",
   "metadata": {},
   "source": [
    "# Kommazahlen\n",
    "\n",
    "## Grundlagen\n",
    "\n"
   ]
  },
  {
   "cell_type": "markdown",
   "id": "1d54d947-2d58-4799-b01c-030339cff018",
   "metadata": {},
   "source": [
    "Neben ganzen Zahlen gibt es in Kotlin auch Kommazahlen. Der *Typ* der Kommazahlen wird mit\n",
    "`Double` abgekürzt.\n",
    "\n",
    "Kommazahlen unterstützen alle *Rechenoperation*, die wir mit ganzen Zahlen\n",
    "verwendet haben."
   ]
  },
  {
   "cell_type": "code",
   "id": "cdb2f39d-2ab6-41e9-ab39-a25cc4fa1994",
   "metadata": {
    "ExecuteTime": {
     "end_time": "2024-08-22T19:14:36.399915879Z",
     "start_time": "2024-08-22T19:14:36.270462066Z"
    }
   },
   "source": "1.0 + 2.4",
   "outputs": [
    {
     "data": {
      "text/plain": [
       "3.4"
      ]
     },
     "execution_count": 10,
     "metadata": {},
     "output_type": "execute_result"
    }
   ],
   "execution_count": 10
  },
  {
   "cell_type": "code",
   "id": "924b9410",
   "metadata": {
    "ExecuteTime": {
     "end_time": "2024-08-22T19:09:17.695865911Z",
     "start_time": "2024-08-22T19:09:17.470443632Z"
    }
   },
   "source": [
    "1.5 * 1.5"
   ],
   "outputs": [
    {
     "data": {
      "text/plain": [
       "2.25"
      ]
     },
     "execution_count": 3,
     "metadata": {},
     "output_type": "execute_result"
    }
   ],
   "execution_count": 3
  },
  {
   "cell_type": "code",
   "id": "0d66dd96",
   "metadata": {
    "ExecuteTime": {
     "end_time": "2024-08-22T19:17:15.939680474Z",
     "start_time": "2024-08-22T19:17:15.842554811Z"
    }
   },
   "source": "10.0/3.0",
   "outputs": [
    {
     "data": {
      "text/plain": [
       "3.3333333333333335"
      ]
     },
     "execution_count": 13,
     "metadata": {},
     "output_type": "execute_result"
    }
   ],
   "execution_count": 13
  },
  {
   "cell_type": "markdown",
   "id": "40cb0cd8-a8d2-4d34-bfd4-0c964a838e3f",
   "metadata": {},
   "source": [
    "Die Rechnung mit *Kommazahlen* führt leider oft zu Ergebnissen, die nicht\n",
    "ganz exakt sind."
   ]
  },
  {
   "cell_type": "code",
   "id": "bd3079fd-ef27-4172-9c06-8e763ff3d077",
   "metadata": {
    "ExecuteTime": {
     "end_time": "2024-08-22T19:09:18.157608567Z",
     "start_time": "2024-08-22T19:09:17.998200856Z"
    }
   },
   "source": [
    "10.7 - 12.3"
   ],
   "outputs": [
    {
     "data": {
      "text/plain": [
       "-1.6000000000000014"
      ]
     },
     "execution_count": 5,
     "metadata": {},
     "output_type": "execute_result"
    }
   ],
   "execution_count": 5
  },
  {
   "cell_type": "markdown",
   "id": "c161140c-7d81-4914-b080-9de8c734ab7d",
   "metadata": {},
   "source": [
    "*Doubles* können wir wie alle *Werte*, in *Variablen* speichern, als\n",
    "*Argumente* und *Rückgabewerte* von Funktionen nutzen und in *Listen*\n",
    "speichern. Da dies nicht wirklich überraschend ist, wird es hier nicht\n",
    "nochmal vorgeführt.\n",
    "\n",
    "## Rechnungen mit Doubles und Integern\n",
    "\n",
    "Diese *Operationen* kann man auch mit einem *Integer* und einem *Double*\n",
    "verwenden. Dabei wird zunächst der *Integer* zu einem *Float*\n",
    "konvertiert und dann die entsprechende Rechnung durchgeführt."
   ]
  },
  {
   "cell_type": "code",
   "id": "afeb01e3-2782-43ad-b08d-2fdb93c6dd8b",
   "metadata": {
    "ExecuteTime": {
     "end_time": "2024-08-22T19:09:18.332835172Z",
     "start_time": "2024-08-22T19:09:18.238778687Z"
    }
   },
   "source": [
    "1.3 + 2"
   ],
   "outputs": [
    {
     "data": {
      "text/plain": [
       "3.3"
      ]
     },
     "execution_count": 6,
     "metadata": {},
     "output_type": "execute_result"
    }
   ],
   "execution_count": 6
  },
  {
   "cell_type": "markdown",
   "id": "32eb1640-89bf-4eae-8cad-f41735578061",
   "metadata": {},
   "source": [
    "## Konvertierung\n",
    "\n",
    "Die *Konvertierung* kann auch manuell angewendet werden."
   ]
  },
  {
   "cell_type": "code",
   "id": "86d62905-5ec4-4d7d-ba8c-f8efbfc4a43d",
   "metadata": {
    "ExecuteTime": {
     "end_time": "2024-08-22T19:16:28.554539827Z",
     "start_time": "2024-08-22T19:16:28.445416060Z"
    }
   },
   "source": "10.toDouble()",
   "outputs": [
    {
     "data": {
      "text/plain": [
       "10.0"
      ]
     },
     "execution_count": 11,
     "metadata": {},
     "output_type": "execute_result"
    }
   ],
   "execution_count": 11
  },
  {
   "cell_type": "markdown",
   "id": "a1621f48-c353-446d-b49a-564bb37712f5",
   "metadata": {},
   "source": [
    "Auch eine *Konvertierung* in die andere Richtung ist möglich."
   ]
  },
  {
   "cell_type": "code",
   "id": "eebf8fb4-d746-4d34-a94e-6b27f53c2019",
   "metadata": {
    "ExecuteTime": {
     "end_time": "2024-08-22T19:16:38.896255725Z",
     "start_time": "2024-08-22T19:16:38.711550422Z"
    }
   },
   "source": "10.7.toInt()",
   "outputs": [
    {
     "data": {
      "text/plain": [
       "10"
      ]
     },
     "execution_count": 12,
     "metadata": {},
     "output_type": "execute_result"
    }
   ],
   "execution_count": 12
  },
  {
   "cell_type": "markdown",
   "id": "8e392890-8691-4246-b394-c804ca50bf9d",
   "metadata": {},
   "source": [
    "Bei einer *Konvertierung* von *Double* zu *Integer* wird immer\n",
    "abgerundet."
   ]
  }
 ],
 "metadata": {
  "kernelspec": {
   "display_name": "Kotlin",
   "language": "kotlin",
   "name": "kotlin"
  },
  "language_info": {
   "name": "kotlin"
  }
 },
 "nbformat": 4,
 "nbformat_minor": 5
}
