{
 "cells": [
  {
   "cell_type": "markdown",
   "id": "0f4af808-6297-4dc3-828b-0f02ed43b2db",
   "metadata": {},
   "source": [
    "# Strings als Buchstaben-Container\n",
    "\n",
    "## Motivation\n",
    "\n",
    "*Strings* sind aus einzelnen Buchstaben/*Charactern* zusammen gesetzt. Wenn wir die\n",
    "Buchstaben eines *Strings* von null beginnend durchnummerieren, steht\n",
    "unter jedem Buchstaben eine Zahl, die *Index* genannt wird.\n",
    "\n",
    "<figure style = \"text-align:center\" >\n",
    "<img src=\"grafik_array_hello.svg\" style=\"width:35.0%; ; background-color:white;\" />>\n",
    "\n",
    "<figcaption>String <code\n",
    "class=\"sourceCode kotlin\"><span class=\"co\">&#39;hello&#39;</span></code>\n",
    "mit Indizes</figcaption>\n",
    "</figure>\n",
    "\n",
    "Mit einem *String* und dem *Index* eines Buchstabens in diesem *String*\n",
    "können wir auf den Buchstaben zugreifenden. Hierfür schreiben wir den\n",
    "*Index* in eckigen Klammern hinter den *String*. Das Resultat ist **kein** *String*, sondern ein *Character*."
   ]
  },
  {
   "cell_type": "code",
   "id": "8b408759-980b-49d8-8943-2bc7259fedd7",
   "metadata": {
    "ExecuteTime": {
     "end_time": "2024-08-22T10:32:25.530275709Z",
     "start_time": "2024-08-22T10:32:25.390641603Z"
    }
   },
   "source": [
    "\"hello\"[0]"
   ],
   "outputs": [
    {
     "data": {
      "text/plain": [
       "h"
      ]
     },
     "execution_count": 1,
     "metadata": {},
     "output_type": "execute_result"
    }
   ],
   "execution_count": 1
  },
  {
   "cell_type": "code",
   "execution_count": 2,
   "id": "3c000bd7",
   "metadata": {},
   "outputs": [
    {
     "data": {
      "text/plain": [
       "'l'"
      ]
     },
     "execution_count": 2,
     "metadata": {},
     "output_type": "execute_result"
    }
   ],
   "source": "\"hello\"[2]"
  },
  {
   "cell_type": "markdown",
   "id": "12ffda44-3f95-403a-baa5-ffa6059127ff",
   "metadata": {},
   "source": [
    "Das funktioniert natürlich auch, wenn einer der *Ausdrücke* vor oder in\n",
    "der Klammer zuerst ausgewertet werden muss."
   ]
  },
  {
   "cell_type": "code",
   "execution_count": 3,
   "id": "fb164766-2be4-40ff-ada1-19be79a5c1c8",
   "metadata": {},
   "outputs": [
    {
     "data": {
      "text/plain": [
       "'y'"
      ]
     },
     "execution_count": 3,
     "metadata": {},
     "output_type": "execute_result"
    }
   ],
   "source": "(\"good\" + \"bye\")[3 + 2]"
  },
  {
   "cell_type": "code",
   "id": "70b912a2",
   "metadata": {
    "ExecuteTime": {
     "end_time": "2024-08-22T15:11:58.642403093Z",
     "start_time": "2024-08-22T15:11:58.515610165Z"
    }
   },
   "source": "val x = \"hello\"",
   "outputs": [],
   "execution_count": 2
  },
  {
   "cell_type": "code",
   "id": "5a6f0f00",
   "metadata": {
    "ExecuteTime": {
     "end_time": "2024-08-22T15:12:00.202407133Z",
     "start_time": "2024-08-22T15:11:59.959372358Z"
    }
   },
   "source": [
    "x[3]"
   ],
   "outputs": [
    {
     "data": {
      "text/plain": [
       "l"
      ]
     },
     "execution_count": 3,
     "metadata": {},
     "output_type": "execute_result"
    }
   ],
   "execution_count": 3
  },
  {
   "cell_type": "markdown",
   "id": "200726a6-d674-483a-91f6-8f00642a363c",
   "metadata": {},
   "source": [
    "Die *Indizes* des *Strings* `\"hello\"` gehen nur von $0$ bis $4$. Wenn\n",
    "wir einen *Index* über $4$ verwenden, erhalten wir einen `StringIndexOutOfBoundsException`."
   ]
  },
  {
   "cell_type": "code",
   "id": "580df561-e517-4d86-81dd-65444b5b1052",
   "metadata": {
    "ExecuteTime": {
     "end_time": "2024-08-22T15:12:02.795462373Z",
     "start_time": "2024-08-22T15:12:02.575268991Z"
    }
   },
   "source": "\"hello\"[5]",
   "outputs": [
    {
     "ename": "java.lang.StringIndexOutOfBoundsException",
     "evalue": "Index 5 out of bounds for length 5",
     "output_type": "error",
     "traceback": [
      "java.lang.StringIndexOutOfBoundsException: Index 5 out of bounds for length 5",
      "\tat java.base/jdk.internal.util.Preconditions$1.apply(Preconditions.java:55)",
      "\tat java.base/jdk.internal.util.Preconditions$1.apply(Preconditions.java:52)",
      "\tat java.base/jdk.internal.util.Preconditions$4.apply(Preconditions.java:213)",
      "\tat java.base/jdk.internal.util.Preconditions$4.apply(Preconditions.java:210)",
      "\tat java.base/jdk.internal.util.Preconditions.outOfBounds(Preconditions.java:98)",
      "\tat java.base/jdk.internal.util.Preconditions.outOfBoundsCheckIndex(Preconditions.java:106)",
      "\tat java.base/jdk.internal.util.Preconditions.checkIndex(Preconditions.java:302)",
      "\tat java.base/java.lang.String.checkIndex(String.java:4832)",
      "\tat java.base/java.lang.StringLatin1.charAt(StringLatin1.java:46)",
      "\tat java.base/java.lang.String.charAt(String.java:1555)",
      "\tat Line_5_jupyter.<init>(Line_5.jupyter.kts:1) at Cell In[4], line 1",
      "\tat java.base/jdk.internal.reflect.DirectConstructorHandleAccessor.newInstance(DirectConstructorHandleAccessor.java:62)",
      "\tat java.base/java.lang.reflect.Constructor.newInstanceWithCaller(Constructor.java:502)",
      "\tat java.base/java.lang.reflect.Constructor.newInstance(Constructor.java:486)",
      "\tat kotlin.script.experimental.jvm.BasicJvmScriptEvaluator.evalWithConfigAndOtherScriptsResults(BasicJvmScriptEvaluator.kt:122)",
      "\tat kotlin.script.experimental.jvm.BasicJvmScriptEvaluator.invoke$suspendImpl(BasicJvmScriptEvaluator.kt:48)",
      "\tat kotlin.script.experimental.jvm.BasicJvmScriptEvaluator.invoke(BasicJvmScriptEvaluator.kt)",
      "\tat kotlin.script.experimental.jvm.BasicJvmReplEvaluator.eval(BasicJvmReplEvaluator.kt:49)",
      "\tat org.jetbrains.kotlinx.jupyter.repl.impl.InternalEvaluatorImpl$eval$resultWithDiagnostics$1.invokeSuspend(InternalEvaluatorImpl.kt:133)",
      "\tat kotlin.coroutines.jvm.internal.BaseContinuationImpl.resumeWith(ContinuationImpl.kt:33)",
      "\tat kotlinx.coroutines.DispatchedTask.run(DispatchedTask.kt:104)",
      "\tat kotlinx.coroutines.EventLoopImplBase.processNextEvent(EventLoop.common.kt:277)",
      "\tat kotlinx.coroutines.BlockingCoroutine.joinBlocking(Builders.kt:95)",
      "\tat kotlinx.coroutines.BuildersKt__BuildersKt.runBlocking(Builders.kt:69)",
      "\tat kotlinx.coroutines.BuildersKt.runBlocking(Unknown Source)",
      "\tat kotlinx.coroutines.BuildersKt__BuildersKt.runBlocking$default(Builders.kt:48)",
      "\tat kotlinx.coroutines.BuildersKt.runBlocking$default(Unknown Source)",
      "\tat org.jetbrains.kotlinx.jupyter.repl.impl.InternalEvaluatorImpl.eval(InternalEvaluatorImpl.kt:133)",
      "\tat org.jetbrains.kotlinx.jupyter.repl.impl.CellExecutorImpl$execute$1$result$1.invoke(CellExecutorImpl.kt:80)",
      "\tat org.jetbrains.kotlinx.jupyter.repl.impl.CellExecutorImpl$execute$1$result$1.invoke(CellExecutorImpl.kt:78)",
      "\tat org.jetbrains.kotlinx.jupyter.repl.impl.ReplForJupyterImpl.withHost(ReplForJupyterImpl.kt:762)",
      "\tat org.jetbrains.kotlinx.jupyter.repl.impl.CellExecutorImpl.execute-L4Nmkdk(CellExecutorImpl.kt:78)",
      "\tat org.jetbrains.kotlinx.jupyter.repl.execution.CellExecutor$DefaultImpls.execute-L4Nmkdk$default(CellExecutor.kt:13)",
      "\tat org.jetbrains.kotlinx.jupyter.repl.impl.ReplForJupyterImpl.evaluateUserCode-wNURfNM(ReplForJupyterImpl.kt:585)",
      "\tat org.jetbrains.kotlinx.jupyter.repl.impl.ReplForJupyterImpl.access$evaluateUserCode-wNURfNM(ReplForJupyterImpl.kt:138)",
      "\tat org.jetbrains.kotlinx.jupyter.repl.impl.ReplForJupyterImpl$evalEx$1.invoke(ReplForJupyterImpl.kt:442)",
      "\tat org.jetbrains.kotlinx.jupyter.repl.impl.ReplForJupyterImpl$evalEx$1.invoke(ReplForJupyterImpl.kt:439)",
      "\tat org.jetbrains.kotlinx.jupyter.repl.impl.ReplForJupyterImpl.withEvalContext(ReplForJupyterImpl.kt:420)",
      "\tat org.jetbrains.kotlinx.jupyter.repl.impl.ReplForJupyterImpl.evalEx(ReplForJupyterImpl.kt:439)",
      "\tat org.jetbrains.kotlinx.jupyter.messaging.IdeCompatibleMessageRequestProcessor$processExecuteRequest$1$response$1$1.invoke(IdeCompatibleMessageRequestProcessor.kt:136)",
      "\tat org.jetbrains.kotlinx.jupyter.messaging.IdeCompatibleMessageRequestProcessor$processExecuteRequest$1$response$1$1.invoke(IdeCompatibleMessageRequestProcessor.kt:135)",
      "\tat org.jetbrains.kotlinx.jupyter.execution.JupyterExecutorImpl$Task.execute(JupyterExecutorImpl.kt:42)",
      "\tat org.jetbrains.kotlinx.jupyter.execution.JupyterExecutorImpl$executorThread$1.invoke(JupyterExecutorImpl.kt:82)",
      "\tat org.jetbrains.kotlinx.jupyter.execution.JupyterExecutorImpl$executorThread$1.invoke(JupyterExecutorImpl.kt:80)",
      "\tat kotlin.concurrent.ThreadsKt$thread$thread$1.run(Thread.kt:30)",
      "",
      "java.lang.StringIndexOutOfBoundsException: Index 5 out of bounds for length 5",
      "at Cell In[4], line 1",
      ""
     ]
    }
   ],
   "execution_count": 4
  },
  {
   "cell_type": "markdown",
   "id": "349fee1a-aa52-49c2-b41a-a81131669f7f",
   "metadata": {},
   "source": [
    "## Länge eines Strings bestimmen\n",
    "\n",
    "Die Länge eines *Strings* kann man bestimmen, wenn man hinter diesen einen Punkt und `length` schreibt."
   ]
  },
  {
   "cell_type": "code",
   "execution_count": 7,
   "id": "bfcafd64-fb99-4b94-9610-a0a219a507c0",
   "metadata": {},
   "outputs": [
    {
     "data": {
      "text/plain": [
       "5"
      ]
     },
     "execution_count": 7,
     "metadata": {},
     "output_type": "execute_result"
    }
   ],
   "source": "\"hello\".length"
  },
  {
   "cell_type": "markdown",
   "id": "ad2f9542-5666-4cb7-be2a-9ff8e6bcede3",
   "metadata": {},
   "source": [
    "Da die *Indizes* eines *Strings* bei $0$ anfangen, ist der höchste\n",
    "*Index* um eins kleiner als die Länge. \n",
    "\n",
    "## Iteration über Strings\n",
    "\n",
    "Wir können mit einer `for`-*Schleife* über die *Indizes* eines *Strings*\n",
    "iterieren. Hierbei schreiben wir in der Klammer als untere Grenze der *Zahlenreihe* $0$ und als obere Grenze eins weniger als die Länge des *Strings*.\n",
    "Dies entspricht gerade den *Indizes* des *Strings*.\n"
   ]
  },
  {
   "cell_type": "code",
   "id": "555cd5a3",
   "metadata": {
    "ExecuteTime": {
     "end_time": "2024-08-22T15:17:31.138043106Z",
     "start_time": "2024-08-22T15:17:30.586143562Z"
    }
   },
   "source": [
    "for (i in 0..\"hello\".length - 1){\n",
    "    println(i)\n",
    "}"
   ],
   "outputs": [
    {
     "name": "stdout",
     "output_type": "stream",
     "text": [
      "0\n",
      "1\n",
      "2\n",
      "3\n",
      "4\n"
     ]
    }
   ],
   "execution_count": 5
  },
  {
   "cell_type": "code",
   "execution_count": 9,
   "id": "b161328b",
   "metadata": {},
   "outputs": [
    {
     "name": "stdout",
     "output_type": "stream",
     "text": [
      "0\n",
      "1\n",
      "2\n"
     ]
    }
   ],
   "source": [
    "for (i in 0..\"bye\".length - 1){\n",
    "    println(i)\n",
    "}"
   ]
  },
  {
   "cell_type": "markdown",
   "id": "5597bb5e",
   "metadata": {},
   "source": [
    "\n",
    "Im *Schleifenkörper* können wir die *Zählervariable* nutzen, um\n",
    "nacheinander auf die Buchstaben im *String* zuzugreifen.\n"
   ]
  },
  {
   "cell_type": "code",
   "id": "345ee69a",
   "metadata": {
    "ExecuteTime": {
     "end_time": "2024-08-22T15:21:00.471416335Z",
     "start_time": "2024-08-22T15:21:00.317024941Z"
    }
   },
   "source": [
    "val greeting = \"hello\"\n",
    "\n",
    "for (i in 0..greeting.length - 1){\n",
    "    println(greeting[i])\n",
    "}"
   ],
   "outputs": [
    {
     "name": "stdout",
     "output_type": "stream",
     "text": [
      "h\n",
      "e\n",
      "l\n",
      "l\n",
      "o\n"
     ]
    }
   ],
   "execution_count": 6
  },
  {
   "cell_type": "markdown",
   "id": "4997673c",
   "metadata": {},
   "source": [
    "Wir können die *Zählervariable* auch direkt die Buchstaben in dem *String* durchlaufen lassen."
   ]
  },
  {
   "cell_type": "code",
   "id": "5e76dd75",
   "metadata": {
    "ExecuteTime": {
     "end_time": "2024-08-22T15:22:05.254900597Z",
     "start_time": "2024-08-22T15:22:04.959777384Z"
    }
   },
   "source": [
    "val greeting = \"hello\"\n",
    "for (char in greeting) {\n",
    "    println(char)\n",
    "}"
   ],
   "outputs": [
    {
     "name": "stdout",
     "output_type": "stream",
     "text": [
      "h\n",
      "e\n",
      "l\n",
      "l\n",
      "o\n"
     ]
    }
   ],
   "execution_count": 7
  },
  {
   "cell_type": "markdown",
   "id": "cb66c8a5",
   "metadata": {},
   "source": [
    "Die Buchstaben sind selbst wieder *Strings*. D.h. wir können mit ihnen die *String-Addition* durchführen."
   ]
  },
  {
   "cell_type": "code",
   "id": "50d75e7c",
   "metadata": {
    "ExecuteTime": {
     "end_time": "2024-08-22T15:23:40.965097971Z",
     "start_time": "2024-08-22T15:23:40.731823730Z"
    }
   },
   "source": [
    "val greeting = \"hello\"\n",
    "var reverse_greeting = \"\"\n",
    "\n",
    "for (char in greeting) {    \n",
    "    reverse_greeting = char + reverse_greeting\n",
    "}\n",
    "\n",
    "reverse_greeting"
   ],
   "outputs": [
    {
     "data": {
      "text/plain": [
       "olleh"
      ]
     },
     "execution_count": 8,
     "metadata": {},
     "output_type": "execute_result"
    }
   ],
   "execution_count": 8
  },
  {
   "metadata": {},
   "cell_type": "markdown",
   "source": [
    "# Eigenschaften\n",
    "\n",
    "Um die Länge einer Liste haben wir hinter die Liste einen Punkt und `length` geschrieben."
   ],
   "id": "589ea551add8720f"
  },
  {
   "metadata": {},
   "cell_type": "code",
   "outputs": [],
   "execution_count": null,
   "source": "\"hello\".length",
   "id": "ab4cbdc5e9ecd417"
  },
  {
   "metadata": {},
   "cell_type": "markdown",
   "source": "Hierbei handelt es sich nicht um eine *Methode* (sonst wären Klammern notwendig), sondern um eine *Eigenschaft*. Der Zugriff auf eine *Eigenschaft* erfolgt immer, mit einem Punkt und dem Namen der *Eigenschaft* hinter dem Element.",
   "id": "c76a8bea423d5ea4"
  }
 ],
 "metadata": {
  "kernelspec": {
   "display_name": "Kotlin",
   "language": "kotlin",
   "name": "kotlin"
  },
  "language_info": {
   "codemirror_mode": "text/x-kotlin",
   "file_extension": ".kt",
   "mimetype": "text/x-kotlin",
   "name": "kotlin",
   "nbconvert_exporter": "",
   "pygments_lexer": "kotlin",
   "version": "1.9.23"
  }
 },
 "nbformat": 4,
 "nbformat_minor": 5
}
