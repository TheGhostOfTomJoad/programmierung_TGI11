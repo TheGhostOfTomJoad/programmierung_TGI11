{
 "cells": [
  {
   "cell_type": "markdown",
   "id": "89dbf98ac5d54ed9",
   "metadata": {},
   "source": [
    "# Interaktive Programme\n",
    "\n",
    "## Programme außerhalb von Notebooks\n",
    "\n",
    "Wir haben bis jetzt all unseren Code in Notebookblöcken geschrieben. Bei der Ausführung eines Blocks werden alle *Statements* in diesem Block ausgeführt. Wenn das letzte Statement ein Ausdruck ist, wird dessen Wert angezeigt. \n",
    "\n",
    "Die Ausführung von Programmen außerhalb von Notebooks funktioniert anders. Ein solches Programm braucht immer eine Funktion mit dem Namen ```main```. Bei der Ausführung des Programms wird **nur** diese Funktion ausgeführt. Es ist aber möglich neben dieser Funktion noch weitere Funktionen zu schreiben und sie in der ```main```-Funktion aufzurufen."
   ]
  },
  {
   "metadata": {
    "ExecuteTime": {
     "end_time": "2024-08-23T18:52:44.477286819Z",
     "start_time": "2024-08-23T18:52:44.412722552Z"
    }
   },
   "cell_type": "code",
   "source": [
    "fun main() {\n",
    "    //Statements, die \n",
    "    //ausgeführt werden\n",
    "}\n",
    "\n",
    "// Hilfsfunktionen"
   ],
   "id": "184f1507c5a9b3ae",
   "outputs": [],
   "execution_count": 22
  },
  {
   "metadata": {},
   "cell_type": "markdown",
   "source": [
    "## Motivation\n",
    "\n",
    "Der Zweck der Funktionen (bis auf Tests), die wir bisher geschrieben haben, war immer\n",
    "die Berechnung und *Rückgabe* eines *Werts*. Wenn wir einen *Ausdruck*,\n",
    "der einen Funktionsaufruf enthält, in einer Zelle eines Notebooks  eingeben, wird der\n",
    "Funktionsaufruf ausgewertet, um den *Wert* des *Ausdrucks* zu berechnen.\n",
    "Dieser wird dann in der nächsten Zeile angezeigt."
   ],
   "id": "48fc2b62-4bcf-4a55-a7a6-2b6114d122b2"
  },
  {
   "cell_type": "code",
   "id": "c6bb0c21-d429-4607-bd62-94a626825738",
   "metadata": {
    "ExecuteTime": {
     "end_time": "2024-08-23T18:52:44.555358486Z",
     "start_time": "2024-08-23T18:52:44.495216300Z"
    }
   },
   "source": [
    "fun greetBavarian(name: String): String {\n",
    "    return \"Servus \" + name\n",
    "} "
   ],
   "outputs": [],
   "execution_count": 23
  },
  {
   "cell_type": "code",
   "id": "80f0e4a7-fd42-49fa-a595-fe53ae6a807d",
   "metadata": {
    "ExecuteTime": {
     "end_time": "2024-08-23T18:52:44.687567727Z",
     "start_time": "2024-08-23T18:52:44.575740863Z"
    }
   },
   "source": [
    "greetBavarian(\"Ada\")"
   ],
   "outputs": [
    {
     "data": {
      "text/plain": [
       "Servus Ada"
      ]
     },
     "execution_count": 24,
     "metadata": {},
     "output_type": "execute_result"
    }
   ],
   "execution_count": 24
  },
  {
   "cell_type": "code",
   "id": "5f1dc148",
   "metadata": {
    "ExecuteTime": {
     "end_time": "2024-08-23T18:52:44.915167679Z",
     "start_time": "2024-08-23T18:52:44.809364728Z"
    }
   },
   "source": [
    "greetBavarian(\"Grace\") + \"!\""
   ],
   "outputs": [
    {
     "data": {
      "text/plain": [
       "Servus Grace!"
      ]
     },
     "execution_count": 25,
     "metadata": {},
     "output_type": "execute_result"
    }
   ],
   "execution_count": 25
  },
  {
   "cell_type": "markdown",
   "id": "488f80c3-82d6-4ae4-b393-ff0d5cca2d4a",
   "metadata": {},
   "source": [
    "<figure style=\"text-align:center\" >\n",
    "<img src=\"funktionsaufruf_strings_grafik_grace.svg\" style=\"width:25.0%; ; background-color:white;\" />\n",
    "\n",
    "<figcaption>Funktionsaufruf <code\n",
    "class=\"sourceCode kotlin\">greetBavarian(<span class=\"st\">\"Grace\"</span>)</code></figcaption>\n",
    "</figure>\n",
    "\n",
    "Wenn wir jedoch eine dieser Funktionen in einem Programm außerhalb eines Notebooks aufrufen, hat das\n",
    "für den Benutzer keinen sichtbaren Effekt. Der\n",
    "Funktionsaufruf/*Ausdruck* wird ausgewertet und der Interpreter fährt\n",
    "mit der nächsten Zeile fort."
   ]
  },
  {
   "cell_type": "markdown",
   "id": "2a4f7b16",
   "metadata": {},
   "source": [
    "\n",
    "[Klicke hier](https://pl.kotl.in/aydBQ-O0G)"
   ]
  },
  {
   "metadata": {},
   "cell_type": "markdown",
   "source": [
    "  \n",
    "Die Benutzerinnen eines Programms wollen aber nicht Funktionsaufrufe in\n",
    "die Shell eingegeben. Sie wollen einfach ein Skript/Programm\n",
    "ausführen/starten und dann etwas Nützliches angezeigt bekommen und unter\n",
    "Umständen etwas eingeben. In diesem Kapitel wollen wir uns anschauen,\n",
    "wie das funktioniert.\n",
    "\n",
    "## Ausgabe\n",
    "\n",
    "Um Werte bei der Ausführung eines Skripts anzuzeigen, können wir die\n",
    "eingebaute Funktion `println` nutzen. Im Gegensatz zu allen Funktionen,\n",
    "die wir vorher gesehen haben, hat diese keinen interessanten\n",
    "Rückgabewert. Der Rückgabewert ist immer das Element `Unit`. Dies ist\n",
    "das einzige Element mit dem Typ `Unit`. Darin ist keinerlei\n",
    "Information gespeichert. Die Funktion ist trotzdem sehr nützlich, weil\n",
    "sie ihr Argument an der Konsole ausgibt."
   ],
   "id": "fad3c21c30dab5de"
  },
  {
   "metadata": {},
   "cell_type": "markdown",
   "source": "[Klicke hier](https://pl.kotl.in/vVkXn2j-h)",
   "id": "e4e5a9d78dbabc2d"
  },
  {
   "cell_type": "markdown",
   "id": "188334ff-3fac-4f2e-affb-ae304b150eb0",
   "metadata": {},
   "source": [
    "<figure style=\"text-align:center\">\n",
    "<img src=\"funktionsaufruf_print_hello.svg\" style=\"width:25.0%; ; background-color:white;\" />\n",
    "\n",
    "<figcaption>Funktionsaufruf <code\n",
    "class=\"sourceCode kotlin\"><span class=\"bu\">println</span>(<span class=\"st\">\"Hello\"</span>)</code></figcaption>\n",
    "</figure>\n",
    "\n",
    "<figure style=\"text-align:center\">\n",
    "<img src=\"verkettung_print_greet_bavarian.svg\" style=\"width:25.0%; ; background-color:white;\" />\n",
    "\n",
    "<figcaption>Funktionsaufruf <code\n",
    "class=\"sourceCode kotlin\"><span class=\"bu\">println</span>(greetBavarian(<span class=\"st\">\"Ada\"</span>))</code></figcaption>\n",
    "</figure>"
   ]
  },
  {
   "cell_type": "markdown",
   "id": "6c2bdf42",
   "metadata": {},
   "source": [
    "\n",
    "## Unterschiede zwischen Rückgabe und Ausgabe\n",
    "\n",
    "Es ist wichtig, sich den Unterschied zwischen der Rückgabe mit `return`\n",
    "und der Ausgabe mit `println` klarzumachen. Ein zurückgegebener *Wert*\n",
    "kann in einer Rechnung verwendet werden. Bei der Auswertung in einem\n",
    "Skript wird er aber nicht automatisch angezeigt. Mit der Funktion\n",
    "`println` können wir Werte an der Konsole ausgegeben. Diese Funktion gibt\n",
    "den Wert aber **nicht** zurück. Die Funktionen `greetBavarian` und\n",
    "`greetBavarianPrint` sehen deshalb sehr ähnlich aus. Sie sind aber\n",
    "trotzdem sehr unterschiedlich.\n"
   ]
  },
  {
   "cell_type": "code",
   "id": "1a5a83bb264ebe17",
   "metadata": {
    "ExecuteTime": {
     "end_time": "2024-08-23T18:52:45.133685274Z",
     "start_time": "2024-08-23T18:52:44.939591555Z"
    }
   },
   "source": [
    "fun greetBavarianPrint(name: String): Unit {\n",
    "    println(\"Servus, \"  + name)\n",
    "} "
   ],
   "outputs": [],
   "execution_count": 26
  },
  {
   "cell_type": "code",
   "id": "f5b9d0e6-d957-4b8f-85db-ae47ad655cfa",
   "metadata": {
    "ExecuteTime": {
     "end_time": "2024-08-23T18:52:45.329148368Z",
     "start_time": "2024-08-23T18:52:45.178070605Z"
    }
   },
   "source": "greetBavarianPrint(\"Ada\")",
   "outputs": [
    {
     "name": "stdout",
     "output_type": "stream",
     "text": [
      "Servus, Ada\n"
     ]
    }
   ],
   "execution_count": 27
  },
  {
   "cell_type": "markdown",
   "id": "af4bf4b8-45c3-433e-b275-45d5034a8cea",
   "metadata": {},
   "source": [
    "`Servus Ada` ist ein *Wert*, der von der Funktion `greetBavarianPrint`\n",
    "ausgegeben wurde. Die Rückgabe bei diesem Funktionsaufruf ist `Unit`.\n",
    "Der Unterschied wird deutlich, wenn man den Funktionsaufruf in einem\n",
    "Ausdruck verwendet."
   ]
  },
  {
   "cell_type": "code",
   "id": "4bdfb012-27d3-412a-b557-2323d8329a91",
   "metadata": {
    "ExecuteTime": {
     "end_time": "2024-08-23T18:52:45.623378292Z",
     "start_time": "2024-08-23T18:52:45.389940392Z"
    }
   },
   "source": "greetBavarianPrint(\"Ada\") + \"!\"",
   "outputs": [
    {
     "ename": "org.jetbrains.kotlinx.jupyter.exceptions.ReplCompilerException",
     "evalue": "Line_33.jupyter.kts (1:27 - 28) Unresolved reference. None of the following candidates is applicable because of receiver type mismatch: \npublic inline operator fun BigDecimal.plus(other: BigDecimal): BigDecimal defined in kotlin\npublic inline operator fun BigInteger.plus(other: BigInteger): BigInteger defined in kotlin\npublic operator fun <T> Array<TypeVariable(T)>.plus(element: TypeVariable(T)): Array<TypeVariable(T)> defined in kotlin.collections\npublic operator fun <T> Array<TypeVariable(T)>.plus(elements: Array<out TypeVariable(T)>): Array<TypeVariable(T)> defined in kotlin.collections\npublic operator fun <T> Array<TypeVariable(T)>.plus(elements: Collection<TypeVariable(T)>): Array<TypeVariable(T)> defined in kotlin.collections\npublic operator fun BooleanArray.plus(element: Boolean): BooleanArray defined in kotlin.collections\npublic operator fun BooleanArray.plus(elements: BooleanArray): BooleanArray defined in kotlin.collections\npublic operator fun BooleanArray.plus(elements: Collection<Boolean>): BooleanArray defined in kotlin.collections\npublic operator fun ByteArray.plus(element: Byte): ByteArray defined in kotlin.collections\npublic operator fun ByteArray.plus(elements: ByteArray): ByteArray defined in kotlin.collections\npublic operator fun ByteArray.plus(elements: Collection<Byte>): ByteArray defined in kotlin.collections\npublic inline operator fun Char.plus(other: String): String defined in kotlin.text\npublic operator fun CharArray.plus(element: Char): CharArray defined in kotlin.collections\npublic operator fun CharArray.plus(elements: CharArray): CharArray defined in kotlin.collections\npublic operator fun CharArray.plus(elements: Collection<Char>): CharArray defined in kotlin.collections\npublic operator fun DoubleArray.plus(element: Double): DoubleArray defined in kotlin.collections\npublic operator fun DoubleArray.plus(elements: DoubleArray): DoubleArray defined in kotlin.collections\npublic operator fun DoubleArray.plus(elements: Collection<Double>): DoubleArray defined in kotlin.collections\npublic operator fun FloatArray.plus(element: Float): FloatArray defined in kotlin.collections\npublic operator fun FloatArray.plus(elements: FloatArray): FloatArray defined in kotlin.collections\npublic operator fun FloatArray.plus(elements: Collection<Float>): FloatArray defined in kotlin.collections\npublic operator fun IntArray.plus(element: Int): IntArray defined in kotlin.collections\npublic operator fun IntArray.plus(elements: IntArray): IntArray defined in kotlin.collections\npublic operator fun IntArray.plus(elements: Collection<Int>): IntArray defined in kotlin.collections\npublic operator fun LongArray.plus(element: Long): LongArray defined in kotlin.collections\npublic operator fun LongArray.plus(elements: LongArray): LongArray defined in kotlin.collections\npublic operator fun LongArray.plus(elements: Collection<Long>): LongArray defined in kotlin.collections\npublic operator fun ShortArray.plus(element: Short): ShortArray defined in kotlin.collections\npublic operator fun ShortArray.plus(elements: ShortArray): ShortArray defined in kotlin.collections\npublic operator fun ShortArray.plus(elements: Collection<Short>): ShortArray defined in kotlin.collections\npublic operator fun String?.plus(other: Any?): String defined in kotlin\npublic inline operator fun UByteArray.plus(element: UByte): UByteArray defined in kotlin.collections\npublic inline operator fun UByteArray.plus(elements: UByteArray): UByteArray defined in kotlin.collections\npublic operator fun UByteArray.plus(elements: Collection<UByte>): UByteArray defined in kotlin.collections\npublic inline operator fun UIntArray.plus(element: UInt): UIntArray defined in kotlin.collections\npublic inline operator fun UIntArray.plus(elements: UIntArray): UIntArray defined in kotlin.collections\npublic operator fun UIntArray.plus(elements: Collection<UInt>): UIntArray defined in kotlin.collections\npublic inline operator fun ULongArray.plus(element: ULong): ULongArray defined in kotlin.collections\npublic inline operator fun ULongArray.plus(elements: ULongArray): ULongArray defined in kotlin.collections\npublic operator fun ULongArray.plus(elements: Collection<ULong>): ULongArray defined in kotlin.collections\npublic inline operator fun UShortArray.plus(element: UShort): UShortArray defined in kotlin.collections\npublic inline operator fun UShortArray.plus(elements: UShortArray): UShortArray defined in kotlin.collections\npublic operator fun UShortArray.plus(elements: Collection<UShort>): UShortArray defined in kotlin.collections\npublic operator fun <T> Collection<TypeVariable(T)>.plus(element: TypeVariable(T)): List<TypeVariable(T)> defined in kotlin.collections\npublic operator fun <T> Collection<TypeVariable(T)>.plus(elements: Array<out TypeVariable(T)>): List<TypeVariable(T)> defined in kotlin.collections\npublic operator fun <T> Collection<TypeVariable(T)>.plus(elements: Iterable<TypeVariable(T)>): List<TypeVariable(T)> defined in kotlin.collections\npublic operator fun <T> Collection<TypeVariable(T)>.plus(elements: Sequence<TypeVariable(T)>): List<TypeVariable(T)> defined in kotlin.collections\npublic operator fun <T> Iterable<TypeVariable(T)>.plus(element: TypeVariable(T)): List<TypeVariable(T)> defined in kotlin.collections\npublic operator fun <T> Iterable<TypeVariable(T)>.plus(elements: Array<out TypeVariable(T)>): List<TypeVariable(T)> defined in kotlin.collections\npublic operator fun <T> Iterable<TypeVariable(T)>.plus(elements: Iterable<TypeVariable(T)>): List<TypeVariable(T)> defined in kotlin.collections\npublic operator fun <T> Iterable<TypeVariable(T)>.plus(elements: Sequence<TypeVariable(T)>): List<TypeVariable(T)> defined in kotlin.collections\npublic operator fun <K, V> Map<out TypeVariable(K), TypeVariable(V)>.plus(pairs: Array<out Pair<TypeVariable(K), TypeVariable(V)>>): Map<TypeVariable(K), TypeVariable(V)> defined in kotlin.collections\npublic operator fun <K, V> Map<out TypeVariable(K), TypeVariable(V)>.plus(pair: Pair<TypeVariable(K), TypeVariable(V)>): Map<TypeVariable(K), TypeVariable(V)> defined in kotlin.collections\npublic operator fun <K, V> Map<out TypeVariable(K), TypeVariable(V)>.plus(pairs: Iterable<Pair<TypeVariable(K), TypeVariable(V)>>): Map<TypeVariable(K), TypeVariable(V)> defined in kotlin.collections\npublic operator fun <K, V> Map<out TypeVariable(K), TypeVariable(V)>.plus(map: Map<out TypeVariable(K), TypeVariable(V)>): Map<TypeVariable(K), TypeVariable(V)> defined in kotlin.collections\npublic operator fun <K, V> Map<out TypeVariable(K), TypeVariable(V)>.plus(pairs: Sequence<Pair<TypeVariable(K), TypeVariable(V)>>): Map<TypeVariable(K), TypeVariable(V)> defined in kotlin.collections\npublic operator fun <T> Set<TypeVariable(T)>.plus(element: TypeVariable(T)): Set<TypeVariable(T)> defined in kotlin.collections\npublic operator fun <T> Set<TypeVariable(T)>.plus(elements: Array<out TypeVariable(T)>): Set<TypeVariable(T)> defined in kotlin.collections\npublic operator fun <T> Set<TypeVariable(T)>.plus(elements: Iterable<TypeVariable(T)>): Set<TypeVariable(T)> defined in kotlin.collections\npublic operator fun <T> Set<TypeVariable(T)>.plus(elements: Sequence<TypeVariable(T)>): Set<TypeVariable(T)> defined in kotlin.collections\npublic operator fun <T> Sequence<TypeVariable(T)>.plus(element: TypeVariable(T)): Sequence<TypeVariable(T)> defined in kotlin.sequences\npublic operator fun <T> Sequence<TypeVariable(T)>.plus(elements: Array<out TypeVariable(T)>): Sequence<TypeVariable(T)> defined in kotlin.sequences\npublic operator fun <T> Sequence<TypeVariable(T)>.plus(elements: Iterable<TypeVariable(T)>): Sequence<TypeVariable(T)> defined in kotlin.sequences\npublic operator fun <T> Sequence<TypeVariable(T)>.plus(elements: Sequence<TypeVariable(T)>): Sequence<TypeVariable(T)> defined in kotlin.sequences",
     "output_type": "error",
     "traceback": [
      "org.jetbrains.kotlinx.jupyter.repl.impl.JupyterCompilerImpl.compileSync(JupyterCompilerImpl.kt:201)",
      "org.jetbrains.kotlinx.jupyter.repl.impl.InternalEvaluatorImpl.eval(InternalEvaluatorImpl.kt:126)",
      "org.jetbrains.kotlinx.jupyter.repl.impl.CellExecutorImpl$execute$1$result$1.invoke(CellExecutorImpl.kt:80)",
      "org.jetbrains.kotlinx.jupyter.repl.impl.CellExecutorImpl$execute$1$result$1.invoke(CellExecutorImpl.kt:78)",
      "org.jetbrains.kotlinx.jupyter.repl.impl.ReplForJupyterImpl.withHost(ReplForJupyterImpl.kt:762)",
      "org.jetbrains.kotlinx.jupyter.repl.impl.CellExecutorImpl.execute-L4Nmkdk(CellExecutorImpl.kt:78)",
      "org.jetbrains.kotlinx.jupyter.repl.execution.CellExecutor$DefaultImpls.execute-L4Nmkdk$default(CellExecutor.kt:13)",
      "org.jetbrains.kotlinx.jupyter.repl.impl.ReplForJupyterImpl.evaluateUserCode-wNURfNM(ReplForJupyterImpl.kt:585)",
      "org.jetbrains.kotlinx.jupyter.repl.impl.ReplForJupyterImpl.access$evaluateUserCode-wNURfNM(ReplForJupyterImpl.kt:138)",
      "org.jetbrains.kotlinx.jupyter.repl.impl.ReplForJupyterImpl$evalEx$1.invoke(ReplForJupyterImpl.kt:442)",
      "org.jetbrains.kotlinx.jupyter.repl.impl.ReplForJupyterImpl$evalEx$1.invoke(ReplForJupyterImpl.kt:439)",
      "org.jetbrains.kotlinx.jupyter.repl.impl.ReplForJupyterImpl.withEvalContext(ReplForJupyterImpl.kt:420)",
      "org.jetbrains.kotlinx.jupyter.repl.impl.ReplForJupyterImpl.evalEx(ReplForJupyterImpl.kt:439)",
      "org.jetbrains.kotlinx.jupyter.messaging.IdeCompatibleMessageRequestProcessor$processExecuteRequest$1$response$1$1.invoke(IdeCompatibleMessageRequestProcessor.kt:136)",
      "org.jetbrains.kotlinx.jupyter.messaging.IdeCompatibleMessageRequestProcessor$processExecuteRequest$1$response$1$1.invoke(IdeCompatibleMessageRequestProcessor.kt:135)",
      "org.jetbrains.kotlinx.jupyter.execution.JupyterExecutorImpl$Task.execute(JupyterExecutorImpl.kt:42)",
      "org.jetbrains.kotlinx.jupyter.execution.JupyterExecutorImpl$executorThread$1.invoke(JupyterExecutorImpl.kt:82)",
      "org.jetbrains.kotlinx.jupyter.execution.JupyterExecutorImpl$executorThread$1.invoke(JupyterExecutorImpl.kt:80)",
      "kotlin.concurrent.ThreadsKt$thread$thread$1.run(Thread.kt:30)"
     ]
    }
   ],
   "execution_count": 28
  },
  {
   "cell_type": "markdown",
   "id": "37b58924-7303-4e92-8ee8-86c0d6895a2d",
   "metadata": {},
   "source": [
    "Die Funktion `print_greet_bavarian_print` würde `Servus Ada` ausgeben aber nicht zurückgeben. Erst\n",
    "nach diesem Funktionsaufruf könnte nicht weiter mit der Auswertung fortgefahren werden, da der *Rückgabewert*\n",
    " `print_greet_bavarian_print` der *Wert* `Unit` ist. Dieser soll anschließend mit `\"!\"` addiert wird. Die\n",
    "Fehlermeldung sagt aus, dass das nicht möglich ist, da ein *String*\n",
    "nicht mit einem Element, dass den *Typ* `Unit` hat, addiert werden\n",
    "kann. Hätten wir an dieser Stelle die Funktion `greetBavarian` genutzt,\n",
    "wäre kein Fehler aufgetreten, da diese einen *String* zurückgibt."
   ]
  },
  {
   "cell_type": "code",
   "id": "9d9e1c71-6578-4ac0-aaf8-3a4f973dfb16",
   "metadata": {
    "ExecuteTime": {
     "end_time": "2024-08-23T18:52:45.798619520Z",
     "start_time": "2024-08-23T18:52:25.615359461Z"
    }
   },
   "source": "greetBavarian(\"Ada\") + \"!\"",
   "outputs": [
    {
     "data": {
      "text/plain": [
       "Servus Ada!"
      ]
     },
     "execution_count": 15,
     "metadata": {},
     "output_type": "execute_result"
    }
   ],
   "execution_count": 15
  },
  {
   "cell_type": "markdown",
   "id": "46e79931-bb59-41d2-a4b5-2bf0cb95af04",
   "metadata": {},
   "source": [
    "Der Unterschied wird auch deutlich, wenn man das Ergebnis dieser\n",
    "Funktionen in einer *Variablen* speichert."
   ]
  },
  {
   "cell_type": "code",
   "id": "db9e47cc-9189-4dbd-8099-068e84e39a3d",
   "metadata": {
    "ExecuteTime": {
     "end_time": "2024-08-23T18:52:38.523126777Z",
     "start_time": "2024-08-23T18:52:38.425715144Z"
    }
   },
   "source": [
    "val x = greetBavarian(\"Ada\")\n",
    "x"
   ],
   "outputs": [
    {
     "data": {
      "text/plain": [
       "Servus Ada"
      ]
     },
     "execution_count": 16,
     "metadata": {},
     "output_type": "execute_result"
    }
   ],
   "execution_count": 16
  },
  {
   "cell_type": "markdown",
   "id": "63b33bac-000a-4967-9de8-e284178ee99d",
   "metadata": {},
   "source": [
    "Bei der Zuweisung in der ersten Zeile wird der *Wert* von\n",
    "`greetBavarian(\"Ada\")` zwar berechnet und der *Variablen* zugewiesen.\n",
    "Es ist aber nichts zu sehen. Der *Wert* der *Variablen* `x` ist\n",
    "`\"Servus Ada\"` und wird deshalb nach der zweiten Zeile angezeigt.\n",
    "\n",
    "Bei der Verwendung von `greetBavarianPrint` ist etwas völlig anderes\n",
    "zu beobachten."
   ]
  },
  {
   "cell_type": "code",
   "id": "03dd494c-89ab-4551-b43b-a62c7863efb2",
   "metadata": {
    "ExecuteTime": {
     "end_time": "2024-08-23T18:52:38.757003751Z",
     "start_time": "2024-08-23T18:52:38.606401108Z"
    }
   },
   "source": [
    "val x = greetBavarianPrint(\"Ada\")\n",
    "x"
   ],
   "outputs": [
    {
     "name": "stdout",
     "output_type": "stream",
     "text": [
      "Servus, Ada\n"
     ]
    }
   ],
   "execution_count": 17
  },
  {
   "cell_type": "markdown",
   "id": "b54f391c-6428-4067-acdc-cbf77f7e2deb",
   "metadata": {},
   "source": [
    "Bei der Auswertung der rechten Seite der ersten Zeile wird der *Wert*\n",
    "zwar angezeigt. Da der *Rückgabewert* `Unit` ist, wird in der\n",
    "*Variablen* auch nur dieser *Wert* gespeichert. Dieser wird nach der\n",
    "letzten Zeile nicht angezeigt.\n",
    "\n",
    "Der letzte wichtige Unterschied ist, dass bei der Ausführung eines\n",
    "`return`-*Statements* die Funktion, die dieses beinhaltet, verlassen\n",
    "wird."
   ]
  },
  {
   "cell_type": "code",
   "id": "2b8b6664-d1e5-453c-a90c-8bc1d388a77a",
   "metadata": {
    "ExecuteTime": {
     "end_time": "2024-08-23T18:52:39.012326702Z",
     "start_time": "2024-08-23T18:52:38.855469202Z"
    }
   },
   "source": [
    "fun helloAndGoodbyeWrong(): String {\n",
    "    return \"Hello\"\n",
    "    println(\"Goodbye\")\n",
    "}"
   ],
   "outputs": [],
   "execution_count": 18
  },
  {
   "cell_type": "code",
   "id": "e1084a90-ae96-4115-9622-1ed3db973db9",
   "metadata": {
    "ExecuteTime": {
     "end_time": "2024-08-23T18:52:39.158807583Z",
     "start_time": "2024-08-23T18:52:39.029730865Z"
    }
   },
   "source": "helloAndGoodbyeWrong()",
   "outputs": [
    {
     "data": {
      "text/plain": [
       "Hello"
      ]
     },
     "execution_count": 19,
     "metadata": {},
     "output_type": "execute_result"
    }
   ],
   "execution_count": 19
  },
  {
   "cell_type": "markdown",
   "id": "3ed10595-09ec-4081-87a5-f36ed69d0c33",
   "metadata": {},
   "source": "Bei Aufrufen von `println` ist dies nicht der Fall."
  },
  {
   "cell_type": "code",
   "id": "c4503fb8-877d-4241-a84c-f5cfb258ec85",
   "metadata": {
    "ExecuteTime": {
     "end_time": "2024-08-23T18:53:06.403183563Z",
     "start_time": "2024-08-23T18:53:06.321906862Z"
    }
   },
   "source": [
    "fun printHelloAndGoodbye() : Unit{\n",
    "    println(\"Hello\")\n",
    "    println(\"Goodbye\")\n",
    "}"
   ],
   "outputs": [],
   "execution_count": 29
  },
  {
   "cell_type": "code",
   "id": "c5b79448-bf94-4e05-82cc-2d72ef953d24",
   "metadata": {
    "ExecuteTime": {
     "end_time": "2024-08-23T18:53:13.850825500Z",
     "start_time": "2024-08-23T18:53:13.777096892Z"
    }
   },
   "source": "printHelloAndGoodbye()",
   "outputs": [
    {
     "name": "stdout",
     "output_type": "stream",
     "text": [
      "Hello\n",
      "Goodbye\n"
     ]
    }
   ],
   "execution_count": 30
  },
  {
   "cell_type": "markdown",
   "id": "dceed8ad-8d43-42b5-ba88-96c71a14a1eb",
   "metadata": {},
   "source": [
    "## Eingabe\n",
    "\n",
    "Mit der Funktion `readln` können Benutzereingaben eingelesen werden. Die Funktion hat keine *Parameter*. Beim Aufruf wird auf die Eingabe des benutzers gewartet. Dieser muss seine Eingabe mit Enter bestätigen. Die Eingabe wird als *String* zurückgegeben."
   ]
  },
  {
   "cell_type": "code",
   "id": "456da678",
   "metadata": {
    "ExecuteTime": {
     "end_time": "2024-08-23T18:52:39.580962113Z",
     "start_time": "2024-08-23T18:51:23.585764545Z"
    }
   },
   "source": "readln()",
   "outputs": [
    {
     "data": {
      "text/plain": [
       "Grace"
      ]
     },
     "execution_count": 5,
     "metadata": {},
     "output_type": "execute_result"
    }
   ],
   "execution_count": 5
  },
  {
   "cell_type": "markdown",
   "id": "2d1b902a",
   "metadata": {},
   "source": [
    "<figure style = \"text-align:center\" >\n",
    "<img src=\"funktionsaufruf_input.svg\" style=\"width:25.0%; ; background-color:white;\" />\n",
    "<figcaption>Funktionsaufruf <code\n",
    "class=\"sourceCode kotlin\"><span class=\"bu\">readln() </code>\n",
    "und Eingabe <code>Grace</code> </figcaption>\n",
    "</figure>\n",
    "\n",
    "Es ist oft sinnvoll diesen *Rückgabewert* in einer *Variablen* zu\n",
    "speichern, um ihn später verwenden zu können."
   ]
  },
  {
   "cell_type": "code",
   "id": "b6d8ce43",
   "metadata": {
    "ExecuteTime": {
     "end_time": "2024-08-23T18:52:39.581984234Z",
     "start_time": "2024-08-23T18:51:50.237175883Z"
    }
   },
   "source": [
    "println(\"Wie heißt du\")\n",
    "val name = readln()\n",
    "name"
   ],
   "outputs": [
    {
     "name": "stdout",
     "output_type": "stream",
     "text": [
      "Wie heißt du\n"
     ]
    },
    {
     "data": {
      "text/plain": [
       "Grace"
      ]
     },
     "execution_count": 6,
     "metadata": {},
     "output_type": "execute_result"
    }
   ],
   "execution_count": 6
  },
  {
   "cell_type": "markdown",
   "id": "1786c834",
   "metadata": {},
   "source": [
    "\n",
    "## Kombination von Ein- und Ausgabe\n",
    "\n",
    "Wir können nun interaktive Programme schrieben, in denen wir Eingabe,\n",
    "Verarbeitung und Ausgabe kombinieren."
   ]
  },
  {
   "cell_type": "code",
   "id": "39b7e342-1083-4272-a839-d97d59230afe",
   "metadata": {
    "ExecuteTime": {
     "end_time": "2024-08-23T18:53:22.837003633Z",
     "start_time": "2024-08-23T18:53:22.685013671Z"
    }
   },
   "source": [
    "fun greetBavarianIO(): Unit{\n",
    "    println(\"Wie heißt du?\")\n",
    "    val name = readln()\n",
    "    println(greetBavarian(name))\n",
    "}"
   ],
   "outputs": [],
   "execution_count": 31
  },
  {
   "cell_type": "markdown",
   "id": "7f7cacfa-c34a-407f-88bb-6c6808d72a04",
   "metadata": {},
   "source": [
    "Die Funktionen `println` und `readln` sorgen dafür, dass auch, wenn die\n",
    "Funktion in einem normalen Programm aufgerufen wird, etwas zu sehen ist."
   ]
  },
  {
   "cell_type": "markdown",
   "id": "e3239b23-7264-41d3-9d0c-43ae82ce3d6f",
   "metadata": {},
   "source": [
    "<figure style = \"text-align:center\" >\n",
    "<img src=\"screenshot_greetBavarianIO.png\" style=\"width:25.0%; ; background-color:white;\" />\n",
    "\n",
    "<figcaption>Screenshot nach Aufruf von  <code\n",
    "class=\"sourceCode kotlin\">greetBavarianIO()</code> und Eingabe von\n",
    "<code>Grace</code> </figcaption>\n",
    "</figure>\n",
    "\n",
    "Der Benutzer des Programms muss das Programm nur starten, um mit ihm zu\n",
    "interagieren. Er muss selbst aber nichts über Programmierung wissen.\n",
    "\n",
    "<figure style = \"text-align:center\" >\n",
    "<img src=\"funktionsaufruf_greet_bavarian_io.svg\" style=\"width:25.0%; ; background-color:white;\" />\n",
    "\n",
    "<figcaption>Funktionsaufruf <code\n",
    "class=\"sourceCode kotlin\">greetBavarianIO()</code> und Eingabe\n",
    "<code>Grace</code> </figcaption>\n",
    "</figure>\n",
    "\n",
    "Der Benutzer des Programms muss das Programm nur starten, um mit ihm zu\n",
    "interagieren. Er muss selbst aber nichts über Programmierung wissen."
   ]
  }
 ],
 "metadata": {
  "kernelspec": {
   "display_name": "Kotlin",
   "language": "kotlin",
   "name": "kotlin"
  },
  "language_info": {
   "codemirror_mode": "text/x-kotlin",
   "file_extension": ".kt",
   "mimetype": "text/x-kotlin",
   "name": "kotlin",
   "nbconvert_exporter": "",
   "pygments_lexer": "kotlin",
   "version": "1.9.23"
  }
 },
 "nbformat": 4,
 "nbformat_minor": 5
}
