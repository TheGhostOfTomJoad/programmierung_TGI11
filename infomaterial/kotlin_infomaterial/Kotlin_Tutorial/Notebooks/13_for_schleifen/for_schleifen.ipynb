{
 "cells": [
  {
   "cell_type": "markdown",
   "id": "095a4d66-79bb-479b-81a5-fa305f2f07cf",
   "metadata": {},
   "source": [
    "# For-Schleifen\n",
    "\n",
    "## Schleifen\n",
    "\n",
    "Mithilfe von `if`-*Statements* kann festgelegt werden, dass bestimmte\n",
    "*Statements* nur dann ausgeführt werden, wenn eine Bedingung erfüllt\n",
    "ist. In den folgenden Kapiteln beschäftigen wir uns mit *Schleifen*. Mit\n",
    "diesen können *Statements* wiederholt ausgeführt werden.\n",
    "\n",
    "## Grundlagen\n",
    "\n",
    "Die erste *Schleife*, die wir kennenlernen ist die `for`-*Schleife*.\n",
    "Diese wird genutzt, wenn die Anzahl der Wiederholungen im Voraus bekannt\n",
    "ist.\n",
    "\n",
    "Bei einer `for`-*Schleife* steht am Anfang des sogenannten *Schleifenkopfs*\n",
    "das Schlüsselwort `for` . Danach folgt in Klammer ein *Variablenname*, das Schlüsselwort `in` und eine *Zahlenreihe*.\n",
    "Die *Variable* wird auch *Zählervariable* genannt, weil sie die Zahlen aus der *Zahlenreihe* durchläuft/durchzählt. Für die *Zahlenreihe* schreibt man die kleinste Zahl, die dazugehören soll, zwei Punkte und die größte Zahl der *Zahlenreihe*.\n",
    "\n",
    "Anschließend folgen in geschweiften Klammern die *Statements*, die wiederholt werden\n",
    "sollen. In diesen *Statements* kann die *Zählervariable* genutzt werden. Die *Statements* werden ausgeführt, bis die *Zählervariable* alle Zahlen aus der *Zahlenreihe* durchlaufen hat."
   ]
  },
  {
   "cell_type": "code",
   "id": "ae86d342-aeb8-4841-880e-e7a60078a96b",
   "metadata": {
    "ExecuteTime": {
     "end_time": "2024-08-22T15:05:57.462991620Z",
     "start_time": "2024-08-22T15:05:56.515032811Z"
    }
   },
   "source": [
    "for (i in 0..2) {\n",
    "    println(i)\n",
    "}"
   ],
   "outputs": [
    {
     "name": "stdout",
     "output_type": "stream",
     "text": [
      "0\n",
      "1\n",
      "2\n"
     ]
    }
   ],
   "execution_count": 7
  },
  {
   "metadata": {},
   "cell_type": "markdown",
   "source": [
    "## Das Akkumulator-Pattern\n",
    "\n",
    "Oft will man über alle *Schleifendurchläufe* hinweg ein Ergebnis\n",
    "aufsammeln. Hierfür legt man vor dem Durchlaufen der *Schleife* eine veränderbare\n",
    "*Variable* an. Diese *Variable* nennt man auch *Akkumulator*. Diesem weist\n",
    "man den *Wert* zu, den man erhalten würde, wenn der *Schleifenkörper* nie\n",
    "ausgeführt wird. Diese *Variable* kann man nun bei jeder Wiederholung\n",
    "anpassen."
   ],
   "id": "31bb9015-b47d-4f59-8a9c-8793ee28b98e"
  },
  {
   "cell_type": "code",
   "id": "4a2655b5",
   "metadata": {
    "ExecuteTime": {
     "end_time": "2024-08-22T14:57:45.471437968Z",
     "start_time": "2024-08-22T14:57:45.278403572Z"
    }
   },
   "source": [
    "var sum = 0 \n",
    "for (i in 1..3) {\n",
    "    sum = sum + i\n",
    "}    \n",
    "sum"
   ],
   "outputs": [
    {
     "data": {
      "text/plain": [
       "6"
      ]
     },
     "execution_count": 4,
     "metadata": {},
     "output_type": "execute_result"
    }
   ],
   "execution_count": 4
  },
  {
   "cell_type": "markdown",
   "id": "8d0d05ba",
   "metadata": {},
   "source": [
    "\n",
    "Um genau zu sehen, was bei jedem Schritt passiert, kann man die Funktion\n",
    "`println` nutzen.\n"
   ]
  },
  {
   "cell_type": "code",
   "id": "881e2160",
   "metadata": {
    "ExecuteTime": {
     "end_time": "2024-08-22T14:59:54.615856995Z",
     "start_time": "2024-08-22T14:59:54.338482699Z"
    }
   },
   "source": [
    "var sum = 0 \n",
    "for (i in 1.. 3) {\n",
    "    sum = sum + i\n",
    "    println(\"i = \" + i.toString())\n",
    "    println(\"sum = \" + sum.toString())\n",
    "    println(\"———\")\n",
    "}\n",
    "sum"
   ],
   "outputs": [
    {
     "name": "stdout",
     "output_type": "stream",
     "text": [
      "i = 1\n",
      "sum = 1\n",
      "———\n",
      "i = 2\n",
      "sum = 3\n",
      "———\n",
      "i = 3\n",
      "sum = 6\n",
      "———\n"
     ]
    },
    {
     "data": {
      "text/plain": [
       "6"
      ]
     },
     "execution_count": 6,
     "metadata": {},
     "output_type": "execute_result"
    }
   ],
   "execution_count": 6
  },
  {
   "metadata": {},
   "cell_type": "markdown",
   "source": "Als Faustregel bei der Programmierung gilt, dass überall wo ein *Wert*, also ein *Literal* stehen kann, auch ein beliebiger *Ausdruck* mit dem entsprechenden *Typ* verwendet werden kann. Z.B. kann man auch für die Grenzen der Zahlenreihe Ausdrücke statt Zahlen schreiben.",
   "id": "b43ff939b43a2226"
  },
  {
   "metadata": {
    "ExecuteTime": {
     "end_time": "2024-08-24T13:26:31.156827659Z",
     "start_time": "2024-08-24T13:26:30.842484312Z"
    }
   },
   "cell_type": "code",
   "source": [
    "for (i in 2 * 3 .. 3 * 3) {\n",
    "    println(i)\n",
    "}\n"
   ],
   "id": "e66c6eb45fbcf912",
   "outputs": [
    {
     "name": "stdout",
     "output_type": "stream",
     "text": [
      "6\n",
      "7\n",
      "8\n",
      "9\n"
     ]
    }
   ],
   "execution_count": 1
  },
  {
   "metadata": {},
   "cell_type": "markdown",
   "source": "Wir werden dies in Zukunft nicht bei jedem neuen Thema erklären.",
   "id": "711122efb81a0ac"
  }
 ],
 "metadata": {
  "kernelspec": {
   "display_name": "Kotlin",
   "language": "kotlin",
   "name": "kotlin"
  },
  "language_info": {
   "codemirror_mode": "text/x-kotlin",
   "file_extension": ".kt",
   "mimetype": "text/x-kotlin",
   "name": "kotlin",
   "nbconvert_exporter": "",
   "pygments_lexer": "kotlin",
   "version": "1.9.23"
  }
 },
 "nbformat": 4,
 "nbformat_minor": 5
}
