{
 "cells": [
  {
   "metadata": {},
   "cell_type": "markdown",
   "source": [
    "# Strings\n",
    "\n",
    "## Strings sind Werte\n",
    "\n",
    "Alle *Werte*, die wir bis jetzt genutzt haben, waren ganze Zahlen\n",
    "(*Integer*). Es gibt aber noch völlig andere *Werte* wie z.B. die\n",
    "Zeichenketten (*Strings*) `\"Hello\"`, `\"^._.^\"` und `\"12345\"` . *Strings*\n",
    "beginnen und enden mit einem Anführungszeichen (`\"`).\n",
    "\n",
    "Da *Strings* *Werte* sind, können wir diese in *Ausdrücken* verwenden.\n",
    "Eine *Operation*, die mit zwei *Strings* durchgeführt werden kann, ist\n",
    "die *String*-Addition. Hierbei wird dasselbe `+` wie bei der Addition\n",
    "von Zahlen verwendet. Die *Strings* werden mit dieser *Operation* aber\n",
    "aneinander gehängt."
   ],
   "id": "db068cd34f328da2"
  },
  {
   "metadata": {
    "ExecuteTime": {
     "end_time": "2024-08-19T15:00:41.035723141Z",
     "start_time": "2024-08-19T15:00:40.933908445Z"
    }
   },
   "cell_type": "code",
   "source": "\"hallo\" + \"tschüss\"",
   "id": "1f7c3931c45606d0",
   "outputs": [
    {
     "data": {
      "text/plain": [
       "hallotschüss"
      ]
     },
     "execution_count": 7,
     "metadata": {},
     "output_type": "execute_result"
    }
   ],
   "execution_count": 7
  },
  {
   "cell_type": "code",
   "id": "4f5eb3ab",
   "metadata": {
    "ExecuteTime": {
     "end_time": "2024-08-19T14:55:18.431240274Z",
     "start_time": "2024-08-19T14:55:18.322311289Z"
    }
   },
   "source": [
    "\"123\" + \"456\" + \"789\""
   ],
   "outputs": [
    {
     "data": {
      "text/plain": [
       "123456789"
      ]
     },
     "execution_count": 2,
     "metadata": {},
     "output_type": "execute_result"
    }
   ],
   "execution_count": 2
  },
  {
   "cell_type": "markdown",
   "id": "4844428e-7691-4bd6-9acc-aa2d3707d166",
   "metadata": {},
   "source": [
    "Hierbei ist es egal, dass die *Strings* im letzten Beispiel Zahlen\n",
    "darstellen. Durch die Anführungszeichen handelt es sich z.B. bei `\"123\"` um ein\n",
    "*String-Literal* und **nicht** um einen *Integer*. Wir können damit also\n",
    "keine *Integer*-Addition durchführen.\n"
   ]
  },
  {
   "cell_type": "markdown",
   "id": "21b36501-6e32-40b8-816d-88e1324f987d",
   "metadata": {},
   "source": [
    "## Strings und Variablennamen\n",
    "\n",
    "*Strings* kann man, wie alle anderen *Werte*, in *Variablen* speichern."
   ]
  },
  {
   "cell_type": "code",
   "id": "a16d27cd-401b-41c2-be84-568e9802a816",
   "metadata": {
    "ExecuteTime": {
     "end_time": "2024-08-19T14:55:18.575125251Z",
     "start_time": "2024-08-19T14:55:18.457133594Z"
    }
   },
   "source": [
    "val bat = \"^._.^\""
   ],
   "outputs": [],
   "execution_count": 3
  },
  {
   "metadata": {},
   "cell_type": "markdown",
   "source": [
    "<figure style=\"text-align:center;\">\n",
    "<img src=\"string_variable_box.svg\" style=\"width:25.0%\"/>\n",
    "<figcaption>Variable <code class=\"sourceCode kotlin\">bat</code>\n",
    "</figcaption>\n",
    "</figure>\n",
    "\n",
    "Auf der rechten Seite des Zuweisungsoperators werden Anführungszeichen\n",
    "verwendet, aber nicht auf der linken Seite. Das liegt daran, dass `bat`\n",
    "der Name der *Variable* ist und **kein** String. Der *Wert*, der in\n",
    "dieser *Variable* gespeichert ist, ist der *String* `\"^._.^\"`. Wenn wir\n",
    "die *Variable* in einem *Ausdruck* verwenden, wird sie durch ihren\n",
    "*Wert* ersetzt."
   ],
   "id": "e2bee60cd3bfe140"
  },
  {
   "metadata": {},
   "cell_type": "code",
   "outputs": [],
   "execution_count": null,
   "source": "\"A bat looks like this: \" + bat",
   "id": "3d8c6cdede4f7140"
  },
  {
   "metadata": {},
   "cell_type": "markdown",
   "source": [
    "\n",
    "\n",
    "Hier steht `\"A bat looks like this: \"` zwischen Anführungszeichen, weil es sich\n",
    "dabei um einen *String* und nicht um einen *Variablennamen* handelt. Wir\n",
    "wollen ja, dass genau das im Ergebnis steht und meinen damit nicht den\n",
    "Inhalt/Wert einer *Variablen*.\n",
    "\n",
    "## Fehler beim Verwechseln von Strings und Variablennamen\n",
    "\n",
    "Wenn wir den *Variablennamen* `bat` zwischen Anführungszeichen schreiben,\n",
    "handelt es sich nicht mehr um den Namen einer *Variablen*, sondern um\n",
    "einen *String* (also einen *Wert*). Dieser *Wert* hat **nichts** mit der\n",
    "*Variablen* zu tun und taucht also unverändert im Ergebnis auf."
   ],
   "id": "da13aa25bfcb000"
  },
  {
   "metadata": {},
   "cell_type": "code",
   "outputs": [],
   "execution_count": null,
   "source": "\"A bat looks like this: \" + \"bat\"",
   "id": "5929b20df94ff10b"
  },
  {
   "cell_type": "markdown",
   "id": "bbe7fe50-61d8-47f1-8947-8352b8e8df65",
   "metadata": {},
   "source": [
    "Wenn wir die Anführungszeichen um einen String wie `\"looks \"` weglassen,\n",
    "erhalten wir eine Fehlermeldung."
   ]
  },
  {
   "cell_type": "code",
   "id": "84bf2298-b0ec-424d-88c1-9f029982b665",
   "metadata": {
    "ExecuteTime": {
     "end_time": "2024-08-19T14:55:19.370345372Z",
     "start_time": "2024-08-19T14:55:19.186643320Z"
    }
   },
   "source": [
    "looks"
   ],
   "outputs": [
    {
     "ename": "org.jetbrains.kotlinx.jupyter.exceptions.ReplCompilerException",
     "evalue": "Line_7.jupyter.kts (1:1 - 6) Unresolved reference: looks",
     "output_type": "error",
     "traceback": [
      "org.jetbrains.kotlinx.jupyter.repl.impl.JupyterCompilerImpl.compileSync(JupyterCompilerImpl.kt:201)",
      "org.jetbrains.kotlinx.jupyter.repl.impl.InternalEvaluatorImpl.eval(InternalEvaluatorImpl.kt:126)",
      "org.jetbrains.kotlinx.jupyter.repl.impl.CellExecutorImpl$execute$1$result$1.invoke(CellExecutorImpl.kt:80)",
      "org.jetbrains.kotlinx.jupyter.repl.impl.CellExecutorImpl$execute$1$result$1.invoke(CellExecutorImpl.kt:78)",
      "org.jetbrains.kotlinx.jupyter.repl.impl.ReplForJupyterImpl.withHost(ReplForJupyterImpl.kt:762)",
      "org.jetbrains.kotlinx.jupyter.repl.impl.CellExecutorImpl.execute-L4Nmkdk(CellExecutorImpl.kt:78)",
      "org.jetbrains.kotlinx.jupyter.repl.execution.CellExecutor$DefaultImpls.execute-L4Nmkdk$default(CellExecutor.kt:13)",
      "org.jetbrains.kotlinx.jupyter.repl.impl.ReplForJupyterImpl.evaluateUserCode-wNURfNM(ReplForJupyterImpl.kt:585)",
      "org.jetbrains.kotlinx.jupyter.repl.impl.ReplForJupyterImpl.access$evaluateUserCode-wNURfNM(ReplForJupyterImpl.kt:138)",
      "org.jetbrains.kotlinx.jupyter.repl.impl.ReplForJupyterImpl$evalEx$1.invoke(ReplForJupyterImpl.kt:442)",
      "org.jetbrains.kotlinx.jupyter.repl.impl.ReplForJupyterImpl$evalEx$1.invoke(ReplForJupyterImpl.kt:439)",
      "org.jetbrains.kotlinx.jupyter.repl.impl.ReplForJupyterImpl.withEvalContext(ReplForJupyterImpl.kt:420)",
      "org.jetbrains.kotlinx.jupyter.repl.impl.ReplForJupyterImpl.evalEx(ReplForJupyterImpl.kt:439)",
      "org.jetbrains.kotlinx.jupyter.messaging.IdeCompatibleMessageRequestProcessor$processExecuteRequest$1$response$1$1.invoke(IdeCompatibleMessageRequestProcessor.kt:136)",
      "org.jetbrains.kotlinx.jupyter.messaging.IdeCompatibleMessageRequestProcessor$processExecuteRequest$1$response$1$1.invoke(IdeCompatibleMessageRequestProcessor.kt:135)",
      "org.jetbrains.kotlinx.jupyter.execution.JupyterExecutorImpl$Task.execute(JupyterExecutorImpl.kt:42)",
      "org.jetbrains.kotlinx.jupyter.execution.JupyterExecutorImpl$executorThread$1.invoke(JupyterExecutorImpl.kt:82)",
      "org.jetbrains.kotlinx.jupyter.execution.JupyterExecutorImpl$executorThread$1.invoke(JupyterExecutorImpl.kt:80)",
      "kotlin.concurrent.ThreadsKt$thread$thread$1.run(Thread.kt:30)"
     ]
    }
   ],
   "execution_count": 6
  },
  {
   "cell_type": "markdown",
   "id": "21d6d4af-0fdb-4190-8d22-4491df198b29",
   "metadata": {},
   "source": [
    "Kotlin denkt, dass wir eine *Variable* mit dem Namen `looks` verwenden\n",
    "wollen. Eine *Variable* mit diesem Namen ist aber nicht definiert."
   ]
  }
 ],
 "metadata": {
  "kernelspec": {
   "display_name": "Kotlin",
   "language": "kotlin",
   "name": "kotlin"
  },
  "language_info": {
   "codemirror_mode": "text/x-kotlin",
   "file_extension": ".kt",
   "mimetype": "text/x-kotlin",
   "name": "kotlin",
   "nbconvert_exporter": "",
   "pygments_lexer": "kotlin",
   "version": "1.9.23"
  }
 },
 "nbformat": 4,
 "nbformat_minor": 5
}
