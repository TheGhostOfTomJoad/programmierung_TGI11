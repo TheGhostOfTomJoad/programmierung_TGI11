{
 "cells": [
  {
   "cell_type": "markdown",
   "id": "834be730-ad6d-4b64-836e-2b654d146fe0",
   "metadata": {},
   "source": [
    "# Funktionen\n",
    "\n",
    "## Motivation\n",
    "\n",
    "Die folgende Matheaufgabe können wir einfach in der Shell lösen\n",
    "\n",
    "**Mathematikaufgabe 1**. *Für die englischen Längeneinheiten Fuß und\n",
    "Yard gilt:*\n",
    "\n",
    "-   *Ein Yard sind $3$ Fuß*\n",
    "\n",
    "*Wie viel sind $\\,7$ Yard in Fuß und wie viel sind $\\,19$ Yard in Fuß?*\n",
    "\n",
    "**Lösung 1**.\n"
   ]
  },
  {
   "cell_type": "code",
   "id": "f74ef90d",
   "metadata": {
    "ExecuteTime": {
     "end_time": "2024-08-21T07:08:13.579533564Z",
     "start_time": "2024-08-21T07:08:13.286842218Z"
    }
   },
   "source": [
    "3 * 7"
   ],
   "outputs": [
    {
     "data": {
      "text/plain": [
       "21"
      ]
     },
     "execution_count": 9,
     "metadata": {},
     "output_type": "execute_result"
    }
   ],
   "execution_count": 9
  },
  {
   "cell_type": "code",
   "id": "9d8a6eaf",
   "metadata": {
    "ExecuteTime": {
     "end_time": "2024-08-21T07:08:13.701389009Z",
     "start_time": "2024-08-21T07:08:13.611879107Z"
    }
   },
   "source": [
    "3 * 19"
   ],
   "outputs": [
    {
     "data": {
      "text/plain": [
       "57"
      ]
     },
     "execution_count": 10,
     "metadata": {},
     "output_type": "execute_result"
    }
   ],
   "execution_count": 10
  },
  {
   "cell_type": "markdown",
   "id": "a32383c5",
   "metadata": {},
   "source": [
    "\n",
    "Die Lösung funktioniert zwar. Es gibt jedoch ein paar Probleme mit dem\n",
    "Code.\n",
    "\n",
    "-   Wenn wir den Code später ohne die Aufgabe lesen, wissen wir\n",
    "    höchstwahrscheinlich nicht, was wir berechnen wollten.\n",
    "\n",
    "-   Die Multiplikation mit $3$ um eine Länge in Yard in eine Länge in\n",
    "    Fuß umzurechnen taucht zweimal auf. Wenn wir nach der Rechnung\n",
    "    feststellen würden, dass ein Yard tatsächlich $4$ Fuß sind, müssen\n",
    "    wir den Code an beiden Stellen ändern.\n",
    "\n",
    "Beide Probleme kann man mithilfe von Funktion vermeiden.\n",
    "\n",
    "## Grundlegendes zu Funktionen\n",
    "\n",
    "Eine Funktion kann man sich als eine Maschine vorstellen, die je nach\n",
    "*Input* (*Argument*) einen entsprechenden *Output* (*Funktionswert*)\n",
    "produziert. Wenn der Name der Funktion $g$ ist, bezeichnet man für einen\n",
    "*Input* $x$ den dazugehörigen *Output* als $g(x)$. Die\n",
    "Funktionsgleichung gibt an, wie sich der *Output* aus dem *Input*\n",
    "berechnen lässt.\n",
    "\n",
    "<figure id=\"fig: example\" style=\"text-align:center;\">\n",
    "<img src=\"functionmachine-colour.svg\" style=\"width:20.0%\" />\n",
    "<figcaption>Funktionsmaschine</figcaption>\n",
    "</figure>\n",
    "\n",
    "Die Funktionsmaschine der Funktion $g$ mit der Funktionsgleichung\n",
    "$g(x) = 3 \\cdot x$ nimmt eine beliebige Zahl als *Input* und gibt das\n",
    "Produkt dieser Zahl mit $3$ zurück. Wenn z.B. der *Input* die Zahl $4$\n",
    "ist, kann man den *Output* berechnen, indem man $4$ in den Funktionsterm\n",
    "an der Stelle von $x$ einsetzt. Das Ergebnis ist dann\n",
    "$g(4) = 3 \\cdot 4 = 12$.\n",
    "\n",
    "<figure style=\"text-align:center;\">\n",
    "<img src=\"funktionsaufruf_g_4.svg\" style=\"width:20.0%; background-color:white;\" />\n",
    "\n",
    "<figcaption>Berechnung von <span\n",
    "class=\"math inline\"><em>g</em>(4)</span></figcaption>\n",
    "</figure>\n",
    "\n",
    "## Funktionen definieren und aufrufen\n",
    "\n",
    "Die Funktion $g$ steht gerade für die Umrechnung von Yard in Fuß. Wir\n",
    "wollen diese also in Kotlin (mit einem besser lesbaren Namen)\n",
    "implementieren. Dies ist folgendermaßen möglich:\n"
   ]
  },
  {
   "cell_type": "code",
   "id": "e459f83d",
   "metadata": {
    "ExecuteTime": {
     "end_time": "2024-08-21T07:08:13.898949015Z",
     "start_time": "2024-08-21T07:08:13.761175465Z"
    }
   },
   "source": [
    "fun yardToFeet(lengthInYard: Int): Int = 3 * lengthInYard"
   ],
   "outputs": [],
   "execution_count": 11
  },
  {
   "cell_type": "markdown",
   "id": "7f0ee533",
   "metadata": {},
   "source": [
    "\n",
    "<figure style=\"text-align:center;\">\n",
    "<img src=\"skizze_syntax_funktionen.svg\" style=\"width:40.0%; background-color:white;\" />\n",
    "\n",
    "\n",
    "<figcaption>Definition der Funktion <code\n",
    "class=\"sourceCode kotlin\">yardToFeet</code></figcaption>\n",
    "</figure>\n"
   ]
  },
  {
   "cell_type": "markdown",
   "id": "b4a231e6",
   "metadata": {},
   "source": [
    "\n",
    "Anschließend kann sie folgendermaßen im Code aufgerufen werden:"
   ]
  },
  {
   "cell_type": "code",
   "id": "30001985-761c-43a5-a9a1-3b1714ae2426",
   "metadata": {
    "ExecuteTime": {
     "end_time": "2024-08-21T07:08:14.003638297Z",
     "start_time": "2024-08-21T07:08:13.917584980Z"
    }
   },
   "source": [
    "yardToFeet(7)"
   ],
   "outputs": [
    {
     "data": {
      "text/plain": [
       "21"
      ]
     },
     "execution_count": 12,
     "metadata": {},
     "output_type": "execute_result"
    }
   ],
   "execution_count": 12
  },
  {
   "cell_type": "code",
   "id": "b8e7bfb9",
   "metadata": {
    "ExecuteTime": {
     "end_time": "2024-08-21T07:08:14.135129081Z",
     "start_time": "2024-08-21T07:08:14.027489715Z"
    }
   },
   "source": [
    "yardToFeet(19)"
   ],
   "outputs": [
    {
     "data": {
      "text/plain": [
       "57"
      ]
     },
     "execution_count": 13,
     "metadata": {},
     "output_type": "execute_result"
    }
   ],
   "execution_count": 13
  },
  {
   "cell_type": "markdown",
   "id": "fd1df232-8afb-40c2-843c-502cf3ce1240",
   "metadata": {},
   "source": [
    "1.  Eine Funktionsdefinition beginnt immer mit dem Schlüsselwort `fun`.\n",
    "\n",
    "2.  Dahinter steht der Name der Funktion (hier: `yardToFeet`). Für die Namen von Funktionen gelten dieselben Regeln wie für die\n",
    "Namen von Variablen.\n",
    "\n",
    "3.  Das `lengthInYard` in der runden Klammer ist ein Platzhalter\n",
    "    (*Parameter*) für einen konkreten Wert (Argument), der beim Aufruf\n",
    "    übergeben werden muss. Mit `: Int` wird angegeben, dass beim\n",
    "    Funktionsaufruf für diesen *Parameter* ein *Integer* übergeben\n",
    "    werden muss. Z.B. werden in den Funktionsaufrufen oben die *Integer*\n",
    "    `7` und `19` übergeben.\n",
    "\n",
    "4.  Auch hinter der schließenden runden Klammer steht `: Int`. Hiermit wird angegeben, dass der Rückgabewert der Funktion\n",
    "    immer ein *Integer* ist. \n",
    "\n",
    "5.  Jetzt folgt ein Gleichheitszeichen. Der Teil der Funktionsdefinition vor diesem Gleichheitszeichen wird *Funktionskopf*\n",
    "    genannt.\n",
    "\n",
    "6.  Dahinter folgt ein *Ausdruck*. Dieser kann den *Parameter* der\n",
    "    Funktion enthalten. Beim Funktionsaufruf wird dieser Parameter durch\n",
    "    den übergebenen *Wert* des *Arguments* ersetzt. Beim Aufruf von\n",
    "    `yardToFeet(7)` wird also in dem *Ausdruck* `3 * lengthInYard`\n",
    "    der *Parameter* `lengthInYard` durch den *Wert* `7` ersetzt. Der\n",
    "    *Ausdruck* `3 * 7` wird dann zu `21` ausgewertet und zurückgegeben.\n",
    "    Anders ausgedrückt, wird der *Ausdruck* `yardToFeet(7)` zu `21`\n",
    "    ausgewertet.\n",
    "\n",
    "\n",
    "## Syntaxfehler\n",
    "\n",
    "In großen Skripten kann es schnell schwer werden, Syntaxfehler zu\n",
    "finden.\n"
   ]
  },
  {
   "cell_type": "code",
   "id": "89531f76",
   "metadata": {
    "ExecuteTime": {
     "end_time": "2024-08-21T07:08:14.237724853Z",
     "start_time": "2024-08-21T07:08:14.190154134Z"
    }
   },
   "source": [
    "fun double(x: Int): Int = 2 * x\n",
    "    \n",
    "fun square(x: Int :Int = x * x"
   ],
   "outputs": [
    {
     "ename": "org.jetbrains.kotlinx.jupyter.exceptions.ReplCompilerException",
     "evalue": "Line_16.jupyter.kts (3:14 - 14) Type reference expected\nLine_16.jupyter.kts (3:31 - 31) Expecting comma or ')'\nLine_16.jupyter.kts (3:31 - 31) Expecting ')'",
     "output_type": "error",
     "traceback": [
      "org.jetbrains.kotlinx.jupyter.repl.impl.JupyterCompilerImpl.compileSync(JupyterCompilerImpl.kt:201)",
      "org.jetbrains.kotlinx.jupyter.repl.impl.InternalEvaluatorImpl.eval(InternalEvaluatorImpl.kt:126)",
      "org.jetbrains.kotlinx.jupyter.repl.impl.CellExecutorImpl$execute$1$result$1.invoke(CellExecutorImpl.kt:80)",
      "org.jetbrains.kotlinx.jupyter.repl.impl.CellExecutorImpl$execute$1$result$1.invoke(CellExecutorImpl.kt:78)",
      "org.jetbrains.kotlinx.jupyter.repl.impl.ReplForJupyterImpl.withHost(ReplForJupyterImpl.kt:762)",
      "org.jetbrains.kotlinx.jupyter.repl.impl.CellExecutorImpl.execute-L4Nmkdk(CellExecutorImpl.kt:78)",
      "org.jetbrains.kotlinx.jupyter.repl.execution.CellExecutor$DefaultImpls.execute-L4Nmkdk$default(CellExecutor.kt:13)",
      "org.jetbrains.kotlinx.jupyter.repl.impl.ReplForJupyterImpl.evaluateUserCode-wNURfNM(ReplForJupyterImpl.kt:585)",
      "org.jetbrains.kotlinx.jupyter.repl.impl.ReplForJupyterImpl.access$evaluateUserCode-wNURfNM(ReplForJupyterImpl.kt:138)",
      "org.jetbrains.kotlinx.jupyter.repl.impl.ReplForJupyterImpl$evalEx$1.invoke(ReplForJupyterImpl.kt:442)",
      "org.jetbrains.kotlinx.jupyter.repl.impl.ReplForJupyterImpl$evalEx$1.invoke(ReplForJupyterImpl.kt:439)",
      "org.jetbrains.kotlinx.jupyter.repl.impl.ReplForJupyterImpl.withEvalContext(ReplForJupyterImpl.kt:420)",
      "org.jetbrains.kotlinx.jupyter.repl.impl.ReplForJupyterImpl.evalEx(ReplForJupyterImpl.kt:439)",
      "org.jetbrains.kotlinx.jupyter.messaging.IdeCompatibleMessageRequestProcessor$processExecuteRequest$1$response$1$1.invoke(IdeCompatibleMessageRequestProcessor.kt:136)",
      "org.jetbrains.kotlinx.jupyter.messaging.IdeCompatibleMessageRequestProcessor$processExecuteRequest$1$response$1$1.invoke(IdeCompatibleMessageRequestProcessor.kt:135)",
      "org.jetbrains.kotlinx.jupyter.execution.JupyterExecutorImpl$Task.execute(JupyterExecutorImpl.kt:42)",
      "org.jetbrains.kotlinx.jupyter.execution.JupyterExecutorImpl$executorThread$1.invoke(JupyterExecutorImpl.kt:82)",
      "org.jetbrains.kotlinx.jupyter.execution.JupyterExecutorImpl$executorThread$1.invoke(JupyterExecutorImpl.kt:80)",
      "kotlin.concurrent.ThreadsKt$thread$thread$1.run(Thread.kt:30)"
     ]
    }
   ],
   "execution_count": 14
  },
  {
   "cell_type": "markdown",
   "id": "11ceeb97",
   "metadata": {},
   "source": [
    "\n",
    "Deshalb zeigt Kotlin beim Ausführen genau an, in welcher Zeile der Fehler aufgetreten ist. Danach wird angezeigt, an\n",
    "welcher Stelle welches Zeichen erwartet wurde.\n",
    "\n",
    "## Kommentare\n",
    "\n",
    "Hinter zwei Schrägstrichen (`//`) muss kein korrekter Kotlin-Code stehen."
   ]
  },
  {
   "cell_type": "code",
   "id": "4f604f0a",
   "metadata": {
    "ExecuteTime": {
     "end_time": "2024-08-21T07:08:50.073646799Z",
     "start_time": "2024-08-21T07:08:49.972654340Z"
    }
   },
   "source": [
    "// Umrechnung von Fuß in Zoll\n",
    "fun feetToInch(lengthInFeet: Int): Int = 12 * lengthInFeet"
   ],
   "outputs": [],
   "execution_count": 16
  },
  {
   "cell_type": "markdown",
   "id": "a537fb35",
   "metadata": {},
   "source": [
    "\n",
    "Dies kann genutzt werden, um den Code zu erklären und zu strukturieren.\n",
    "\n",
    "## Funktionsaufrufe und Ausdrücke\n",
    "\n",
    "Funktionsaufrufe können in *Ausdrücken* mit *Operatoren* und *Literalen*\n",
    "kombiniert werden."
   ]
  },
  {
   "cell_type": "code",
   "id": "c83aa71c-1328-411c-896b-7698f82e3d58",
   "metadata": {
    "ExecuteTime": {
     "end_time": "2024-08-21T07:08:52.369122241Z",
     "start_time": "2024-08-21T07:08:52.276395825Z"
    }
   },
   "source": [
    "12 * yardToFeet(7)"
   ],
   "outputs": [
    {
     "data": {
      "text/plain": [
       "252"
      ]
     },
     "execution_count": 17,
     "metadata": {},
     "output_type": "execute_result"
    }
   ],
   "execution_count": 17
  },
  {
   "cell_type": "markdown",
   "id": "74e22f28-9261-4689-88dc-7058a343e6c8",
   "metadata": {},
   "source": [
    "Als *Argument* einer Funktion muss nicht unbedingt ein *Literal*\n",
    "angegeben werden."
   ]
  },
  {
   "cell_type": "code",
   "id": "85450cf1-5b91-4dd4-baec-2506f90e2661",
   "metadata": {
    "ExecuteTime": {
     "end_time": "2024-08-21T07:08:54.726327435Z",
     "start_time": "2024-08-21T07:08:54.644425995Z"
    }
   },
   "source": [
    "yardToFeet(2 * 2)"
   ],
   "outputs": [
    {
     "data": {
      "text/plain": [
       "12"
      ]
     },
     "execution_count": 18,
     "metadata": {},
     "output_type": "execute_result"
    }
   ],
   "execution_count": 18
  },
  {
   "cell_type": "markdown",
   "id": "494860eb-b72e-43e2-bff8-bea40800972e",
   "metadata": {},
   "source": [
    "Vor dem Funktionsaufruf wird, das *Argument* `2 * 2` ausgewertet. Das\n",
    "Ergebnis `4` wird an die Funktion übergeben.\n",
    "\n",
    "## Funktionen kombinieren\n",
    "\n",
    "In einem *Ausdruck* können wir auch mehrere Funktionsaufrufe\n",
    "kombinieren. Z.B. können wir mit dem folgenden Aufruf $7$ Yard in Zoll\n",
    "umrechnen."
   ]
  },
  {
   "cell_type": "code",
   "id": "863399d2-19c3-4b27-8b26-1d290a1ff751",
   "metadata": {
    "ExecuteTime": {
     "end_time": "2024-08-21T07:08:58.179709982Z",
     "start_time": "2024-08-21T07:08:58.040709615Z"
    }
   },
   "source": [
    "feetToInch(yardToFeet(7))"
   ],
   "outputs": [
    {
     "data": {
      "text/plain": [
       "252"
      ]
     },
     "execution_count": 19,
     "metadata": {},
     "output_type": "execute_result"
    }
   ],
   "execution_count": 19
  },
  {
   "cell_type": "markdown",
   "id": "4acfbf1e-effe-472e-bd20-3899757e86a2",
   "metadata": {},
   "source": [
    "Die Auswertung kann folgendermaßen skizziert werden:\n",
    "\n",
    "<figure style=\"text-align:center\">\n",
    "<img src=\"verkettung_funktionen.svg\" style=\"width:35.0%; background-color:white;\" />\n",
    "\n",
    "<figcaption>Kombination von <code\n",
    "class=\"sourceCode kotlin\">yardToFeet</code> und <code\n",
    "class=\"sourceCode kotlin\">feetToInch</code> </figcaption>\n",
    "</figure>\n",
    "\n",
    "Zunächst wird `yardToFeet(7)` zu `21` ausgewertet. Dieses Ergebnis ist\n",
    "anschließend das *Argument* von `feetToInch`.\n",
    "\n",
    "## Funktionen in anderen Funktionen verwenden\n",
    "\n",
    "Diese Kombination von Funktionsaufrufen ist auch innerhalb von\n",
    "Funktionen nützlich. Wir können z.B. die Funktionen `yard_to_feet`\n",
    "`feet_to_inch` zu einer einzigen Funktion `yard_to_inch` kombinieren."
   ]
  },
  {
   "cell_type": "code",
   "id": "6adfef82",
   "metadata": {
    "ExecuteTime": {
     "end_time": "2024-08-21T07:09:01.237572020Z",
     "start_time": "2024-08-21T07:09:01.122700698Z"
    }
   },
   "source": [
    "fun yardToInch(lengthInYard: Int): Int = feetToInch(yardToFeet(lengthInYard))"
   ],
   "outputs": [],
   "execution_count": 20
  },
  {
   "cell_type": "code",
   "id": "e8bc625a-050e-442b-b247-aef754deb08f",
   "metadata": {
    "ExecuteTime": {
     "end_time": "2024-08-21T07:09:02.594092775Z",
     "start_time": "2024-08-21T07:09:02.491354567Z"
    }
   },
   "source": [
    "yardToInch(7)"
   ],
   "outputs": [
    {
     "data": {
      "text/plain": [
       "252"
      ]
     },
     "execution_count": 21,
     "metadata": {},
     "output_type": "execute_result"
    }
   ],
   "execution_count": 21
  },
  {
   "cell_type": "markdown",
   "id": "68a627ee",
   "metadata": {},
   "source": [
    "## Allgemeinere Schreibweise für Funktionen\n",
    "\n",
    "Die bisher genutzte Schreibweise für Funktionen ist zwar kurz und elegant. Es gibt aber Schreibweise mit der wir beliebige *Statements* in Funktionen verwenden können.\n",
    "Die *Statements* werden bei einem Funktionsaufruf von oben nach unter ausgeführt.\n",
    "\n",
    "\n",
    "Zunächst wollen wir mit der neuen Schreibweise nochmal die Funktion `yardToFeet` implementieren.\n",
    "\n",
    "\n",
    "<figure style=\"text-align:center;\">\n",
    "<img src=\"skizze_syntax_funktionen_2.svg\" style=\"width:40.0%; background-color:white;\" />\n",
    "\n",
    "\n",
    "<figcaption>Definition der Funktion <code\n",
    "class=\"sourceCode kotlin\">yardToFeet</code></figcaption>\n",
    "</figure>\n",
    "\n",
    "Der *Funktionskopf* wird genau so geschrieben, wie wir das oben gesehen haben. Danach folgen:\n",
    "\n",
    "1. Eine öffnende geschweifte Klammer. Dies gibt an, dass hier der *Funktionskörper* beginnt. Er enthält alle *Statements*, die zu der Funktion gehören. In diesem Fall ist das nur das *Statement* in der nächsten Zeile.\n",
    "\n",
    "2. Das Schlüsselwort `return`. Mit diesem wird angegeben, dass die Funktion den *Wert* des darauf folgenden *Ausdrucks* zurückgeben soll.\n",
    "\n",
    "3. Den *Ausdruck* haben wir bei der ersten Implementierung der Funktion schon gesehen. Wie dort gilt, dass *Parameter* durch den übergebenen *Wert* eines *Arguments* ersetzt werden.\n",
    "\n",
    "4. Eine schließende geschweifte Klammer bedeutet, dass hier der *Funktionskörper* endet. Alles, was darauf folgt, gehört **nicht** mehr zu der Funktion."
   ]
  },
  {
   "cell_type": "markdown",
   "id": "36c40c17-620b-4e33-a960-5577caed7f45",
   "metadata": {},
   "source": [
    "## Zuweisungsstatements in Funktionen\n",
    "\n",
    "Die Funktion im letzten Abschnitt enthält nur ein einziges\n",
    "`return`-*Statement*, mit dem angegeben wird, was die Funktion\n",
    "zurückgeben soll.\n",
    "\n",
    "Dies muss nicht so sein. Wir können mit der neuen Schreibweise in Funktionen beliebige andere\n",
    "*Statements* verwenden. Dafür schreiben wir diese ebenfalls in die geschweifte Klammern hinter dem Funktionskopf. \n",
    "\n",
    "In der folgenden\n",
    "Variante der Funktion `YardToInch` werden *Zuweisungsstatements* verwendet (Im Moment kennen wir nur *Zuweisungs*- und `return`-*Statements*).\n"
   ]
  },
  {
   "cell_type": "code",
   "id": "cabca810",
   "metadata": {
    "ExecuteTime": {
     "end_time": "2024-08-21T07:09:06.923886855Z",
     "start_time": "2024-08-21T07:09:06.783064349Z"
    }
   },
   "source": [
    "fun yardToInch(lengthInYard: Int): Int {\n",
    "    val lengthInFeet = yardToFeet(lengthInYard)\n",
    "    val lengthInInch = feetToInch(lengthInFeet)\n",
    "    return lengthInInch\n",
    "}"
   ],
   "outputs": [],
   "execution_count": 23
  },
  {
   "cell_type": "markdown",
   "id": "6f5c9f26",
   "metadata": {},
   "source": [
    "\n",
    "Um sich die Auswertung dieser Funktion vorzustellen, ist es sinnvoll die\n",
    "*Parameter* als *lokale Variablen* zu sehen, die schon vor dem Ausführen\n",
    "der *Statements* in der Funktion definiert sind. Beim folgenden\n",
    "Funktionsaufruf"
   ]
  },
  {
   "cell_type": "code",
   "id": "309cf75f-dec9-4b75-ac23-153ba758f613",
   "metadata": {
    "ExecuteTime": {
     "end_time": "2024-08-21T07:09:14.388247751Z",
     "start_time": "2024-08-21T07:09:14.299641441Z"
    }
   },
   "source": [
    "yardToInch(2)"
   ],
   "outputs": [
    {
     "data": {
      "text/plain": [
       "72"
      ]
     },
     "execution_count": 25,
     "metadata": {},
     "output_type": "execute_result"
    }
   ],
   "execution_count": 25
  },
  {
   "cell_type": "markdown",
   "id": "5dafd605-363d-4fa6-83f7-2827830501c7",
   "metadata": {},
   "source": [
    "gibt es **bevor** die erste Zeile im *Funktionskörper* ausgeführt wurde\n",
    "die folgenden *Variablen*:\n",
    "\n",
    "| Name           | Wert |\n",
    "|:---------------|-----:|\n",
    "| `lengthInYard` |    2 |\n",
    "\n",
    "Nachdem die beiden ersten Statements im *Funktionskörper* ausgeführt\n",
    "wurden, gibt es die folgenden *Variablen*:\n",
    "\n",
    "| Name           | Wert |\n",
    "|:---------------|-----:|\n",
    "| `lengthInYard` |    2 |\n",
    "| `lengthInFeet` |    6 |\n",
    "| `lengthInInch` |   72 |\n",
    "\n",
    "In der letzten Zeile muss dann lediglich der *Wert* der *Variable*\n",
    "`lengthInInch` zurückgegeben werden.\n",
    "\n",
    "## Geltungsbereiche\n",
    "\n",
    "Wenn eine *Variable* in einer Funktion *initialisiert* wird, kann diese\n",
    "nicht von außen verwendet werden. Man spricht in diesem Fall von einer\n",
    "*lokalen Variablen* im Unterschied zu einer *globalen Variablen*."
   ]
  },
  {
   "cell_type": "code",
   "id": "a998c255-ced2-45ac-b4ff-57e6fc9f5dd9",
   "metadata": {
    "ExecuteTime": {
     "end_time": "2024-08-21T07:09:14.711435738Z",
     "start_time": "2024-08-21T07:09:14.510715002Z"
    }
   },
   "source": [
    "yardToInch(2)\n",
    "lengthInFeet"
   ],
   "outputs": [
    {
     "ename": "org.jetbrains.kotlinx.jupyter.exceptions.ReplCompilerException",
     "evalue": "Line_28.jupyter.kts (2:1 - 13) Unresolved reference: lengthInFeet",
     "output_type": "error",
     "traceback": [
      "org.jetbrains.kotlinx.jupyter.repl.impl.JupyterCompilerImpl.compileSync(JupyterCompilerImpl.kt:201)",
      "org.jetbrains.kotlinx.jupyter.repl.impl.InternalEvaluatorImpl.eval(InternalEvaluatorImpl.kt:126)",
      "org.jetbrains.kotlinx.jupyter.repl.impl.CellExecutorImpl$execute$1$result$1.invoke(CellExecutorImpl.kt:80)",
      "org.jetbrains.kotlinx.jupyter.repl.impl.CellExecutorImpl$execute$1$result$1.invoke(CellExecutorImpl.kt:78)",
      "org.jetbrains.kotlinx.jupyter.repl.impl.ReplForJupyterImpl.withHost(ReplForJupyterImpl.kt:762)",
      "org.jetbrains.kotlinx.jupyter.repl.impl.CellExecutorImpl.execute-L4Nmkdk(CellExecutorImpl.kt:78)",
      "org.jetbrains.kotlinx.jupyter.repl.execution.CellExecutor$DefaultImpls.execute-L4Nmkdk$default(CellExecutor.kt:13)",
      "org.jetbrains.kotlinx.jupyter.repl.impl.ReplForJupyterImpl.evaluateUserCode-wNURfNM(ReplForJupyterImpl.kt:585)",
      "org.jetbrains.kotlinx.jupyter.repl.impl.ReplForJupyterImpl.access$evaluateUserCode-wNURfNM(ReplForJupyterImpl.kt:138)",
      "org.jetbrains.kotlinx.jupyter.repl.impl.ReplForJupyterImpl$evalEx$1.invoke(ReplForJupyterImpl.kt:442)",
      "org.jetbrains.kotlinx.jupyter.repl.impl.ReplForJupyterImpl$evalEx$1.invoke(ReplForJupyterImpl.kt:439)",
      "org.jetbrains.kotlinx.jupyter.repl.impl.ReplForJupyterImpl.withEvalContext(ReplForJupyterImpl.kt:420)",
      "org.jetbrains.kotlinx.jupyter.repl.impl.ReplForJupyterImpl.evalEx(ReplForJupyterImpl.kt:439)",
      "org.jetbrains.kotlinx.jupyter.messaging.IdeCompatibleMessageRequestProcessor$processExecuteRequest$1$response$1$1.invoke(IdeCompatibleMessageRequestProcessor.kt:136)",
      "org.jetbrains.kotlinx.jupyter.messaging.IdeCompatibleMessageRequestProcessor$processExecuteRequest$1$response$1$1.invoke(IdeCompatibleMessageRequestProcessor.kt:135)",
      "org.jetbrains.kotlinx.jupyter.execution.JupyterExecutorImpl$Task.execute(JupyterExecutorImpl.kt:42)",
      "org.jetbrains.kotlinx.jupyter.execution.JupyterExecutorImpl$executorThread$1.invoke(JupyterExecutorImpl.kt:82)",
      "org.jetbrains.kotlinx.jupyter.execution.JupyterExecutorImpl$executorThread$1.invoke(JupyterExecutorImpl.kt:80)",
      "kotlin.concurrent.ThreadsKt$thread$thread$1.run(Thread.kt:30)"
     ]
    }
   ],
   "execution_count": 26
  },
  {
   "cell_type": "markdown",
   "id": "969e9a06-1902-4864-93ba-65b3df003409",
   "metadata": {},
   "source": [
    "Es ist aber möglich, eine *Variable*, die außerhalb einer Funktion\n",
    "definiert wurde, in dieser Funktion zu verwenden."
   ]
  },
  {
   "cell_type": "code",
   "id": "e35eda32",
   "metadata": {
    "ExecuteTime": {
     "end_time": "2024-08-21T07:09:24.886172601Z",
     "start_time": "2024-08-21T07:09:24.686882225Z"
    }
   },
   "source": [
    "val yardToFeetRatio = 3\n",
    "\n",
    "fun yardToFeet(lengthInYard: Int): Int {\n",
    "    return yardToFeetRatio * lengthInYard\n",
    "}"
   ],
   "outputs": [],
   "execution_count": 27
  },
  {
   "cell_type": "code",
   "id": "e4335515-23c5-4d75-b53b-6d2987736b83",
   "metadata": {
    "ExecuteTime": {
     "end_time": "2024-08-21T07:09:24.977442760Z",
     "start_time": "2024-08-21T07:09:24.903207422Z"
    }
   },
   "source": [
    "yardToFeet(3)"
   ],
   "outputs": [
    {
     "data": {
      "text/plain": [
       "9"
      ]
     },
     "execution_count": 28,
     "metadata": {},
     "output_type": "execute_result"
    }
   ],
   "execution_count": 28
  },
  {
   "cell_type": "markdown",
   "id": "0925cfc1-d84d-4971-91e3-0bd1ceb25732",
   "metadata": {},
   "source": [
    "Generell gilt, dass *Variablen*, die innerhalb eines Blocks in geschweiften Klammern (z.B. hier\n",
    "dem Funktionskörper) definiert wurden, nur in diesem und nicht außerhalb\n",
    "verwendet werden. Wir werden solche Blöcke noch bei der *bedingten\n",
    "Ausführung* und bei *Schleifen* kennenlernen.\n",
    "\n",
    "\n",
    "## Shadowing\n",
    "\n",
    "Wir können in einer Funktion <a name=\"cite_ref-1\"></a>[<sup>[1]</sup>](#cite_note-1) eine *lokale Variable* mit einem Namen, der schon für eine *globale Variable* genutzt wird, initialisieren. In der Funktion kann die *globale Variable* danach nicht mehr verwendet werden, da die *lokale Variable* diese verdeckt (verschattet).\n"
   ]
  },
  {
   "cell_type": "code",
   "id": "3a6fbdbf",
   "metadata": {
    "ExecuteTime": {
     "end_time": "2024-08-21T07:09:25.142225078Z",
     "start_time": "2024-08-21T07:09:24.997499475Z"
    }
   },
   "source": [
    "val x = 3\n",
    "\n",
    "fun shadow(a: Int): Int{\n",
    "    val x = 4\n",
    "    return x * a\n",
    "}\n",
    "shadow(3)"
   ],
   "outputs": [
    {
     "data": {
      "text/plain": [
       "12"
      ]
     },
     "execution_count": 29,
     "metadata": {},
     "output_type": "execute_result"
    }
   ],
   "execution_count": 29
  },
  {
   "cell_type": "markdown",
   "id": "ef75c938",
   "metadata": {},
   "source": [
    "\n",
    "Die globale *Variable* wird dadurch nicht geändert.\n"
   ]
  },
  {
   "cell_type": "code",
   "id": "41880d15",
   "metadata": {
    "ExecuteTime": {
     "end_time": "2024-08-21T07:09:25.254658884Z",
     "start_time": "2024-08-21T07:09:25.157769645Z"
    }
   },
   "source": [
    "x"
   ],
   "outputs": [
    {
     "data": {
      "text/plain": [
       "3"
      ]
     },
     "execution_count": 30,
     "metadata": {},
     "output_type": "execute_result"
    }
   ],
   "execution_count": 30
  },
  {
   "metadata": {},
   "cell_type": "markdown",
   "source": "Weil *Parameter* auch lokale *Variablen* sind, kann *Shadowing* auch beobachtet werden, wenn der Name eines *Parameters* und der Name einer *globalen Variable* übereinstimmen.\n",
   "id": "1c07e3e03cd8d31"
  },
  {
   "metadata": {
    "ExecuteTime": {
     "end_time": "2024-08-23T18:14:53.444358453Z",
     "start_time": "2024-08-23T18:14:53.310713669Z"
    }
   },
   "cell_type": "code",
   "source": [
    "val x = 3\n",
    "fun f(x: Int): Int = 2 * x\n",
    "f(5)"
   ],
   "id": "f168c4f7153d81c9",
   "outputs": [
    {
     "data": {
      "text/plain": [
       "10"
      ]
     },
     "execution_count": 2,
     "metadata": {},
     "output_type": "execute_result"
    }
   ],
   "execution_count": 2
  },
  {
   "metadata": {},
   "cell_type": "markdown",
   "source": "Bei diesem Aufruf überdeckt die lokale Variable `x` mit dem *Wert* $5$ die *globale Variable* `x` mit dem *Wert* 3.",
   "id": "6ddcc33c77bd5331"
  },
  {
   "cell_type": "markdown",
   "id": "6dc61bbe",
   "metadata": {},
   "source": [
    "\n",
    "## Funktionen prüfen\n",
    "\n",
    "Bisher haben wir, um zu sehen, ob eine Funktion korrekt arbeitet, diese\n",
    "in der Shell aufgerufen und selbst geprüft, ob ein korrektes Ergebnis berechnet wurde. Dafür gibt es eine bessere Alternative.\n",
    "Dafür benötigen wir die Funktion `assertEquals`. Diese muss zunächst importiert werden."
   ]
  },
  {
   "metadata": {
    "ExecuteTime": {
     "end_time": "2024-08-21T07:49:18.481284580Z",
     "start_time": "2024-08-21T07:49:18.361910410Z"
    }
   },
   "cell_type": "code",
   "source": "import kotlin.test.assertEquals",
   "id": "51ceb6801606bc2b",
   "outputs": [],
   "execution_count": 1
  },
  {
   "metadata": {},
   "cell_type": "markdown",
   "source": [
    "Der *Rückgabewert* der Funktion ist immer der *Wert* `Unit`. Dieser *Wert* enthält keine Information. Die Funktion ist nützlich, weil sie in manchen Fällen das Programm dadurch unterbricht und einen Fehler anzeigt.\n",
    "\n",
    "Dieser Funktion werden zwei *Argumente* übergeben. Wenn beide gleich sind, passiert nichts. "
   ],
   "id": "ef8ca6e53e873146"
  },
  {
   "cell_type": "code",
   "id": "4e379c3c-b1cb-4f76-a5be-1aa9b696a486",
   "metadata": {
    "ExecuteTime": {
     "end_time": "2024-08-21T07:49:23.079405434Z",
     "start_time": "2024-08-21T07:49:22.846333472Z"
    }
   },
   "source": "assertEquals(4, 4)",
   "outputs": [],
   "execution_count": 2
  },
  {
   "metadata": {},
   "cell_type": "markdown",
   "source": [
    "<figure style=\"text-align:center;\">\n",
    "<img src=\"funktionsaufruf_assertEqual_4_4.svg\" style=\"width:30.0%; background-color:white;\" />\n",
    "\n",
    "\n",
    "<figcaption>Funktionsaufruf <code\n",
    "class=\"sourceCode kotlin\">assertEquals(4, 4)</code></figcaption>\n",
    "</figure>\n",
    "\n",
    "Wenn dies nicht der Fall ist, wird ein `AssertionError` angezeigt. "
   ],
   "id": "c4647a49-e130-49a2-893a-8df88afb9428"
  },
  {
   "metadata": {
    "ExecuteTime": {
     "end_time": "2024-08-21T07:09:25.509766053Z",
     "start_time": "2024-08-21T07:09:25.433455868Z"
    }
   },
   "cell_type": "code",
   "source": "assertEquals(3, 4)",
   "id": "19ec554af8d2498a",
   "outputs": [
    {
     "ename": "java.lang.AssertionError",
     "evalue": "expected:<3> but was:<4>",
     "output_type": "error",
     "traceback": [
      "java.lang.AssertionError: expected:<3> but was:<4>",
      "\tat org.junit.Assert.fail(Assert.java:89)",
      "\tat org.junit.Assert.failNotEquals(Assert.java:835)",
      "\tat org.junit.Assert.assertEquals(Assert.java:120)",
      "\tat kotlin.test.junit.JUnitAsserter.assertEquals(JUnitSupport.kt:32)",
      "\tat kotlin.test.AssertionsKt__AssertionsKt.assertEquals(Assertions.kt:63)",
      "\tat kotlin.test.AssertionsKt.assertEquals(Unknown Source)",
      "\tat kotlin.test.AssertionsKt__AssertionsKt.assertEquals$default(Assertions.kt:62)",
      "\tat kotlin.test.AssertionsKt.assertEquals$default(Unknown Source)",
      "\tat Line_35_jupyter.<init>(Line_35.jupyter.kts:1) at Cell In[33], line 1",
      "\tat java.base/jdk.internal.reflect.DirectConstructorHandleAccessor.newInstance(DirectConstructorHandleAccessor.java:62)",
      "\tat java.base/java.lang.reflect.Constructor.newInstanceWithCaller(Constructor.java:502)",
      "\tat java.base/java.lang.reflect.Constructor.newInstance(Constructor.java:486)",
      "\tat kotlin.script.experimental.jvm.BasicJvmScriptEvaluator.evalWithConfigAndOtherScriptsResults(BasicJvmScriptEvaluator.kt:122)",
      "\tat kotlin.script.experimental.jvm.BasicJvmScriptEvaluator.invoke$suspendImpl(BasicJvmScriptEvaluator.kt:48)",
      "\tat kotlin.script.experimental.jvm.BasicJvmScriptEvaluator.invoke(BasicJvmScriptEvaluator.kt)",
      "\tat kotlin.script.experimental.jvm.BasicJvmReplEvaluator.eval(BasicJvmReplEvaluator.kt:49)",
      "\tat org.jetbrains.kotlinx.jupyter.repl.impl.InternalEvaluatorImpl$eval$resultWithDiagnostics$1.invokeSuspend(InternalEvaluatorImpl.kt:133)",
      "\tat kotlin.coroutines.jvm.internal.BaseContinuationImpl.resumeWith(ContinuationImpl.kt:33)",
      "\tat kotlinx.coroutines.DispatchedTask.run(DispatchedTask.kt:104)",
      "\tat kotlinx.coroutines.EventLoopImplBase.processNextEvent(EventLoop.common.kt:277)",
      "\tat kotlinx.coroutines.BlockingCoroutine.joinBlocking(Builders.kt:95)",
      "\tat kotlinx.coroutines.BuildersKt__BuildersKt.runBlocking(Builders.kt:69)",
      "\tat kotlinx.coroutines.BuildersKt.runBlocking(Unknown Source)",
      "\tat kotlinx.coroutines.BuildersKt__BuildersKt.runBlocking$default(Builders.kt:48)",
      "\tat kotlinx.coroutines.BuildersKt.runBlocking$default(Unknown Source)",
      "\tat org.jetbrains.kotlinx.jupyter.repl.impl.InternalEvaluatorImpl.eval(InternalEvaluatorImpl.kt:133)",
      "\tat org.jetbrains.kotlinx.jupyter.repl.impl.CellExecutorImpl$execute$1$result$1.invoke(CellExecutorImpl.kt:80)",
      "\tat org.jetbrains.kotlinx.jupyter.repl.impl.CellExecutorImpl$execute$1$result$1.invoke(CellExecutorImpl.kt:78)",
      "\tat org.jetbrains.kotlinx.jupyter.repl.impl.ReplForJupyterImpl.withHost(ReplForJupyterImpl.kt:762)",
      "\tat org.jetbrains.kotlinx.jupyter.repl.impl.CellExecutorImpl.execute-L4Nmkdk(CellExecutorImpl.kt:78)",
      "\tat org.jetbrains.kotlinx.jupyter.repl.execution.CellExecutor$DefaultImpls.execute-L4Nmkdk$default(CellExecutor.kt:13)",
      "\tat org.jetbrains.kotlinx.jupyter.repl.impl.ReplForJupyterImpl.evaluateUserCode-wNURfNM(ReplForJupyterImpl.kt:585)",
      "\tat org.jetbrains.kotlinx.jupyter.repl.impl.ReplForJupyterImpl.access$evaluateUserCode-wNURfNM(ReplForJupyterImpl.kt:138)",
      "\tat org.jetbrains.kotlinx.jupyter.repl.impl.ReplForJupyterImpl$evalEx$1.invoke(ReplForJupyterImpl.kt:442)",
      "\tat org.jetbrains.kotlinx.jupyter.repl.impl.ReplForJupyterImpl$evalEx$1.invoke(ReplForJupyterImpl.kt:439)",
      "\tat org.jetbrains.kotlinx.jupyter.repl.impl.ReplForJupyterImpl.withEvalContext(ReplForJupyterImpl.kt:420)",
      "\tat org.jetbrains.kotlinx.jupyter.repl.impl.ReplForJupyterImpl.evalEx(ReplForJupyterImpl.kt:439)",
      "\tat org.jetbrains.kotlinx.jupyter.messaging.IdeCompatibleMessageRequestProcessor$processExecuteRequest$1$response$1$1.invoke(IdeCompatibleMessageRequestProcessor.kt:136)",
      "\tat org.jetbrains.kotlinx.jupyter.messaging.IdeCompatibleMessageRequestProcessor$processExecuteRequest$1$response$1$1.invoke(IdeCompatibleMessageRequestProcessor.kt:135)",
      "\tat org.jetbrains.kotlinx.jupyter.execution.JupyterExecutorImpl$Task.execute(JupyterExecutorImpl.kt:42)",
      "\tat org.jetbrains.kotlinx.jupyter.execution.JupyterExecutorImpl$executorThread$1.invoke(JupyterExecutorImpl.kt:82)",
      "\tat org.jetbrains.kotlinx.jupyter.execution.JupyterExecutorImpl$executorThread$1.invoke(JupyterExecutorImpl.kt:80)",
      "\tat kotlin.concurrent.ThreadsKt$thread$thread$1.run(Thread.kt:30)",
      "",
      "java.lang.AssertionError: expected:<3> but was:<4>",
      "at Cell In[33], line 1",
      ""
     ]
    }
   ],
   "execution_count": 33
  },
  {
   "metadata": {},
   "cell_type": "markdown",
   "source": [
    "<figure style=\"text-align:center;\">\n",
    "<img src=\"funktionsaufruf_assertEqual_3_4.svg\" style=\"width:30.0%; background-color:white;\" />\n",
    "\n",
    "\n",
    "<figcaption>Funktionsaufruf <code\n",
    "class=\"sourceCode kotlin\">assertEquals(3, 4)</code></figcaption>\n",
    "</figure>\n",
    "\n",
    "In diesem werden wir informiert, dass anstatt des zweiten *Werts* nochmal der erste *Wert* erwartet worden wäre. Dies können wir nutzen um zu prüfen, ob eine Funktion für einen bestimmten *Input* den richtigen *Output* berechnet. "
   ],
   "id": "cf61daa2a692268d"
  },
  {
   "metadata": {
    "ExecuteTime": {
     "end_time": "2024-08-21T07:09:35.093185522Z",
     "start_time": "2024-08-21T07:09:34.953154016Z"
    }
   },
   "cell_type": "code",
   "source": [
    "assertEquals(72, yardToInch(2))\n",
    "assertEquals(108, yardToInch(3))"
   ],
   "id": "9a47940bb1d8482b",
   "outputs": [],
   "execution_count": 34
  },
  {
   "cell_type": "markdown",
   "id": "75d49478-c590-4197-92db-bae33711b159",
   "metadata": {},
   "source": [
    "Es ist sinnvoll, solche Überprüfungen selbst in eine Funktion\n",
    "auszulagern."
   ]
  },
  {
   "cell_type": "code",
   "id": "f6d439a2",
   "metadata": {
    "ExecuteTime": {
     "end_time": "2024-08-21T07:11:19.613619035Z",
     "start_time": "2024-08-21T07:11:19.476551860Z"
    }
   },
   "source": [
    "fun testYardToInch(): Unit {\n",
    "    assertEquals(36, yardToInch(1))\n",
    "    assertEquals(72, yardToInch(2))\n",
    "    assertEquals(108, yardToInch(3))\n",
    "}"
   ],
   "outputs": [],
   "execution_count": 38
  },
  {
   "cell_type": "code",
   "id": "8b01225b-b6fa-4711-a604-659e1efcefb5",
   "metadata": {
    "ExecuteTime": {
     "end_time": "2024-08-21T07:11:21.727662407Z",
     "start_time": "2024-08-21T07:11:21.657368141Z"
    }
   },
   "source": [
    "testTardToInch()"
   ],
   "outputs": [],
   "execution_count": 39
  },
  {
   "cell_type": "markdown",
   "id": "48305245-bf34-4660-9460-6092b26ff0a4",
   "metadata": {},
   "source": [
    "Da hier kein `AssertionError` angezeigt wurde, hat die Funktion den Test\n",
    "bestanden.\n",
    "\n",
    "## Funktionen mit mehreren Parametern\n",
    "\n",
    "Funktionen können auch mehrere oder gar keine *Parameter* haben. Die\n",
    "*Parameter* stehen in den runden Klammern hinter dem Funktionsnamen.\n",
    "Zwischen zwei *Parameter* schreibt man ein Komma.\n"
   ]
  },
  {
   "cell_type": "code",
   "id": "217cfd70",
   "metadata": {
    "ExecuteTime": {
     "end_time": "2024-08-21T07:11:29.101125137Z",
     "start_time": "2024-08-21T07:11:29.019338985Z"
    }
   },
   "source": [
    "fun constantZero(): Int = 0"
   ],
   "outputs": [],
   "execution_count": 40
  },
  {
   "cell_type": "code",
   "id": "8841bb8d",
   "metadata": {
    "ExecuteTime": {
     "end_time": "2024-08-21T07:11:29.318319315Z",
     "start_time": "2024-08-21T07:11:29.183623623Z"
    }
   },
   "source": [
    "fun sumOfSquares(pA: Int, pB: Int): Int = pA * pA + pB * pB"
   ],
   "outputs": [],
   "execution_count": 41
  },
  {
   "cell_type": "markdown",
   "id": "b2df1620",
   "metadata": {},
   "source": [
    "\n",
    "Beim Aufruf der Funktion muss dann die entsprechende Anzahl an\n",
    "*Argumenten* in Klammern übergeben werden. Auch die *Argumente* werden\n",
    "durch Kommas voneinander getrennt."
   ]
  },
  {
   "cell_type": "code",
   "id": "2ea8c2ba-a413-4c57-a8e0-e6eb9927b3d2",
   "metadata": {
    "ExecuteTime": {
     "end_time": "2024-08-21T07:11:29.505097336Z",
     "start_time": "2024-08-21T07:11:29.393746966Z"
    }
   },
   "source": [
    "constantZero()"
   ],
   "outputs": [
    {
     "data": {
      "text/plain": [
       "0"
      ]
     },
     "execution_count": 42,
     "metadata": {},
     "output_type": "execute_result"
    }
   ],
   "execution_count": 42
  },
  {
   "cell_type": "code",
   "id": "6b7bff84",
   "metadata": {
    "ExecuteTime": {
     "end_time": "2024-08-21T07:11:29.622770238Z",
     "start_time": "2024-08-21T07:11:29.532911053Z"
    }
   },
   "source": [
    "sumOfSquares(2, 3)"
   ],
   "outputs": [
    {
     "data": {
      "text/plain": [
       "13"
      ]
     },
     "execution_count": 43,
     "metadata": {},
     "output_type": "execute_result"
    }
   ],
   "execution_count": 43
  },
  {
   "metadata": {},
   "cell_type": "markdown",
   "source": [
    "## Kleine Warnung\n",
    "\n",
    "Wir haben hier mehrfach denselben Namen für eine Funktion verwendet. In normalen Programmen wird das nicht mehr möglich sein."
   ],
   "id": "81e17af66c029b15"
  },
  {
   "cell_type": "markdown",
   "id": "2f07a0cc",
   "metadata": {},
   "source": "<a name=\"cite_note-1\"></a>1. [^](#cite_ref-1) oder einem anderen Block in geschweiften Klammern"
  },
  {
   "metadata": {},
   "cell_type": "markdown",
   "source": "",
   "id": "c7e5446fef4ac758"
  }
 ],
 "metadata": {
  "kernelspec": {
   "display_name": "Kotlin",
   "language": "kotlin",
   "name": "kotlin"
  },
  "language_info": {
   "codemirror_mode": "text/x-kotlin",
   "file_extension": ".kt",
   "mimetype": "text/x-kotlin",
   "name": "kotlin",
   "nbconvert_exporter": "",
   "pygments_lexer": "kotlin",
   "version": "1.9.23"
  }
 },
 "nbformat": 4,
 "nbformat_minor": 5
}
