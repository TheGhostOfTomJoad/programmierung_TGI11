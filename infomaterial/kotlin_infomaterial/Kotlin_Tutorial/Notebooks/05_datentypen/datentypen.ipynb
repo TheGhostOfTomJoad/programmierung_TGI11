{
 "cells": [
  {
   "cell_type": "markdown",
   "id": "757d3126-5d6b-4558-ab97-330ab3695f10",
   "metadata": {},
   "source": [
    "# Typen\n",
    "\n",
    "## Einteilung von Werten in Typen\n",
    "\n",
    "Wir haben mit *Integern* und *Strings* zwei verschiedene Arten von\n",
    "*Werten* kennengelernt und gesehen, dass mit verschieden Arten von\n",
    "*Werten* unterschiedliche *Operationen* durchgeführt werden können. Eine\n",
    "solche Menge von *Werten*, die bestimmte *Operationen* unterstützen,\n",
    "nennt man *(Daten-)Typ*. Die *Typen*, die wir in diesem Schuljahr kennenlernen werden, sind in der folgenden Abbildung dargestellt.\n",
    "\n",
    "<figure id=\"fig:Typen\" style=\"text-align:center\">\n",
    "<img src=\"datentypen_grafik.svg\" style=\"width:35.0%; background-color:white;\" />\n",
    "\n",
    "<figcaption>Die wichtigsten <em>(Daten-)Typen</em> in\n",
    "Kotlin</figcaption>\n",
    "</figure>\n",
    "\n",
    "`String` steht für *String* und `Int` für *Integer*. Die Abkürzung `Int`\n",
    "haben wir schon genutzt um zu kennzeichnen, dass die *Argumente* und der\n",
    "Rückgabewert einer Funktion *Integer* sind. Die weiteren *Typen* werden\n",
    "wir in den folgenden Kapiteln kennenlernen.\n",
    "\n",
    "## Typfehler\n",
    "\n",
    "*Operation* sind immer nur für bestimmte Kombinationen von *Typen*\n",
    "definiert. Wir haben schon gesehen, dass man einen zwei *Strings* oder zwei *Integer* \n",
    " miteinander addieren kann."
   ]
  },
  {
   "cell_type": "code",
   "id": "44a0ca8f",
   "metadata": {
    "ExecuteTime": {
     "end_time": "2024-08-19T15:01:25.971314006Z",
     "start_time": "2024-08-19T15:01:25.838877028Z"
    }
   },
   "source": [
    "1 + 2"
   ],
   "outputs": [
    {
     "data": {
      "text/plain": [
       "3"
      ]
     },
     "execution_count": 1,
     "metadata": {},
     "output_type": "execute_result"
    }
   ],
   "execution_count": 1
  },
  {
   "cell_type": "code",
   "id": "3cd0d2e2",
   "metadata": {
    "ExecuteTime": {
     "end_time": "2024-08-19T15:01:26.277648797Z",
     "start_time": "2024-08-19T15:01:26.069982053Z"
    }
   },
   "source": [
    "\"1\" + \"2\""
   ],
   "outputs": [
    {
     "data": {
      "text/plain": [
       "12"
      ]
     },
     "execution_count": 2,
     "metadata": {},
     "output_type": "execute_result"
    }
   ],
   "execution_count": 2
  },
  {
   "cell_type": "markdown",
   "id": "3783a75c-f64c-4951-9a6c-f71f3c9a9f62",
   "metadata": {},
   "source": [
    "Wir können aber nicht einen *String* und ein *Integer* addieren."
   ]
  },
  {
   "cell_type": "code",
   "id": "7ac4bb68-6d3f-4770-884a-7ced39826c31",
   "metadata": {
    "ExecuteTime": {
     "end_time": "2024-08-19T15:09:28.927902586Z",
     "start_time": "2024-08-19T15:09:28.809819435Z"
    }
   },
   "source": [
    "1 + \"2\""
   ],
   "outputs": [
    {
     "ename": "org.jetbrains.kotlinx.jupyter.exceptions.ReplCompilerException",
     "evalue": "Line_10.jupyter.kts (1:3 - 4) None of the following functions can be called with the arguments supplied: \npublic final operator fun plus(other: Byte): Int defined in kotlin.Int\npublic final operator fun plus(other: Double): Double defined in kotlin.Int\npublic final operator fun plus(other: Float): Float defined in kotlin.Int\npublic final operator fun plus(other: Int): Int defined in kotlin.Int\npublic final operator fun plus(other: Long): Long defined in kotlin.Int\npublic final operator fun plus(other: Short): Int defined in kotlin.Int",
     "output_type": "error",
     "traceback": [
      "org.jetbrains.kotlinx.jupyter.repl.impl.JupyterCompilerImpl.compileSync(JupyterCompilerImpl.kt:201)",
      "org.jetbrains.kotlinx.jupyter.repl.impl.InternalEvaluatorImpl.eval(InternalEvaluatorImpl.kt:126)",
      "org.jetbrains.kotlinx.jupyter.repl.impl.CellExecutorImpl$execute$1$result$1.invoke(CellExecutorImpl.kt:80)",
      "org.jetbrains.kotlinx.jupyter.repl.impl.CellExecutorImpl$execute$1$result$1.invoke(CellExecutorImpl.kt:78)",
      "org.jetbrains.kotlinx.jupyter.repl.impl.ReplForJupyterImpl.withHost(ReplForJupyterImpl.kt:762)",
      "org.jetbrains.kotlinx.jupyter.repl.impl.CellExecutorImpl.execute-L4Nmkdk(CellExecutorImpl.kt:78)",
      "org.jetbrains.kotlinx.jupyter.repl.execution.CellExecutor$DefaultImpls.execute-L4Nmkdk$default(CellExecutor.kt:13)",
      "org.jetbrains.kotlinx.jupyter.repl.impl.ReplForJupyterImpl.evaluateUserCode-wNURfNM(ReplForJupyterImpl.kt:585)",
      "org.jetbrains.kotlinx.jupyter.repl.impl.ReplForJupyterImpl.access$evaluateUserCode-wNURfNM(ReplForJupyterImpl.kt:138)",
      "org.jetbrains.kotlinx.jupyter.repl.impl.ReplForJupyterImpl$evalEx$1.invoke(ReplForJupyterImpl.kt:442)",
      "org.jetbrains.kotlinx.jupyter.repl.impl.ReplForJupyterImpl$evalEx$1.invoke(ReplForJupyterImpl.kt:439)",
      "org.jetbrains.kotlinx.jupyter.repl.impl.ReplForJupyterImpl.withEvalContext(ReplForJupyterImpl.kt:420)",
      "org.jetbrains.kotlinx.jupyter.repl.impl.ReplForJupyterImpl.evalEx(ReplForJupyterImpl.kt:439)",
      "org.jetbrains.kotlinx.jupyter.messaging.IdeCompatibleMessageRequestProcessor$processExecuteRequest$1$response$1$1.invoke(IdeCompatibleMessageRequestProcessor.kt:136)",
      "org.jetbrains.kotlinx.jupyter.messaging.IdeCompatibleMessageRequestProcessor$processExecuteRequest$1$response$1$1.invoke(IdeCompatibleMessageRequestProcessor.kt:135)",
      "org.jetbrains.kotlinx.jupyter.execution.JupyterExecutorImpl$Task.execute(JupyterExecutorImpl.kt:42)",
      "org.jetbrains.kotlinx.jupyter.execution.JupyterExecutorImpl$executorThread$1.invoke(JupyterExecutorImpl.kt:82)",
      "org.jetbrains.kotlinx.jupyter.execution.JupyterExecutorImpl$executorThread$1.invoke(JupyterExecutorImpl.kt:80)",
      "kotlin.concurrent.ThreadsKt$thread$thread$1.run(Thread.kt:30)"
     ]
    }
   ],
   "execution_count": 8
  },
  {
   "cell_type": "markdown",
   "id": "ddc4cbf3-2695-4b57-ba61-e3ace784129f",
   "metadata": {},
   "source": [
    "Die Fehlermeldung sagt aus, dass ein *Integer* mit Werten von vielen verschieden *Typen* wie z. B. `Byte`, `Double` usw. addiert \n",
    "werden kann. Eine Addition zwischen einem *Integer* und einem *String* ist aber nicht definiert.\n",
    "\n",
    "In Kotlin erfolgt eine Überprüfung auf Typfehler in einem seperaten Schritt vor der Ausführung.\n",
    "Wenn dabei Typfehler gefunden werden, wird der Code erst gar nicht ausgeführt.\n",
    "\n",
    "Auch die Multiplikation ist nicht für beliebige Kombinationen von\n",
    "*Typen* definiert."
   ]
  },
  {
   "cell_type": "code",
   "id": "9a85d9bc-d511-4400-811c-e80a31f889f8",
   "metadata": {
    "ExecuteTime": {
     "end_time": "2024-08-19T15:02:50.269534959Z",
     "start_time": "2024-08-19T15:02:50.204111740Z"
    }
   },
   "source": [
    "\"3\" * \"x\""
   ],
   "outputs": [
    {
     "ename": "org.jetbrains.kotlinx.jupyter.exceptions.ReplCompilerException",
     "evalue": "Line_6.jupyter.kts (1:5 - 6) Unresolved reference. None of the following candidates is applicable because of receiver type mismatch: \npublic inline operator fun BigDecimal.times(other: BigDecimal): BigDecimal defined in kotlin\npublic inline operator fun BigInteger.times(other: BigInteger): BigInteger defined in kotlin",
     "output_type": "error",
     "traceback": [
      "org.jetbrains.kotlinx.jupyter.repl.impl.JupyterCompilerImpl.compileSync(JupyterCompilerImpl.kt:201)",
      "org.jetbrains.kotlinx.jupyter.repl.impl.InternalEvaluatorImpl.eval(InternalEvaluatorImpl.kt:126)",
      "org.jetbrains.kotlinx.jupyter.repl.impl.CellExecutorImpl$execute$1$result$1.invoke(CellExecutorImpl.kt:80)",
      "org.jetbrains.kotlinx.jupyter.repl.impl.CellExecutorImpl$execute$1$result$1.invoke(CellExecutorImpl.kt:78)",
      "org.jetbrains.kotlinx.jupyter.repl.impl.ReplForJupyterImpl.withHost(ReplForJupyterImpl.kt:762)",
      "org.jetbrains.kotlinx.jupyter.repl.impl.CellExecutorImpl.execute-L4Nmkdk(CellExecutorImpl.kt:78)",
      "org.jetbrains.kotlinx.jupyter.repl.execution.CellExecutor$DefaultImpls.execute-L4Nmkdk$default(CellExecutor.kt:13)",
      "org.jetbrains.kotlinx.jupyter.repl.impl.ReplForJupyterImpl.evaluateUserCode-wNURfNM(ReplForJupyterImpl.kt:585)",
      "org.jetbrains.kotlinx.jupyter.repl.impl.ReplForJupyterImpl.access$evaluateUserCode-wNURfNM(ReplForJupyterImpl.kt:138)",
      "org.jetbrains.kotlinx.jupyter.repl.impl.ReplForJupyterImpl$evalEx$1.invoke(ReplForJupyterImpl.kt:442)",
      "org.jetbrains.kotlinx.jupyter.repl.impl.ReplForJupyterImpl$evalEx$1.invoke(ReplForJupyterImpl.kt:439)",
      "org.jetbrains.kotlinx.jupyter.repl.impl.ReplForJupyterImpl.withEvalContext(ReplForJupyterImpl.kt:420)",
      "org.jetbrains.kotlinx.jupyter.repl.impl.ReplForJupyterImpl.evalEx(ReplForJupyterImpl.kt:439)",
      "org.jetbrains.kotlinx.jupyter.messaging.IdeCompatibleMessageRequestProcessor$processExecuteRequest$1$response$1$1.invoke(IdeCompatibleMessageRequestProcessor.kt:136)",
      "org.jetbrains.kotlinx.jupyter.messaging.IdeCompatibleMessageRequestProcessor$processExecuteRequest$1$response$1$1.invoke(IdeCompatibleMessageRequestProcessor.kt:135)",
      "org.jetbrains.kotlinx.jupyter.execution.JupyterExecutorImpl$Task.execute(JupyterExecutorImpl.kt:42)",
      "org.jetbrains.kotlinx.jupyter.execution.JupyterExecutorImpl$executorThread$1.invoke(JupyterExecutorImpl.kt:82)",
      "org.jetbrains.kotlinx.jupyter.execution.JupyterExecutorImpl$executorThread$1.invoke(JupyterExecutorImpl.kt:80)",
      "kotlin.concurrent.ThreadsKt$thread$thread$1.run(Thread.kt:30)"
     ]
    }
   ],
   "execution_count": 4
  },
  {
   "cell_type": "markdown",
   "id": "a468ec2e-1a1f-49ca-98e0-c945c40b630c",
   "metadata": {},
   "source": [
    "\n",
    "## Typannotation\n",
    "\n",
    "Beim Implementieren einer Funktion müssen immer die *Typen* der Parameter angegeben werden.\n",
    "\n",
    "Zum Beispiel haben wir bei der Funktion `square` angegeben,\n",
    "dass man dieser bei einem Funktionsaufruf ein *Integer* als *Argument*\n",
    "übergeben muss (und dann ein *Integer* zurückbekommt)."
   ]
  },
  {
   "cell_type": "code",
   "id": "41203b92-6e4e-48a0-9a50-70e8da7ff449",
   "metadata": {
    "ExecuteTime": {
     "end_time": "2024-08-19T15:14:18.080238443Z",
     "start_time": "2024-08-19T15:14:18.030529820Z"
    }
   },
   "source": "fun square(x: Int): Int = x * x   ",
   "outputs": [
    {
     "ename": "org.jetbrains.kotlinx.jupyter.exceptions.ReplCompilerException",
     "evalue": "Line_12.jupyter.kts (1:12 - 13) A type annotation is required on a value parameter",
     "output_type": "error",
     "traceback": [
      "org.jetbrains.kotlinx.jupyter.repl.impl.JupyterCompilerImpl.compileSync(JupyterCompilerImpl.kt:201)",
      "org.jetbrains.kotlinx.jupyter.repl.impl.InternalEvaluatorImpl.eval(InternalEvaluatorImpl.kt:126)",
      "org.jetbrains.kotlinx.jupyter.repl.impl.CellExecutorImpl$execute$1$result$1.invoke(CellExecutorImpl.kt:80)",
      "org.jetbrains.kotlinx.jupyter.repl.impl.CellExecutorImpl$execute$1$result$1.invoke(CellExecutorImpl.kt:78)",
      "org.jetbrains.kotlinx.jupyter.repl.impl.ReplForJupyterImpl.withHost(ReplForJupyterImpl.kt:762)",
      "org.jetbrains.kotlinx.jupyter.repl.impl.CellExecutorImpl.execute-L4Nmkdk(CellExecutorImpl.kt:78)",
      "org.jetbrains.kotlinx.jupyter.repl.execution.CellExecutor$DefaultImpls.execute-L4Nmkdk$default(CellExecutor.kt:13)",
      "org.jetbrains.kotlinx.jupyter.repl.impl.ReplForJupyterImpl.evaluateUserCode-wNURfNM(ReplForJupyterImpl.kt:585)",
      "org.jetbrains.kotlinx.jupyter.repl.impl.ReplForJupyterImpl.access$evaluateUserCode-wNURfNM(ReplForJupyterImpl.kt:138)",
      "org.jetbrains.kotlinx.jupyter.repl.impl.ReplForJupyterImpl$evalEx$1.invoke(ReplForJupyterImpl.kt:442)",
      "org.jetbrains.kotlinx.jupyter.repl.impl.ReplForJupyterImpl$evalEx$1.invoke(ReplForJupyterImpl.kt:439)",
      "org.jetbrains.kotlinx.jupyter.repl.impl.ReplForJupyterImpl.withEvalContext(ReplForJupyterImpl.kt:420)",
      "org.jetbrains.kotlinx.jupyter.repl.impl.ReplForJupyterImpl.evalEx(ReplForJupyterImpl.kt:439)",
      "org.jetbrains.kotlinx.jupyter.messaging.IdeCompatibleMessageRequestProcessor$processExecuteRequest$1$response$1$1.invoke(IdeCompatibleMessageRequestProcessor.kt:136)",
      "org.jetbrains.kotlinx.jupyter.messaging.IdeCompatibleMessageRequestProcessor$processExecuteRequest$1$response$1$1.invoke(IdeCompatibleMessageRequestProcessor.kt:135)",
      "org.jetbrains.kotlinx.jupyter.execution.JupyterExecutorImpl$Task.execute(JupyterExecutorImpl.kt:42)",
      "org.jetbrains.kotlinx.jupyter.execution.JupyterExecutorImpl$executorThread$1.invoke(JupyterExecutorImpl.kt:82)",
      "org.jetbrains.kotlinx.jupyter.execution.JupyterExecutorImpl$executorThread$1.invoke(JupyterExecutorImpl.kt:80)",
      "kotlin.concurrent.ThreadsKt$thread$thread$1.run(Thread.kt:30)"
     ]
    }
   ],
   "execution_count": 10
  },
  {
   "cell_type": "markdown",
   "id": "60928125-4d94-4085-8569-d2c509954438",
   "metadata": {},
   "source": [
    "Tatsächlich würde bei diesem Beispiel ein Aufruf mit einem *String* zu\n",
    "einem *Typfehler*, führen, weil dann im *Funktionskörper* ein *String* mit einem *String*\n",
    "multipliziert wird. Wir haben oben gesehen, dass das nicht funktioniert."
   ]
  },
  {
   "cell_type": "code",
   "id": "3ade8dc5-1bbf-4de9-90c0-0191294be6a5",
   "metadata": {
    "ExecuteTime": {
     "end_time": "2024-08-19T15:03:49.566742492Z",
     "start_time": "2024-08-19T15:03:49.534822397Z"
    }
   },
   "source": [
    "square(\"3\")"
   ],
   "outputs": [
    {
     "ename": "org.jetbrains.kotlinx.jupyter.exceptions.ReplCompilerException",
     "evalue": "Line_9.jupyter.kts (1:8 - 11) Type mismatch: inferred type is String but Int was expected",
     "output_type": "error",
     "traceback": [
      "org.jetbrains.kotlinx.jupyter.repl.impl.JupyterCompilerImpl.compileSync(JupyterCompilerImpl.kt:201)",
      "org.jetbrains.kotlinx.jupyter.repl.impl.InternalEvaluatorImpl.eval(InternalEvaluatorImpl.kt:126)",
      "org.jetbrains.kotlinx.jupyter.repl.impl.CellExecutorImpl$execute$1$result$1.invoke(CellExecutorImpl.kt:80)",
      "org.jetbrains.kotlinx.jupyter.repl.impl.CellExecutorImpl$execute$1$result$1.invoke(CellExecutorImpl.kt:78)",
      "org.jetbrains.kotlinx.jupyter.repl.impl.ReplForJupyterImpl.withHost(ReplForJupyterImpl.kt:762)",
      "org.jetbrains.kotlinx.jupyter.repl.impl.CellExecutorImpl.execute-L4Nmkdk(CellExecutorImpl.kt:78)",
      "org.jetbrains.kotlinx.jupyter.repl.execution.CellExecutor$DefaultImpls.execute-L4Nmkdk$default(CellExecutor.kt:13)",
      "org.jetbrains.kotlinx.jupyter.repl.impl.ReplForJupyterImpl.evaluateUserCode-wNURfNM(ReplForJupyterImpl.kt:585)",
      "org.jetbrains.kotlinx.jupyter.repl.impl.ReplForJupyterImpl.access$evaluateUserCode-wNURfNM(ReplForJupyterImpl.kt:138)",
      "org.jetbrains.kotlinx.jupyter.repl.impl.ReplForJupyterImpl$evalEx$1.invoke(ReplForJupyterImpl.kt:442)",
      "org.jetbrains.kotlinx.jupyter.repl.impl.ReplForJupyterImpl$evalEx$1.invoke(ReplForJupyterImpl.kt:439)",
      "org.jetbrains.kotlinx.jupyter.repl.impl.ReplForJupyterImpl.withEvalContext(ReplForJupyterImpl.kt:420)",
      "org.jetbrains.kotlinx.jupyter.repl.impl.ReplForJupyterImpl.evalEx(ReplForJupyterImpl.kt:439)",
      "org.jetbrains.kotlinx.jupyter.messaging.IdeCompatibleMessageRequestProcessor$processExecuteRequest$1$response$1$1.invoke(IdeCompatibleMessageRequestProcessor.kt:136)",
      "org.jetbrains.kotlinx.jupyter.messaging.IdeCompatibleMessageRequestProcessor$processExecuteRequest$1$response$1$1.invoke(IdeCompatibleMessageRequestProcessor.kt:135)",
      "org.jetbrains.kotlinx.jupyter.execution.JupyterExecutorImpl$Task.execute(JupyterExecutorImpl.kt:42)",
      "org.jetbrains.kotlinx.jupyter.execution.JupyterExecutorImpl$executorThread$1.invoke(JupyterExecutorImpl.kt:82)",
      "org.jetbrains.kotlinx.jupyter.execution.JupyterExecutorImpl$executorThread$1.invoke(JupyterExecutorImpl.kt:80)",
      "kotlin.concurrent.ThreadsKt$thread$thread$1.run(Thread.kt:30)"
     ]
    }
   ],
   "execution_count": 7
  },
  {
   "cell_type": "markdown",
   "id": "cd45ffd9e39b4aed",
   "metadata": {},
   "source": [
    "Um solche Fehler zu vermeiden, hilft es die *Typannotation* einer Funktion vor der Benutzung zu lesen.\n",
    "Man kann dann schon beim Lesen des *Funktionskopfes* erkennen, mit welchen\n",
    "*Argumenten* die Funktion ohne Probleme aufgerufen werden kann.\n",
    "\n",
    "Die Angabe der *Typen* der *Parameter* und des *Rückgabewerts* erfolgt immer\n",
    "mit dem Zeichen `:`. Neben `Int` für *Integer* müssen wir aber\n",
    "noch weitere Abkürzungen für *Typen* kennen.\n",
    "\n",
    "## Typkonversion\n",
    "\n",
    "Es kommt häufig vor, dass ein *Wert* einen *Typ* hat, mit dem eine gewünschte *Operation* nicht durchgeführt werden kann."
   ]
  },
  {
   "metadata": {
    "ExecuteTime": {
     "end_time": "2024-08-21T10:32:39.468661520Z",
     "start_time": "2024-08-21T10:32:39.323985290Z"
    }
   },
   "cell_type": "code",
   "source": [
    "val number = 3\n",
    "val message = \"The value of number is: \""
   ],
   "id": "1a039262b6cc071d",
   "outputs": [],
   "execution_count": 1
  },
  {
   "metadata": {},
   "cell_type": "code",
   "outputs": [],
   "execution_count": null,
   "source": "message + number",
   "id": "55a82359d49b5639"
  },
  {
   "metadata": {},
   "cell_type": "markdown",
   "source": "Um den *Typ* eines *Werts* zu ändern, kann eine *Typkonversion* genutzt werden. Hierfür schreibt man hinter den Ausdruck, dessen Wert wir konvertieren wollen einen `.` , `to` und die Abkürzung des gewünschten *Typs*. Anschließend folgen wie beim Aufruf einer Funktion ohne *Parameter* eine öffnende und direkt danach eine schließende Klammer.",
   "id": "0dfed471-a8db-44d6-af9e-bab3fd378133"
  },
  {
   "metadata": {},
   "cell_type": "code",
   "outputs": [],
   "execution_count": null,
   "source": "number.toString()",
   "id": "de29e217d6b37f84"
  },
  {
   "metadata": {
    "ExecuteTime": {
     "end_time": "2024-08-21T10:35:57.295175886Z",
     "start_time": "2024-08-21T10:35:57.089019896Z"
    }
   },
   "cell_type": "code",
   "source": "message + number.toString()",
   "id": "e251afd7833200f1",
   "outputs": [
    {
     "data": {
      "text/plain": [
       "The value of number is: 3"
      ]
     },
     "execution_count": 2,
     "metadata": {},
     "output_type": "execute_result"
    }
   ],
   "execution_count": 2
  },
  {
   "cell_type": "code",
   "id": "b54c51494178022a",
   "metadata": {
    "ExecuteTime": {
     "end_time": "2024-08-19T15:34:49.378177912Z",
     "start_time": "2024-08-19T15:34:49.244269516Z"
    }
   },
   "source": "\"02\".toInt()",
   "outputs": [
    {
     "data": {
      "text/plain": [
       "2"
      ]
     },
     "execution_count": 11,
     "metadata": {},
     "output_type": "execute_result"
    }
   ],
   "execution_count": 11
  },
  {
   "metadata": {},
   "cell_type": "markdown",
   "source": [
    "Fast jeder *Wert* kann in einen *String* umgewandelt\n",
    "werden. Aber natürlich kann nicht jeder *String* zu einem *Integer*\n",
    "konvertiert werden."
   ],
   "id": "fcd1991b-7a6e-45dd-9c4d-f0b0fe25b936"
  },
  {
   "cell_type": "code",
   "id": "f7b894e643c3163",
   "metadata": {},
   "source": "\"hello\".toInt()",
   "outputs": [],
   "execution_count": null
  },
  {
   "metadata": {},
   "cell_type": "markdown",
   "source": "Dieser Fehler wird **nicht** vor der Ausführung des Codes erkannt, da ja nicht immer vor der Ausführung klar sein kann, dass ein bestimmter *String* ein *Integer* darstellt oder nicht.",
   "id": "97568d47144d5cc5"
  },
  {
   "metadata": {},
   "cell_type": "markdown",
   "source": [
    "# Methoden\n",
    "\n",
    "Die Aufrufe von `toString` und `toInt` sehen nicht nur so aus wie Funktionsaufrufe. Es handelt sich dabei um *Methoden*. Das sind Funktionen bei denen das erste Argument nicht in den Klammern, sondern vor einem Punkt und dem Funktionsnamen steht."
   ],
   "id": "f5a1fbfea42bcea4"
  }
 ],
 "metadata": {
  "kernelspec": {
   "display_name": "Kotlin",
   "language": "kotlin",
   "name": "kotlin"
  },
  "language_info": {
   "codemirror_mode": "text/x-kotlin",
   "file_extension": ".kt",
   "mimetype": "text/x-kotlin",
   "name": "kotlin",
   "nbconvert_exporter": "",
   "pygments_lexer": "kotlin",
   "version": "1.9.23"
  }
 },
 "nbformat": 4,
 "nbformat_minor": 5
}
