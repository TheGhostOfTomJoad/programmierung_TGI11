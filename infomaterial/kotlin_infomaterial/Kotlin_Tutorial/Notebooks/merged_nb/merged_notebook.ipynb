{
 "cells": [
  {
   "cell_type": "markdown",
   "id": "8e01a2ce-6e2c-4053-a160-c57b5043c00e",
   "metadata": {},
   "source": [
    "# Werte und Ausdrücke\n",
    "\n",
    "## Kotlin als Taschenrechner\n",
    "\n",
    "Der Kotlin-Interpreter ist ein Programm, mit dem Berechnung durch- und\n",
    "Kotlin-Programme ausgeführt werden können.\n",
    "\n",
    "Wir können den Kotlin-Interpreter als Taschenrechner verwenden, indem\n",
    "wir Rechenausdrücke (*arithmetische Ausdrücke*) in ein `Shell`/`REPL`\n",
    "eingeben. Der Kotlin-Interpreter berechnet dann das Ergebnis und zeigt\n",
    "es dem Benutzer an."
   ]
  },
  {
   "cell_type": "code",
   "execution_count": 1,
   "id": "9ffc1fcc-f845-4749-b350-d54e872b6b35",
   "metadata": {
    "execution": {
     "iopub.execute_input": "2024-08-23T13:01:43.610149Z",
     "iopub.status.busy": "2024-08-23T13:01:43.602340Z",
     "iopub.status.idle": "2024-08-23T13:01:46.755425Z",
     "shell.execute_reply": "2024-08-23T13:01:46.753195Z"
    }
   },
   "outputs": [
    {
     "data": {
      "text/plain": [
       "7"
      ]
     },
     "execution_count": 1,
     "metadata": {},
     "output_type": "execute_result"
    }
   ],
   "source": [
    "4 + 3"
   ]
  },
  {
   "cell_type": "code",
   "execution_count": 2,
   "id": "c445f641",
   "metadata": {
    "execution": {
     "iopub.execute_input": "2024-08-23T13:01:46.764893Z",
     "iopub.status.busy": "2024-08-23T13:01:46.762089Z",
     "iopub.status.idle": "2024-08-23T13:01:46.854002Z",
     "shell.execute_reply": "2024-08-23T13:01:46.852312Z"
    }
   },
   "outputs": [
    {
     "data": {
      "text/plain": [
       "24"
      ]
     },
     "execution_count": 2,
     "metadata": {},
     "output_type": "execute_result"
    }
   ],
   "source": [
    "1 * 2 * 3 * 4"
   ]
  },
  {
   "cell_type": "markdown",
   "id": "0b980a0e-a77b-4dc0-ab80-11ce21ae3490",
   "metadata": {},
   "source": [
    "Wie jeder Taschenrechner kennt der Kotlin-Interpreter die\n",
    "„Punkt-Vor-Strich-Regel“."
   ]
  },
  {
   "cell_type": "code",
   "execution_count": 3,
   "id": "2c88ebfb-195c-47e5-a12e-2c8c28a5de6a",
   "metadata": {
    "execution": {
     "iopub.execute_input": "2024-08-23T13:01:46.858776Z",
     "iopub.status.busy": "2024-08-23T13:01:46.857647Z",
     "iopub.status.idle": "2024-08-23T13:01:46.936712Z",
     "shell.execute_reply": "2024-08-23T13:01:46.935212Z"
    }
   },
   "outputs": [
    {
     "data": {
      "text/plain": [
       "11"
      ]
     },
     "execution_count": 3,
     "metadata": {},
     "output_type": "execute_result"
    }
   ],
   "source": [
    "1 + 2 * 5"
   ]
  },
  {
   "cell_type": "markdown",
   "id": "349cce15-01af-46d8-a6e4-cd62f44d52b2",
   "metadata": {},
   "source": [
    "Durch das Setzen von Klammern können wir selbst eine Reihenfolge für die\n",
    "Auswertung eines *Ausdrucks* festlegen."
   ]
  },
  {
   "cell_type": "code",
   "execution_count": 4,
   "id": "9c87c795-2c4a-4a5f-b4b4-e774bd1cb391",
   "metadata": {
    "execution": {
     "iopub.execute_input": "2024-08-23T13:01:46.946082Z",
     "iopub.status.busy": "2024-08-23T13:01:46.943064Z",
     "iopub.status.idle": "2024-08-23T13:01:47.017936Z",
     "shell.execute_reply": "2024-08-23T13:01:47.016408Z"
    }
   },
   "outputs": [
    {
     "data": {
      "text/plain": [
       "15"
      ]
     },
     "execution_count": 4,
     "metadata": {},
     "output_type": "execute_result"
    }
   ],
   "source": [
    "(1 + 2) * 5"
   ]
  },
  {
   "cell_type": "markdown",
   "id": "1af36410-62cf-4c1d-a1c3-16cb89018c5b",
   "metadata": {},
   "source": [
    "## Operatoren, Werte, Ausdrücke\n",
    "\n",
    "Die Rechenzeichen, wie `+`, `-` und `*` nennt man *Operatoren*. Mithilfe\n",
    "von *Operatoren* werden Berechnungen, wie die Addition, Subtraktion und\n",
    "Multiplikation durchgeführt. Später werden wir noch weitere *Operatoren*\n",
    "kennenlernen. Links und Rechts von einem *Operator* stehen die\n",
    "*Operanden*, die in der Rechnung verwendet werden. In dem ersten\n",
    "Beispiel oben steht der *Operator* `+` zwischen dem linken *Operanden*\n",
    "`4` und dem rechten *Operanden* `3`.\n",
    "\n",
    "Zahlen wie `4` und `3` sind *Werte* (*Values*). *Werte* sind die\n",
    "kleinsten Einheiten, mit denen ein Computerprogramm arbeitet. Das\n",
    "Ergebnis einer Rechnung ist immer ein *Wert*. Wenn wir einen *Wert* im\n",
    "Programmcode verwenden, spricht man von einem *Literal*. Ein\n",
    "alleinstehendes *Literal* wird immer zu dem *Wert* ausgewertet, für den\n",
    "es steht."
   ]
  },
  {
   "cell_type": "code",
   "execution_count": 5,
   "id": "8c2fe4f9-90a3-4b38-9187-5651246557b7",
   "metadata": {
    "execution": {
     "iopub.execute_input": "2024-08-23T13:01:47.024583Z",
     "iopub.status.busy": "2024-08-23T13:01:47.022721Z",
     "iopub.status.idle": "2024-08-23T13:01:47.093358Z",
     "shell.execute_reply": "2024-08-23T13:01:47.091929Z"
    }
   },
   "outputs": [
    {
     "data": {
      "text/plain": [
       "4"
      ]
     },
     "execution_count": 5,
     "metadata": {},
     "output_type": "execute_result"
    }
   ],
   "source": [
    "4"
   ]
  },
  {
   "cell_type": "markdown",
   "id": "8e1e5f3a-b48e-45c9-a4f2-36f7ab6b99b9",
   "metadata": {},
   "source": [
    "Ein *Ausdruck* (*expression*) ist eine Kombination von *Werten*,\n",
    "*Operatoren* und Klammern, die zu einem *Wert* ausgewertet werden\n",
    "kann<a name=\"cite_ref-1\"></a>[<sup>[1]</sup>](#cite_note-1). Im letzten Beispiel wurde der *Ausdruck* `(1 + 2) * 5` zu dem\n",
    "Wert `15` ausgewertet.\n",
    "\n",
    "\n",
    "## Syntaxfehler\n",
    "\n",
    "Wenn ein fehlerhafter *Ausdruck* eingegeben wird, kann der Interpreter\n",
    "diesen nicht vereinfachen und gibt eine Fehlermeldung aus."
   ]
  },
  {
   "cell_type": "code",
   "execution_count": 6,
   "id": "0f93b95e-2a72-447f-91f0-3cb523e8034b",
   "metadata": {
    "execution": {
     "iopub.execute_input": "2024-08-23T13:01:47.098205Z",
     "iopub.status.busy": "2024-08-23T13:01:47.097069Z",
     "iopub.status.idle": "2024-08-23T13:01:47.124210Z",
     "shell.execute_reply": "2024-08-23T13:01:47.122951Z"
    }
   },
   "outputs": [
    {
     "name": "stderr",
     "output_type": "stream",
     "text": [
      "Line_5.jupyter.kts (1:5 - 6) Expecting an element"
     ]
    }
   ],
   "source": [
    "1 + * 1"
   ]
  },
  {
   "cell_type": "markdown",
   "id": "644ff865-b298-4845-acf7-000566f7426b",
   "metadata": {},
   "source": [
    "Bei diesem Fehler handelt es sich um einen `Syntax error`. Die *Syntax*\n",
    "einer Programmiersprache gibt an, welche Zeichen im Code erlaubt sind\n",
    "und wie diese miteinander kombiniert werden dürfen. Ein `Syntax error`\n",
    "tritt auf, wenn eine dieser Regeln verletzt wurde. Kotlin zeigt\n",
    "an, dass in Zeile 1 zwischen der 5. und 6. Spalte ein Element, also z.B. eine Zahl erwartet wird.\n",
    "Im Code steht an dieser Stelle aber ein `*`.\n",
    "\n",
    "## Division\n",
    "\n",
    "Kotlin unterstützt auch die ganzzahlige Division. Diese kennst du\n",
    "vielleicht noch aus der Grundschule."
   ]
  },
  {
   "cell_type": "code",
   "execution_count": 7,
   "id": "4b86db05-7d4a-4aa0-9176-c1d87819cd38",
   "metadata": {
    "execution": {
     "iopub.execute_input": "2024-08-23T13:01:47.129895Z",
     "iopub.status.busy": "2024-08-23T13:01:47.128882Z",
     "iopub.status.idle": "2024-08-23T13:01:47.188797Z",
     "shell.execute_reply": "2024-08-23T13:01:47.188320Z"
    }
   },
   "outputs": [
    {
     "data": {
      "text/plain": [
       "5"
      ]
     },
     "execution_count": 7,
     "metadata": {},
     "output_type": "execute_result"
    }
   ],
   "source": [
    "30 / 6"
   ]
  },
  {
   "cell_type": "code",
   "execution_count": 8,
   "id": "f397daac",
   "metadata": {
    "execution": {
     "iopub.execute_input": "2024-08-23T13:01:47.192079Z",
     "iopub.status.busy": "2024-08-23T13:01:47.191484Z",
     "iopub.status.idle": "2024-08-23T13:01:47.257321Z",
     "shell.execute_reply": "2024-08-23T13:01:47.255909Z"
    }
   },
   "outputs": [
    {
     "data": {
      "text/plain": [
       "2"
      ]
     },
     "execution_count": 8,
     "metadata": {},
     "output_type": "execute_result"
    }
   ],
   "source": [
    "14 / 5"
   ]
  },
  {
   "cell_type": "markdown",
   "id": "ee363dba-f734-41a8-8ee2-6781056e379e",
   "metadata": {},
   "source": [
    "Die Zahlen vor und nach dem *Operator* `//` nennt man Dividend und\n",
    "Divisor. Das Ergebnis ist der Quotient. Der Quotient ist die größte\n",
    "ganze Zahl, mit der man den Divisor multiplizieren kann, um eine Zahl zu\n",
    "erhalten, die nicht größer als der Dividend ist. Der *Operator* `%`\n",
    "(*modulo*) berechnet, was man zu dem Produkt von Quotient und Divisor\n",
    "hinzufügen muss, um den Dividenden zu erhalten."
   ]
  },
  {
   "cell_type": "code",
   "execution_count": 9,
   "id": "d00051a6-1015-43e5-97cf-17161c7dea15",
   "metadata": {
    "execution": {
     "iopub.execute_input": "2024-08-23T13:01:47.261542Z",
     "iopub.status.busy": "2024-08-23T13:01:47.260789Z",
     "iopub.status.idle": "2024-08-23T13:01:47.335154Z",
     "shell.execute_reply": "2024-08-23T13:01:47.333852Z"
    }
   },
   "outputs": [
    {
     "data": {
      "text/plain": [
       "4"
      ]
     },
     "execution_count": 9,
     "metadata": {},
     "output_type": "execute_result"
    }
   ],
   "source": [
    "14 % 5"
   ]
  },
  {
   "cell_type": "markdown",
   "id": "792beed9-e012-4643-904c-8ad2978a6107",
   "metadata": {},
   "source": [
    "Es gilt also"
   ]
  },
  {
   "cell_type": "code",
   "execution_count": 10,
   "id": "77a03c9b-f454-40ed-a39a-b5e5b874d190",
   "metadata": {
    "execution": {
     "iopub.execute_input": "2024-08-23T13:01:47.341520Z",
     "iopub.status.busy": "2024-08-23T13:01:47.338967Z",
     "iopub.status.idle": "2024-08-23T13:01:47.430455Z",
     "shell.execute_reply": "2024-08-23T13:01:47.429452Z"
    }
   },
   "outputs": [
    {
     "data": {
      "text/plain": [
       "14"
      ]
     },
     "execution_count": 10,
     "metadata": {},
     "output_type": "execute_result"
    }
   ],
   "source": [
    "(14 / 5) * 5 + (14 % 5)"
   ]
  },
  {
   "cell_type": "markdown",
   "id": "38670c1a",
   "metadata": {},
   "source": [
    "<a name=\"cite_note-1\"></a>1. [^](#cite_ref-1) Ausdrücke können auch Funktionsaufrufe und Variablen enthalten.\n",
    "Diese werden aber erst später behandelt."
   ]
  },
  {
   "cell_type": "markdown",
   "id": "9326baaf-c7a6-4080-9e14-9cc2e7c70741",
   "metadata": {},
   "source": [
    "# Variablen\n",
    "\n",
    "## Motivation\n",
    "\n",
    "Die folgende Mathematikaufgabe können wir einfach in der mit dem Kotlin-Interpreter lösen.\n",
    "\n",
    "**Mathematikaufgabe 1**. *Für die englischen Längeneinheiten Fuß, Yard\n",
    "und Zoll(Inch) gelten:*\n",
    "\n",
    "-   *Ein Yard sind $3$ Fuß*\n",
    "\n",
    "-   *Ein Fuß sind $12$ Zoll*\n",
    "\n",
    "*Wie viel sind $\\,7$ Yard in Fuß und in Zoll?*\n",
    "\n",
    "**Lösung 1**.\n"
   ]
  },
  {
   "cell_type": "code",
   "execution_count": 11,
   "id": "42ec84aa",
   "metadata": {
    "execution": {
     "iopub.execute_input": "2024-08-23T13:01:47.437553Z",
     "iopub.status.busy": "2024-08-23T13:01:47.436378Z",
     "iopub.status.idle": "2024-08-23T13:01:47.507891Z",
     "shell.execute_reply": "2024-08-23T13:01:47.506617Z"
    }
   },
   "outputs": [
    {
     "data": {
      "text/plain": [
       "21"
      ]
     },
     "execution_count": 11,
     "metadata": {},
     "output_type": "execute_result"
    }
   ],
   "source": [
    "\n",
    "3 * 7"
   ]
  },
  {
   "cell_type": "code",
   "execution_count": 12,
   "id": "6fbeef6b",
   "metadata": {
    "execution": {
     "iopub.execute_input": "2024-08-23T13:01:47.513135Z",
     "iopub.status.busy": "2024-08-23T13:01:47.512110Z",
     "iopub.status.idle": "2024-08-23T13:01:47.601381Z",
     "shell.execute_reply": "2024-08-23T13:01:47.600255Z"
    }
   },
   "outputs": [
    {
     "data": {
      "text/plain": [
       "252"
      ]
     },
     "execution_count": 12,
     "metadata": {},
     "output_type": "execute_result"
    }
   ],
   "source": [
    "3 * 7 * 12"
   ]
  },
  {
   "cell_type": "markdown",
   "id": "6fe0dec2",
   "metadata": {},
   "source": [
    "\n",
    "Hierbei fällt auf, dass der *Ausdruck* `3 * 7` doppelt vorkommt und also\n",
    "auch doppelt ausgewertet wird. Um dies zu vermeiden und gleichzeitig die\n",
    "Lesbarkeit zu verbessern, können wir *Variablen* nutzen.\n",
    "\n",
    "## Variablen erstellen\n",
    "\n",
    "Eine *Variable* kann man sich als Box mit einem Namen und einem Inhalt\n",
    "vorstellen.\n",
    "\n",
    "<figure style=\"text-align:center;\">\n",
    "<img src = \"variable_box.svg\" width=\"300\">\n",
    "<figcaption><em>Variable</em> <code\n",
    "class=\"sourceCode kotlin\">sevenYardsInFeet</code> mit dem\n",
    "<em>Wert</em> <code\n",
    "class=\"sourceCode kotlin\"><span class=\"dv\">21</span></code></figcaption>\n",
    "</figure>\n",
    "\n",
    "Eine Variable wird mit einem *Zuweisungs-Statement* *initialisiert*\n",
    "(erstellt)."
   ]
  },
  {
   "cell_type": "code",
   "execution_count": 13,
   "id": "49b24990-f9de-43e2-9340-ba218c441007",
   "metadata": {
    "execution": {
     "iopub.execute_input": "2024-08-23T13:01:47.608050Z",
     "iopub.status.busy": "2024-08-23T13:01:47.606999Z",
     "iopub.status.idle": "2024-08-23T13:01:47.704771Z",
     "shell.execute_reply": "2024-08-23T13:01:47.703874Z"
    }
   },
   "outputs": [],
   "source": [
    "val sevenYardsInFeet = 3 * 7"
   ]
  },
  {
   "cell_type": "markdown",
   "id": "1aac6ec2-cb45-404d-ba69-5a9cf3dfaa5b",
   "metadata": {},
   "source": [
    "*Zuweisungsstatements* beginnen mit dem *Schlüsselwort* `val`. \n",
    "Im Allgemeinen geben *Schlüsselwörter* dem Interpreter an, was zu tun ist.\n",
    "Bei Lesen von `val` soll der Interpreter eine Variable anlegen.\n",
    "\n",
    "Danach folgt der Name der *Variablen*.\n",
    "Auf der rechten Seite des *Zuweisungsoperators* (`=`) steht ein *Ausdruck*. Bei der\n",
    "Ausführung dieses *Statements* wird zunächst der *Ausdruck* auf der\n",
    "rechten Seite ausgewertet. Der *Wert* des *Ausdrucks* wird dann unter\n",
    "dem angegebenen Namen gespeichert.\n",
    "\n",
    "Allgemein ist ein *Statement* eine Anweisung an den Kotlin-Interpreter\n",
    "<a name=\"cite_ref-1\"></a>[<sup>[1]</sup>](#cite_note-1).\n",
    "\n",
    "## Variablen in Ausdrücken verwenden\n",
    "\n",
    "Wir können jetzt den *Variablennamen* in *Ausdrücken* verwenden. Bei der\n",
    "Auswertung wird der *Variablenname* durch den *Wert* der *Variable*\n",
    "ersetzt.\n"
   ]
  },
  {
   "cell_type": "code",
   "execution_count": 14,
   "id": "6fd169e9-6a56-49f3-9e08-84563f4d7274",
   "metadata": {
    "execution": {
     "iopub.execute_input": "2024-08-23T13:01:47.710101Z",
     "iopub.status.busy": "2024-08-23T13:01:47.709075Z",
     "iopub.status.idle": "2024-08-23T13:01:47.908580Z",
     "shell.execute_reply": "2024-08-23T13:01:47.903533Z"
    }
   },
   "outputs": [
    {
     "data": {
      "text/plain": [
       "21"
      ]
     },
     "execution_count": 14,
     "metadata": {},
     "output_type": "execute_result"
    }
   ],
   "source": [
    "sevenYardsInFeet"
   ]
  },
  {
   "cell_type": "code",
   "execution_count": 15,
   "id": "0fcd9024",
   "metadata": {
    "execution": {
     "iopub.execute_input": "2024-08-23T13:01:47.920471Z",
     "iopub.status.busy": "2024-08-23T13:01:47.918307Z",
     "iopub.status.idle": "2024-08-23T13:01:48.020865Z",
     "shell.execute_reply": "2024-08-23T13:01:48.019890Z"
    }
   },
   "outputs": [
    {
     "data": {
      "text/plain": [
       "252"
      ]
     },
     "execution_count": 15,
     "metadata": {},
     "output_type": "execute_result"
    }
   ],
   "source": [
    "12 * sevenYardsInFeet"
   ]
  },
  {
   "cell_type": "markdown",
   "id": "e6ff34eb-0912-44af-8811-755f0445e2f0",
   "metadata": {},
   "source": [
    "Wir können eine *Variable* auch bei der *Initialisierung* einer neuen\n",
    "*Variablen* verwenden."
   ]
  },
  {
   "cell_type": "code",
   "execution_count": 16,
   "id": "98063b91-3387-47a0-8603-cab55be4dc8d",
   "metadata": {
    "execution": {
     "iopub.execute_input": "2024-08-23T13:01:48.025488Z",
     "iopub.status.busy": "2024-08-23T13:01:48.024798Z",
     "iopub.status.idle": "2024-08-23T13:01:48.109974Z",
     "shell.execute_reply": "2024-08-23T13:01:48.108963Z"
    }
   },
   "outputs": [
    {
     "data": {
      "text/plain": [
       "252"
      ]
     },
     "execution_count": 16,
     "metadata": {},
     "output_type": "execute_result"
    }
   ],
   "source": [
    "val threeYardsInInch = 12 * sevenYardsInFeet\n",
    "threeYardsInInch"
   ]
  },
  {
   "cell_type": "markdown",
   "id": "9e4eedc1-80ec-4590-86c4-0fe07693fff7",
   "metadata": {},
   "source": [
    "## Undefinierte Variablen\n",
    "\n",
    "Wenn wir in einem *Ausdruck* eine *Variable* nutzen, die noch nicht\n",
    "definiert wurde, werden wir darauf hingewiesen."
   ]
  },
  {
   "cell_type": "code",
   "execution_count": 17,
   "id": "3e0e8ff6-d9d6-45c7-ac90-ea3fbe0e6b06",
   "metadata": {
    "execution": {
     "iopub.execute_input": "2024-08-23T13:01:48.117449Z",
     "iopub.status.busy": "2024-08-23T13:01:48.114637Z",
     "iopub.status.idle": "2024-08-23T13:01:48.227264Z",
     "shell.execute_reply": "2024-08-23T13:01:48.226229Z"
    }
   },
   "outputs": [
    {
     "name": "stderr",
     "output_type": "stream",
     "text": [
      "Line_16.jupyter.kts (1:1 - 2) Unresolved reference: x"
     ]
    }
   ],
   "source": [
    "x"
   ]
  },
  {
   "cell_type": "markdown",
   "id": "4429a549-051b-4f84-b633-abb782fe26b5",
   "metadata": {},
   "source": [
    "Gerade bei längeren *Variablennamen* schleichen sich schnell\n",
    "Schreibfehler ein."
   ]
  },
  {
   "cell_type": "code",
   "execution_count": 18,
   "id": "a122f73d-2853-48c5-8518-c94230a3a8ce",
   "metadata": {
    "execution": {
     "iopub.execute_input": "2024-08-23T13:01:48.233137Z",
     "iopub.status.busy": "2024-08-23T13:01:48.231858Z",
     "iopub.status.idle": "2024-08-23T13:01:48.267684Z",
     "shell.execute_reply": "2024-08-23T13:01:48.266658Z"
    }
   },
   "outputs": [
    {
     "name": "stderr",
     "output_type": "stream",
     "text": [
      "Line_17.jupyter.kts (1:1 - 16) Unresolved reference: sevenYardInFeet"
     ]
    }
   ],
   "source": [
    "sevenYardInFeet"
   ]
  },
  {
   "cell_type": "markdown",
   "id": "7088ef84-4721-4b63-ab1b-5a045703de82",
   "metadata": {},
   "source": [
    "## Erlaubte Variablennamen\n",
    "\n",
    "*Variablennamen* müssen mit einem Buchstaben beginnen."
   ]
  },
  {
   "cell_type": "code",
   "execution_count": 19,
   "id": "4d9063fc-5c6d-48d8-b4e4-55b8694a135a",
   "metadata": {
    "execution": {
     "iopub.execute_input": "2024-08-23T13:01:48.270815Z",
     "iopub.status.busy": "2024-08-23T13:01:48.270156Z",
     "iopub.status.idle": "2024-08-23T13:01:48.277236Z",
     "shell.execute_reply": "2024-08-23T13:01:48.276563Z"
    }
   },
   "outputs": [
    {
     "name": "stderr",
     "output_type": "stream",
     "text": [
      "Line_18.jupyter.kts (1:13 - 14) Expecting an element"
     ]
    }
   ],
   "source": [
    "2YardInFeet = 6"
   ]
  },
  {
   "cell_type": "markdown",
   "id": "12e5cd44-72b0-4324-99a3-30eef26d584e",
   "metadata": {},
   "source": [
    "Außerdem dürfen in *Variablennamen* nur Buchstaben, Zahlen und\n",
    "Unterstriche verwendet werden."
   ]
  },
  {
   "cell_type": "code",
   "execution_count": 20,
   "id": "46755a18-d5dc-46c2-bda8-cd08eac7b62d",
   "metadata": {
    "execution": {
     "iopub.execute_input": "2024-08-23T13:01:48.284261Z",
     "iopub.status.busy": "2024-08-23T13:01:48.282923Z",
     "iopub.status.idle": "2024-08-23T13:01:48.326796Z",
     "shell.execute_reply": "2024-08-23T13:01:48.326104Z"
    }
   },
   "outputs": [
    {
     "name": "stderr",
     "output_type": "stream",
     "text": [
      "Line_19.jupyter.kts (1:1 - 6) Unresolved reference: three\n",
      "Line_19.jupyter.kts (1:1 - 12) Variable expected\n",
      "Line_19.jupyter.kts (1:7 - 12) Unresolved reference: Three"
     ]
    }
   ],
   "source": [
    "three+Three = 6"
   ]
  },
  {
   "cell_type": "markdown",
   "id": "af3ec216",
   "metadata": {},
   "source": [
    "*Schlüsselwörter* dürfen **nicht** als *Variablennamen* genutzt werden"
   ]
  },
  {
   "cell_type": "code",
   "execution_count": 21,
   "id": "9039d421",
   "metadata": {
    "execution": {
     "iopub.execute_input": "2024-08-23T13:01:48.333647Z",
     "iopub.status.busy": "2024-08-23T13:01:48.332398Z",
     "iopub.status.idle": "2024-08-23T13:01:48.341872Z",
     "shell.execute_reply": "2024-08-23T13:01:48.341388Z"
    }
   },
   "outputs": [
    {
     "name": "stderr",
     "output_type": "stream",
     "text": [
      "Line_20.jupyter.kts (1:4 - 4) Expecting property name or receiver type\n",
      "Line_20.jupyter.kts (1:4 - 4) Property getter or setter expected\n",
      "Line_20.jupyter.kts (1:8 - 8) Expecting property name or receiver type"
     ]
    }
   ],
   "source": [
    "val val = 7"
   ]
  },
  {
   "cell_type": "markdown",
   "id": "75cb4073",
   "metadata": {},
   "source": [
    "<a name=\"cite_note-1\"></a>1 [^](#cite_ref-1) Bei *Zuweisung-Statements* weisen wir den Interpreter an, eine *Variable*\n",
    "anzulegen oder ihren Wert zu ändern. Diese Möglichkeit lernen wir jedoch erst\n",
    "später kennen"
   ]
  },
  {
   "cell_type": "markdown",
   "id": "834be730-ad6d-4b64-836e-2b654d146fe0",
   "metadata": {},
   "source": [
    "# Funktionen\n",
    "\n",
    "## Motivation\n",
    "\n",
    "Die folgende Matheaufgabe können wir einfach in der Shell lösen\n",
    "\n",
    "**Mathematikaufgabe 1**. *Für die englischen Längeneinheiten Fuß und\n",
    "Yard gilt:*\n",
    "\n",
    "-   *Ein Yard sind $3$ Fuß*\n",
    "\n",
    "*Wie viel sind $\\,7$ Yard in Fuß und wie viel sind $\\,19$ Yard in Fuß?*\n",
    "\n",
    "**Lösung 1**.\n"
   ]
  },
  {
   "cell_type": "code",
   "execution_count": 22,
   "id": "f74ef90d",
   "metadata": {
    "ExecuteTime": {
     "end_time": "2024-08-21T07:08:13.579533564Z",
     "start_time": "2024-08-21T07:08:13.286842218Z"
    },
    "execution": {
     "iopub.execute_input": "2024-08-23T13:01:48.346490Z",
     "iopub.status.busy": "2024-08-23T13:01:48.346018Z",
     "iopub.status.idle": "2024-08-23T13:01:48.404782Z",
     "shell.execute_reply": "2024-08-23T13:01:48.404412Z"
    }
   },
   "outputs": [
    {
     "data": {
      "text/plain": [
       "21"
      ]
     },
     "execution_count": 22,
     "metadata": {},
     "output_type": "execute_result"
    }
   ],
   "source": [
    "3 * 7"
   ]
  },
  {
   "cell_type": "code",
   "execution_count": 23,
   "id": "9d8a6eaf",
   "metadata": {
    "ExecuteTime": {
     "end_time": "2024-08-21T07:08:13.701389009Z",
     "start_time": "2024-08-21T07:08:13.611879107Z"
    },
    "execution": {
     "iopub.execute_input": "2024-08-23T13:01:48.408882Z",
     "iopub.status.busy": "2024-08-23T13:01:48.408048Z",
     "iopub.status.idle": "2024-08-23T13:01:48.469470Z",
     "shell.execute_reply": "2024-08-23T13:01:48.469108Z"
    }
   },
   "outputs": [
    {
     "data": {
      "text/plain": [
       "57"
      ]
     },
     "execution_count": 23,
     "metadata": {},
     "output_type": "execute_result"
    }
   ],
   "source": [
    "3 * 19"
   ]
  },
  {
   "cell_type": "markdown",
   "id": "a32383c5",
   "metadata": {},
   "source": [
    "\n",
    "Die Lösung funktioniert zwar. Es gibt jedoch ein paar Probleme mit dem\n",
    "Code.\n",
    "\n",
    "-   Wenn wir den Code später ohne die Aufgabe lesen, wissen wir\n",
    "    höchstwahrscheinlich nicht, was wir berechnen wollten.\n",
    "\n",
    "-   Die Multiplikation mit $3$ um eine Länge in Yard in eine Länge in\n",
    "    Fuß umzurechnen taucht zweimal auf. Wenn wir nach der Rechnung\n",
    "    feststellen würden, dass ein Yard tatsächlich $4$ Fuß sind, müssen\n",
    "    wir den Code an beiden Stellen ändern.\n",
    "\n",
    "Beide Probleme kann man mithilfe von Funktion vermeiden.\n",
    "\n",
    "## Grundlegendes zu Funktionen\n",
    "\n",
    "Eine Funktion kann man sich als eine Maschine vorstellen, die je nach\n",
    "*Input* (*Argument*) einen entsprechenden *Output* (*Funktionswert*)\n",
    "produziert. Wenn der Name der Funktion $g$ ist, bezeichnet man für einen\n",
    "*Input* $x$ den dazugehörigen *Output* als $g(x)$. Die\n",
    "Funktionsgleichung gibt an, wie sich der *Output* aus dem *Input*\n",
    "berechnen lässt.\n",
    "\n",
    "<figure id=\"fig: example\" style=\"text-align:center;\">\n",
    "<img src=\"functionmachine-colour.svg\" style=\"width:20.0%\" />\n",
    "<figcaption>Funktionsmaschine</figcaption>\n",
    "</figure>\n",
    "\n",
    "Die Funktionsmaschine der Funktion $g$ mit der Funktionsgleichung\n",
    "$g(x) = 3 \\cdot x$ nimmt eine beliebige Zahl als *Input* und gibt das\n",
    "Produkt dieser Zahl mit $3$ zurück. Wenn z.B. der *Input* die Zahl $4$\n",
    "ist, kann man den *Output* berechnen, indem man $4$ in den Funktionsterm\n",
    "an der Stelle von $x$ einsetzt. Das Ergebnis ist dann\n",
    "$g(4) = 3 \\cdot 4 = 12$.\n",
    "\n",
    "<figure style=\"text-align:center;\">\n",
    "<img src=\"funktionsaufruf_g_4.svg\" style=\"width:20.0%; background-color:white;\" />\n",
    "\n",
    "<figcaption>Berechnung von <span\n",
    "class=\"math inline\"><em>g</em>(4)</span></figcaption>\n",
    "</figure>\n",
    "\n",
    "## Funktionen definieren und aufrufen\n",
    "\n",
    "Die Funktion $g$ steht gerade für die Umrechnung von Yard in Fuß. Wir\n",
    "wollen diese also in Kotlin (mit einem besser lesbaren Namen)\n",
    "implementieren. Dies ist folgendermaßen möglich:\n"
   ]
  },
  {
   "cell_type": "code",
   "execution_count": 24,
   "id": "e459f83d",
   "metadata": {
    "ExecuteTime": {
     "end_time": "2024-08-21T07:08:13.898949015Z",
     "start_time": "2024-08-21T07:08:13.761175465Z"
    },
    "execution": {
     "iopub.execute_input": "2024-08-23T13:01:48.472731Z",
     "iopub.status.busy": "2024-08-23T13:01:48.472130Z",
     "iopub.status.idle": "2024-08-23T13:01:48.552157Z",
     "shell.execute_reply": "2024-08-23T13:01:48.551143Z"
    }
   },
   "outputs": [],
   "source": [
    "fun yardToFeet(lengthInYard: Int): Int = 3 * lengthInYard"
   ]
  },
  {
   "cell_type": "markdown",
   "id": "7f0ee533",
   "metadata": {},
   "source": [
    "\n",
    "<figure style=\"text-align:center;\">\n",
    "<img src=\"skizze_syntax_funktionen.svg\" style=\"width:30.0%; background-color:white;\" />\n",
    "\n",
    "\n",
    "<figcaption>Definition der Funktion <code\n",
    "class=\"sourceCode kotlin\">yardToFeet</code></figcaption>\n",
    "</figure>\n"
   ]
  },
  {
   "cell_type": "markdown",
   "id": "b4a231e6",
   "metadata": {},
   "source": [
    "\n",
    "Anschließend kann sie folgendermaßen im Code aufgerufen werden:"
   ]
  },
  {
   "cell_type": "code",
   "execution_count": 25,
   "id": "30001985-761c-43a5-a9a1-3b1714ae2426",
   "metadata": {
    "ExecuteTime": {
     "end_time": "2024-08-21T07:08:14.003638297Z",
     "start_time": "2024-08-21T07:08:13.917584980Z"
    },
    "execution": {
     "iopub.execute_input": "2024-08-23T13:01:48.557016Z",
     "iopub.status.busy": "2024-08-23T13:01:48.556203Z",
     "iopub.status.idle": "2024-08-23T13:01:48.636259Z",
     "shell.execute_reply": "2024-08-23T13:01:48.635349Z"
    }
   },
   "outputs": [
    {
     "data": {
      "text/plain": [
       "21"
      ]
     },
     "execution_count": 25,
     "metadata": {},
     "output_type": "execute_result"
    }
   ],
   "source": [
    "yardToFeet(7)"
   ]
  },
  {
   "cell_type": "code",
   "execution_count": 26,
   "id": "b8e7bfb9",
   "metadata": {
    "ExecuteTime": {
     "end_time": "2024-08-21T07:08:14.135129081Z",
     "start_time": "2024-08-21T07:08:14.027489715Z"
    },
    "execution": {
     "iopub.execute_input": "2024-08-23T13:01:48.642140Z",
     "iopub.status.busy": "2024-08-23T13:01:48.641237Z",
     "iopub.status.idle": "2024-08-23T13:01:48.721962Z",
     "shell.execute_reply": "2024-08-23T13:01:48.720983Z"
    }
   },
   "outputs": [
    {
     "data": {
      "text/plain": [
       "57"
      ]
     },
     "execution_count": 26,
     "metadata": {},
     "output_type": "execute_result"
    }
   ],
   "source": [
    "yardToFeet(19)"
   ]
  },
  {
   "cell_type": "markdown",
   "id": "fd1df232-8afb-40c2-843c-502cf3ce1240",
   "metadata": {},
   "source": [
    "1.  Eine Funktionsdefinition beginnt immer mit dem Schlüsselwort `fun`.\n",
    "\n",
    "2.  Dahinter steht der Name der Funktion (hier: `yardToFeet`). Für die Namen von Funktionen gelten dieselben Regeln wie für die\n",
    "Namen von Variablen.\n",
    "\n",
    "3.  Das `lengthInYard` in der runden Klammer ist ein Platzhalter\n",
    "    (*Parameter*) für einen konkreten Wert (Argument), der beim Aufruf\n",
    "    übergeben werden muss. Mit `: Int` wird angegeben, das beim\n",
    "    Funktionsaufruf für diesen *Parameter* ein *Integer* übergeben\n",
    "    werden muss. Z.B. werden in den Funktionsaufrufen oben die *Integer*\n",
    "    `7` und `19` übergeben.\n",
    "\n",
    "4.  Auch hinter der schließenden runden Klammer steht `: Int`. Hiermit wird angegeben, dass der Rückgabewert der Funktion\n",
    "    immer ein *Integer* ist. \n",
    "\n",
    "5.  Jetzt folgt ein Gleichheitszeichen. Der Teil der Funktionsdefinition vor diesem Gleichheitszeichen wird *Funktionskopf*\n",
    "    genannt.\n",
    "\n",
    "6.  Dahinter folgt ein *Ausdruck*. Dieser kann den *Parameter* der\n",
    "    Funktion enthalten. Beim Funktionsaufruf wird dieser Parameter durch\n",
    "    den übergebenen *Wert* des *Arguments* ersetzt. Beim Aufruf von\n",
    "    `yardToFeet(7)` wird also in dem *Ausdruck* `3 * lengthInYard`\n",
    "    der *Parameter* `lengthInYard` durch den *Wert* `7` ersetzt. Der\n",
    "    *Ausdruck* `3 * 7` wird dann zu `21` ausgewertet und zurückgegeben.\n",
    "    Anders ausgedrückt, wird der *Ausdruck* `yardToFeet(7)` zu `21`\n",
    "    ausgewertet.\n",
    "\n",
    "\n",
    "## Syntaxfehler\n",
    "\n",
    "In großen Skripten kann es schnell schwer werden, Syntaxfehler zu\n",
    "finden.\n"
   ]
  },
  {
   "cell_type": "code",
   "execution_count": 27,
   "id": "89531f76",
   "metadata": {
    "ExecuteTime": {
     "end_time": "2024-08-21T07:08:14.237724853Z",
     "start_time": "2024-08-21T07:08:14.190154134Z"
    },
    "execution": {
     "iopub.execute_input": "2024-08-23T13:01:48.728301Z",
     "iopub.status.busy": "2024-08-23T13:01:48.726821Z",
     "iopub.status.idle": "2024-08-23T13:01:48.737726Z",
     "shell.execute_reply": "2024-08-23T13:01:48.737147Z"
    }
   },
   "outputs": [
    {
     "name": "stderr",
     "output_type": "stream",
     "text": [
      "Line_26.jupyter.kts (3:14 - 14) Type reference expected\n",
      "Line_26.jupyter.kts (3:31 - 31) Expecting comma or ')'\n",
      "Line_26.jupyter.kts (3:31 - 31) Expecting ')'"
     ]
    }
   ],
   "source": [
    "fun double(x: Int): Int = 2 * x\n",
    "    \n",
    "fun square(x: Int :Int = x * x"
   ]
  },
  {
   "cell_type": "markdown",
   "id": "11ceeb97",
   "metadata": {},
   "source": [
    "\n",
    "Deshalb zeigt Kotlin beim Ausführen genau an, in welcher Zeile der Fehler aufgetreten ist.\n",
    "\n",
    "Darunter wird angezeigt, an\n",
    "welcher Stelle welches Zeichen erwartet wurde.\n",
    "\n",
    "## Kommentare\n",
    "\n",
    "Hinter zwei Schrägstrichen (`//`) muss kein korrekter Kotlin-Code stehen."
   ]
  },
  {
   "cell_type": "code",
   "execution_count": 28,
   "id": "4f604f0a",
   "metadata": {
    "ExecuteTime": {
     "end_time": "2024-08-21T07:08:50.073646799Z",
     "start_time": "2024-08-21T07:08:49.972654340Z"
    },
    "execution": {
     "iopub.execute_input": "2024-08-23T13:01:48.741614Z",
     "iopub.status.busy": "2024-08-23T13:01:48.740879Z",
     "iopub.status.idle": "2024-08-23T13:01:48.810143Z",
     "shell.execute_reply": "2024-08-23T13:01:48.809614Z"
    }
   },
   "outputs": [],
   "source": [
    "// Umrechnung von Fuß in Zoll\n",
    "fun feetToInch(lengthInFeet: Int): Int = 12 * lengthInFeet"
   ]
  },
  {
   "cell_type": "markdown",
   "id": "a537fb35",
   "metadata": {},
   "source": [
    "\n",
    "Dies kann genutzt werden, um den Code zu erklären und zu strukturieren.\n",
    "\n",
    "## Funktionsaufrufe und Ausdrücke\n",
    "\n",
    "Funktionsaufrufe können in *Ausdrücken* mit *Operatoren* und *Literalen*\n",
    "kombiniert werden."
   ]
  },
  {
   "cell_type": "code",
   "execution_count": 29,
   "id": "c83aa71c-1328-411c-896b-7698f82e3d58",
   "metadata": {
    "ExecuteTime": {
     "end_time": "2024-08-21T07:08:52.369122241Z",
     "start_time": "2024-08-21T07:08:52.276395825Z"
    },
    "execution": {
     "iopub.execute_input": "2024-08-23T13:01:48.814217Z",
     "iopub.status.busy": "2024-08-23T13:01:48.813482Z",
     "iopub.status.idle": "2024-08-23T13:01:48.892887Z",
     "shell.execute_reply": "2024-08-23T13:01:48.892505Z"
    }
   },
   "outputs": [
    {
     "data": {
      "text/plain": [
       "252"
      ]
     },
     "execution_count": 29,
     "metadata": {},
     "output_type": "execute_result"
    }
   ],
   "source": [
    "12 * yardToFeet(7)"
   ]
  },
  {
   "cell_type": "markdown",
   "id": "74e22f28-9261-4689-88dc-7058a343e6c8",
   "metadata": {},
   "source": [
    "Als *Argument* einer Funktion muss nicht unbedingt ein *Literal*\n",
    "angegeben werden."
   ]
  },
  {
   "cell_type": "code",
   "execution_count": 30,
   "id": "85450cf1-5b91-4dd4-baec-2506f90e2661",
   "metadata": {
    "ExecuteTime": {
     "end_time": "2024-08-21T07:08:54.726327435Z",
     "start_time": "2024-08-21T07:08:54.644425995Z"
    },
    "execution": {
     "iopub.execute_input": "2024-08-23T13:01:48.898224Z",
     "iopub.status.busy": "2024-08-23T13:01:48.897278Z",
     "iopub.status.idle": "2024-08-23T13:01:48.973273Z",
     "shell.execute_reply": "2024-08-23T13:01:48.972933Z"
    }
   },
   "outputs": [
    {
     "data": {
      "text/plain": [
       "12"
      ]
     },
     "execution_count": 30,
     "metadata": {},
     "output_type": "execute_result"
    }
   ],
   "source": [
    "yardToFeet(2 * 2)"
   ]
  },
  {
   "cell_type": "markdown",
   "id": "494860eb-b72e-43e2-bff8-bea40800972e",
   "metadata": {},
   "source": [
    "Vor dem Funktionsaufruf wird, das *Argument* `2 * 2` ausgewertet. Das\n",
    "Ergebnis `4` wird an die Funktion übergeben.\n",
    "\n",
    "## Funktionen kombinieren\n",
    "\n",
    "In einem *Ausdruck* können wir auch mehrere Funktionsaufrufe\n",
    "kombinieren. Z.B. können wir mit dem folgenden Aufruf $7$ Yard in Zoll\n",
    "umrechnen."
   ]
  },
  {
   "cell_type": "code",
   "execution_count": 31,
   "id": "863399d2-19c3-4b27-8b26-1d290a1ff751",
   "metadata": {
    "ExecuteTime": {
     "end_time": "2024-08-21T07:08:58.179709982Z",
     "start_time": "2024-08-21T07:08:58.040709615Z"
    },
    "execution": {
     "iopub.execute_input": "2024-08-23T13:01:48.976215Z",
     "iopub.status.busy": "2024-08-23T13:01:48.975647Z",
     "iopub.status.idle": "2024-08-23T13:01:49.030198Z",
     "shell.execute_reply": "2024-08-23T13:01:49.029733Z"
    }
   },
   "outputs": [
    {
     "data": {
      "text/plain": [
       "252"
      ]
     },
     "execution_count": 31,
     "metadata": {},
     "output_type": "execute_result"
    }
   ],
   "source": [
    "feetToInch(yardToFeet(7))"
   ]
  },
  {
   "cell_type": "markdown",
   "id": "4acfbf1e-effe-472e-bd20-3899757e86a2",
   "metadata": {},
   "source": [
    "Die Auswertung kann folgendermaßen skizziert werden:\n",
    "\n",
    "<figure style=\"text-align:center\">\n",
    "<img src=\"verkettung_funktionen.svg\" style=\"width:35.0%; background-color:white;\" />\n",
    "\n",
    "<figcaption>Kombination von <code\n",
    "class=\"sourceCode kotlin\">yardToFeet</code> und <code\n",
    "class=\"sourceCode kotlin\">feetToInch</code> </figcaption>\n",
    "</figure>\n",
    "\n",
    "Zunächst wird `yardToFeet(7)` zu `21` ausgewertet. Dieses Ergebnis ist\n",
    "anschließend das *Argument* von `feetToInch`.\n",
    "\n",
    "## Funktionen in anderen Funktionen verwenden\n",
    "\n",
    "Diese Kombination von Funktionsaufrufen ist auch innerhalb von\n",
    "Funktionen nützlich. Wir können z.B. die Funktionen `yard_to_feet`\n",
    "`feet_to_inch` zu einer einzigen Funktion `yard_to_inch` kombinieren."
   ]
  },
  {
   "cell_type": "code",
   "execution_count": 32,
   "id": "6adfef82",
   "metadata": {
    "ExecuteTime": {
     "end_time": "2024-08-21T07:09:01.237572020Z",
     "start_time": "2024-08-21T07:09:01.122700698Z"
    },
    "execution": {
     "iopub.execute_input": "2024-08-23T13:01:49.033552Z",
     "iopub.status.busy": "2024-08-23T13:01:49.032822Z",
     "iopub.status.idle": "2024-08-23T13:01:49.088219Z",
     "shell.execute_reply": "2024-08-23T13:01:49.087883Z"
    }
   },
   "outputs": [],
   "source": [
    "fun yardToInch(lengthInYard: Int): Int = feetToInch(yardToFeet(lengthInYard))"
   ]
  },
  {
   "cell_type": "code",
   "execution_count": 33,
   "id": "e8bc625a-050e-442b-b247-aef754deb08f",
   "metadata": {
    "ExecuteTime": {
     "end_time": "2024-08-21T07:09:02.594092775Z",
     "start_time": "2024-08-21T07:09:02.491354567Z"
    },
    "execution": {
     "iopub.execute_input": "2024-08-23T13:01:49.090930Z",
     "iopub.status.busy": "2024-08-23T13:01:49.090517Z",
     "iopub.status.idle": "2024-08-23T13:01:49.161938Z",
     "shell.execute_reply": "2024-08-23T13:01:49.162126Z"
    }
   },
   "outputs": [
    {
     "data": {
      "text/plain": [
       "252"
      ]
     },
     "execution_count": 33,
     "metadata": {},
     "output_type": "execute_result"
    }
   ],
   "source": [
    "yardToInch(7)"
   ]
  },
  {
   "cell_type": "markdown",
   "id": "68a627ee",
   "metadata": {},
   "source": [
    "## Allgemeinere Schreibweise für Funktionen\n",
    "\n",
    "Die bisher genutzte Schreibweise für Funktionen ist zwar kurz und elegant. Es gibt aber Schreibweise mit der wir beliebige *Statements* in Funktionen verwenden können.\n",
    "Die *Statements* werden bei einem Funktionsaufruf von oben nach unter ausgeführt.\n",
    "\n",
    "\n",
    "Zunächst wollen wir mit der neuen Schreibweise nochmal die Funktion `yardToFeet` implementieren.\n",
    "\n",
    "\n",
    "<figure style=\"text-align:center;\">\n",
    "<img src=\"skizze_syntax_funktionen_2.svg\" style=\"width:30.0%; background-color:white;\" />\n",
    "\n",
    "\n",
    "<figcaption>Definition der Funktion <code\n",
    "class=\"sourceCode kotlin\">yardToFeet</code></figcaption>\n",
    "</figure>\n",
    "\n",
    "Der *Funktionskopf* wird genau so geschrieben, wie wir das oben gesehen haben. Danach folgen:\n",
    "\n",
    "1. Eine öffnende geschweifte Klammer. Dies gibt an, dass hier der *Funktionskörper* beginnt. Er enthält alle *Statements*, die zu der Funktion gehören. In diesem Fall ist das nur das *Statement* in der nächsten Zeile.\n",
    "\n",
    "2. Das Schlüsselwort `return`. Mit diesem wird angegeben, dass die Funktion den *Wert* des darauf folgenden *Ausdrucks* zurückgeben soll.\n",
    "\n",
    "3. Den *Ausdruck* haben wir bei der ersten Implementierung der Funktion schon gesehen. Wie dort gilt, dass *Parameter* durch den übergebenen *Wert* eines *Arguments* ersetzt werden.\n",
    "\n",
    "4. Eine schließende geschweifte Klammer bedeutet, dass hier der *Funktionskörper* endet. Alles, was darauf folgt, gehört **nicht** mehr zu der Funktion."
   ]
  },
  {
   "cell_type": "markdown",
   "id": "36c40c17-620b-4e33-a960-5577caed7f45",
   "metadata": {},
   "source": [
    "## Zuweisungsstatements in Funktionen\n",
    "\n",
    "Die Funktion im letzten Abschnitt enthält nur ein einziges\n",
    "`return`-*Statement*, mit dem angegeben wird, was die Funktion\n",
    "zurückgeben soll.\n",
    "\n",
    "Dies muss nicht so sein. Wir können mit der neuen Schreibweise in Funktionen beliebige andere\n",
    "*Statements* verwenden. Dafür schreiben wir diese ebenfalls in die geschweifte Klammern hinter dem Funktionskopf. \n",
    "\n",
    "In der folgenden\n",
    "Variante der Funktion `YardToInch` werden *Zuweisungsstatements* verwendet.\n"
   ]
  },
  {
   "cell_type": "code",
   "execution_count": 34,
   "id": "cabca810",
   "metadata": {
    "ExecuteTime": {
     "end_time": "2024-08-21T07:09:06.923886855Z",
     "start_time": "2024-08-21T07:09:06.783064349Z"
    },
    "execution": {
     "iopub.execute_input": "2024-08-23T13:01:49.165678Z",
     "iopub.status.busy": "2024-08-23T13:01:49.164776Z",
     "iopub.status.idle": "2024-08-23T13:01:49.243259Z",
     "shell.execute_reply": "2024-08-23T13:01:49.242766Z"
    }
   },
   "outputs": [],
   "source": [
    "fun yardToInch(lengthInYard: Int): Int {\n",
    "    val lengthInFeet = yardToFeet(lengthInYard)\n",
    "    val lengthInInch = feetToInch(lengthInFeet)\n",
    "    return lengthInInch\n",
    "}"
   ]
  },
  {
   "cell_type": "markdown",
   "id": "6f5c9f26",
   "metadata": {},
   "source": [
    "\n",
    "Um sich die Auswertung dieser Funktion vorzustellen, ist es sinnvoll die\n",
    "*Parameter* als *lokale Variablen* zu sehen, die schon vor dem Ausführen\n",
    "der *Statements* in der Funktion definiert sind. Beim folgenden\n",
    "Funktionsaufruf"
   ]
  },
  {
   "cell_type": "code",
   "execution_count": 35,
   "id": "309cf75f-dec9-4b75-ac23-153ba758f613",
   "metadata": {
    "ExecuteTime": {
     "end_time": "2024-08-21T07:09:14.388247751Z",
     "start_time": "2024-08-21T07:09:14.299641441Z"
    },
    "execution": {
     "iopub.execute_input": "2024-08-23T13:01:49.247080Z",
     "iopub.status.busy": "2024-08-23T13:01:49.246370Z",
     "iopub.status.idle": "2024-08-23T13:01:49.308053Z",
     "shell.execute_reply": "2024-08-23T13:01:49.307702Z"
    }
   },
   "outputs": [
    {
     "data": {
      "text/plain": [
       "72"
      ]
     },
     "execution_count": 35,
     "metadata": {},
     "output_type": "execute_result"
    }
   ],
   "source": [
    "yardToInch(2)"
   ]
  },
  {
   "cell_type": "markdown",
   "id": "5dafd605-363d-4fa6-83f7-2827830501c7",
   "metadata": {},
   "source": [
    "gibt es **bevor** die erste Zeile im *Funktionskörper* ausgeführt wurde\n",
    "die folgenden *Variablen*:\n",
    "\n",
    "| Name           | Wert |\n",
    "|:---------------|-----:|\n",
    "| `lengthInYard` |    2 |\n",
    "\n",
    "Nachdem die beiden ersten Statements im *Funktionskörper* ausgeführt\n",
    "wurden, gibt es die folgenden *Variablen*:\n",
    "\n",
    "| Name           | Wert |\n",
    "|:---------------|-----:|\n",
    "| `lengthInYard` |    2 |\n",
    "| `lengthInFeet` |    6 |\n",
    "| `lengthInInch` |   72 |\n",
    "\n",
    "In der letzten Zeile muss dann lediglich der *Wert* der *Variable*\n",
    "`lengthInInch` zurückgegeben werden.\n",
    "\n",
    "## Geltungsbereiche\n",
    "\n",
    "Wenn eine *Variable* in einer Funktion *initialisiert* wird, kann diese\n",
    "nicht von außen verwendet werden. Man spricht in diesem Fall von einer\n",
    "*lokalen Variablen* im Unterschied zu einer *globalen Variablen*."
   ]
  },
  {
   "cell_type": "code",
   "execution_count": 36,
   "id": "a998c255-ced2-45ac-b4ff-57e6fc9f5dd9",
   "metadata": {
    "ExecuteTime": {
     "end_time": "2024-08-21T07:09:14.711435738Z",
     "start_time": "2024-08-21T07:09:14.510715002Z"
    },
    "execution": {
     "iopub.execute_input": "2024-08-23T13:01:49.311230Z",
     "iopub.status.busy": "2024-08-23T13:01:49.310759Z",
     "iopub.status.idle": "2024-08-23T13:01:49.346912Z",
     "shell.execute_reply": "2024-08-23T13:01:49.345766Z"
    }
   },
   "outputs": [
    {
     "name": "stderr",
     "output_type": "stream",
     "text": [
      "Line_35.jupyter.kts (2:1 - 13) Unresolved reference: lengthInFeet"
     ]
    }
   ],
   "source": [
    "yardToInch(2)\n",
    "lengthInFeet"
   ]
  },
  {
   "cell_type": "markdown",
   "id": "969e9a06-1902-4864-93ba-65b3df003409",
   "metadata": {},
   "source": [
    "Es ist aber möglich, eine *Variable*, die außerhalb einer Funktion\n",
    "definiert wurde, in dieser Funktion zu verwenden."
   ]
  },
  {
   "cell_type": "code",
   "execution_count": 37,
   "id": "e35eda32",
   "metadata": {
    "ExecuteTime": {
     "end_time": "2024-08-21T07:09:24.886172601Z",
     "start_time": "2024-08-21T07:09:24.686882225Z"
    },
    "execution": {
     "iopub.execute_input": "2024-08-23T13:01:49.358091Z",
     "iopub.status.busy": "2024-08-23T13:01:49.355537Z",
     "iopub.status.idle": "2024-08-23T13:01:49.428766Z",
     "shell.execute_reply": "2024-08-23T13:01:49.427886Z"
    }
   },
   "outputs": [],
   "source": [
    "val yardToFeetRatio = 3\n",
    "\n",
    "fun yardToFeet(lengthInYard: Int): Int {\n",
    "    return yardToFeetRatio * lengthInYard\n",
    "}"
   ]
  },
  {
   "cell_type": "code",
   "execution_count": 38,
   "id": "e4335515-23c5-4d75-b53b-6d2987736b83",
   "metadata": {
    "ExecuteTime": {
     "end_time": "2024-08-21T07:09:24.977442760Z",
     "start_time": "2024-08-21T07:09:24.903207422Z"
    },
    "execution": {
     "iopub.execute_input": "2024-08-23T13:01:49.436291Z",
     "iopub.status.busy": "2024-08-23T13:01:49.435465Z",
     "iopub.status.idle": "2024-08-23T13:01:49.487004Z",
     "shell.execute_reply": "2024-08-23T13:01:49.486587Z"
    }
   },
   "outputs": [
    {
     "data": {
      "text/plain": [
       "9"
      ]
     },
     "execution_count": 38,
     "metadata": {},
     "output_type": "execute_result"
    }
   ],
   "source": [
    "yardToFeet(3)"
   ]
  },
  {
   "cell_type": "markdown",
   "id": "0925cfc1-d84d-4971-91e3-0bd1ceb25732",
   "metadata": {},
   "source": [
    "Generell gilt, dass *Variablen*, die innerhalb eines Blocks (z. B. hier\n",
    "dem Funktionskörper) definiert wurden, nur in diesem und nicht außerhalb\n",
    "verwendet werden. Wir werden solche Blöcke noch bei der *bedingten\n",
    "Ausführung* und bei *Schleifen* kennenlernen.\n",
    "\n",
    "\n",
    "## Shadowing\n",
    "\n",
    "Wir können in einer Funktion <a name=\"cite_ref-1\"></a>[<sup>[1]</sup>](#cite_note-1) eine *lokale Variable* mit einem Namen, der schon für eine *globale Variable* genutzt wird, initialisieren. In der Funktion kann die *globale Variable* danach nicht mehr verwendet werden, da die *lokale Variable* diese verdeckt (verschattet).\n"
   ]
  },
  {
   "cell_type": "code",
   "execution_count": 39,
   "id": "3a6fbdbf",
   "metadata": {
    "ExecuteTime": {
     "end_time": "2024-08-21T07:09:25.142225078Z",
     "start_time": "2024-08-21T07:09:24.997499475Z"
    },
    "execution": {
     "iopub.execute_input": "2024-08-23T13:01:49.490199Z",
     "iopub.status.busy": "2024-08-23T13:01:49.489758Z",
     "iopub.status.idle": "2024-08-23T13:01:49.548456Z",
     "shell.execute_reply": "2024-08-23T13:01:49.548649Z"
    }
   },
   "outputs": [
    {
     "data": {
      "text/plain": [
       "12"
      ]
     },
     "execution_count": 39,
     "metadata": {},
     "output_type": "execute_result"
    }
   ],
   "source": [
    "val x = 3\n",
    "\n",
    "fun shadow(a: Int): Int{\n",
    "    val x = 4\n",
    "    return x * a\n",
    "}\n",
    "shadow(3)"
   ]
  },
  {
   "cell_type": "markdown",
   "id": "ef75c938",
   "metadata": {},
   "source": [
    "\n",
    "Die globale *Variable* wird dadurch nicht geändert.\n"
   ]
  },
  {
   "cell_type": "code",
   "execution_count": 40,
   "id": "41880d15",
   "metadata": {
    "ExecuteTime": {
     "end_time": "2024-08-21T07:09:25.254658884Z",
     "start_time": "2024-08-21T07:09:25.157769645Z"
    },
    "execution": {
     "iopub.execute_input": "2024-08-23T13:01:49.550339Z",
     "iopub.status.busy": "2024-08-23T13:01:49.550015Z",
     "iopub.status.idle": "2024-08-23T13:01:49.591720Z",
     "shell.execute_reply": "2024-08-23T13:01:49.591915Z"
    }
   },
   "outputs": [
    {
     "data": {
      "text/plain": [
       "3"
      ]
     },
     "execution_count": 40,
     "metadata": {},
     "output_type": "execute_result"
    }
   ],
   "source": [
    "x"
   ]
  },
  {
   "cell_type": "markdown",
   "id": "6dc61bbe",
   "metadata": {},
   "source": [
    "\n",
    "## Funktionen prüfen\n",
    "\n",
    "Bisher haben wir, um zu sehen, ob eine Funktion korrekt arbeitet, diese\n",
    "in der Shell aufgerufen.\n",
    "\n",
    "Dies kann man aber auch mit der Funktion `assertEquals` erreichen. Diese muss zunächst importiert werden."
   ]
  },
  {
   "cell_type": "code",
   "execution_count": 41,
   "id": "51ceb6801606bc2b",
   "metadata": {
    "ExecuteTime": {
     "end_time": "2024-08-21T07:49:18.481284580Z",
     "start_time": "2024-08-21T07:49:18.361910410Z"
    },
    "execution": {
     "iopub.execute_input": "2024-08-23T13:01:49.594473Z",
     "iopub.status.busy": "2024-08-23T13:01:49.594067Z",
     "iopub.status.idle": "2024-08-23T13:01:49.603811Z",
     "shell.execute_reply": "2024-08-23T13:01:49.603370Z"
    }
   },
   "outputs": [
    {
     "name": "stderr",
     "output_type": "stream",
     "text": [
      "Line_40.jupyter.kts (1:15 - 19) Unresolved reference: test"
     ]
    }
   ],
   "source": [
    "import kotlin.test.assertEquals"
   ]
  },
  {
   "cell_type": "markdown",
   "id": "ef8ca6e53e873146",
   "metadata": {},
   "source": [
    "Der *Rückgabewert* der Funktion ist immer der *Wert* `Unit` vom *Typ* `Unit`. Dieser *Wert* enthält keine Information. Die Funktion ist nützlich, weil sie in manchen Fällen das Programm dadurch unterbricht und einen Fehler anzeigt.\n",
    "\n",
    "Dieser Funktion werden zwei *Argumente* übergeben. Wenn beide gleich sind, passiert nichts. "
   ]
  },
  {
   "cell_type": "code",
   "execution_count": 42,
   "id": "4e379c3c-b1cb-4f76-a5be-1aa9b696a486",
   "metadata": {
    "ExecuteTime": {
     "end_time": "2024-08-21T07:49:23.079405434Z",
     "start_time": "2024-08-21T07:49:22.846333472Z"
    },
    "execution": {
     "iopub.execute_input": "2024-08-23T13:01:49.606299Z",
     "iopub.status.busy": "2024-08-23T13:01:49.605734Z",
     "iopub.status.idle": "2024-08-23T13:01:49.632921Z",
     "shell.execute_reply": "2024-08-23T13:01:49.630165Z"
    }
   },
   "outputs": [
    {
     "name": "stderr",
     "output_type": "stream",
     "text": [
      "Line_41.jupyter.kts (1:1 - 13) Unresolved reference: assertEquals"
     ]
    }
   ],
   "source": [
    "assertEquals(4, 4)"
   ]
  },
  {
   "cell_type": "markdown",
   "id": "c4647a49-e130-49a2-893a-8df88afb9428",
   "metadata": {},
   "source": [
    "<figure style=\"text-align:center;\">\n",
    "<img src=\"funktionsaufruf_assertEqual_4_4.svg\" style=\"width:30.0%; background-color:white;\" />\n",
    "\n",
    "\n",
    "<figcaption>Funktionsaufruf <code\n",
    "class=\"sourceCode kotlin\">assertEquals(4, 4)</code></figcaption>\n",
    "</figure>\n",
    "\n",
    "Wenn dies nicht der Fall ist, wird ein `AssertionError` angezeigt. "
   ]
  },
  {
   "cell_type": "code",
   "execution_count": 43,
   "id": "19ec554af8d2498a",
   "metadata": {
    "ExecuteTime": {
     "end_time": "2024-08-21T07:09:25.509766053Z",
     "start_time": "2024-08-21T07:09:25.433455868Z"
    },
    "execution": {
     "iopub.execute_input": "2024-08-23T13:01:49.641431Z",
     "iopub.status.busy": "2024-08-23T13:01:49.639893Z",
     "iopub.status.idle": "2024-08-23T13:01:49.660609Z",
     "shell.execute_reply": "2024-08-23T13:01:49.660100Z"
    }
   },
   "outputs": [
    {
     "name": "stderr",
     "output_type": "stream",
     "text": [
      "Line_42.jupyter.kts (1:1 - 13) Unresolved reference: assertEquals"
     ]
    }
   ],
   "source": [
    "assertEquals(3, 4)"
   ]
  },
  {
   "cell_type": "markdown",
   "id": "cf61daa2a692268d",
   "metadata": {},
   "source": [
    "<figure style=\"text-align:center;\">\n",
    "<img src=\"funktionsaufruf_assertEqual_3_4.svg\" style=\"width:30.0%; background-color:white;\" />\n",
    "\n",
    "\n",
    "<figcaption>Funktionsaufruf <code\n",
    "class=\"sourceCode kotlin\">assertEquals(3, 4)</code></figcaption>\n",
    "</figure>\n",
    "\n",
    "In diesem werden wir informiert, dass anstatt des zweiten *Werts* nochmal der erste *Wert* erwartet worden wäre. Dies können wir nutzen um zu prüfen, ob eine Funktion für einen bestimmten *Input* den richtigen *Output* berechnet. "
   ]
  },
  {
   "cell_type": "code",
   "execution_count": 44,
   "id": "9a47940bb1d8482b",
   "metadata": {
    "ExecuteTime": {
     "end_time": "2024-08-21T07:09:35.093185522Z",
     "start_time": "2024-08-21T07:09:34.953154016Z"
    },
    "execution": {
     "iopub.execute_input": "2024-08-23T13:01:49.669062Z",
     "iopub.status.busy": "2024-08-23T13:01:49.666044Z",
     "iopub.status.idle": "2024-08-23T13:01:49.711035Z",
     "shell.execute_reply": "2024-08-23T13:01:49.710643Z"
    }
   },
   "outputs": [
    {
     "name": "stderr",
     "output_type": "stream",
     "text": [
      "Line_43.jupyter.kts (1:1 - 13) Unresolved reference: assertEquals\n",
      "Line_43.jupyter.kts (2:1 - 13) Unresolved reference: assertEquals"
     ]
    }
   ],
   "source": [
    "assertEquals(72, yardToInch(2))\n",
    "assertEquals(108, yardToInch(3))"
   ]
  },
  {
   "cell_type": "markdown",
   "id": "75d49478-c590-4197-92db-bae33711b159",
   "metadata": {},
   "source": [
    "Es ist sinnvoll, solche Überprüfungen selbst in eine Funktion\n",
    "auszulagern."
   ]
  },
  {
   "cell_type": "code",
   "execution_count": 45,
   "id": "f6d439a2",
   "metadata": {
    "ExecuteTime": {
     "end_time": "2024-08-21T07:11:19.613619035Z",
     "start_time": "2024-08-21T07:11:19.476551860Z"
    },
    "execution": {
     "iopub.execute_input": "2024-08-23T13:01:49.713436Z",
     "iopub.status.busy": "2024-08-23T13:01:49.713014Z",
     "iopub.status.idle": "2024-08-23T13:01:49.764291Z",
     "shell.execute_reply": "2024-08-23T13:01:49.762184Z"
    }
   },
   "outputs": [
    {
     "name": "stderr",
     "output_type": "stream",
     "text": [
      "Line_44.jupyter.kts (2:5 - 17) Unresolved reference: assertEquals\n",
      "Line_44.jupyter.kts (3:5 - 17) Unresolved reference: assertEquals\n",
      "Line_44.jupyter.kts (4:5 - 17) Unresolved reference: assertEquals"
     ]
    }
   ],
   "source": [
    "fun testTardToInch(): Unit {\n",
    "    assertEquals(36, yardToInch(1))\n",
    "    assertEquals(72, yardToInch(2))\n",
    "    assertEquals(108, yardToInch(3))\n",
    "}"
   ]
  },
  {
   "cell_type": "code",
   "execution_count": 46,
   "id": "8b01225b-b6fa-4711-a604-659e1efcefb5",
   "metadata": {
    "ExecuteTime": {
     "end_time": "2024-08-21T07:11:21.727662407Z",
     "start_time": "2024-08-21T07:11:21.657368141Z"
    },
    "execution": {
     "iopub.execute_input": "2024-08-23T13:01:49.773062Z",
     "iopub.status.busy": "2024-08-23T13:01:49.772220Z",
     "iopub.status.idle": "2024-08-23T13:01:49.794662Z",
     "shell.execute_reply": "2024-08-23T13:01:49.794190Z"
    }
   },
   "outputs": [
    {
     "name": "stderr",
     "output_type": "stream",
     "text": [
      "Line_45.jupyter.kts (1:1 - 15) Unresolved reference: testTardToInch"
     ]
    }
   ],
   "source": [
    "testTardToInch()"
   ]
  },
  {
   "cell_type": "markdown",
   "id": "48305245-bf34-4660-9460-6092b26ff0a4",
   "metadata": {},
   "source": [
    "Da hier kein `AssertionError` angezeigt wurde, hat die Funktion den Test\n",
    "bestanden.\n",
    "\n",
    "## Funktionen mit mehreren Parametern\n",
    "\n",
    "Funktionen können auch mehrere oder gar keine *Parameter* haben. Die\n",
    "*Parameter* stehen in den runden Klammern hinter dem Funktionsnamen.\n",
    "Zwischen zwei *Parameter* schreibt man ein Komma.\n"
   ]
  },
  {
   "cell_type": "code",
   "execution_count": 47,
   "id": "217cfd70",
   "metadata": {
    "ExecuteTime": {
     "end_time": "2024-08-21T07:11:29.101125137Z",
     "start_time": "2024-08-21T07:11:29.019338985Z"
    },
    "execution": {
     "iopub.execute_input": "2024-08-23T13:01:49.804799Z",
     "iopub.status.busy": "2024-08-23T13:01:49.802594Z",
     "iopub.status.idle": "2024-08-23T13:01:49.855629Z",
     "shell.execute_reply": "2024-08-23T13:01:49.855260Z"
    }
   },
   "outputs": [],
   "source": [
    "fun constantZero(): Int = 0"
   ]
  },
  {
   "cell_type": "code",
   "execution_count": 48,
   "id": "8841bb8d",
   "metadata": {
    "ExecuteTime": {
     "end_time": "2024-08-21T07:11:29.318319315Z",
     "start_time": "2024-08-21T07:11:29.183623623Z"
    },
    "execution": {
     "iopub.execute_input": "2024-08-23T13:01:49.858447Z",
     "iopub.status.busy": "2024-08-23T13:01:49.857757Z",
     "iopub.status.idle": "2024-08-23T13:01:49.909513Z",
     "shell.execute_reply": "2024-08-23T13:01:49.908964Z"
    }
   },
   "outputs": [],
   "source": [
    "fun sumOfSquares(pA: Int, pB: Int): Int = pA * pA + pB * pB"
   ]
  },
  {
   "cell_type": "markdown",
   "id": "b2df1620",
   "metadata": {},
   "source": [
    "\n",
    "Beim Aufruf der Funktion muss dann die entsprechende Anzahl an\n",
    "*Argumenten* in Klammern übergeben werden. Auch die *Argumente* werden\n",
    "durch Kommas voneinander getrennt."
   ]
  },
  {
   "cell_type": "code",
   "execution_count": 49,
   "id": "2ea8c2ba-a413-4c57-a8e0-e6eb9927b3d2",
   "metadata": {
    "ExecuteTime": {
     "end_time": "2024-08-21T07:11:29.505097336Z",
     "start_time": "2024-08-21T07:11:29.393746966Z"
    },
    "execution": {
     "iopub.execute_input": "2024-08-23T13:01:49.912910Z",
     "iopub.status.busy": "2024-08-23T13:01:49.912124Z",
     "iopub.status.idle": "2024-08-23T13:01:49.963616Z",
     "shell.execute_reply": "2024-08-23T13:01:49.963808Z"
    }
   },
   "outputs": [
    {
     "data": {
      "text/plain": [
       "0"
      ]
     },
     "execution_count": 49,
     "metadata": {},
     "output_type": "execute_result"
    }
   ],
   "source": [
    "constantZero()"
   ]
  },
  {
   "cell_type": "code",
   "execution_count": 50,
   "id": "6b7bff84",
   "metadata": {
    "ExecuteTime": {
     "end_time": "2024-08-21T07:11:29.622770238Z",
     "start_time": "2024-08-21T07:11:29.532911053Z"
    },
    "execution": {
     "iopub.execute_input": "2024-08-23T13:01:49.965812Z",
     "iopub.status.busy": "2024-08-23T13:01:49.965271Z",
     "iopub.status.idle": "2024-08-23T13:01:50.010894Z",
     "shell.execute_reply": "2024-08-23T13:01:50.010641Z"
    }
   },
   "outputs": [
    {
     "data": {
      "text/plain": [
       "13"
      ]
     },
     "execution_count": 50,
     "metadata": {},
     "output_type": "execute_result"
    }
   ],
   "source": [
    "sumOfSquares(2, 3)"
   ]
  },
  {
   "cell_type": "markdown",
   "id": "2f07a0cc",
   "metadata": {},
   "source": [
    "<a name=\"cite_note-1\"></a>1. [^](#cite_ref-1) oder einem anderen Block"
   ]
  },
  {
   "cell_type": "markdown",
   "id": "db068cd34f328da2",
   "metadata": {},
   "source": [
    "# Strings\n",
    "\n",
    "## Strings sind Werte\n",
    "\n",
    "Alle *Werte*, die wir bis jetzt genutzt haben, waren ganze Zahlen\n",
    "(*Integer*). Es gibt aber noch völlig andere *Werte* wie z.B. die\n",
    "Zeichenketten (*Strings*) `\"Hello\"`, `\"^._.^\"` und `\"12345\"` . *Strings*\n",
    "beginnen und enden mit einem Anführungszeichen (`\"`).\n",
    "\n",
    "Da *Strings* *Werte* sind, können wir diese in *Ausdrücken* verwenden.\n",
    "Eine *Operation*, die mit zwei *Strings* durchgeführt werden kann, ist\n",
    "die *String*-Addition. Hierbei wird dasselbe `+` wie bei der Addition\n",
    "von Zahlen verwendet. Die *Strings* werden mit dieser *Operation* aber\n",
    "aneinander gehängt."
   ]
  },
  {
   "cell_type": "code",
   "execution_count": 51,
   "id": "1f7c3931c45606d0",
   "metadata": {
    "ExecuteTime": {
     "end_time": "2024-08-19T15:00:41.035723141Z",
     "start_time": "2024-08-19T15:00:40.933908445Z"
    },
    "execution": {
     "iopub.execute_input": "2024-08-23T13:01:50.013744Z",
     "iopub.status.busy": "2024-08-23T13:01:50.013219Z",
     "iopub.status.idle": "2024-08-23T13:01:50.054161Z",
     "shell.execute_reply": "2024-08-23T13:01:50.054388Z"
    }
   },
   "outputs": [
    {
     "data": {
      "text/plain": [
       "hallotschüss"
      ]
     },
     "execution_count": 51,
     "metadata": {},
     "output_type": "execute_result"
    }
   ],
   "source": [
    "\"hallo\" + \"tschüss\""
   ]
  },
  {
   "cell_type": "code",
   "execution_count": 52,
   "id": "4f5eb3ab",
   "metadata": {
    "ExecuteTime": {
     "end_time": "2024-08-19T14:55:18.431240274Z",
     "start_time": "2024-08-19T14:55:18.322311289Z"
    },
    "execution": {
     "iopub.execute_input": "2024-08-23T13:01:50.056575Z",
     "iopub.status.busy": "2024-08-23T13:01:50.056079Z",
     "iopub.status.idle": "2024-08-23T13:01:50.112497Z",
     "shell.execute_reply": "2024-08-23T13:01:50.112230Z"
    }
   },
   "outputs": [
    {
     "data": {
      "text/plain": [
       "123456789"
      ]
     },
     "execution_count": 52,
     "metadata": {},
     "output_type": "execute_result"
    }
   ],
   "source": [
    "\"123\" + \"456\" + \"789\""
   ]
  },
  {
   "cell_type": "markdown",
   "id": "4844428e-7691-4bd6-9acc-aa2d3707d166",
   "metadata": {},
   "source": [
    "Hierbei ist es egal, dass die *Strings* im letzten Beispiel Zahlen\n",
    "darstellen. Durch die Anführungszeichen handelt es sich z.B. bei `\"123\"` um ein\n",
    "*String-Literal* und **nicht** um einen *Integer*. Wir können damit also\n",
    "keine *Integer*-Addition durchführen.\n"
   ]
  },
  {
   "cell_type": "markdown",
   "id": "21b36501-6e32-40b8-816d-88e1324f987d",
   "metadata": {},
   "source": [
    "## Strings und Variablennamen\n",
    "\n",
    "*Strings* kann man, wie alle anderen *Werte*, in *Variablen* speichern."
   ]
  },
  {
   "cell_type": "code",
   "execution_count": 53,
   "id": "a16d27cd-401b-41c2-be84-568e9802a816",
   "metadata": {
    "ExecuteTime": {
     "end_time": "2024-08-19T14:55:18.575125251Z",
     "start_time": "2024-08-19T14:55:18.457133594Z"
    },
    "execution": {
     "iopub.execute_input": "2024-08-23T13:01:50.115241Z",
     "iopub.status.busy": "2024-08-23T13:01:50.114677Z",
     "iopub.status.idle": "2024-08-23T13:01:50.164314Z",
     "shell.execute_reply": "2024-08-23T13:01:50.163844Z"
    }
   },
   "outputs": [],
   "source": [
    "val bat = \"^._.^\""
   ]
  },
  {
   "cell_type": "markdown",
   "id": "e2bee60cd3bfe140",
   "metadata": {},
   "source": [
    "<figure style=\"text-align:center;\">\n",
    "<img src=\"string_variable_box.svg\" style=\"width:25.0%\"/>\n",
    "<figcaption>Variable <code class=\"sourceCode kotlin\">bat</code>\n",
    "</figcaption>\n",
    "</figure>\n",
    "\n",
    "Auf der rechten Seite des Zuweisungsoperators werden Anführungszeichen\n",
    "verwendet, aber nicht auf der linken Seite. Das liegt daran, dass `bat`\n",
    "der Name der *Variable* ist und **kein** String. Der *Wert*, der in\n",
    "dieser *Variable* gespeichert ist, ist der *String* `\"^._.^\"`. Wenn wir\n",
    "die *Variable* in einem *Ausdruck* verwenden, wird sie durch ihren\n",
    "*Wert* ersetzt."
   ]
  },
  {
   "cell_type": "code",
   "execution_count": 54,
   "id": "3d8c6cdede4f7140",
   "metadata": {
    "execution": {
     "iopub.execute_input": "2024-08-23T13:01:50.166901Z",
     "iopub.status.busy": "2024-08-23T13:01:50.166352Z",
     "iopub.status.idle": "2024-08-23T13:01:50.212601Z",
     "shell.execute_reply": "2024-08-23T13:01:50.212816Z"
    }
   },
   "outputs": [
    {
     "data": {
      "text/plain": [
       "A bat looks like this: ^._.^"
      ]
     },
     "execution_count": 54,
     "metadata": {},
     "output_type": "execute_result"
    }
   ],
   "source": [
    "\"A bat looks like this: \" + bat"
   ]
  },
  {
   "cell_type": "markdown",
   "id": "da13aa25bfcb000",
   "metadata": {},
   "source": [
    "\n",
    "\n",
    "Hier steht `\"A bat looks like this: \"` zwischen Anführungszeichen, weil es sich\n",
    "dabei um einen *String* und nicht um einen *Variablennamen* handelt. Wir\n",
    "wollen ja, dass genau das im Ergebnis steht und meinen damit nicht den\n",
    "Inhalt/Wert einer *Variablen*.\n",
    "\n",
    "## Fehler beim Verwechseln von Strings und Variablennamen\n",
    "\n",
    "Wenn wir den *Variablennamen* `bat` zwischen Anführungszeichen schreiben,\n",
    "handelt es sich nicht mehr um den Namen einer *Variablen*, sondern um\n",
    "einen *String* (also einen *Wert*). Dieser *Wert* hat **nichts** mit der\n",
    "*Variablen* zu tun und taucht also unverändert im Ergebnis auf."
   ]
  },
  {
   "cell_type": "code",
   "execution_count": 55,
   "id": "5929b20df94ff10b",
   "metadata": {
    "execution": {
     "iopub.execute_input": "2024-08-23T13:01:50.215459Z",
     "iopub.status.busy": "2024-08-23T13:01:50.214957Z",
     "iopub.status.idle": "2024-08-23T13:01:50.255283Z",
     "shell.execute_reply": "2024-08-23T13:01:50.255544Z"
    }
   },
   "outputs": [
    {
     "data": {
      "text/plain": [
       "A bat looks like this: bat"
      ]
     },
     "execution_count": 55,
     "metadata": {},
     "output_type": "execute_result"
    }
   ],
   "source": [
    "\"A bat looks like this: \" + \"bat\""
   ]
  },
  {
   "cell_type": "markdown",
   "id": "bbe7fe50-61d8-47f1-8947-8352b8e8df65",
   "metadata": {},
   "source": [
    "Wenn wir die Anführungszeichen um einen String wie `\"looks \"` weglassen,\n",
    "erhalten wir eine Fehlermeldung."
   ]
  },
  {
   "cell_type": "code",
   "execution_count": 56,
   "id": "84bf2298-b0ec-424d-88c1-9f029982b665",
   "metadata": {
    "ExecuteTime": {
     "end_time": "2024-08-19T14:55:19.370345372Z",
     "start_time": "2024-08-19T14:55:19.186643320Z"
    },
    "execution": {
     "iopub.execute_input": "2024-08-23T13:01:50.258370Z",
     "iopub.status.busy": "2024-08-23T13:01:50.257843Z",
     "iopub.status.idle": "2024-08-23T13:01:50.280068Z",
     "shell.execute_reply": "2024-08-23T13:01:50.279679Z"
    }
   },
   "outputs": [
    {
     "name": "stderr",
     "output_type": "stream",
     "text": [
      "Line_55.jupyter.kts (1:1 - 6) Unresolved reference: looks"
     ]
    }
   ],
   "source": [
    "looks"
   ]
  },
  {
   "cell_type": "markdown",
   "id": "21d6d4af-0fdb-4190-8d22-4491df198b29",
   "metadata": {},
   "source": [
    "Kotlin denkt, dass wir eine *Variable* mit dem Namen `looks` verwenden\n",
    "wollen. Eine *Variable* mit diesem Namen ist aber nicht definiert."
   ]
  },
  {
   "cell_type": "markdown",
   "id": "757d3126-5d6b-4558-ab97-330ab3695f10",
   "metadata": {},
   "source": [
    "# Typen\n",
    "\n",
    "## Einteilung von Werten in Typen\n",
    "\n",
    "Wir haben mit *Integern* und *Strings* zwei verschiedene Arten von\n",
    "*Werten* kennengelernt und gesehen, dass mit verschieden Arten von\n",
    "*Werten* unterschiedliche *Operationen* durchgeführt werden können. Eine\n",
    "solche Menge von *Werten*, die bestimmte *Operationen* unterstützen,\n",
    "nennt man *(Daten-)Typ*. Die *Typen*, die wir in diesem Schuljahr kennenlernen werden, sind in der folgenden Abbildung dargestellt.\n",
    "\n",
    "<figure id=\"fig:Typen\" style=\"text-align:center\">\n",
    "<img src=\"datentypen_grafik.svg\" style=\"width:35.0%; background-color:white;\" />\n",
    "\n",
    "<figcaption>Die wichtigsten <em>(Daten-)Typen</em> in\n",
    "Kotlin</figcaption>\n",
    "</figure>\n",
    "\n",
    "`String` steht für *String* und `Int` für *Integer*. Die Abkürzung `Int`\n",
    "haben wir schon genutzt um zu kennzeichnen, dass die *Argumente* und der\n",
    "Rückgabewert einer Funktion *Integer* sind. Die weiteren *Typen* werden\n",
    "wir in den folgenden Kapiteln kennenlernen.\n",
    "\n",
    "## Typfehler\n",
    "\n",
    "*Operation* sind immer nur für bestimmte Kombinationen von *Typen*\n",
    "definiert. Wir haben schon gesehen, dass man einen zwei *Strings* oder zwei *Integer* \n",
    " miteinander addieren kann."
   ]
  },
  {
   "cell_type": "code",
   "execution_count": 57,
   "id": "44a0ca8f",
   "metadata": {
    "ExecuteTime": {
     "end_time": "2024-08-19T15:01:25.971314006Z",
     "start_time": "2024-08-19T15:01:25.838877028Z"
    },
    "execution": {
     "iopub.execute_input": "2024-08-23T13:01:50.283370Z",
     "iopub.status.busy": "2024-08-23T13:01:50.282831Z",
     "iopub.status.idle": "2024-08-23T13:01:50.338935Z",
     "shell.execute_reply": "2024-08-23T13:01:50.339232Z"
    }
   },
   "outputs": [
    {
     "data": {
      "text/plain": [
       "3"
      ]
     },
     "execution_count": 57,
     "metadata": {},
     "output_type": "execute_result"
    }
   ],
   "source": [
    "1 + 2"
   ]
  },
  {
   "cell_type": "code",
   "execution_count": 58,
   "id": "3cd0d2e2",
   "metadata": {
    "ExecuteTime": {
     "end_time": "2024-08-19T15:01:26.277648797Z",
     "start_time": "2024-08-19T15:01:26.069982053Z"
    },
    "execution": {
     "iopub.execute_input": "2024-08-23T13:01:50.342527Z",
     "iopub.status.busy": "2024-08-23T13:01:50.341841Z",
     "iopub.status.idle": "2024-08-23T13:01:50.383467Z",
     "shell.execute_reply": "2024-08-23T13:01:50.383686Z"
    }
   },
   "outputs": [
    {
     "data": {
      "text/plain": [
       "12"
      ]
     },
     "execution_count": 58,
     "metadata": {},
     "output_type": "execute_result"
    }
   ],
   "source": [
    "\"1\" + \"2\""
   ]
  },
  {
   "cell_type": "markdown",
   "id": "3783a75c-f64c-4951-9a6c-f71f3c9a9f62",
   "metadata": {},
   "source": [
    "Wir können aber nicht einen *String* und ein *Integer* addieren."
   ]
  },
  {
   "cell_type": "code",
   "execution_count": 59,
   "id": "7ac4bb68-6d3f-4770-884a-7ced39826c31",
   "metadata": {
    "ExecuteTime": {
     "end_time": "2024-08-19T15:09:28.927902586Z",
     "start_time": "2024-08-19T15:09:28.809819435Z"
    },
    "execution": {
     "iopub.execute_input": "2024-08-23T13:01:50.386519Z",
     "iopub.status.busy": "2024-08-23T13:01:50.385931Z",
     "iopub.status.idle": "2024-08-23T13:01:50.479685Z",
     "shell.execute_reply": "2024-08-23T13:01:50.479094Z"
    }
   },
   "outputs": [
    {
     "name": "stderr",
     "output_type": "stream",
     "text": [
      "Line_58.jupyter.kts (1:3 - 4) None of the following functions can be called with the arguments supplied: \n",
      "public final operator fun plus(other: Byte): Int defined in kotlin.Int\n",
      "public final operator fun plus(other: Double): Double defined in kotlin.Int\n",
      "public final operator fun plus(other: Float): Float defined in kotlin.Int\n",
      "public final operator fun plus(other: Int): Int defined in kotlin.Int\n",
      "public final operator fun plus(other: Long): Long defined in kotlin.Int\n",
      "public final operator fun plus(other: Short): Int defined in kotlin.Int"
     ]
    }
   ],
   "source": [
    "1 + \"2\""
   ]
  },
  {
   "cell_type": "markdown",
   "id": "ddc4cbf3-2695-4b57-ba61-e3ace784129f",
   "metadata": {},
   "source": [
    "Die Fehlermeldung sagt aus, dass ein *Integer* mit Werten von vielen verschieden *Typen* wie z. B. `Byte`, `Double` usw. multipliziert \n",
    "werden kann. Eine Addition zwischen einem *Integer* und einem *String* ist aber nicht definiert.\n",
    "\n",
    "In Kotlin erfolgt eine Überprüfung auf Typfehler in einem seperaten Schritt vor der Ausführung.\n",
    "Wenn dabei Typfehler gefunden werden, wird der Code erst gar nicht ausgeführt.\n",
    "\n",
    "Auch die Multiplikation ist nicht für beliebige Kombinationen von\n",
    "*Typen* definiert."
   ]
  },
  {
   "cell_type": "code",
   "execution_count": 60,
   "id": "9a85d9bc-d511-4400-811c-e80a31f889f8",
   "metadata": {
    "ExecuteTime": {
     "end_time": "2024-08-19T15:02:50.269534959Z",
     "start_time": "2024-08-19T15:02:50.204111740Z"
    },
    "execution": {
     "iopub.execute_input": "2024-08-23T13:01:50.483050Z",
     "iopub.status.busy": "2024-08-23T13:01:50.482621Z",
     "iopub.status.idle": "2024-08-23T13:01:50.511866Z",
     "shell.execute_reply": "2024-08-23T13:01:50.511317Z"
    }
   },
   "outputs": [
    {
     "name": "stderr",
     "output_type": "stream",
     "text": [
      "Line_59.jupyter.kts (1:5 - 6) Unresolved reference. None of the following candidates is applicable because of receiver type mismatch: \n",
      "public inline operator fun BigDecimal.times(other: BigDecimal): BigDecimal defined in kotlin\n",
      "public inline operator fun BigInteger.times(other: BigInteger): BigInteger defined in kotlin"
     ]
    }
   ],
   "source": [
    "\"3\" * \"x\""
   ]
  },
  {
   "cell_type": "markdown",
   "id": "a468ec2e-1a1f-49ca-98e0-c945c40b630c",
   "metadata": {},
   "source": [
    "\n",
    "## Typannotation\n",
    "\n",
    "Beim Implementieren einer Funktion müssen immer die *Typen* der Parameter angegeben werden.\n",
    "\n",
    "Zum Beispiel haben wir bei der Funktion `square` angegeben,\n",
    "dass man dieser bei einem Funktionsaufruf ein *Integer* als *Argument*\n",
    "übergeben muss (und dann ein *Integer* zurückbekommt)."
   ]
  },
  {
   "cell_type": "code",
   "execution_count": 61,
   "id": "41203b92-6e4e-48a0-9a50-70e8da7ff449",
   "metadata": {
    "ExecuteTime": {
     "end_time": "2024-08-19T15:14:18.080238443Z",
     "start_time": "2024-08-19T15:14:18.030529820Z"
    },
    "execution": {
     "iopub.execute_input": "2024-08-23T13:01:50.514986Z",
     "iopub.status.busy": "2024-08-23T13:01:50.514468Z",
     "iopub.status.idle": "2024-08-23T13:01:50.553578Z",
     "shell.execute_reply": "2024-08-23T13:01:50.553234Z"
    }
   },
   "outputs": [],
   "source": [
    "fun square(x: Int): Int = x * x   "
   ]
  },
  {
   "cell_type": "markdown",
   "id": "60928125-4d94-4085-8569-d2c509954438",
   "metadata": {},
   "source": [
    "Tatsächlich würde bei diesem Beispiel ein Aufruf mit einem *String* zu\n",
    "einem *Typfehler*, führen, weil im *Funktionskörper* ein *String* mit einem *String*\n",
    "multipliziert wird. Wir haben oben gesehen, dass das nicht funktioniert."
   ]
  },
  {
   "cell_type": "code",
   "execution_count": 62,
   "id": "3ade8dc5-1bbf-4de9-90c0-0191294be6a5",
   "metadata": {
    "ExecuteTime": {
     "end_time": "2024-08-19T15:03:49.566742492Z",
     "start_time": "2024-08-19T15:03:49.534822397Z"
    },
    "execution": {
     "iopub.execute_input": "2024-08-23T13:01:50.555607Z",
     "iopub.status.busy": "2024-08-23T13:01:50.555136Z",
     "iopub.status.idle": "2024-08-23T13:01:50.577985Z",
     "shell.execute_reply": "2024-08-23T13:01:50.577650Z"
    }
   },
   "outputs": [
    {
     "name": "stderr",
     "output_type": "stream",
     "text": [
      "Line_61.jupyter.kts (1:8 - 11) Type mismatch: inferred type is String but Int was expected"
     ]
    }
   ],
   "source": [
    "square(\"3\")"
   ]
  },
  {
   "cell_type": "markdown",
   "id": "cd45ffd9e39b4aed",
   "metadata": {},
   "source": [
    "Um solche Fehler zu vermeiden, hilft es die *Typannotation* einer Funktion vor der Benutzung zu lesen.\n",
    "Man kann dann schon beim Lesen des *Funktionskopfes* erkennen, mit welchen\n",
    "*Argumenten* die Funktion ohne Probleme aufgerufen werden kann.\n",
    "\n",
    "Die Angabe der *Typen* der *Parameter* und des *Rückgabewerts* erfolgt immer\n",
    "mit dem Zeichen `:`. Neben `Int` für *Integer* müssen wir aber\n",
    "noch weitere Abkürzungen für *Typen* kennen.\n",
    "\n",
    "## Typkonversion\n",
    "\n",
    "Es kommt häufig vor, dass ein *Wert* einen *Typ* hat, mit dem eine gewünschte *Operation* nicht durchgeführt werden kann."
   ]
  },
  {
   "cell_type": "code",
   "execution_count": 63,
   "id": "1a039262b6cc071d",
   "metadata": {
    "ExecuteTime": {
     "end_time": "2024-08-21T10:32:39.468661520Z",
     "start_time": "2024-08-21T10:32:39.323985290Z"
    },
    "execution": {
     "iopub.execute_input": "2024-08-23T13:01:50.580694Z",
     "iopub.status.busy": "2024-08-23T13:01:50.580111Z",
     "iopub.status.idle": "2024-08-23T13:01:50.627506Z",
     "shell.execute_reply": "2024-08-23T13:01:50.627053Z"
    }
   },
   "outputs": [],
   "source": [
    "val number = 3\n",
    "val message = \"The value of number is: \""
   ]
  },
  {
   "cell_type": "code",
   "execution_count": 64,
   "id": "55a82359d49b5639",
   "metadata": {
    "execution": {
     "iopub.execute_input": "2024-08-23T13:01:50.633894Z",
     "iopub.status.busy": "2024-08-23T13:01:50.632537Z",
     "iopub.status.idle": "2024-08-23T13:01:50.692024Z",
     "shell.execute_reply": "2024-08-23T13:01:50.691729Z"
    }
   },
   "outputs": [
    {
     "data": {
      "text/plain": [
       "The value of number is: 3"
      ]
     },
     "execution_count": 64,
     "metadata": {},
     "output_type": "execute_result"
    }
   ],
   "source": [
    "message + number"
   ]
  },
  {
   "cell_type": "markdown",
   "id": "0dfed471-a8db-44d6-af9e-bab3fd378133",
   "metadata": {},
   "source": [
    "Um den *Typ* eines *Werts* zu ändern, kann eine *Typkonversion* genutzt werden. Hierfür schreibt man hinter den Ausdruck, dessen Wert wir konvertieren wollen einen `.` , `to` und die Abkürzung des gewünschten *Typs*. Anschließend folgen wie beim Aufruf einer Funktion ohne *Parameter* eine öffnende und direkt danach eine schließende Klammer."
   ]
  },
  {
   "cell_type": "code",
   "execution_count": 65,
   "id": "de29e217d6b37f84",
   "metadata": {
    "execution": {
     "iopub.execute_input": "2024-08-23T13:01:50.695171Z",
     "iopub.status.busy": "2024-08-23T13:01:50.694493Z",
     "iopub.status.idle": "2024-08-23T13:01:50.755382Z",
     "shell.execute_reply": "2024-08-23T13:01:50.755611Z"
    }
   },
   "outputs": [
    {
     "data": {
      "text/plain": [
       "3"
      ]
     },
     "execution_count": 65,
     "metadata": {},
     "output_type": "execute_result"
    }
   ],
   "source": [
    "number.toString()"
   ]
  },
  {
   "cell_type": "code",
   "execution_count": 66,
   "id": "e251afd7833200f1",
   "metadata": {
    "ExecuteTime": {
     "end_time": "2024-08-21T10:35:57.295175886Z",
     "start_time": "2024-08-21T10:35:57.089019896Z"
    },
    "execution": {
     "iopub.execute_input": "2024-08-23T13:01:50.758471Z",
     "iopub.status.busy": "2024-08-23T13:01:50.757868Z",
     "iopub.status.idle": "2024-08-23T13:01:50.851463Z",
     "shell.execute_reply": "2024-08-23T13:01:50.850865Z"
    }
   },
   "outputs": [
    {
     "data": {
      "text/plain": [
       "The value of number is: 3"
      ]
     },
     "execution_count": 66,
     "metadata": {},
     "output_type": "execute_result"
    }
   ],
   "source": [
    "message + number.toString()"
   ]
  },
  {
   "cell_type": "code",
   "execution_count": 67,
   "id": "b54c51494178022a",
   "metadata": {
    "ExecuteTime": {
     "end_time": "2024-08-19T15:34:49.378177912Z",
     "start_time": "2024-08-19T15:34:49.244269516Z"
    },
    "execution": {
     "iopub.execute_input": "2024-08-23T13:01:50.855734Z",
     "iopub.status.busy": "2024-08-23T13:01:50.854763Z",
     "iopub.status.idle": "2024-08-23T13:01:50.947676Z",
     "shell.execute_reply": "2024-08-23T13:01:50.946629Z"
    }
   },
   "outputs": [
    {
     "data": {
      "text/plain": [
       "2"
      ]
     },
     "execution_count": 67,
     "metadata": {},
     "output_type": "execute_result"
    }
   ],
   "source": [
    "\"02\".toInt()"
   ]
  },
  {
   "cell_type": "markdown",
   "id": "fcd1991b-7a6e-45dd-9c4d-f0b0fe25b936",
   "metadata": {},
   "source": [
    "Fast jeder *Wert* kann in einen *String* umgewandelt\n",
    "werden. Aber natürlich kann nicht jeder *String* zu einem *Integer*\n",
    "konvertiert werden."
   ]
  },
  {
   "cell_type": "code",
   "execution_count": 68,
   "id": "f7b894e643c3163",
   "metadata": {
    "execution": {
     "iopub.execute_input": "2024-08-23T13:01:50.952603Z",
     "iopub.status.busy": "2024-08-23T13:01:50.951623Z",
     "iopub.status.idle": "2024-08-23T13:01:50.996464Z",
     "shell.execute_reply": "2024-08-23T13:01:50.996084Z"
    }
   },
   "outputs": [
    {
     "name": "stderr",
     "output_type": "stream",
     "text": [
      "For input string: \"hello\"\n",
      "java.lang.NumberFormatException: For input string: \"hello\"\n",
      "\tat java.base/java.lang.NumberFormatException.forInputString(NumberFormatException.java:67)\n",
      "\tat java.base/java.lang.Integer.parseInt(Integer.java:662)\n",
      "\tat java.base/java.lang.Integer.parseInt(Integer.java:778)\n",
      "\tat Line_67_jupyter.<init>(Line_67.jupyter.kts:1)\n",
      "\tat java.base/jdk.internal.reflect.DirectConstructorHandleAccessor.newInstance(DirectConstructorHandleAccessor.java:62)\n",
      "\tat java.base/java.lang.reflect.Constructor.newInstanceWithCaller(Constructor.java:502)\n",
      "\tat java.base/java.lang.reflect.Constructor.newInstance(Constructor.java:486)\n",
      "\tat kotlin.script.experimental.jvm.BasicJvmScriptEvaluator.evalWithConfigAndOtherScriptsResults(BasicJvmScriptEvaluator.kt:122)\n",
      "\tat kotlin.script.experimental.jvm.BasicJvmScriptEvaluator.invoke$suspendImpl(BasicJvmScriptEvaluator.kt:48)\n",
      "\tat kotlin.script.experimental.jvm.BasicJvmScriptEvaluator.invoke(BasicJvmScriptEvaluator.kt)\n",
      "\tat kotlin.script.experimental.jvm.BasicJvmReplEvaluator.eval(BasicJvmReplEvaluator.kt:49)\n",
      "\tat org.jetbrains.kotlinx.jupyter.repl.impl.InternalEvaluatorImpl$eval$resultWithDiagnostics$1.invokeSuspend(InternalEvaluatorImpl.kt:127)\n",
      "\tat kotlin.coroutines.jvm.internal.BaseContinuationImpl.resumeWith(ContinuationImpl.kt:33)\n",
      "\tat kotlinx.coroutines.DispatchedTask.run(DispatchedTask.kt:104)\n",
      "\tat kotlinx.coroutines.EventLoopImplBase.processNextEvent(EventLoop.common.kt:277)\n",
      "\tat kotlinx.coroutines.BlockingCoroutine.joinBlocking(Builders.kt:95)\n",
      "\tat kotlinx.coroutines.BuildersKt__BuildersKt.runBlocking(Builders.kt:69)\n",
      "\tat kotlinx.coroutines.BuildersKt.runBlocking(Unknown Source)\n",
      "\tat kotlinx.coroutines.BuildersKt__BuildersKt.runBlocking$default(Builders.kt:48)\n",
      "\tat kotlinx.coroutines.BuildersKt.runBlocking$default(Unknown Source)\n",
      "\tat org.jetbrains.kotlinx.jupyter.repl.impl.InternalEvaluatorImpl.eval(InternalEvaluatorImpl.kt:127)\n",
      "\tat org.jetbrains.kotlinx.jupyter.repl.impl.CellExecutorImpl$execute$1$result$1.invoke(CellExecutorImpl.kt:79)\n",
      "\tat org.jetbrains.kotlinx.jupyter.repl.impl.CellExecutorImpl$execute$1$result$1.invoke(CellExecutorImpl.kt:77)\n",
      "\tat org.jetbrains.kotlinx.jupyter.repl.impl.ReplForJupyterImpl.withHost(ReplForJupyterImpl.kt:758)\n",
      "\tat org.jetbrains.kotlinx.jupyter.repl.impl.CellExecutorImpl.execute(CellExecutorImpl.kt:77)\n",
      "\tat org.jetbrains.kotlinx.jupyter.repl.execution.CellExecutor$DefaultImpls.execute$default(CellExecutor.kt:12)\n",
      "\tat org.jetbrains.kotlinx.jupyter.repl.impl.ReplForJupyterImpl.evaluateUserCode(ReplForJupyterImpl.kt:581)\n",
      "\tat org.jetbrains.kotlinx.jupyter.repl.impl.ReplForJupyterImpl.access$evaluateUserCode(ReplForJupyterImpl.kt:136)\n",
      "\tat org.jetbrains.kotlinx.jupyter.repl.impl.ReplForJupyterImpl$evalEx$1.invoke(ReplForJupyterImpl.kt:439)\n",
      "\tat org.jetbrains.kotlinx.jupyter.repl.impl.ReplForJupyterImpl$evalEx$1.invoke(ReplForJupyterImpl.kt:436)\n",
      "\tat org.jetbrains.kotlinx.jupyter.repl.impl.ReplForJupyterImpl.withEvalContext(ReplForJupyterImpl.kt:417)\n",
      "\tat org.jetbrains.kotlinx.jupyter.repl.impl.ReplForJupyterImpl.evalEx(ReplForJupyterImpl.kt:436)\n",
      "\tat org.jetbrains.kotlinx.jupyter.messaging.IdeCompatibleMessageRequestProcessor$processExecuteRequest$1$response$1$1.invoke(IdeCompatibleMessageRequestProcessor.kt:140)\n",
      "\tat org.jetbrains.kotlinx.jupyter.messaging.IdeCompatibleMessageRequestProcessor$processExecuteRequest$1$response$1$1.invoke(IdeCompatibleMessageRequestProcessor.kt:139)\n",
      "\tat org.jetbrains.kotlinx.jupyter.execution.JupyterExecutorImpl$Task.execute(JupyterExecutorImpl.kt:42)\n",
      "\tat org.jetbrains.kotlinx.jupyter.execution.JupyterExecutorImpl$executorThread$1.invoke(JupyterExecutorImpl.kt:82)\n",
      "\tat org.jetbrains.kotlinx.jupyter.execution.JupyterExecutorImpl$executorThread$1.invoke(JupyterExecutorImpl.kt:80)\n",
      "\tat kotlin.concurrent.ThreadsKt$thread$thread$1.run(Thread.kt:30)\n"
     ]
    }
   ],
   "source": [
    "\"hello\".toInt()"
   ]
  },
  {
   "cell_type": "markdown",
   "id": "97568d47144d5cc5",
   "metadata": {},
   "source": [
    "Dieser Fehler wird **nicht** vor der Ausführung des Codes erkannt, da ja nicht immer vor der Ausführung klar sein kann, dass ein bestimmter *String* ein *Integer* darstellt oder nicht."
   ]
  },
  {
   "cell_type": "markdown",
   "id": "f5a1fbfea42bcea4",
   "metadata": {},
   "source": [
    "# Methoden\n",
    "\n",
    "Die Aufrufe von `toString` und `toInt` sehen nicht nur so aus wie Funktionsaufrufe. Es handelt sich dabei um *Methoden*. Das sind Funktionen bei denen das erste Argument nicht in den Klammern, sondern vor einem Punkt und dem Funktionsnamen steht."
   ]
  },
  {
   "cell_type": "code",
   "execution_count": 69,
   "id": "483f4bcf-bbc3-479b-9777-1a98db63e519",
   "metadata": {
    "ExecuteTime": {
     "end_time": "2024-08-19T19:04:53.452303421Z",
     "start_time": "2024-08-19T19:04:53.358163476Z"
    },
    "execution": {
     "iopub.execute_input": "2024-08-23T13:01:50.999619Z",
     "iopub.status.busy": "2024-08-23T13:01:50.998769Z",
     "iopub.status.idle": "2024-08-23T13:01:51.055387Z",
     "shell.execute_reply": "2024-08-23T13:01:51.054821Z"
    }
   },
   "outputs": [],
   "source": [
    "fun greetBavarian(name: String): String = \"Servus \" + name"
   ]
  },
  {
   "cell_type": "markdown",
   "id": "402794d5",
   "metadata": {},
   "source": [
    "\n",
    "# Strings und Funktionen\n",
    "\n",
    "## Motivation\n",
    "\n",
    "Wir wollen eine Funktion `greetBavarian` schreiben, der der Name einer\n",
    "Benutzerin als *String* übergeben wird und die diese Benutzerin mit\n",
    "`\"Servus\"` begrüßt."
   ]
  },
  {
   "cell_type": "code",
   "execution_count": 70,
   "id": "4acf7dc0-9ee3-4b32-a098-b8f375653389",
   "metadata": {
    "ExecuteTime": {
     "end_time": "2024-08-19T19:02:45.237870603Z",
     "start_time": "2024-08-19T19:02:45.145075960Z"
    },
    "execution": {
     "iopub.execute_input": "2024-08-23T13:01:51.059010Z",
     "iopub.status.busy": "2024-08-23T13:01:51.058227Z",
     "iopub.status.idle": "2024-08-23T13:01:51.118545Z",
     "shell.execute_reply": "2024-08-23T13:01:51.118816Z"
    }
   },
   "outputs": [
    {
     "data": {
      "text/plain": [
       "Servus Ada"
      ]
     },
     "execution_count": 70,
     "metadata": {},
     "output_type": "execute_result"
    }
   ],
   "source": [
    "greetBavarian(\"Ada\")"
   ]
  },
  {
   "cell_type": "markdown",
   "id": "9feb1af3-f4b1-4028-b204-6c45e759e131",
   "metadata": {},
   "source": [
    "<figure id=\"fig:Typen\" style=\"text-align:center\" >\n",
    "<img src=\"funktionsaufruf_strings_grafik_ada.svg\" style=\"width:25.0%; ; background-color:white;\" />\n",
    "\n",
    "<figcaption>Funktionsaufruf <code\n",
    "class=\"sourceCode kotlin\">greetBavarian(<span class=\"st\">\"Ada\"</span>)</code></figcaption>\n",
    "</figure>"
   ]
  },
  {
   "cell_type": "code",
   "execution_count": 71,
   "id": "8bdf0dd7-1e50-4ebe-a692-a737b24e7882",
   "metadata": {
    "ExecuteTime": {
     "end_time": "2024-08-19T19:02:45.474106741Z",
     "start_time": "2024-08-19T19:02:45.330205283Z"
    },
    "execution": {
     "iopub.execute_input": "2024-08-23T13:01:51.121199Z",
     "iopub.status.busy": "2024-08-23T13:01:51.120774Z",
     "iopub.status.idle": "2024-08-23T13:01:51.175321Z",
     "shell.execute_reply": "2024-08-23T13:01:51.175780Z"
    }
   },
   "outputs": [
    {
     "data": {
      "text/plain": [
       "Servus Grace"
      ]
     },
     "execution_count": 71,
     "metadata": {},
     "output_type": "execute_result"
    }
   ],
   "source": [
    "greetBavarian(\"Grace\")"
   ]
  },
  {
   "cell_type": "markdown",
   "id": "4c26027f-4d87-473b-8e21-2b8ec125dea2",
   "metadata": {},
   "source": [
    "<figure id=\"fig:Typen\" style=\"text-align:center\">\n",
    "<img src=\"funktionsaufruf_strings_grafik_grace.svg\" style=\"width:25.0%; ; background-color:white;\" />\n",
    "\n",
    "<figcaption>Funktionsaufruf <code\n",
    "class=\"sourceCode kotlin\">greetBavarian(<span class=\"st\">\"Grace\"</span>)</code></figcaption>\n",
    "</figure>\n",
    "\n",
    "Beim Lesen der beiden Funktionsaufrufe wird deutlich, dass der Funktion\n",
    "immer genau ein *String* als *Argument* übergeben wird. Sie muss also\n",
    "einen *Parameter* mit dem Typ *String* (`String`) haben. Wir sehen auch,\n",
    "dass immer ein *String* zurückgeben wird. Mit diesen Informationen\n",
    "können wir bereits den *Funktionskopf* und den Anfang des\n",
    "*Funktionskörpers* schreiben."
   ]
  },
  {
   "cell_type": "code",
   "execution_count": 72,
   "id": "d501e9f8-3613-4540-a29e-3ae64d9a11dd",
   "metadata": {
    "ExecuteTime": {
     "end_time": "2024-08-19T19:04:02.765890516Z",
     "start_time": "2024-08-19T19:04:02.754886767Z"
    },
    "execution": {
     "iopub.execute_input": "2024-08-23T13:01:51.180214Z",
     "iopub.status.busy": "2024-08-23T13:01:51.179354Z",
     "iopub.status.idle": "2024-08-23T13:01:51.188874Z",
     "shell.execute_reply": "2024-08-23T13:01:51.187995Z"
    }
   },
   "outputs": [
    {
     "name": "stderr",
     "output_type": "stream",
     "text": [
      "Line_71.jupyter.kts (1:43 - 43) Expecting an expression"
     ]
    }
   ],
   "source": [
    "fun greetBavarian(name: String) : String = // Ausdruck fehlt noch :( "
   ]
  },
  {
   "cell_type": "markdown",
   "id": "e9a84809-84db-4cad-9d55-9d17af303508",
   "metadata": {},
   "source": [
    "Wir kennzeichnen mit `: String` hinter einem *Parameter*, dass für diesen\n",
    "ein *String* übergeben werden soll. Mit `: String` nach der Klammer mit\n",
    "den *Parametern* wird ausgedrückt, dass der *Rückgabewert* der Funktion\n",
    "ein *String* ist.\n",
    "\n",
    "Im zweiten Schritt überlegen wir uns, wie aus dem *Argument* mithilfe\n",
    "von *String-Operationen* der *Rückgabewert* berechnet wird. Dies ist für\n",
    "das erste Beispiel oben folgendermaßen möglich:"
   ]
  },
  {
   "cell_type": "code",
   "execution_count": 73,
   "id": "05ff3ca3-e60b-4999-9cb2-9542df1ed837",
   "metadata": {
    "execution": {
     "iopub.execute_input": "2024-08-23T13:01:51.194572Z",
     "iopub.status.busy": "2024-08-23T13:01:51.193477Z",
     "iopub.status.idle": "2024-08-23T13:01:51.251681Z",
     "shell.execute_reply": "2024-08-23T13:01:51.252043Z"
    },
    "jupyter": {
     "is_executing": true
    }
   },
   "outputs": [
    {
     "data": {
      "text/plain": [
       "Servus Ada"
      ]
     },
     "execution_count": 73,
     "metadata": {},
     "output_type": "execute_result"
    }
   ],
   "source": [
    "\"Servus \" + \"Ada\""
   ]
  },
  {
   "cell_type": "markdown",
   "id": "1dfa6a56-8bad-421e-a05c-ed19729c89f0",
   "metadata": {},
   "source": [
    "Im zweiten Fall kann man folgendermaßen rechnen:"
   ]
  },
  {
   "cell_type": "code",
   "execution_count": 74,
   "id": "a76b2634-39e5-4a8e-9f51-f5f694e35c4e",
   "metadata": {
    "ExecuteTime": {
     "end_time": "2024-08-19T19:04:11.618550726Z",
     "start_time": "2024-08-19T19:04:11.491949246Z"
    },
    "execution": {
     "iopub.execute_input": "2024-08-23T13:01:51.256108Z",
     "iopub.status.busy": "2024-08-23T13:01:51.255240Z",
     "iopub.status.idle": "2024-08-23T13:01:51.305399Z",
     "shell.execute_reply": "2024-08-23T13:01:51.305807Z"
    }
   },
   "outputs": [
    {
     "data": {
      "text/plain": [
       "Servus Grace"
      ]
     },
     "execution_count": 74,
     "metadata": {},
     "output_type": "execute_result"
    }
   ],
   "source": [
    "\"Servus \" + \"Grace\""
   ]
  },
  {
   "cell_type": "markdown",
   "id": "16c00892-34d8-43bf-9f6b-7d91d040f419",
   "metadata": {},
   "source": [
    "Beide Rechnungen beginnen mit dem *String-Literal* `\"Servus \"`. Dieses\n",
    "kann also genau so in dem *Ausdruck* hinter `return` verwendet werden.\n",
    "Bei beiden Rechnungen taucht anschließend der *Operator* `+` auf. Auch\n",
    "dieser muss also in dem *Ausdruck* hinter `return` verwendet werden.\n",
    "\n",
    "Ab jetzt unterscheiden sich die beiden Rechnung. Um das Ergebnis von\n",
    "`greetBavarian(\"Ada\")` zu berechnen, müssen wir mit `\"Ada\"` addieren.\n",
    "Bei der Berechnung des *Rückgabewerts* von `greetBavarian(\"Grace\")`\n",
    "müssen wir stattdessen mit `\"Grace\"` addieren. Es handelt sich **nicht**\n",
    "beide Male um denselben *Wert*. Die Gemeinsamkeit ist aber, dass es\n",
    "sich beide Male um das übergebene *Argument* handelt. Wir verwenden also\n",
    "an dieser Stelle den *Parameter* `name`. Die vollständige Funktion sieht\n",
    "dann folgendermaßen aus:"
   ]
  },
  {
   "cell_type": "code",
   "execution_count": 75,
   "id": "657474ae-2cb0-4a5f-8520-c06370bf6788",
   "metadata": {
    "ExecuteTime": {
     "end_time": "2024-08-19T19:04:15.989482834Z",
     "start_time": "2024-08-19T19:04:15.889162783Z"
    },
    "execution": {
     "iopub.execute_input": "2024-08-23T13:01:51.309237Z",
     "iopub.status.busy": "2024-08-23T13:01:51.308616Z",
     "iopub.status.idle": "2024-08-23T13:01:51.350930Z",
     "shell.execute_reply": "2024-08-23T13:01:51.350531Z"
    }
   },
   "outputs": [],
   "source": [
    "fun greetBavarian(name: String) : String = \"Servus \" + name"
   ]
  },
  {
   "cell_type": "markdown",
   "id": "e68ce9a4-5633-4eeb-a52c-b380b1f79a84",
   "metadata": {},
   "source": [
    "## Grundlagen\n",
    "\n",
    "Um `\"Servus\"` stehen Anführungszeichen aber nicht um `name` und\n",
    "`greetBavarian`. Der Grund dafür ist, dass `\"Servus \"` ein\n",
    "*String-Literal* ist. Dieses soll genau so im Ergebnis auftauchen. Egal\n",
    "mit welchen *Argumenten* die Funktion aufgerufen wird, wollen wir, dass\n",
    "das Ergebnis mit `\"Servus\"` beginnt.\n",
    "\n",
    "`name` ist jedoch kein *String,* sondern der Name eines *Parameters*. Im\n",
    "Ergebnis soll `name` **nicht** auftauchen. Stattdessen soll `name` durch\n",
    "den *Wert* des *Arguments* ersetzt werden. Beim ersten Funktionsaufruf\n",
    "ist das `\"Ada\"` und beim zweiten `\"Grace\"`.\n",
    "\n",
    "Besonders deutlich wird das, wenn wir uns die *Variablenbelegung* beim\n",
    "Funktionsaufruf `greetBavarian(\"Ada\")` anschauen.\n",
    "\n",
    "| Name   |    Wert |\n",
    "|:-------|--------:|\n",
    "| `name` | `\"Ada\"` |\n",
    "\n",
    "Der *Parameter* `name` hat hier den Wert `\"Ada\"`. Bei der Auswertung des\n",
    "*Funktionskörpers* wird dieser *Parameter* durch seinen *Wert* ersetzt.\n",
    "Wird die Funktion mit anderen *Argumenten* aufgerufen, werden die\n",
    "*Parameter* auch andere *Werte* ersetzt. Im Gegensatz dazu bleibt der\n",
    "*String* `\"Servus \"` immer gleich.\n",
    "\n",
    "## Fehler beim Verwechseln von String-Literalen und Parameternamen\n",
    "\n",
    "Den Unterschied kann man sich auch klarmachen, wenn man `name` im\n",
    "*Funktionskörper* auch als *String* schreibt."
   ]
  },
  {
   "cell_type": "code",
   "execution_count": 76,
   "id": "a2eba2f5-dc06-46e6-8707-3b525822c26d",
   "metadata": {
    "execution": {
     "iopub.execute_input": "2024-08-23T13:01:51.354007Z",
     "iopub.status.busy": "2024-08-23T13:01:51.353466Z",
     "iopub.status.idle": "2024-08-23T13:01:51.399993Z",
     "shell.execute_reply": "2024-08-23T13:01:51.398283Z"
    }
   },
   "outputs": [],
   "source": [
    "fun greet_bavarian_wrong(name: String): String =  \"Servus \" + \"name\""
   ]
  },
  {
   "cell_type": "code",
   "execution_count": 77,
   "id": "25f09ba2-ff58-4566-a683-7296f9ed5f05",
   "metadata": {
    "execution": {
     "iopub.execute_input": "2024-08-23T13:01:51.405034Z",
     "iopub.status.busy": "2024-08-23T13:01:51.403854Z",
     "iopub.status.idle": "2024-08-23T13:01:51.451817Z",
     "shell.execute_reply": "2024-08-23T13:01:51.452036Z"
    }
   },
   "outputs": [
    {
     "data": {
      "text/plain": [
       "Servus name"
      ]
     },
     "execution_count": 77,
     "metadata": {},
     "output_type": "execute_result"
    }
   ],
   "source": [
    "greet_bavarian_wrong(\"Ada\")"
   ]
  },
  {
   "cell_type": "code",
   "execution_count": 78,
   "id": "ea035b5b",
   "metadata": {
    "execution": {
     "iopub.execute_input": "2024-08-23T13:01:51.455079Z",
     "iopub.status.busy": "2024-08-23T13:01:51.454440Z",
     "iopub.status.idle": "2024-08-23T13:01:51.500462Z",
     "shell.execute_reply": "2024-08-23T13:01:51.497602Z"
    }
   },
   "outputs": [
    {
     "data": {
      "text/plain": [
       "Servus name"
      ]
     },
     "execution_count": 78,
     "metadata": {},
     "output_type": "execute_result"
    }
   ],
   "source": [
    "greet_bavarian_wrong(\"Grace\")"
   ]
  },
  {
   "cell_type": "markdown",
   "id": "394fe017-5717-45ee-bf18-69b697544756",
   "metadata": {},
   "source": [
    "`\"name\"` ist ein *String-Literal*. Dieses taucht also unabhängig vom\n",
    "übergebenen Argument genau so im Ergebnis auf.\n",
    "\n",
    "Auch der Funktionsname `greetBavarian` ist ein Name, der benötigt wird,\n",
    "wenn die Funktion aufgerufen wird. Die Funktion ist aber **nicht** der\n",
    "*String* `\"greetBavarian\"`. Deshalb muss ihr Name auch nicht zwischen\n",
    "Anführungszeichen geschrieben werden."
   ]
  },
  {
   "cell_type": "markdown",
   "id": "89dbf98ac5d54ed9",
   "metadata": {},
   "source": [
    "# Interaktive Programme\n",
    "\n",
    "## Programme außerhalb von Notebooks\n",
    "\n",
    "Wir haben bis jetzt Code in Notebookblöcken geschrieben. Bei der Ausführung werden alle *Statements* in einem Block ausgeführt. Wenn das letzte Statement ein Wert ist, wird dieser angezeigt. \n",
    "\n",
    "Die Ausführung von Programmen außerhalb von Notebooks funktioniert anders. Ein solches Programm braucht immer eine eine Funktion mit dem Namen ```main```. Bei der Ausführung des Programms wird **nur** diese Funktion ausgeführt. Es ist aber möglich neben dieser Funktion noch weitere Funktionen zu schreiben und sie in der ```main```-Funktion aufzurufen."
   ]
  },
  {
   "cell_type": "code",
   "execution_count": 79,
   "id": "184f1507c5a9b3ae",
   "metadata": {
    "execution": {
     "iopub.execute_input": "2024-08-23T13:01:51.507581Z",
     "iopub.status.busy": "2024-08-23T13:01:51.506537Z",
     "iopub.status.idle": "2024-08-23T13:01:51.556646Z",
     "shell.execute_reply": "2024-08-23T13:01:51.556287Z"
    }
   },
   "outputs": [],
   "source": [
    "fun main() {\n",
    "    //Statements, die \n",
    "    //ausgeführt werden\n",
    "}\n",
    "\n",
    "// Hilfsfunktionen"
   ]
  },
  {
   "cell_type": "markdown",
   "id": "48fc2b62-4bcf-4a55-a7a6-2b6114d122b2",
   "metadata": {},
   "source": [
    "## Motivation\n",
    "\n",
    "Der Zweck der Funktionen (bis auf Tests), die wir bisher geschrieben haben, war immer\n",
    "die Berechnung und *Rückgabe* eines *Werts*. Wenn wir einen *Ausdruck*,\n",
    "der einen Funktionsaufruf enthält, in einer Zelle eines Notebooks  eingeben, wird der\n",
    "Funktionsaufruf ausgewertet, um den *Wert* des *Ausdrucks* zu berechnen.\n",
    "Dieser wird dann in der nächsten Zeile angezeigt."
   ]
  },
  {
   "cell_type": "code",
   "execution_count": 80,
   "id": "c6bb0c21-d429-4607-bd62-94a626825738",
   "metadata": {
    "execution": {
     "iopub.execute_input": "2024-08-23T13:01:51.559076Z",
     "iopub.status.busy": "2024-08-23T13:01:51.558609Z",
     "iopub.status.idle": "2024-08-23T13:01:51.612541Z",
     "shell.execute_reply": "2024-08-23T13:01:51.611921Z"
    }
   },
   "outputs": [],
   "source": [
    "fun greetBavarian(name: String): String {\n",
    "    return \"Servus \" + name\n",
    "} "
   ]
  },
  {
   "cell_type": "code",
   "execution_count": 81,
   "id": "80f0e4a7-fd42-49fa-a595-fe53ae6a807d",
   "metadata": {
    "execution": {
     "iopub.execute_input": "2024-08-23T13:01:51.615885Z",
     "iopub.status.busy": "2024-08-23T13:01:51.615255Z",
     "iopub.status.idle": "2024-08-23T13:01:51.672066Z",
     "shell.execute_reply": "2024-08-23T13:01:51.672548Z"
    }
   },
   "outputs": [
    {
     "data": {
      "text/plain": [
       "Servus Ada"
      ]
     },
     "execution_count": 81,
     "metadata": {},
     "output_type": "execute_result"
    }
   ],
   "source": [
    "greetBavarian(\"Ada\")"
   ]
  },
  {
   "cell_type": "code",
   "execution_count": 82,
   "id": "5f1dc148",
   "metadata": {
    "execution": {
     "iopub.execute_input": "2024-08-23T13:01:51.675823Z",
     "iopub.status.busy": "2024-08-23T13:01:51.675388Z",
     "iopub.status.idle": "2024-08-23T13:01:51.726705Z",
     "shell.execute_reply": "2024-08-23T13:01:51.726919Z"
    }
   },
   "outputs": [
    {
     "data": {
      "text/plain": [
       "Servus Grace!"
      ]
     },
     "execution_count": 82,
     "metadata": {},
     "output_type": "execute_result"
    }
   ],
   "source": [
    "greetBavarian(\"Grace\") + \"!\""
   ]
  },
  {
   "cell_type": "markdown",
   "id": "488f80c3-82d6-4ae4-b393-ff0d5cca2d4a",
   "metadata": {},
   "source": [
    "<figure style=\"text-align:center\" >\n",
    "<img src=\"funktionsaufruf_strings_grafik_grace.svg\" style=\"width:25.0%; ; background-color:white;\" />\n",
    "\n",
    "<figcaption>Funktionsaufruf <code\n",
    "class=\"sourceCode kotlin\">greetBavarian(<span class=\"st\">\"Grace\"</span>)</code></figcaption>\n",
    "</figure>\n",
    "\n",
    "Wenn wir jedoch eine dieser Funktionen in einem Programm auserhalb eines Notebooks aufrufen, hat das\n",
    "für den Benutzer keinen sichtbaren Effekt. Der\n",
    "Funktionsaufruf/*Ausdruck* wird ausgewertet und der Interpreter fährt\n",
    "mit der nächsten Zeile fort."
   ]
  },
  {
   "cell_type": "markdown",
   "id": "2a4f7b16",
   "metadata": {},
   "source": [
    "\n",
    "[Klicke hier](https://pl.kotl.in/aydBQ-O0G)"
   ]
  },
  {
   "cell_type": "markdown",
   "id": "fad3c21c30dab5de",
   "metadata": {},
   "source": [
    "  \n",
    "Die Benutzerinnen eines Programms wollen aber nicht Funktionsaufrufe in\n",
    "die Shell eingegeben. Sie wollen einfach ein Skript/Programm\n",
    "ausführen/starten und dann etwas Nützliches angezeigt bekommen und unter\n",
    "Umständen etwas eingeben. In diesem Kapitel wollen wir uns anschauen,\n",
    "wie das funktioniert.\n",
    "\n",
    "## Ausgabe\n",
    "\n",
    "Um Werte bei der Ausführung eines Skripts anzuzeigen, können wir die\n",
    "eingebaute Funktion `println` nutzen. Im Gegensatz zu allen Funktionen,\n",
    "die wir vorher gesehen haben, hat diese keinen interessanten\n",
    "Rückgabewert. Der Rückgabewert ist immer das Element `Unit`. Dies ist\n",
    "das einzige Element mit dem Typ `Unit`. Darin ist keinerlei\n",
    "Information gespeichert. Die Funktion ist trotzdem sehr nützlich, weil\n",
    "sie ihr Argument an der Konsole ausgibt."
   ]
  },
  {
   "cell_type": "markdown",
   "id": "e4e5a9d78dbabc2d",
   "metadata": {},
   "source": [
    "[Klicke hier](https://pl.kotl.in/vVkXn2j-h)"
   ]
  },
  {
   "cell_type": "markdown",
   "id": "188334ff-3fac-4f2e-affb-ae304b150eb0",
   "metadata": {},
   "source": [
    "<figure style=\"text-align:center\">\n",
    "<img src=\"funktionsaufruf_print_hello.svg\" style=\"width:25.0%; ; background-color:white;\" />>\n",
    "\n",
    "<figcaption>Funktionsaufruf <code\n",
    "class=\"sourceCode kotlin\"><span class=\"bu\">println</span>(<span class=\"st\">\"Hello\"</span>)</code></figcaption>\n",
    "</figure>\n",
    "\n",
    "<figure style=\"text-align:center\">\n",
    "<img src=\"verkettung_print_greet_bavarian.svg\" style=\"width:25.0%; ; background-color:white;\" />>\n",
    "\n",
    "<figcaption>Funktionsaufruf <code\n",
    "class=\"sourceCode kotlin\"><span class=\"bu\">println</span>(greetBavarian(<span class=\"st\">\"Ada\"</span>))</code></figcaption>\n",
    "</figure>"
   ]
  },
  {
   "cell_type": "markdown",
   "id": "6c2bdf42",
   "metadata": {},
   "source": [
    "\n",
    "## Unterschiede zwischen Rückgabe und Ausgabe\n",
    "\n",
    "Es ist wichtig, sich den Unterschied zwischen der Rückgabe mit `return`\n",
    "und der Ausgabe mit `println` klarzumachen. Ein zurückgegebener *Wert*\n",
    "kann in einer Rechnung verwendet werden. Bei der Auswertung in einem\n",
    "Skript wird er aber nicht automatisch angezeigt. Mit der Funktion\n",
    "`println` können wir Werte an der Konsole ausgegeben. Diese Funktion gibt\n",
    "den Wert aber **nicht** zurück. Die Funktionen `greetBavarian` und\n",
    "`greetBavarianPrint` sehen deshalb sehr ähnlich aus. Sie sind aber\n",
    "trotzdem sehr unterschiedlich.\n"
   ]
  },
  {
   "cell_type": "code",
   "execution_count": 83,
   "id": "1a5a83bb264ebe17",
   "metadata": {
    "execution": {
     "iopub.execute_input": "2024-08-23T13:01:51.733239Z",
     "iopub.status.busy": "2024-08-23T13:01:51.729432Z",
     "iopub.status.idle": "2024-08-23T13:01:51.791824Z",
     "shell.execute_reply": "2024-08-23T13:01:51.791444Z"
    }
   },
   "outputs": [],
   "source": [
    "fun greetBavarianPrint(name: String): Unit {\n",
    "    println(\"Servus, \"  + name)\n",
    "} "
   ]
  },
  {
   "cell_type": "code",
   "execution_count": 84,
   "id": "f5b9d0e6-d957-4b8f-85db-ae47ad655cfa",
   "metadata": {
    "execution": {
     "iopub.execute_input": "2024-08-23T13:01:51.794587Z",
     "iopub.status.busy": "2024-08-23T13:01:51.793894Z",
     "iopub.status.idle": "2024-08-23T13:01:51.850366Z",
     "shell.execute_reply": "2024-08-23T13:01:51.850562Z"
    }
   },
   "outputs": [
    {
     "name": "stdout",
     "output_type": "stream",
     "text": [
      "Servus, Ada\n"
     ]
    }
   ],
   "source": [
    "greetBavarianPrint(\"Ada\")"
   ]
  },
  {
   "cell_type": "markdown",
   "id": "af4bf4b8-45c3-433e-b275-45d5034a8cea",
   "metadata": {},
   "source": [
    "`Servus Ada` ist ein *Wert*, der von der Funktion `greetBavarianPrint`\n",
    "ausgegeben wurde. Die Rückgabe bei diesem Funktionsaufruf ist `Unit`.\n",
    "Der Unterschied wird deutlich, wenn man den Funktionsaufruf in einem\n",
    "Ausdruck verwendet."
   ]
  },
  {
   "cell_type": "code",
   "execution_count": 85,
   "id": "4bdfb012-27d3-412a-b557-2323d8329a91",
   "metadata": {
    "execution": {
     "iopub.execute_input": "2024-08-23T13:01:51.852611Z",
     "iopub.status.busy": "2024-08-23T13:01:51.852151Z",
     "iopub.status.idle": "2024-08-23T13:01:51.976358Z",
     "shell.execute_reply": "2024-08-23T13:01:51.975928Z"
    }
   },
   "outputs": [
    {
     "name": "stderr",
     "output_type": "stream",
     "text": [
      "Line_84.jupyter.kts (1:27 - 28) Unresolved reference. None of the following candidates is applicable because of receiver type mismatch: \n",
      "public inline operator fun BigDecimal.plus(other: BigDecimal): BigDecimal defined in kotlin\n",
      "public inline operator fun BigInteger.plus(other: BigInteger): BigInteger defined in kotlin\n",
      "public operator fun <T> Array<TypeVariable(T)>.plus(element: TypeVariable(T)): Array<TypeVariable(T)> defined in kotlin.collections\n",
      "public operator fun <T> Array<TypeVariable(T)>.plus(elements: Array<out TypeVariable(T)>): Array<TypeVariable(T)> defined in kotlin.collections\n",
      "public operator fun <T> Array<TypeVariable(T)>.plus(elements: Collection<TypeVariable(T)>): Array<TypeVariable(T)> defined in kotlin.collections\n",
      "public operator fun BooleanArray.plus(element: Boolean): BooleanArray defined in kotlin.collections\n",
      "public operator fun BooleanArray.plus(elements: BooleanArray): BooleanArray defined in kotlin.collections\n",
      "public operator fun BooleanArray.plus(elements: Collection<Boolean>): BooleanArray defined in kotlin.collections\n",
      "public operator fun ByteArray.plus(element: Byte): ByteArray defined in kotlin.collections\n",
      "public operator fun ByteArray.plus(elements: ByteArray): ByteArray defined in kotlin.collections\n",
      "public operator fun ByteArray.plus(elements: Collection<Byte>): ByteArray defined in kotlin.collections\n",
      "public inline operator fun Char.plus(other: String): String defined in kotlin.text\n",
      "public operator fun CharArray.plus(element: Char): CharArray defined in kotlin.collections\n",
      "public operator fun CharArray.plus(elements: CharArray): CharArray defined in kotlin.collections\n",
      "public operator fun CharArray.plus(elements: Collection<Char>): CharArray defined in kotlin.collections\n",
      "public operator fun DoubleArray.plus(element: Double): DoubleArray defined in kotlin.collections\n",
      "public operator fun DoubleArray.plus(elements: DoubleArray): DoubleArray defined in kotlin.collections\n",
      "public operator fun DoubleArray.plus(elements: Collection<Double>): DoubleArray defined in kotlin.collections\n",
      "public operator fun FloatArray.plus(element: Float): FloatArray defined in kotlin.collections\n",
      "public operator fun FloatArray.plus(elements: FloatArray): FloatArray defined in kotlin.collections\n",
      "public operator fun FloatArray.plus(elements: Collection<Float>): FloatArray defined in kotlin.collections\n",
      "public operator fun IntArray.plus(element: Int): IntArray defined in kotlin.collections\n",
      "public operator fun IntArray.plus(elements: IntArray): IntArray defined in kotlin.collections\n",
      "public operator fun IntArray.plus(elements: Collection<Int>): IntArray defined in kotlin.collections\n",
      "public operator fun LongArray.plus(element: Long): LongArray defined in kotlin.collections\n",
      "public operator fun LongArray.plus(elements: LongArray): LongArray defined in kotlin.collections\n",
      "public operator fun LongArray.plus(elements: Collection<Long>): LongArray defined in kotlin.collections\n",
      "public operator fun ShortArray.plus(element: Short): ShortArray defined in kotlin.collections\n",
      "public operator fun ShortArray.plus(elements: ShortArray): ShortArray defined in kotlin.collections\n",
      "public operator fun ShortArray.plus(elements: Collection<Short>): ShortArray defined in kotlin.collections\n",
      "public operator fun String?.plus(other: Any?): String defined in kotlin\n",
      "public inline operator fun UByteArray.plus(element: UByte): UByteArray defined in kotlin.collections\n",
      "public inline operator fun UByteArray.plus(elements: UByteArray): UByteArray defined in kotlin.collections\n",
      "public operator fun UByteArray.plus(elements: Collection<UByte>): UByteArray defined in kotlin.collections\n",
      "public inline operator fun UIntArray.plus(element: UInt): UIntArray defined in kotlin.collections\n",
      "public inline operator fun UIntArray.plus(elements: UIntArray): UIntArray defined in kotlin.collections\n",
      "public operator fun UIntArray.plus(elements: Collection<UInt>): UIntArray defined in kotlin.collections\n",
      "public inline operator fun ULongArray.plus(element: ULong): ULongArray defined in kotlin.collections\n",
      "public inline operator fun ULongArray.plus(elements: ULongArray): ULongArray defined in kotlin.collections\n",
      "public operator fun ULongArray.plus(elements: Collection<ULong>): ULongArray defined in kotlin.collections\n",
      "public inline operator fun UShortArray.plus(element: UShort): UShortArray defined in kotlin.collections\n",
      "public inline operator fun UShortArray.plus(elements: UShortArray): UShortArray defined in kotlin.collections\n",
      "public operator fun UShortArray.plus(elements: Collection<UShort>): UShortArray defined in kotlin.collections\n",
      "public operator fun <T> Collection<TypeVariable(T)>.plus(element: TypeVariable(T)): List<TypeVariable(T)> defined in kotlin.collections\n",
      "public operator fun <T> Collection<TypeVariable(T)>.plus(elements: Array<out TypeVariable(T)>): List<TypeVariable(T)> defined in kotlin.collections\n",
      "public operator fun <T> Collection<TypeVariable(T)>.plus(elements: Iterable<TypeVariable(T)>): List<TypeVariable(T)> defined in kotlin.collections\n",
      "public operator fun <T> Collection<TypeVariable(T)>.plus(elements: Sequence<TypeVariable(T)>): List<TypeVariable(T)> defined in kotlin.collections\n",
      "public operator fun <T> Iterable<TypeVariable(T)>.plus(element: TypeVariable(T)): List<TypeVariable(T)> defined in kotlin.collections\n",
      "public operator fun <T> Iterable<TypeVariable(T)>.plus(elements: Array<out TypeVariable(T)>): List<TypeVariable(T)> defined in kotlin.collections\n",
      "public operator fun <T> Iterable<TypeVariable(T)>.plus(elements: Iterable<TypeVariable(T)>): List<TypeVariable(T)> defined in kotlin.collections\n",
      "public operator fun <T> Iterable<TypeVariable(T)>.plus(elements: Sequence<TypeVariable(T)>): List<TypeVariable(T)> defined in kotlin.collections\n",
      "public operator fun <K, V> Map<out TypeVariable(K), TypeVariable(V)>.plus(pairs: Array<out Pair<TypeVariable(K), TypeVariable(V)>>): Map<TypeVariable(K), TypeVariable(V)> defined in kotlin.collections\n",
      "public operator fun <K, V> Map<out TypeVariable(K), TypeVariable(V)>.plus(pair: Pair<TypeVariable(K), TypeVariable(V)>): Map<TypeVariable(K), TypeVariable(V)> defined in kotlin.collections\n",
      "public operator fun <K, V> Map<out TypeVariable(K), TypeVariable(V)>.plus(pairs: Iterable<Pair<TypeVariable(K), TypeVariable(V)>>): Map<TypeVariable(K), TypeVariable(V)> defined in kotlin.collections\n",
      "public operator fun <K, V> Map<out TypeVariable(K), TypeVariable(V)>.plus(map: Map<out TypeVariable(K), TypeVariable(V)>): Map<TypeVariable(K), TypeVariable(V)> defined in kotlin.collections\n",
      "public operator fun <K, V> Map<out TypeVariable(K), TypeVariable(V)>.plus(pairs: Sequence<Pair<TypeVariable(K), TypeVariable(V)>>): Map<TypeVariable(K), TypeVariable(V)> defined in kotlin.collections\n",
      "public operator fun <T> Set<TypeVariable(T)>.plus(element: TypeVariable(T)): Set<TypeVariable(T)> defined in kotlin.collections\n",
      "public operator fun <T> Set<TypeVariable(T)>.plus(elements: Array<out TypeVariable(T)>): Set<TypeVariable(T)> defined in kotlin.collections\n",
      "public operator fun <T> Set<TypeVariable(T)>.plus(elements: Iterable<TypeVariable(T)>): Set<TypeVariable(T)> defined in kotlin.collections\n",
      "public operator fun <T> Set<TypeVariable(T)>.plus(elements: Sequence<TypeVariable(T)>): Set<TypeVariable(T)> defined in kotlin.collections\n",
      "public operator fun <T> Sequence<TypeVariable(T)>.plus(element: TypeVariable(T)): Sequence<TypeVariable(T)> defined in kotlin.sequences\n",
      "public operator fun <T> Sequence<TypeVariable(T)>.plus(elements: Array<out TypeVariable(T)>): Sequence<TypeVariable(T)> defined in kotlin.sequences\n",
      "public operator fun <T> Sequence<TypeVariable(T)>.plus(elements: Iterable<TypeVariable(T)>): Sequence<TypeVariable(T)> defined in kotlin.sequences\n",
      "public operator fun <T> Sequence<TypeVariable(T)>.plus(elements: Sequence<TypeVariable(T)>): Sequence<TypeVariable(T)> defined in kotlin.sequences"
     ]
    }
   ],
   "source": [
    "greetBavarianPrint(\"Ada\") + \"!\""
   ]
  },
  {
   "cell_type": "markdown",
   "id": "37b58924-7303-4e92-8ee8-86c0d6895a2d",
   "metadata": {},
   "source": [
    "`Servus Ada` ist die Ausgabe von `greetBavarianPrint(\"Ada\")`. Erst\n",
    "nach diesem Funktionsaufruf tritt der Fehler auf, da der *Rückgabewert*\n",
    "`Unit` von `print_greet_bavarian_print` mit `\"!\"` addiert wird. Die\n",
    "Fehlermeldung sagt aus, dass das nicht möglich ist, da ein *String*\n",
    "nicht mit einem Element, dass den *Typ* `Unit` hat, addiert werden\n",
    "kann. Hätten wir an dieser Stelle die Funktion `greetBavarian` genutzt,\n",
    "wäre kein Fehler aufgetreten, da diese einen *String* zurückgibt."
   ]
  },
  {
   "cell_type": "code",
   "execution_count": 86,
   "id": "9d9e1c71-6578-4ac0-aaf8-3a4f973dfb16",
   "metadata": {
    "execution": {
     "iopub.execute_input": "2024-08-23T13:01:51.983731Z",
     "iopub.status.busy": "2024-08-23T13:01:51.982350Z",
     "iopub.status.idle": "2024-08-23T13:01:52.032941Z",
     "shell.execute_reply": "2024-08-23T13:01:52.033137Z"
    }
   },
   "outputs": [
    {
     "data": {
      "text/plain": [
       "Servus Ada!"
      ]
     },
     "execution_count": 86,
     "metadata": {},
     "output_type": "execute_result"
    }
   ],
   "source": [
    "greetBavarian(\"Ada\") + \"!\""
   ]
  },
  {
   "cell_type": "markdown",
   "id": "46e79931-bb59-41d2-a4b5-2bf0cb95af04",
   "metadata": {},
   "source": [
    "Der Unterschied wird auch deutlich, wenn man das Ergebnis dieser\n",
    "Funktionen in einer *Variablen* speichert."
   ]
  },
  {
   "cell_type": "code",
   "execution_count": 87,
   "id": "db9e47cc-9189-4dbd-8099-068e84e39a3d",
   "metadata": {
    "execution": {
     "iopub.execute_input": "2024-08-23T13:01:52.036305Z",
     "iopub.status.busy": "2024-08-23T13:01:52.035647Z",
     "iopub.status.idle": "2024-08-23T13:01:52.064997Z",
     "shell.execute_reply": "2024-08-23T13:01:52.062375Z"
    }
   },
   "outputs": [
    {
     "name": "stderr",
     "output_type": "stream",
     "text": [
      "Line_86.jupyter.kts (1:1 - 2) Val cannot be reassigned\n",
      "Line_86.jupyter.kts (1:5 - 25) Type mismatch: inferred type is String but Int was expected"
     ]
    }
   ],
   "source": [
    "x = greetBavarian(\"Ada\")\n",
    "x"
   ]
  },
  {
   "cell_type": "markdown",
   "id": "63b33bac-000a-4967-9de8-e284178ee99d",
   "metadata": {},
   "source": [
    "Bei der Zuweisung in der ersten Zeile wird der *Wert* von\n",
    "`greetBavarian(\"Ada\")` zwar berechnet und der *Variablen* zugewiesen.\n",
    "Es ist aber nichts zu sehen. Der *Wert* der *Variablen* `x` ist\n",
    "`\"Servus Ada\"` und wird deshalb nach der zweiten Zeile angezeigt.\n",
    "\n",
    "Bei der Verwendung von `greetBavarianPrint` ist etwas völlig anderes\n",
    "zu beobachten."
   ]
  },
  {
   "cell_type": "code",
   "execution_count": 88,
   "id": "03dd494c-89ab-4551-b43b-a62c7863efb2",
   "metadata": {
    "execution": {
     "iopub.execute_input": "2024-08-23T13:01:52.071741Z",
     "iopub.status.busy": "2024-08-23T13:01:52.071048Z",
     "iopub.status.idle": "2024-08-23T13:01:52.093311Z",
     "shell.execute_reply": "2024-08-23T13:01:52.093005Z"
    }
   },
   "outputs": [
    {
     "name": "stderr",
     "output_type": "stream",
     "text": [
      "Line_87.jupyter.kts (1:1 - 2) Val cannot be reassigned\n",
      "Line_87.jupyter.kts (1:5 - 30) Type mismatch: inferred type is Unit but Int was expected"
     ]
    }
   ],
   "source": [
    "x = greetBavarianPrint(\"Ada\")\n",
    "x"
   ]
  },
  {
   "cell_type": "markdown",
   "id": "b54f391c-6428-4067-acdc-cbf77f7e2deb",
   "metadata": {},
   "source": [
    "Bei der Auswertung der rechten Seite der ersten Zeile wird der *Wert*\n",
    "zwar angezeigt. Da der *Rückgabewert* `Unit` ist, wird in der\n",
    "*Variablen* auch nur dieser *Wert* gespeichert. Dieser wird nach der\n",
    "letzten Zeile nicht angezeigt.\n",
    "\n",
    "Der letzte wichtige Unterschied ist, dass bei der Ausführung eines\n",
    "`return`-*Statements* die Funktion, die dieses beinhaltet, verlassen\n",
    "wird."
   ]
  },
  {
   "cell_type": "code",
   "execution_count": 89,
   "id": "2b8b6664-d1e5-453c-a90c-8bc1d388a77a",
   "metadata": {
    "execution": {
     "iopub.execute_input": "2024-08-23T13:01:52.096548Z",
     "iopub.status.busy": "2024-08-23T13:01:52.095544Z",
     "iopub.status.idle": "2024-08-23T13:01:52.149589Z",
     "shell.execute_reply": "2024-08-23T13:01:52.149119Z"
    }
   },
   "outputs": [],
   "source": [
    "fun hello_and_goodbye_wrong(): String {\n",
    "    return \"Hello\"\n",
    "    println(\"Goodbye\")\n",
    "}"
   ]
  },
  {
   "cell_type": "code",
   "execution_count": 90,
   "id": "e1084a90-ae96-4115-9622-1ed3db973db9",
   "metadata": {
    "execution": {
     "iopub.execute_input": "2024-08-23T13:01:52.152005Z",
     "iopub.status.busy": "2024-08-23T13:01:52.151580Z",
     "iopub.status.idle": "2024-08-23T13:01:52.193208Z",
     "shell.execute_reply": "2024-08-23T13:01:52.193454Z"
    }
   },
   "outputs": [
    {
     "data": {
      "text/plain": [
       "Hello"
      ]
     },
     "execution_count": 90,
     "metadata": {},
     "output_type": "execute_result"
    }
   ],
   "source": [
    "hello_and_goodbye_wrong()"
   ]
  },
  {
   "cell_type": "markdown",
   "id": "3ed10595-09ec-4081-87a5-f36ed69d0c33",
   "metadata": {},
   "source": [
    "Bei Aufrufen von `println` ist dies nicht der Fall."
   ]
  },
  {
   "cell_type": "code",
   "execution_count": 91,
   "id": "c4503fb8-877d-4241-a84c-f5cfb258ec85",
   "metadata": {
    "execution": {
     "iopub.execute_input": "2024-08-23T13:01:52.195976Z",
     "iopub.status.busy": "2024-08-23T13:01:52.195477Z",
     "iopub.status.idle": "2024-08-23T13:01:52.256354Z",
     "shell.execute_reply": "2024-08-23T13:01:52.255991Z"
    }
   },
   "outputs": [],
   "source": [
    "fun print_hello_and_goodbye() : Unit{\n",
    "    print(\"Hello\")\n",
    "    print(\"Goodbye\")\n",
    "}"
   ]
  },
  {
   "cell_type": "code",
   "execution_count": 92,
   "id": "c5b79448-bf94-4e05-82cc-2d72ef953d24",
   "metadata": {
    "execution": {
     "iopub.execute_input": "2024-08-23T13:01:52.258573Z",
     "iopub.status.busy": "2024-08-23T13:01:52.258175Z",
     "iopub.status.idle": "2024-08-23T13:01:52.296648Z",
     "shell.execute_reply": "2024-08-23T13:01:52.296837Z"
    }
   },
   "outputs": [
    {
     "name": "stdout",
     "output_type": "stream",
     "text": [
      "HelloGoodbye"
     ]
    }
   ],
   "source": [
    "print_hello_and_goodbye()"
   ]
  },
  {
   "cell_type": "markdown",
   "id": "dceed8ad-8d43-42b5-ba88-96c71a14a1eb",
   "metadata": {},
   "source": [
    "## Eingabe\n",
    "\n",
    "Mit der Funktion `readln` können Benutzereingaben eingelesen werden. Die Funktion hat keine *Parameter*. Beim Aufruf wird auf die Eingabe des benutzers gewartet. Dieser muss seine Eingabe mit Enter bestätigen. Die Eingabe wird als *String* zurückgegeben."
   ]
  },
  {
   "cell_type": "code",
   "execution_count": 93,
   "id": "456da678",
   "metadata": {
    "execution": {
     "iopub.execute_input": "2024-08-23T13:01:52.299479Z",
     "iopub.status.busy": "2024-08-23T13:01:52.298922Z",
     "iopub.status.idle": "2024-08-23T13:01:52.344439Z",
     "shell.execute_reply": "2024-08-23T13:01:52.343849Z"
    }
   },
   "outputs": [
    {
     "name": "stderr",
     "output_type": "stream",
     "text": [
      "Input from stdin is unsupported by the client\n",
      "java.io.IOException: Input from stdin is unsupported by the client\n",
      "\tat org.jetbrains.kotlinx.jupyter.protocol.DisabledStdinInputStream.read(DisabledStdinInputStream.kt:8)\n",
      "\tat kotlin.io.LineReader.readLine(Console.kt:195)\n",
      "\tat kotlin.io.ConsoleKt.readLine(Console.kt:170)\n",
      "\tat kotlin.io.ConsoleKt.readlnOrNull(Console.kt:163)\n",
      "\tat kotlin.io.ConsoleKt.readln(Console.kt:152)\n",
      "\tat Line_92_jupyter.<init>(Line_92.jupyter.kts:1)\n",
      "\tat java.base/jdk.internal.reflect.DirectConstructorHandleAccessor.newInstance(DirectConstructorHandleAccessor.java:62)\n",
      "\tat java.base/java.lang.reflect.Constructor.newInstanceWithCaller(Constructor.java:502)\n",
      "\tat java.base/java.lang.reflect.Constructor.newInstance(Constructor.java:486)\n",
      "\tat kotlin.script.experimental.jvm.BasicJvmScriptEvaluator.evalWithConfigAndOtherScriptsResults(BasicJvmScriptEvaluator.kt:122)\n",
      "\tat kotlin.script.experimental.jvm.BasicJvmScriptEvaluator.invoke$suspendImpl(BasicJvmScriptEvaluator.kt:48)\n",
      "\tat kotlin.script.experimental.jvm.BasicJvmScriptEvaluator.invoke(BasicJvmScriptEvaluator.kt)\n",
      "\tat kotlin.script.experimental.jvm.BasicJvmReplEvaluator.eval(BasicJvmReplEvaluator.kt:49)\n",
      "\tat org.jetbrains.kotlinx.jupyter.repl.impl.InternalEvaluatorImpl$eval$resultWithDiagnostics$1.invokeSuspend(InternalEvaluatorImpl.kt:127)\n",
      "\tat kotlin.coroutines.jvm.internal.BaseContinuationImpl.resumeWith(ContinuationImpl.kt:33)\n",
      "\tat kotlinx.coroutines.DispatchedTask.run(DispatchedTask.kt:104)\n",
      "\tat kotlinx.coroutines.EventLoopImplBase.processNextEvent(EventLoop.common.kt:277)\n",
      "\tat kotlinx.coroutines.BlockingCoroutine.joinBlocking(Builders.kt:95)\n",
      "\tat kotlinx.coroutines.BuildersKt__BuildersKt.runBlocking(Builders.kt:69)\n",
      "\tat kotlinx.coroutines.BuildersKt.runBlocking(Unknown Source)\n",
      "\tat kotlinx.coroutines.BuildersKt__BuildersKt.runBlocking$default(Builders.kt:48)\n",
      "\tat kotlinx.coroutines.BuildersKt.runBlocking$default(Unknown Source)\n",
      "\tat org.jetbrains.kotlinx.jupyter.repl.impl.InternalEvaluatorImpl.eval(InternalEvaluatorImpl.kt:127)\n",
      "\tat org.jetbrains.kotlinx.jupyter.repl.impl.CellExecutorImpl$execute$1$result$1.invoke(CellExecutorImpl.kt:79)\n",
      "\tat org.jetbrains.kotlinx.jupyter.repl.impl.CellExecutorImpl$execute$1$result$1.invoke(CellExecutorImpl.kt:77)\n",
      "\tat org.jetbrains.kotlinx.jupyter.repl.impl.ReplForJupyterImpl.withHost(ReplForJupyterImpl.kt:758)\n",
      "\tat org.jetbrains.kotlinx.jupyter.repl.impl.CellExecutorImpl.execute(CellExecutorImpl.kt:77)\n",
      "\tat org.jetbrains.kotlinx.jupyter.repl.execution.CellExecutor$DefaultImpls.execute$default(CellExecutor.kt:12)\n",
      "\tat org.jetbrains.kotlinx.jupyter.repl.impl.ReplForJupyterImpl.evaluateUserCode(ReplForJupyterImpl.kt:581)\n",
      "\tat org.jetbrains.kotlinx.jupyter.repl.impl.ReplForJupyterImpl.access$evaluateUserCode(ReplForJupyterImpl.kt:136)\n",
      "\tat org.jetbrains.kotlinx.jupyter.repl.impl.ReplForJupyterImpl$evalEx$1.invoke(ReplForJupyterImpl.kt:439)\n",
      "\tat org.jetbrains.kotlinx.jupyter.repl.impl.ReplForJupyterImpl$evalEx$1.invoke(ReplForJupyterImpl.kt:436)\n",
      "\tat org.jetbrains.kotlinx.jupyter.repl.impl.ReplForJupyterImpl.withEvalContext(ReplForJupyterImpl.kt:417)\n",
      "\tat org.jetbrains.kotlinx.jupyter.repl.impl.ReplForJupyterImpl.evalEx(ReplForJupyterImpl.kt:436)\n",
      "\tat org.jetbrains.kotlinx.jupyter.messaging.IdeCompatibleMessageRequestProcessor$processExecuteRequest$1$response$1$1.invoke(IdeCompatibleMessageRequestProcessor.kt:140)\n",
      "\tat org.jetbrains.kotlinx.jupyter.messaging.IdeCompatibleMessageRequestProcessor$processExecuteRequest$1$response$1$1.invoke(IdeCompatibleMessageRequestProcessor.kt:139)\n",
      "\tat org.jetbrains.kotlinx.jupyter.execution.JupyterExecutorImpl$Task.execute(JupyterExecutorImpl.kt:42)\n",
      "\tat org.jetbrains.kotlinx.jupyter.execution.JupyterExecutorImpl$executorThread$1.invoke(JupyterExecutorImpl.kt:82)\n",
      "\tat org.jetbrains.kotlinx.jupyter.execution.JupyterExecutorImpl$executorThread$1.invoke(JupyterExecutorImpl.kt:80)\n",
      "\tat kotlin.concurrent.ThreadsKt$thread$thread$1.run(Thread.kt:30)\n"
     ]
    }
   ],
   "source": [
    "readln()"
   ]
  },
  {
   "cell_type": "markdown",
   "id": "2d1b902a",
   "metadata": {},
   "source": [
    "<figure style = \"text-align:center\" >\n",
    "<img src=\"funktionsaufruf_input.svg\" style=\"width:25.0%; ; background-color:white;\" />>\n",
    "<figcaption>Funktionsaufruf <code\n",
    "class=\"sourceCode kotlin\"><span class=\"bu\">readln</span>(<span class=\"st\">&#39;Wie heißt du? &#39;</span>) </code>\n",
    "und Eingabe <code>Grace</code> </figcaption>\n",
    "</figure>\n",
    "\n",
    "Es ist oft sinnvoll diesen *Rückgabewert* in einer *Variablen* zu\n",
    "speichern, um ihn später verwenden zu können."
   ]
  },
  {
   "cell_type": "code",
   "execution_count": 94,
   "id": "b6d8ce43",
   "metadata": {
    "execution": {
     "iopub.execute_input": "2024-08-23T13:01:52.346752Z",
     "iopub.status.busy": "2024-08-23T13:01:52.346286Z",
     "iopub.status.idle": "2024-08-23T13:01:52.396796Z",
     "shell.execute_reply": "2024-08-23T13:01:52.396461Z"
    }
   },
   "outputs": [
    {
     "name": "stdout",
     "output_type": "stream",
     "text": [
      "Wie heißt du\n"
     ]
    },
    {
     "name": "stderr",
     "output_type": "stream",
     "text": [
      "Input from stdin is unsupported by the client\n",
      "java.io.IOException: Input from stdin is unsupported by the client\n",
      "\tat org.jetbrains.kotlinx.jupyter.protocol.DisabledStdinInputStream.read(DisabledStdinInputStream.kt:8)\n",
      "\tat kotlin.io.LineReader.readLine(Console.kt:195)\n",
      "\tat kotlin.io.ConsoleKt.readLine(Console.kt:170)\n",
      "\tat kotlin.io.ConsoleKt.readlnOrNull(Console.kt:163)\n",
      "\tat kotlin.io.ConsoleKt.readln(Console.kt:152)\n",
      "\tat Line_93_jupyter.<init>(Line_93.jupyter.kts:2)\n",
      "\tat java.base/jdk.internal.reflect.DirectConstructorHandleAccessor.newInstance(DirectConstructorHandleAccessor.java:62)\n",
      "\tat java.base/java.lang.reflect.Constructor.newInstanceWithCaller(Constructor.java:502)\n",
      "\tat java.base/java.lang.reflect.Constructor.newInstance(Constructor.java:486)\n",
      "\tat kotlin.script.experimental.jvm.BasicJvmScriptEvaluator.evalWithConfigAndOtherScriptsResults(BasicJvmScriptEvaluator.kt:122)\n",
      "\tat kotlin.script.experimental.jvm.BasicJvmScriptEvaluator.invoke$suspendImpl(BasicJvmScriptEvaluator.kt:48)\n",
      "\tat kotlin.script.experimental.jvm.BasicJvmScriptEvaluator.invoke(BasicJvmScriptEvaluator.kt)\n",
      "\tat kotlin.script.experimental.jvm.BasicJvmReplEvaluator.eval(BasicJvmReplEvaluator.kt:49)\n",
      "\tat org.jetbrains.kotlinx.jupyter.repl.impl.InternalEvaluatorImpl$eval$resultWithDiagnostics$1.invokeSuspend(InternalEvaluatorImpl.kt:127)\n",
      "\tat kotlin.coroutines.jvm.internal.BaseContinuationImpl.resumeWith(ContinuationImpl.kt:33)\n",
      "\tat kotlinx.coroutines.DispatchedTask.run(DispatchedTask.kt:104)\n",
      "\tat kotlinx.coroutines.EventLoopImplBase.processNextEvent(EventLoop.common.kt:277)\n",
      "\tat kotlinx.coroutines.BlockingCoroutine.joinBlocking(Builders.kt:95)\n",
      "\tat kotlinx.coroutines.BuildersKt__BuildersKt.runBlocking(Builders.kt:69)\n",
      "\tat kotlinx.coroutines.BuildersKt.runBlocking(Unknown Source)\n",
      "\tat kotlinx.coroutines.BuildersKt__BuildersKt.runBlocking$default(Builders.kt:48)\n",
      "\tat kotlinx.coroutines.BuildersKt.runBlocking$default(Unknown Source)\n",
      "\tat org.jetbrains.kotlinx.jupyter.repl.impl.InternalEvaluatorImpl.eval(InternalEvaluatorImpl.kt:127)\n",
      "\tat org.jetbrains.kotlinx.jupyter.repl.impl.CellExecutorImpl$execute$1$result$1.invoke(CellExecutorImpl.kt:79)\n",
      "\tat org.jetbrains.kotlinx.jupyter.repl.impl.CellExecutorImpl$execute$1$result$1.invoke(CellExecutorImpl.kt:77)\n",
      "\tat org.jetbrains.kotlinx.jupyter.repl.impl.ReplForJupyterImpl.withHost(ReplForJupyterImpl.kt:758)\n",
      "\tat org.jetbrains.kotlinx.jupyter.repl.impl.CellExecutorImpl.execute(CellExecutorImpl.kt:77)\n",
      "\tat org.jetbrains.kotlinx.jupyter.repl.execution.CellExecutor$DefaultImpls.execute$default(CellExecutor.kt:12)\n",
      "\tat org.jetbrains.kotlinx.jupyter.repl.impl.ReplForJupyterImpl.evaluateUserCode(ReplForJupyterImpl.kt:581)\n",
      "\tat org.jetbrains.kotlinx.jupyter.repl.impl.ReplForJupyterImpl.access$evaluateUserCode(ReplForJupyterImpl.kt:136)\n",
      "\tat org.jetbrains.kotlinx.jupyter.repl.impl.ReplForJupyterImpl$evalEx$1.invoke(ReplForJupyterImpl.kt:439)\n",
      "\tat org.jetbrains.kotlinx.jupyter.repl.impl.ReplForJupyterImpl$evalEx$1.invoke(ReplForJupyterImpl.kt:436)\n",
      "\tat org.jetbrains.kotlinx.jupyter.repl.impl.ReplForJupyterImpl.withEvalContext(ReplForJupyterImpl.kt:417)\n",
      "\tat org.jetbrains.kotlinx.jupyter.repl.impl.ReplForJupyterImpl.evalEx(ReplForJupyterImpl.kt:436)\n",
      "\tat org.jetbrains.kotlinx.jupyter.messaging.IdeCompatibleMessageRequestProcessor$processExecuteRequest$1$response$1$1.invoke(IdeCompatibleMessageRequestProcessor.kt:140)\n",
      "\tat org.jetbrains.kotlinx.jupyter.messaging.IdeCompatibleMessageRequestProcessor$processExecuteRequest$1$response$1$1.invoke(IdeCompatibleMessageRequestProcessor.kt:139)\n",
      "\tat org.jetbrains.kotlinx.jupyter.execution.JupyterExecutorImpl$Task.execute(JupyterExecutorImpl.kt:42)\n",
      "\tat org.jetbrains.kotlinx.jupyter.execution.JupyterExecutorImpl$executorThread$1.invoke(JupyterExecutorImpl.kt:82)\n",
      "\tat org.jetbrains.kotlinx.jupyter.execution.JupyterExecutorImpl$executorThread$1.invoke(JupyterExecutorImpl.kt:80)\n",
      "\tat kotlin.concurrent.ThreadsKt$thread$thread$1.run(Thread.kt:30)\n"
     ]
    }
   ],
   "source": [
    "println(\"Wie heißt du\")\n",
    "val name = readln()\n",
    "name"
   ]
  },
  {
   "cell_type": "markdown",
   "id": "1786c834",
   "metadata": {},
   "source": [
    "\n",
    "## Kombination von Ein- und Ausgabe\n",
    "\n",
    "Wir können nun interaktive Programme schrieben, in denen wir Eingabe,\n",
    "Verarbeitung und Ausgabe kombinieren."
   ]
  },
  {
   "cell_type": "code",
   "execution_count": 95,
   "id": "39b7e342-1083-4272-a839-d97d59230afe",
   "metadata": {
    "ExecuteTime": {
     "end_time": "2024-08-21T13:17:55.585004115Z",
     "start_time": "2024-08-21T13:17:55.495250255Z"
    },
    "execution": {
     "iopub.execute_input": "2024-08-23T13:01:52.399508Z",
     "iopub.status.busy": "2024-08-23T13:01:52.398790Z",
     "iopub.status.idle": "2024-08-23T13:01:52.473777Z",
     "shell.execute_reply": "2024-08-23T13:01:52.473025Z"
    }
   },
   "outputs": [],
   "source": [
    "fun greetBavarianIO():Unit{\n",
    "    println(\"Wie heißt du?\")\n",
    "    val name = readln()\n",
    "    println(greetBavarian(name))\n",
    "}"
   ]
  },
  {
   "cell_type": "markdown",
   "id": "7f7cacfa-c34a-407f-88bb-6c6808d72a04",
   "metadata": {},
   "source": [
    "Die Funktionen `println` und `readln` sorgen dafür, dass auch, wenn die\n",
    "Funktion in einem normalen Programm aufgerufen wird, etwas zu sehen ist."
   ]
  },
  {
   "cell_type": "markdown",
   "id": "e3239b23-7264-41d3-9d0c-43ae82ce3d6f",
   "metadata": {},
   "source": [
    "<figure style = \"text-align:center\" >\n",
    "<img src=\"screenshot_greetBavarianIO.png\" style=\"width:25.0%; ; background-color:white;\" />>\n",
    "\n",
    "<figcaption>Screenshot nach Aufruf von  <code\n",
    "class=\"sourceCode kotlin\">greetBavarianI()</code> und Eingabe von\n",
    "<code>Grace</code> </figcaption>\n",
    "</figure>\n",
    "\n",
    "Der Benutzer des Programms muss das Programm nur starten, um mit ihm zu\n",
    "interagieren. Er muss selbst aber nichts über Programmierung wissen.\n",
    "\n",
    "<figure style = \"text-align:center\" >\n",
    "<img src=\"funktionsaufruf_greet_bavarian_io.svg\" style=\"width:25.0%; ; background-color:white;\" />>\n",
    "\n",
    "<figcaption>Funktionsaufruf <code\n",
    "class=\"sourceCode kotlin\">greetBavarianIO()</code> und Eingabe\n",
    "<code>Alan</code> </figcaption>\n",
    "</figure>\n",
    "\n",
    "Der Benutzer des Programms muss das Programm nur starten, um mit ihm zu\n",
    "interagieren. Er muss selbst aber nichts über Programmierung wissen."
   ]
  },
  {
   "cell_type": "markdown",
   "id": "f17f63ab",
   "metadata": {},
   "source": [
    "# Character\n",
    "\n",
    "## Grundlagen\n",
    "\n",
    "*Character* beinhalten im Gegensatz zu *Strings* nur ein einzelnes Zeichen.\n"
   ]
  },
  {
   "cell_type": "code",
   "execution_count": 96,
   "id": "2f71ba40",
   "metadata": {
    "collapsed": true,
    "execution": {
     "iopub.execute_input": "2024-08-23T13:01:52.478038Z",
     "iopub.status.busy": "2024-08-23T13:01:52.477070Z",
     "iopub.status.idle": "2024-08-23T13:01:52.519372Z",
     "shell.execute_reply": "2024-08-23T13:01:52.519576Z"
    }
   },
   "outputs": [
    {
     "data": {
      "text/plain": [
       "a"
      ]
     },
     "execution_count": 96,
     "metadata": {},
     "output_type": "execute_result"
    }
   ],
   "source": [
    "'a'"
   ]
  },
  {
   "cell_type": "code",
   "execution_count": 97,
   "id": "f5a5028d",
   "metadata": {
    "execution": {
     "iopub.execute_input": "2024-08-23T13:01:52.521612Z",
     "iopub.status.busy": "2024-08-23T13:01:52.521200Z",
     "iopub.status.idle": "2024-08-23T13:01:52.558351Z",
     "shell.execute_reply": "2024-08-23T13:01:52.558570Z"
    }
   },
   "outputs": [
    {
     "data": {
      "text/plain": [
       "!"
      ]
     },
     "execution_count": 97,
     "metadata": {},
     "output_type": "execute_result"
    }
   ],
   "source": [
    "'!'"
   ]
  },
  {
   "cell_type": "code",
   "execution_count": 98,
   "id": "69470e58",
   "metadata": {
    "execution": {
     "iopub.execute_input": "2024-08-23T13:01:52.561451Z",
     "iopub.status.busy": "2024-08-23T13:01:52.560599Z",
     "iopub.status.idle": "2024-08-23T13:01:52.600783Z",
     "shell.execute_reply": "2024-08-23T13:01:52.600370Z"
    }
   },
   "outputs": [
    {
     "data": {
      "text/plain": [
       " "
      ]
     },
     "execution_count": 98,
     "metadata": {},
     "output_type": "execute_result"
    }
   ],
   "source": [
    "' '"
   ]
  },
  {
   "cell_type": "markdown",
   "id": "20d54c35",
   "metadata": {},
   "source": [
    "Es ist **nicht** möglich zwei *Character* zu addieren."
   ]
  },
  {
   "cell_type": "code",
   "execution_count": 99,
   "id": "4d81d21c",
   "metadata": {
    "ExecuteTime": {
     "end_time": "2024-08-22T06:58:50.060825328Z",
     "start_time": "2024-08-22T06:58:49.958357751Z"
    },
    "execution": {
     "iopub.execute_input": "2024-08-23T13:01:52.604586Z",
     "iopub.status.busy": "2024-08-23T13:01:52.604039Z",
     "iopub.status.idle": "2024-08-23T13:01:52.646969Z",
     "shell.execute_reply": "2024-08-23T13:01:52.646646Z"
    }
   },
   "outputs": [
    {
     "name": "stderr",
     "output_type": "stream",
     "text": [
      "Line_98.jupyter.kts (1:7 - 10) The character literal does not conform to the expected type Int"
     ]
    }
   ],
   "source": [
    "'a' + 'b'"
   ]
  },
  {
   "cell_type": "markdown",
   "id": "b0a3c0ff",
   "metadata": {},
   "source": [
    "Wir können aber einen *Character* mit einem *String* addieren."
   ]
  },
  {
   "cell_type": "code",
   "execution_count": 100,
   "id": "7040cca4",
   "metadata": {
    "ExecuteTime": {
     "end_time": "2024-08-22T07:02:14.918400157Z",
     "start_time": "2024-08-22T07:02:14.740139434Z"
    },
    "execution": {
     "iopub.execute_input": "2024-08-23T13:01:52.649921Z",
     "iopub.status.busy": "2024-08-23T13:01:52.649180Z",
     "iopub.status.idle": "2024-08-23T13:01:52.695995Z",
     "shell.execute_reply": "2024-08-23T13:01:52.698036Z"
    }
   },
   "outputs": [
    {
     "data": {
      "text/plain": [
       "ab"
      ]
     },
     "execution_count": 100,
     "metadata": {},
     "output_type": "execute_result"
    }
   ],
   "source": [
    "\"a\" + 'b' "
   ]
  },
  {
   "cell_type": "markdown",
   "id": "002bbbc7",
   "metadata": {},
   "source": [
    "## Character sind Werte \n",
    " \n",
    "Wir können mit *Charactern* alles machen was, wir mit anderen *Werten* getan haben. Wir können diese in *Variablen* speichern."
   ]
  },
  {
   "cell_type": "code",
   "execution_count": 101,
   "id": "f60c9f63",
   "metadata": {
    "execution": {
     "iopub.execute_input": "2024-08-23T13:01:52.704829Z",
     "iopub.status.busy": "2024-08-23T13:01:52.704132Z",
     "iopub.status.idle": "2024-08-23T13:01:52.743482Z",
     "shell.execute_reply": "2024-08-23T13:01:52.743174Z"
    }
   },
   "outputs": [],
   "source": [
    "val emptyChar = ' ' "
   ]
  },
  {
   "cell_type": "markdown",
   "id": "4d9c09b3",
   "metadata": {},
   "source": [
    "Und wir können Funktionen schreiben, deren Parameter oder Rückgabewerte *Character* sind."
   ]
  },
  {
   "cell_type": "code",
   "execution_count": 102,
   "id": "32ecaf7c",
   "metadata": {
    "ExecuteTime": {
     "end_time": "2024-08-22T07:43:55.189041152Z",
     "start_time": "2024-08-22T07:43:53.851989214Z"
    },
    "execution": {
     "iopub.execute_input": "2024-08-23T13:01:52.745422Z",
     "iopub.status.busy": "2024-08-23T13:01:52.745032Z",
     "iopub.status.idle": "2024-08-23T13:01:52.812320Z",
     "shell.execute_reply": "2024-08-23T13:01:52.812063Z"
    }
   },
   "outputs": [],
   "source": [
    "fun isPunctuationMark(x:Char) = x == '.' || x == '!'|| x == '?'"
   ]
  },
  {
   "cell_type": "code",
   "execution_count": 103,
   "id": "50b6d98e",
   "metadata": {
    "ExecuteTime": {
     "end_time": "2024-08-22T07:43:56.782991586Z",
     "start_time": "2024-08-22T07:43:56.461686424Z"
    },
    "execution": {
     "iopub.execute_input": "2024-08-23T13:01:52.814559Z",
     "iopub.status.busy": "2024-08-23T13:01:52.813986Z",
     "iopub.status.idle": "2024-08-23T13:01:52.857051Z",
     "shell.execute_reply": "2024-08-23T13:01:52.857336Z"
    }
   },
   "outputs": [
    {
     "data": {
      "text/plain": [
       "false"
      ]
     },
     "execution_count": 103,
     "metadata": {},
     "output_type": "execute_result"
    }
   ],
   "source": [
    "isPunctuationMark('x')"
   ]
  },
  {
   "cell_type": "code",
   "execution_count": 104,
   "id": "2f24c53a",
   "metadata": {
    "ExecuteTime": {
     "end_time": "2024-08-22T07:43:58.641547167Z",
     "start_time": "2024-08-22T07:43:58.482724226Z"
    },
    "execution": {
     "iopub.execute_input": "2024-08-23T13:01:52.859237Z",
     "iopub.status.busy": "2024-08-23T13:01:52.858833Z",
     "iopub.status.idle": "2024-08-23T13:01:52.892025Z",
     "shell.execute_reply": "2024-08-23T13:01:52.892208Z"
    }
   },
   "outputs": [
    {
     "data": {
      "text/plain": [
       "true"
      ]
     },
     "execution_count": 104,
     "metadata": {},
     "output_type": "execute_result"
    }
   ],
   "source": [
    "isPunctuationMark('!')"
   ]
  },
  {
   "cell_type": "markdown",
   "id": "1596b714-b236-4560-b72b-ef4a4c7404d0",
   "metadata": {},
   "source": [
    "# Booleans\n",
    "\n",
    "In diesem Kapitel beschäftigen wir uns mit Wahrheitswerten(*Booleans*).\n",
    "Diese sind im Gegensatz zu *Integern* und *Strings* zumindest in der\n",
    "Hinsicht besser zu verstehen, dass es nur zwei *Booleans* gibt\n",
    "\n",
    "-   Wahr (`true`)\n",
    "\n",
    "-   Falsch (`false`)\n",
    "\n",
    "## Vergleiche\n",
    "\n",
    "Wir erhalten ein *Boolean,* wenn wir zwei *Werte* miteinander\n",
    "vergleichen."
   ]
  },
  {
   "cell_type": "code",
   "execution_count": 105,
   "id": "16f30e0d-9615-408a-ac6a-86e907136dc7",
   "metadata": {
    "execution": {
     "iopub.execute_input": "2024-08-23T13:01:52.893766Z",
     "iopub.status.busy": "2024-08-23T13:01:52.893438Z",
     "iopub.status.idle": "2024-08-23T13:01:52.957609Z",
     "shell.execute_reply": "2024-08-23T13:01:52.957212Z"
    }
   },
   "outputs": [
    {
     "data": {
      "text/plain": [
       "true"
      ]
     },
     "execution_count": 105,
     "metadata": {},
     "output_type": "execute_result"
    }
   ],
   "source": [
    "2 < 3"
   ]
  },
  {
   "cell_type": "code",
   "execution_count": 106,
   "id": "d5fe64ee",
   "metadata": {
    "execution": {
     "iopub.execute_input": "2024-08-23T13:01:52.960449Z",
     "iopub.status.busy": "2024-08-23T13:01:52.959904Z",
     "iopub.status.idle": "2024-08-23T13:01:53.022081Z",
     "shell.execute_reply": "2024-08-23T13:01:53.022413Z"
    }
   },
   "outputs": [
    {
     "data": {
      "text/plain": [
       "true"
      ]
     },
     "execution_count": 106,
     "metadata": {},
     "output_type": "execute_result"
    }
   ],
   "source": [
    "2 * 3 == 3 * 2"
   ]
  },
  {
   "cell_type": "code",
   "execution_count": 107,
   "id": "d9694247",
   "metadata": {
    "execution": {
     "iopub.execute_input": "2024-08-23T13:01:53.026561Z",
     "iopub.status.busy": "2024-08-23T13:01:53.025953Z",
     "iopub.status.idle": "2024-08-23T13:01:53.040623Z",
     "shell.execute_reply": "2024-08-23T13:01:53.040945Z"
    }
   },
   "outputs": [
    {
     "name": "stderr",
     "output_type": "stream",
     "text": [
      "Line_106.jupyter.kts (1:1 - 8) Too many characters in a character literal ''hello''\n",
      "Line_106.jupyter.kts (1:12 - 19) Too many characters in a character literal ''hella''"
     ]
    }
   ],
   "source": [
    "'hello' == 'hella'"
   ]
  },
  {
   "cell_type": "code",
   "execution_count": 108,
   "id": "5cc2e9c5",
   "metadata": {
    "execution": {
     "iopub.execute_input": "2024-08-23T13:01:53.043994Z",
     "iopub.status.busy": "2024-08-23T13:01:53.043531Z",
     "iopub.status.idle": "2024-08-23T13:01:53.087718Z",
     "shell.execute_reply": "2024-08-23T13:01:53.087917Z"
    }
   },
   "outputs": [
    {
     "data": {
      "text/plain": [
       "false"
      ]
     },
     "execution_count": 108,
     "metadata": {},
     "output_type": "execute_result"
    }
   ],
   "source": [
    "2 != 2"
   ]
  },
  {
   "cell_type": "markdown",
   "id": "50031a58-a619-4732-906e-8d3025b71c5c",
   "metadata": {},
   "source": [
    "Die wichtigsten *Vergleichsoperatoren* sind in Tabelle\n",
    "folgenden Tabelle aufgeführt.\n",
    "<figure style=\"text-align: center;\">\n",
    "<img src=\"tabelle_vergleichsoperatoren.svg\" style=\"width:45.0%; ; background-color:white;\" />>\n",
    "      </figure>\n",
    "\n",
    "## Vergleiche von Werten mit unterschiedlichen Typen\n",
    "\n",
    "Zwei *Werte* die verschiedene *Typen* haben, können nicht gleich sein. "
   ]
  },
  {
   "cell_type": "code",
   "execution_count": 109,
   "id": "5bd4abf9",
   "metadata": {
    "ExecuteTime": {
     "end_time": "2024-08-21T13:41:18.276499066Z",
     "start_time": "2024-08-21T13:41:18.239479094Z"
    },
    "execution": {
     "iopub.execute_input": "2024-08-23T13:01:53.090714Z",
     "iopub.status.busy": "2024-08-23T13:01:53.090044Z",
     "iopub.status.idle": "2024-08-23T13:01:53.115109Z",
     "shell.execute_reply": "2024-08-23T13:01:53.114530Z"
    }
   },
   "outputs": [
    {
     "name": "stderr",
     "output_type": "stream",
     "text": [
      "Line_108.jupyter.kts (1:1 - 9) Operator '==' cannot be applied to 'Int' and 'String'"
     ]
    }
   ],
   "source": [
    "1 == \"1\""
   ]
  },
  {
   "cell_type": "markdown",
   "id": "c164d651a04ab0ba",
   "metadata": {},
   "source": [
    "Ein Vergleich von zwei *Werten* mit unterschiedlichen *Typen* führt zu einem *Typfehler* und damit dazu, dass das Programm nicht ausgeführt wird."
   ]
  },
  {
   "cell_type": "markdown",
   "id": "8c9301cd",
   "metadata": {},
   "source": [
    "\n",
    "## Variablen\n",
    "\n",
    "Wie alle *Werte* können wir *Booleans* in *Variablen* speichern."
   ]
  },
  {
   "cell_type": "code",
   "execution_count": 110,
   "id": "6845573e-ab08-4d65-b8ec-35ac071d1a0c",
   "metadata": {
    "execution": {
     "iopub.execute_input": "2024-08-23T13:01:53.117992Z",
     "iopub.status.busy": "2024-08-23T13:01:53.117434Z",
     "iopub.status.idle": "2024-08-23T13:01:53.156448Z",
     "shell.execute_reply": "2024-08-23T13:01:53.156784Z"
    }
   },
   "outputs": [
    {
     "name": "stderr",
     "output_type": "stream",
     "text": [
      "Line_109.jupyter.kts (1:1 - 25) Unresolved reference: seven_is_five_plus_three\n",
      "Line_109.jupyter.kts (2:1 - 25) Unresolved reference: seven_is_five_plus_three"
     ]
    }
   ],
   "source": [
    "seven_is_five_plus_three = 7 == 5 + 3\n",
    "seven_is_five_plus_three"
   ]
  },
  {
   "cell_type": "markdown",
   "id": "09e4af41-a796-4576-9983-65e97bdae2ff",
   "metadata": {},
   "source": [
    "## Funktionen\n",
    "\n",
    "Natürlich können *Booleans* auch *Argumente* oder *Rückgabewerte* von\n",
    "Funktionen sein."
   ]
  },
  {
   "cell_type": "code",
   "execution_count": 111,
   "id": "bc4a6fdf-2328-467d-a780-70548b95f176",
   "metadata": {
    "ExecuteTime": {
     "end_time": "2024-08-21T13:42:26.935410855Z",
     "start_time": "2024-08-21T13:42:26.688974405Z"
    },
    "execution": {
     "iopub.execute_input": "2024-08-23T13:01:53.160003Z",
     "iopub.status.busy": "2024-08-23T13:01:53.159262Z",
     "iopub.status.idle": "2024-08-23T13:01:53.203233Z",
     "shell.execute_reply": "2024-08-23T13:01:53.202963Z"
    }
   },
   "outputs": [],
   "source": [
    "fun fullAge(age: Int): Boolean  =  age > 17"
   ]
  },
  {
   "cell_type": "code",
   "execution_count": 112,
   "id": "f39c30aa-44c1-4525-81bd-d3781408ba51",
   "metadata": {
    "ExecuteTime": {
     "end_time": "2024-08-21T13:42:31.045545710Z",
     "start_time": "2024-08-21T13:42:30.881983851Z"
    },
    "execution": {
     "iopub.execute_input": "2024-08-23T13:01:53.204941Z",
     "iopub.status.busy": "2024-08-23T13:01:53.204593Z",
     "iopub.status.idle": "2024-08-23T13:01:53.257697Z",
     "shell.execute_reply": "2024-08-23T13:01:53.258043Z"
    }
   },
   "outputs": [
    {
     "data": {
      "text/plain": [
       "false"
      ]
     },
     "execution_count": 112,
     "metadata": {},
     "output_type": "execute_result"
    }
   ],
   "source": [
    "fullAge(17)"
   ]
  },
  {
   "cell_type": "code",
   "execution_count": 113,
   "id": "e9ab3041",
   "metadata": {
    "ExecuteTime": {
     "end_time": "2024-08-21T13:42:33.841718360Z",
     "start_time": "2024-08-21T13:42:33.712330102Z"
    },
    "execution": {
     "iopub.execute_input": "2024-08-23T13:01:53.260540Z",
     "iopub.status.busy": "2024-08-23T13:01:53.259935Z",
     "iopub.status.idle": "2024-08-23T13:01:53.299340Z",
     "shell.execute_reply": "2024-08-23T13:01:53.299698Z"
    }
   },
   "outputs": [
    {
     "data": {
      "text/plain": [
       "true"
      ]
     },
     "execution_count": 113,
     "metadata": {},
     "output_type": "execute_result"
    }
   ],
   "source": [
    "fullAge(18)"
   ]
  },
  {
   "cell_type": "markdown",
   "id": "7dbd67aa-2229-4f5f-b614-4ea314b20f87",
   "metadata": {},
   "source": [
    "## Boolesche Ausdrücke und Bedingungen\n",
    "\n",
    "Ausdrücke, die zu einem *Boolean* ausgewertet werden, nennt man\n",
    "*boolesche Ausdrücke* oder Bedingungen. Wie Rechenausdrücke können diese\n",
    "mit *Operatoren* verknüpft werden.\n",
    "\n",
    "## Verneinungen\n",
    "\n",
    "Bedingungen können mithilfe des *Operators* `!` verneint werden.\n",
    "Die Verneinung einer Bedingung ist genau dann erfüllt, wenn die\n",
    "Bedingung selbst nicht erfüllt ist."
   ]
  },
  {
   "cell_type": "code",
   "execution_count": 114,
   "id": "a128ad35-5f14-464f-ae0e-12c3f66001df",
   "metadata": {
    "ExecuteTime": {
     "end_time": "2024-08-21T13:43:07.708935958Z",
     "start_time": "2024-08-21T13:43:07.584092038Z"
    },
    "execution": {
     "iopub.execute_input": "2024-08-23T13:01:53.302935Z",
     "iopub.status.busy": "2024-08-23T13:01:53.302406Z",
     "iopub.status.idle": "2024-08-23T13:01:53.342382Z",
     "shell.execute_reply": "2024-08-23T13:01:53.342657Z"
    }
   },
   "outputs": [
    {
     "data": {
      "text/plain": [
       "false"
      ]
     },
     "execution_count": 114,
     "metadata": {},
     "output_type": "execute_result"
    }
   ],
   "source": [
    "!true"
   ]
  },
  {
   "cell_type": "code",
   "execution_count": 115,
   "id": "bc833cd1",
   "metadata": {
    "ExecuteTime": {
     "end_time": "2024-08-21T13:43:25.361238419Z",
     "start_time": "2024-08-21T13:43:25.284045422Z"
    },
    "execution": {
     "iopub.execute_input": "2024-08-23T13:01:53.346663Z",
     "iopub.status.busy": "2024-08-23T13:01:53.345852Z",
     "iopub.status.idle": "2024-08-23T13:01:53.385150Z",
     "shell.execute_reply": "2024-08-23T13:01:53.385423Z"
    }
   },
   "outputs": [
    {
     "data": {
      "text/plain": [
       "true"
      ]
     },
     "execution_count": 115,
     "metadata": {},
     "output_type": "execute_result"
    }
   ],
   "source": [
    "!false"
   ]
  },
  {
   "cell_type": "code",
   "execution_count": 116,
   "id": "d9c72a42",
   "metadata": {
    "ExecuteTime": {
     "end_time": "2024-08-21T13:43:44.641273837Z",
     "start_time": "2024-08-21T13:43:44.525002742Z"
    },
    "execution": {
     "iopub.execute_input": "2024-08-23T13:01:53.388236Z",
     "iopub.status.busy": "2024-08-23T13:01:53.387622Z",
     "iopub.status.idle": "2024-08-23T13:01:53.435047Z",
     "shell.execute_reply": "2024-08-23T13:01:53.435592Z"
    }
   },
   "outputs": [
    {
     "data": {
      "text/plain": [
       "true"
      ]
     },
     "execution_count": 116,
     "metadata": {},
     "output_type": "execute_result"
    }
   ],
   "source": [
    "!(1 == 2)"
   ]
  },
  {
   "cell_type": "markdown",
   "id": "0a51f1bb-b53c-4b08-9b89-815dcb859b53",
   "metadata": {},
   "source": [
    "## Verknüpfungen von Bedingungen\n",
    "\n",
    "Mithilfe der *Operatoren* `&&` und `||` können zwei *boolesche\n",
    "Ausdrücke* miteinander verknüpft werden. Wenn zwei *boolesche Ausdrücke*\n",
    "mit `&&` verknüpft werden, dann wird der verknüpfte *boolesche Ausdruck*\n",
    "genau dann zu `true` ausgewertet, wenn beide Teilausdrücke zu `true`\n",
    "ausgewertet werden."
   ]
  },
  {
   "cell_type": "code",
   "execution_count": 117,
   "id": "28c391c4-0328-4b0c-85fe-5558aa69534e",
   "metadata": {
    "execution": {
     "iopub.execute_input": "2024-08-23T13:01:53.439566Z",
     "iopub.status.busy": "2024-08-23T13:01:53.439012Z",
     "iopub.status.idle": "2024-08-23T13:01:53.482489Z",
     "shell.execute_reply": "2024-08-23T13:01:53.482708Z"
    }
   },
   "outputs": [
    {
     "data": {
      "text/plain": [
       "true"
      ]
     },
     "execution_count": 117,
     "metadata": {},
     "output_type": "execute_result"
    }
   ],
   "source": [
    "true && 15 > 10"
   ]
  },
  {
   "cell_type": "code",
   "execution_count": 118,
   "id": "321a6e02",
   "metadata": {
    "execution": {
     "iopub.execute_input": "2024-08-23T13:01:53.485756Z",
     "iopub.status.busy": "2024-08-23T13:01:53.485014Z",
     "iopub.status.idle": "2024-08-23T13:01:53.532625Z",
     "shell.execute_reply": "2024-08-23T13:01:53.530599Z"
    }
   },
   "outputs": [
    {
     "data": {
      "text/plain": [
       "true"
      ]
     },
     "execution_count": 118,
     "metadata": {},
     "output_type": "execute_result"
    }
   ],
   "source": [
    "1 < 2 && 2 > 0"
   ]
  },
  {
   "cell_type": "code",
   "execution_count": 119,
   "id": "5b9f6519",
   "metadata": {
    "execution": {
     "iopub.execute_input": "2024-08-23T13:01:53.537018Z",
     "iopub.status.busy": "2024-08-23T13:01:53.536191Z",
     "iopub.status.idle": "2024-08-23T13:01:53.582224Z",
     "shell.execute_reply": "2024-08-23T13:01:53.581904Z"
    }
   },
   "outputs": [
    {
     "data": {
      "text/plain": [
       "false"
      ]
     },
     "execution_count": 119,
     "metadata": {},
     "output_type": "execute_result"
    }
   ],
   "source": [
    "3 <= 3 && (2 < 0 && 4 >= 5)"
   ]
  },
  {
   "cell_type": "markdown",
   "id": "d32f3eb4-9acf-486b-9deb-8f7f4667edeb",
   "metadata": {},
   "source": [
    "Wenn zwei *boolesche Ausdrücke* mit `||` verknüpft werden, dann ist der\n",
    "verknüpfte *boolesche Ausdruck* genau dann wahr, wenn mindestens einer\n",
    "der beiden *Teilausdrücke* zu `true` ausgewertet wird."
   ]
  },
  {
   "cell_type": "code",
   "execution_count": 120,
   "id": "9dca7801-24cd-468f-89e1-5d33b406a363",
   "metadata": {
    "ExecuteTime": {
     "end_time": "2024-08-21T13:45:29.442293185Z",
     "start_time": "2024-08-21T13:45:29.348798718Z"
    },
    "execution": {
     "iopub.execute_input": "2024-08-23T13:01:53.584501Z",
     "iopub.status.busy": "2024-08-23T13:01:53.583905Z",
     "iopub.status.idle": "2024-08-23T13:01:53.627215Z",
     "shell.execute_reply": "2024-08-23T13:01:53.627429Z"
    }
   },
   "outputs": [
    {
     "data": {
      "text/plain": [
       "true"
      ]
     },
     "execution_count": 120,
     "metadata": {},
     "output_type": "execute_result"
    }
   ],
   "source": [
    "5 != 5 || !(4 < 3)"
   ]
  },
  {
   "cell_type": "code",
   "execution_count": 121,
   "id": "ac0e96b5",
   "metadata": {
    "ExecuteTime": {
     "end_time": "2024-08-21T13:45:34.102825061Z",
     "start_time": "2024-08-21T13:45:34.011971932Z"
    },
    "execution": {
     "iopub.execute_input": "2024-08-23T13:01:53.631605Z",
     "iopub.status.busy": "2024-08-23T13:01:53.629445Z",
     "iopub.status.idle": "2024-08-23T13:01:53.702248Z",
     "shell.execute_reply": "2024-08-23T13:01:53.701964Z"
    }
   },
   "outputs": [
    {
     "data": {
      "text/plain": [
       "true"
      ]
     },
     "execution_count": 121,
     "metadata": {},
     "output_type": "execute_result"
    }
   ],
   "source": [
    "4 <= 3 || (1 < 2 && 2 > 0)"
   ]
  },
  {
   "cell_type": "markdown",
   "id": "a8397bea-60a5-4750-8b23-1df934aedd7c",
   "metadata": {},
   "source": [
    "Wenn in einem *booleschen Ausdruck* mehrere *Operatoren* vorkommen, ist\n",
    "es oft sinnvoll, Klammern zu setzten. Dadurch ist klar, welche\n",
    "*Teilausdrücke* zuerst ausgewertet werden."
   ]
  },
  {
   "cell_type": "markdown",
   "id": "aba2dd97-4ed5-457e-9914-92495ebf8c8d",
   "metadata": {},
   "source": [
    "# Bedingte Ausführung\n",
    "\n",
    "# Grundlegendes und Motivation\n",
    "\n",
    "Wir haben schon viele *Operatoren* kennengelernt, mit denen zwei *Ausdrücke* zu einem *Ausdruck* verknüpft werden können. Bei der eines solchen *Ausdrucks* werden zuerst beide Teilausdrücke ausgewertet. Anschließend wird die *Operation*, für die der *Operator* steht, auf die Ergebnisse angewandt. In diesem Kapitel lernen wir `if`-`else`-*Ausdrücken* eine Möglichkeit kennen drei *Ausdrücke* miteinander zu verknüpfen.\n",
    "\n",
    "## if-else-Ausdrücke\n",
    "\n",
    "Bei einem `if`-`else`-*Ausdruck* schreibt man hinter das Schlüsselwort `if` in Klammern einen *booleschen Ausdruck*. Anschließend folgen ein *Ausdruck*, das Schlüsselwort `else` und ein weiter *Ausdruck*. Diese beiden *Ausdrücke* müssen denselben *Typ haben* . Wenn der *booleschen Ausdruck* zu `true` ausgewertet wird, wird der gesamte Ausdruck zum *Wert* des *Ausdrucks* direkt hinter der Klammer ausgewertet."
   ]
  },
  {
   "cell_type": "code",
   "execution_count": 122,
   "id": "848c82eb-2acc-40f8-9282-7a558e2963a5",
   "metadata": {
    "ExecuteTime": {
     "end_time": "2024-08-21T19:09:51.507040898Z",
     "start_time": "2024-08-21T19:09:51.346786081Z"
    },
    "execution": {
     "iopub.execute_input": "2024-08-23T13:01:53.705696Z",
     "iopub.status.busy": "2024-08-23T13:01:53.704910Z",
     "iopub.status.idle": "2024-08-23T13:01:53.784711Z",
     "shell.execute_reply": "2024-08-23T13:01:53.784896Z"
    }
   },
   "outputs": [
    {
     "data": {
      "text/plain": [
       "hello guys"
      ]
     },
     "execution_count": 122,
     "metadata": {},
     "output_type": "execute_result"
    }
   ],
   "source": [
    "if (4 == 4) \"hello \" + \"guys\" else \"good\" + \"bye\""
   ]
  },
  {
   "cell_type": "markdown",
   "id": "f89997f6d110ecaa",
   "metadata": {},
   "source": [
    "Ansonsten wird, der *Ausdruck* zum Wert des *Ausdrucks* hinter `else` ausgewertet."
   ]
  },
  {
   "cell_type": "code",
   "execution_count": 123,
   "id": "66185345",
   "metadata": {
    "execution": {
     "iopub.execute_input": "2024-08-23T13:01:53.787099Z",
     "iopub.status.busy": "2024-08-23T13:01:53.786627Z",
     "iopub.status.idle": "2024-08-23T13:01:53.831827Z",
     "shell.execute_reply": "2024-08-23T13:01:53.833056Z"
    }
   },
   "outputs": [
    {
     "data": {
      "text/plain": [
       "goodbye"
      ]
     },
     "execution_count": 123,
     "metadata": {},
     "output_type": "execute_result"
    }
   ],
   "source": [
    "if (4 == 3) \"hello \" + \"guys\" else \"good\" + \"bye\"\n"
   ]
  },
  {
   "cell_type": "markdown",
   "id": "4725e348c4299237",
   "metadata": {},
   "source": [
    "Mit solchen *Ausdrücken* können wir alles machen, was wir bisher mit *Ausdrücken* gemacht haben. Wir können diese in einem größeren *Ausdrücken* verwenden. Auch hier sind Klammern nützlich um die Reihenfolge der Auswertung zu bestimmen."
   ]
  },
  {
   "cell_type": "code",
   "execution_count": 124,
   "id": "958a7dd30c06b517",
   "metadata": {
    "ExecuteTime": {
     "end_time": "2024-08-21T19:21:37.236443474Z",
     "start_time": "2024-08-21T19:21:37.090737986Z"
    },
    "execution": {
     "iopub.execute_input": "2024-08-23T13:01:53.838088Z",
     "iopub.status.busy": "2024-08-23T13:01:53.837299Z",
     "iopub.status.idle": "2024-08-23T13:01:53.882677Z",
     "shell.execute_reply": "2024-08-23T13:01:53.882458Z"
    }
   },
   "outputs": [
    {
     "data": {
      "text/plain": [
       "hello world"
      ]
     },
     "execution_count": 124,
     "metadata": {},
     "output_type": "execute_result"
    }
   ],
   "source": [
    "(if (true || false) \"hello \"  else \"bye \") + \"world\"\n"
   ]
  },
  {
   "cell_type": "markdown",
   "id": "861c44d014bdfbde",
   "metadata": {},
   "source": [
    "Der *Wert* eines  `if`-`else`-*Ausdrucks* kann in einer *Variablen* gespeichert werden."
   ]
  },
  {
   "cell_type": "code",
   "execution_count": 125,
   "id": "dd9c5f3cea9c4a5f",
   "metadata": {
    "execution": {
     "iopub.execute_input": "2024-08-23T13:01:53.884480Z",
     "iopub.status.busy": "2024-08-23T13:01:53.884006Z",
     "iopub.status.idle": "2024-08-23T13:01:53.928395Z",
     "shell.execute_reply": "2024-08-23T13:01:53.928622Z"
    }
   },
   "outputs": [
    {
     "data": {
      "text/plain": [
       "hello world"
      ]
     },
     "execution_count": 125,
     "metadata": {},
     "output_type": "execute_result"
    }
   ],
   "source": [
    "val message = (if (true || false) \"hello \"  else \"bye \") + \"world\"\n",
    "message"
   ]
  },
  {
   "cell_type": "markdown",
   "id": "ac2a6beba9471aec",
   "metadata": {},
   "source": [
    "Wir können  `if`-`else`-*Ausdrücke* auch nutzen um den *Rückgabewert* von einer Bedingung abhängig zu machen.\n",
    "\n",
    " "
   ]
  },
  {
   "cell_type": "code",
   "execution_count": 126,
   "id": "e5458ad03d6fab0c",
   "metadata": {
    "ExecuteTime": {
     "end_time": "2024-08-22T06:06:19.222655937Z",
     "start_time": "2024-08-22T06:06:19.058505717Z"
    },
    "execution": {
     "iopub.execute_input": "2024-08-23T13:01:53.935369Z",
     "iopub.status.busy": "2024-08-23T13:01:53.934294Z",
     "iopub.status.idle": "2024-08-23T13:01:53.990535Z",
     "shell.execute_reply": "2024-08-23T13:01:53.990100Z"
    }
   },
   "outputs": [],
   "source": [
    "fun juggleMotivationBetter(count: Int) : String = if (count >= 15) \"Great, add another ball!\" else \"Try again until you complete 15 repetitions!\""
   ]
  },
  {
   "cell_type": "code",
   "execution_count": 127,
   "id": "13de352e98b7ff4",
   "metadata": {
    "ExecuteTime": {
     "end_time": "2024-08-21T19:26:56.237670845Z",
     "start_time": "2024-08-21T19:26:56.083723884Z"
    },
    "execution": {
     "iopub.execute_input": "2024-08-23T13:01:53.993635Z",
     "iopub.status.busy": "2024-08-23T13:01:53.992721Z",
     "iopub.status.idle": "2024-08-23T13:01:54.045026Z",
     "shell.execute_reply": "2024-08-23T13:01:54.045389Z"
    }
   },
   "outputs": [
    {
     "data": {
      "text/plain": [
       "Try again until you complete 15 repetitions!"
      ]
     },
     "execution_count": 127,
     "metadata": {},
     "output_type": "execute_result"
    }
   ],
   "source": [
    "juggleMotivationBetter(14)"
   ]
  },
  {
   "cell_type": "code",
   "execution_count": 128,
   "id": "3a12405e2fbc109",
   "metadata": {
    "ExecuteTime": {
     "end_time": "2024-08-21T19:27:12.621354673Z",
     "start_time": "2024-08-21T19:27:12.496021103Z"
    },
    "execution": {
     "iopub.execute_input": "2024-08-23T13:01:54.048764Z",
     "iopub.status.busy": "2024-08-23T13:01:54.048041Z",
     "iopub.status.idle": "2024-08-23T13:01:54.099405Z",
     "shell.execute_reply": "2024-08-23T13:01:54.099714Z"
    }
   },
   "outputs": [
    {
     "data": {
      "text/plain": [
       "Great, add another ball!"
      ]
     },
     "execution_count": 128,
     "metadata": {},
     "output_type": "execute_result"
    }
   ],
   "source": [
    "juggleMotivationBetter(15)\n"
   ]
  },
  {
   "cell_type": "markdown",
   "id": "37a6db35-2d44-4b92-8db1-962173cbd1eb",
   "metadata": {},
   "source": [
    "## Mehrere Alternativen\n",
    "\n",
    "Oft will man zwischen mehr als zwei Möglichkeiten unterscheiden. Dann\n",
    "können verschachtelte `if`-`else`-*Ausdrücke* verwendet werden.\n",
    "Dabei schreibt man nach `if` und/oder `else` einen eigenen\n",
    "`if`-`else`-*Ausdruck*."
   ]
  },
  {
   "cell_type": "code",
   "execution_count": 129,
   "id": "c4f26923-242e-4b3c-bbf4-00ad5f4d26f3",
   "metadata": {
    "execution": {
     "iopub.execute_input": "2024-08-23T13:01:54.102079Z",
     "iopub.status.busy": "2024-08-23T13:01:54.101660Z",
     "iopub.status.idle": "2024-08-23T13:01:54.158614Z",
     "shell.execute_reply": "2024-08-23T13:01:54.158162Z"
    }
   },
   "outputs": [],
   "source": [
    "fun juggleMotivationMuchBetter(count: Int): String =\n",
    "    if (count >= 15) \"Great, add another ball!\" else\n",
    "        (if (count >= 3) \"Try again until you complete 15 repetitions!\"\n",
    "        else \"Please concentrate!\")\n",
    "    "
   ]
  },
  {
   "cell_type": "code",
   "execution_count": 130,
   "id": "613c31af-cf18-4c76-aaa7-c1f76aec2ad9",
   "metadata": {
    "execution": {
     "iopub.execute_input": "2024-08-23T13:01:54.160851Z",
     "iopub.status.busy": "2024-08-23T13:01:54.160400Z",
     "iopub.status.idle": "2024-08-23T13:01:54.187869Z",
     "shell.execute_reply": "2024-08-23T13:01:54.188200Z"
    }
   },
   "outputs": [
    {
     "name": "stderr",
     "output_type": "stream",
     "text": [
      "Line_129.jupyter.kts (1:1 - 30) Unresolved reference: juggle_motivation_much_better"
     ]
    }
   ],
   "source": [
    "juggle_motivation_much_better(15)"
   ]
  },
  {
   "cell_type": "code",
   "execution_count": 131,
   "id": "a09f2f54",
   "metadata": {
    "execution": {
     "iopub.execute_input": "2024-08-23T13:01:54.191127Z",
     "iopub.status.busy": "2024-08-23T13:01:54.190394Z",
     "iopub.status.idle": "2024-08-23T13:01:54.207579Z",
     "shell.execute_reply": "2024-08-23T13:01:54.207940Z"
    }
   },
   "outputs": [
    {
     "name": "stderr",
     "output_type": "stream",
     "text": [
      "Line_130.jupyter.kts (1:1 - 30) Unresolved reference: juggle_motivation_much_better"
     ]
    }
   ],
   "source": [
    "juggle_motivation_much_better(14)"
   ]
  },
  {
   "cell_type": "code",
   "execution_count": 132,
   "id": "deb34e4d",
   "metadata": {
    "execution": {
     "iopub.execute_input": "2024-08-23T13:01:54.211864Z",
     "iopub.status.busy": "2024-08-23T13:01:54.210698Z",
     "iopub.status.idle": "2024-08-23T13:01:54.238477Z",
     "shell.execute_reply": "2024-08-23T13:01:54.238805Z"
    }
   },
   "outputs": [
    {
     "name": "stderr",
     "output_type": "stream",
     "text": [
      "Line_131.jupyter.kts (1:1 - 30) Unresolved reference: juggle_motivation_much_better"
     ]
    }
   ],
   "source": [
    "juggle_motivation_much_better(2)"
   ]
  },
  {
   "cell_type": "markdown",
   "id": "aca06987-b2e9-477e-a657-dac98e10e3fe",
   "metadata": {},
   "source": [
    "Mit einem `when`-*Ausdruck* kann diese Funktion lesbarer geschrieben werden."
   ]
  },
  {
   "cell_type": "code",
   "execution_count": 133,
   "id": "2252c972-cf8f-4c00-bfbf-cf8c822be1b7",
   "metadata": {
    "execution": {
     "iopub.execute_input": "2024-08-23T13:01:54.241584Z",
     "iopub.status.busy": "2024-08-23T13:01:54.240966Z",
     "iopub.status.idle": "2024-08-23T13:01:54.291587Z",
     "shell.execute_reply": "2024-08-23T13:01:54.291334Z"
    }
   },
   "outputs": [],
   "source": [
    "fun juggleMotivationMuchBetter(count: Int): String = when {\n",
    "    count >= 15 -> \"Great, add another ball!\"\n",
    "    count >= 3 -> \"Try again until you complete 15 repetitions!\"\n",
    "    else -> \"Please concentrate!\"\n",
    "}\n",
    "  "
   ]
  },
  {
   "cell_type": "markdown",
   "id": "48cb9554-52ee-4320-a835-db796d284de5",
   "metadata": {},
   "source": [
    "In den geschweiften Klammer nach dem Schlüsselwort `when`, steht in jeder Zeile eine Bedingung, ein Pfeil `->` und ein Ausdruck. Bei der Auswertung wird geprüft, welches die erste Bedingung ist, die erfüllt ist. Der *Wert* des ganzen *Ausdrucks* der neben dieser Bedingung steht, ist dann der *Wert* des gesamten *Ausdrucks*. Wenn keine Bedingung erfüllt ist, ist der Wert des gesamten *Ausdrucks* der Wert des Ausdrucks neben `else`."
   ]
  },
  {
   "cell_type": "markdown",
   "id": "73eabfc8",
   "metadata": {},
   "source": [
    "# Bedingte Ausführung\n",
    "\n",
    "## Grundlagen\n",
    "\n",
    "Wir haben bis bisher zwei Arten von *Statements* kennengelernt. Dies waren:\n",
    "\n",
    "1. Zuweisungsstatements. Mit diesen haben wir *Variablen* initialisiert.\n",
    "2. Einzelne Aufrufe von Funktionen. Diese zu verwenden ergibt nur dann Sinn, wenn die Funktion einen Effekt hat. Beispiele hierfür waren `println` und `assert`. Alle Funktionen in denen wir direkt oder indirekt eine dieser Funktionen verwenden, haben auch einen Effekt.\n",
    "3. `return`-*Statements*. Bei diesen wird der *Wert* des *Ausdrucks* hinter `return` von der Funktion, in der das `return`-*Statement* steht, zurückgegeben. Anschließend kann dieser *Wert* dann in der Funktion genutzt werden, in der der Aufruf steht.\n",
    "    "
   ]
  },
  {
   "cell_type": "markdown",
   "id": "89c4cc20",
   "metadata": {},
   "source": [
    "Bei Aufruf eines Programms werden alle *Statements* in der `main`-Funktion abgearbeitet. Bei einem Funktionsaufruf in der `main`-Funktion oder einer weiteren Funktion werden alle *Statements* in der aufgerufenen Funktion ausgeführt.\n",
    "\n",
    "## Statements in if-else-Ausdrücken\n",
    "\n",
    "Wir können in einem `if`-`else`-*Ausdruck* auch *Statements* statt *Ausdrücken* verwenden."
   ]
  },
  {
   "cell_type": "code",
   "execution_count": 134,
   "id": "2985fafe",
   "metadata": {
    "ExecuteTime": {
     "end_time": "2024-08-22T06:22:49.481191205Z",
     "start_time": "2024-08-22T06:22:49.290384812Z"
    },
    "execution": {
     "iopub.execute_input": "2024-08-23T13:01:54.293317Z",
     "iopub.status.busy": "2024-08-23T13:01:54.293005Z",
     "iopub.status.idle": "2024-08-23T13:01:54.346583Z",
     "shell.execute_reply": "2024-08-23T13:01:54.346308Z"
    }
   },
   "outputs": [],
   "source": [
    "fun juggleMotivationBetter(count: Int): Unit {\n",
    "    if (count >= 15) {\n",
    "        println(\"Great, add another ball!\")\n",
    "    } else println(\"Try again until you complete 15 repetitions!\")\n",
    "}"
   ]
  },
  {
   "cell_type": "code",
   "execution_count": 135,
   "id": "12fd6238",
   "metadata": {
    "execution": {
     "iopub.execute_input": "2024-08-23T13:01:54.348082Z",
     "iopub.status.busy": "2024-08-23T13:01:54.347755Z",
     "iopub.status.idle": "2024-08-23T13:01:54.384096Z",
     "shell.execute_reply": "2024-08-23T13:01:54.384457Z"
    }
   },
   "outputs": [
    {
     "name": "stdout",
     "output_type": "stream",
     "text": [
      "Great, add another ball!\n"
     ]
    }
   ],
   "source": [
    "juggleMotivationBetter(15)"
   ]
  },
  {
   "cell_type": "code",
   "execution_count": 136,
   "id": "d7615acb",
   "metadata": {
    "execution": {
     "iopub.execute_input": "2024-08-23T13:01:54.387355Z",
     "iopub.status.busy": "2024-08-23T13:01:54.386754Z",
     "iopub.status.idle": "2024-08-23T13:01:54.429414Z",
     "shell.execute_reply": "2024-08-23T13:01:54.429621Z"
    }
   },
   "outputs": [
    {
     "name": "stdout",
     "output_type": "stream",
     "text": [
      "Try again until you complete 15 repetitions!\n"
     ]
    }
   ],
   "source": [
    "juggleMotivationBetter(14)"
   ]
  },
  {
   "cell_type": "markdown",
   "id": "1d9940cf",
   "metadata": {},
   "source": [
    "Bei den `if`-`else`-*Ausdrücken* im letzten Kapitel war es immer notwendig `else` zu verwenden. Dies stellt sicher, dass der *Ausdruck* in jedem Fall einen *Wert* hat. Wenn wir aber in einem `if`-`else`/-*Ausdruck* *Statements* verwenden, ist dies nicht nötig."
   ]
  },
  {
   "cell_type": "code",
   "execution_count": 137,
   "id": "44b09b68",
   "metadata": {
    "ExecuteTime": {
     "end_time": "2024-08-22T06:30:01.894125403Z",
     "start_time": "2024-08-22T06:30:01.797600134Z"
    },
    "collapsed": true,
    "execution": {
     "iopub.execute_input": "2024-08-23T13:01:54.431957Z",
     "iopub.status.busy": "2024-08-23T13:01:54.431424Z",
     "iopub.status.idle": "2024-08-23T13:01:54.480235Z",
     "shell.execute_reply": "2024-08-23T13:01:54.479976Z"
    }
   },
   "outputs": [],
   "source": [
    "fun juggleMotivation(count: Int): Unit {\n",
    "    if (count >= 15) {\n",
    "        println(\"Great, add another ball!\")\n",
    "    }\n",
    "}"
   ]
  },
  {
   "cell_type": "code",
   "execution_count": 138,
   "id": "0f62a485",
   "metadata": {
    "execution": {
     "iopub.execute_input": "2024-08-23T13:01:54.481800Z",
     "iopub.status.busy": "2024-08-23T13:01:54.481406Z",
     "iopub.status.idle": "2024-08-23T13:01:54.516721Z",
     "shell.execute_reply": "2024-08-23T13:01:54.516926Z"
    }
   },
   "outputs": [
    {
     "name": "stdout",
     "output_type": "stream",
     "text": [
      "Great, add another ball!\n"
     ]
    }
   ],
   "source": [
    "juggleMotivation(16)"
   ]
  },
  {
   "cell_type": "markdown",
   "id": "f2ec8c7c",
   "metadata": {},
   "source": [
    "Wenn keine Bedingung erfüllt ist, werden einfach keine `Statements` ausgeführt."
   ]
  },
  {
   "cell_type": "code",
   "execution_count": 139,
   "id": "a680c00b",
   "metadata": {
    "execution": {
     "iopub.execute_input": "2024-08-23T13:01:54.519204Z",
     "iopub.status.busy": "2024-08-23T13:01:54.518636Z",
     "iopub.status.idle": "2024-08-23T13:01:54.559290Z",
     "shell.execute_reply": "2024-08-23T13:01:54.559026Z"
    }
   },
   "outputs": [],
   "source": [
    "juggleMotivation(14)"
   ]
  },
  {
   "cell_type": "markdown",
   "id": "d4c29cb3",
   "metadata": {},
   "source": [
    "# Statements in when-Ausdrücken\n",
    "\n",
    "Die Verwendung von *Statements* und das Weglassen von `else` ist auch in `when`-Ausdrücke möglich."
   ]
  },
  {
   "cell_type": "code",
   "execution_count": 140,
   "id": "a719c622",
   "metadata": {
    "execution": {
     "iopub.execute_input": "2024-08-23T13:01:54.562123Z",
     "iopub.status.busy": "2024-08-23T13:01:54.561209Z",
     "iopub.status.idle": "2024-08-23T13:01:54.622619Z",
     "shell.execute_reply": "2024-08-23T13:01:54.622340Z"
    }
   },
   "outputs": [],
   "source": [
    "fun juggleMotivationMuchBetter(count: Int): Unit {\n",
    "    when {\n",
    "        count >= 15 -> print(\"Great, add another ball!\")\n",
    "        count >= 3 -> print(\"Try again until you complete 15 repetitions!\")\n",
    "    }\n",
    "}"
   ]
  },
  {
   "cell_type": "markdown",
   "id": "daa7c5a3-cb4d-4d58-9a8b-4f28a843d50a",
   "metadata": {},
   "source": [
    "# Variablen neue Werte zuweisen\n",
    "\n",
    "## Grundlagen\n",
    "\n",
    "Wenn wir eine *Variable* nicht mit `val` sondern mit `var` initialisieren, ist es möglich ihr später einen neuen Wert zuzuweisen. "
   ]
  },
  {
   "cell_type": "code",
   "execution_count": 141,
   "id": "8e71f5af-6385-413e-9e41-4f1fc4e2366d",
   "metadata": {
    "execution": {
     "iopub.execute_input": "2024-08-23T13:01:54.624611Z",
     "iopub.status.busy": "2024-08-23T13:01:54.624118Z",
     "iopub.status.idle": "2024-08-23T13:01:54.667494Z",
     "shell.execute_reply": "2024-08-23T13:01:54.667701Z"
    }
   },
   "outputs": [
    {
     "data": {
      "text/plain": [
       "2"
      ]
     },
     "execution_count": 141,
     "metadata": {},
     "output_type": "execute_result"
    }
   ],
   "source": [
    "var a = 2\n",
    "a"
   ]
  },
  {
   "cell_type": "markdown",
   "id": "5640016d-b6b8-43ea-832e-f84d5bb0491d",
   "metadata": {},
   "source": [
    "<figure style=\"text-align:center\">\n",
    "<img src=\"variable_a_2.svg\" style=\"width:15.0%; background-color:white;\" />\n",
    "\n",
    "<figcaption><em>Variable</em> <code class=\"sourceCode kotlin\">a</code>\n",
    "mit dem <em>Wert</em> <code\n",
    "class=\"sourceCode kotlin\"><span class=\"dv\">2</span></code></figcaption>\n",
    "</figure>"
   ]
  },
  {
   "cell_type": "code",
   "execution_count": 142,
   "id": "db551f51-e0fc-48b8-bede-fe6c4b5d173c",
   "metadata": {
    "execution": {
     "iopub.execute_input": "2024-08-23T13:01:54.669824Z",
     "iopub.status.busy": "2024-08-23T13:01:54.669416Z",
     "iopub.status.idle": "2024-08-23T13:01:54.733556Z",
     "shell.execute_reply": "2024-08-23T13:01:54.733738Z"
    }
   },
   "outputs": [
    {
     "data": {
      "text/plain": [
       "5"
      ]
     },
     "execution_count": 142,
     "metadata": {},
     "output_type": "execute_result"
    }
   ],
   "source": [
    "a = 5\n",
    "a"
   ]
  },
  {
   "cell_type": "markdown",
   "id": "16300adf-061e-4fc7-a709-ebeb126925ed",
   "metadata": {},
   "source": [
    "<figure style=\"text-align:center\">\n",
    "<img src=\"variable_a_updated_5.svg\" style=\"width:15.0%; background-color:white;\" />\n",
    "\n",
    "<figcaption>Änderung des <em>Werts</em> der <em>Variable</em> <code\n",
    "class=\"sourceCode kotlin\">a</code> zu <code\n",
    "class=\"sourceCode kotlin\"><span class=\"dv\">5</span></code></figcaption>\n",
    "</figure>\n",
    "\n",
    "Auf der rechten Seite einer *Zuweisung* kann jeder *Ausdruck* stehen.\n",
    "Insbesondere ist es nach dem *Initialisieren* möglich, in dem *Ausdruck*\n",
    "die *Variable* selbst zu verwenden."
   ]
  },
  {
   "cell_type": "code",
   "execution_count": 143,
   "id": "0cb1e47a-aa0c-41a7-a490-a7b6f5799926",
   "metadata": {
    "execution": {
     "iopub.execute_input": "2024-08-23T13:01:54.735967Z",
     "iopub.status.busy": "2024-08-23T13:01:54.735510Z",
     "iopub.status.idle": "2024-08-23T13:01:54.794648Z",
     "shell.execute_reply": "2024-08-23T13:01:54.794860Z"
    }
   },
   "outputs": [
    {
     "data": {
      "text/plain": [
       "10"
      ]
     },
     "execution_count": 143,
     "metadata": {},
     "output_type": "execute_result"
    }
   ],
   "source": [
    "a = 2 * a\n",
    "a"
   ]
  },
  {
   "cell_type": "markdown",
   "id": "aa547e57dae36536",
   "metadata": {},
   "source": [
    "## Variablen mit val\n",
    "\n",
    "Einer *Variable,* die mit `val` deklariert wurde, kann man keinen neuen *Wert* zuweisen. \n"
   ]
  },
  {
   "cell_type": "code",
   "execution_count": 144,
   "id": "f3ce0b4375963717",
   "metadata": {
    "ExecuteTime": {
     "end_time": "2024-08-23T06:27:29.817817181Z",
     "start_time": "2024-08-23T06:27:29.696584529Z"
    },
    "execution": {
     "iopub.execute_input": "2024-08-23T13:01:54.797063Z",
     "iopub.status.busy": "2024-08-23T13:01:54.796614Z",
     "iopub.status.idle": "2024-08-23T13:01:54.822284Z",
     "shell.execute_reply": "2024-08-23T13:01:54.821861Z"
    }
   },
   "outputs": [
    {
     "name": "stderr",
     "output_type": "stream",
     "text": [
      "Line_143.jupyter.kts (2:1 - 2) Val cannot be reassigned"
     ]
    }
   ],
   "source": [
    "val c = 1\n",
    "c = 2"
   ]
  },
  {
   "cell_type": "markdown",
   "id": "1b4ab3ef-5848-4f9c-9ff1-23f80fa41ce7",
   "metadata": {},
   "source": [
    "## Variablen mit demselben Wert\n",
    "\n",
    "Wir können sowohl mit `var` als auch mit `val` *Variablen* erstellen, die auf den *Wert* einer anderen\n",
    "*Variable* zeigen."
   ]
  },
  {
   "cell_type": "code",
   "execution_count": 145,
   "id": "a6431f0a-add7-42db-995f-8ef10c90bc1b",
   "metadata": {
    "ExecuteTime": {
     "end_time": "2024-08-22T10:23:32.243127990Z",
     "start_time": "2024-08-22T10:23:32.091138443Z"
    },
    "execution": {
     "iopub.execute_input": "2024-08-23T13:01:54.824524Z",
     "iopub.status.busy": "2024-08-23T13:01:54.823997Z",
     "iopub.status.idle": "2024-08-23T13:01:54.869207Z",
     "shell.execute_reply": "2024-08-23T13:01:54.868830Z"
    }
   },
   "outputs": [],
   "source": [
    "var x = 3\n",
    "var y = x"
   ]
  },
  {
   "cell_type": "markdown",
   "id": "c31f3b80-bef3-4476-947c-9f570e3f37f3",
   "metadata": {},
   "source": [
    "<figure id=\"x_y_3\" style=\"text-align:center\">\n",
    "<img src=\"x_y_3.svg\" style=\"width:15.0%; background-color:white;\" />\n",
    "\n",
    "<figcaption>Zwei <em>Variablen</em> mit dem selben\n",
    "<em>Wert</em></figcaption>\n",
    "</figure>"
   ]
  },
  {
   "cell_type": "code",
   "execution_count": 146,
   "id": "8dfb5f11-313f-4078-b81f-b32e83732229",
   "metadata": {
    "ExecuteTime": {
     "end_time": "2024-08-22T10:24:03.503511361Z",
     "start_time": "2024-08-22T10:24:03.262891454Z"
    },
    "execution": {
     "iopub.execute_input": "2024-08-23T13:01:54.870856Z",
     "iopub.status.busy": "2024-08-23T13:01:54.870513Z",
     "iopub.status.idle": "2024-08-23T13:01:54.901582Z",
     "shell.execute_reply": "2024-08-23T13:01:54.901337Z"
    }
   },
   "outputs": [
    {
     "data": {
      "text/plain": [
       "3"
      ]
     },
     "execution_count": 146,
     "metadata": {},
     "output_type": "execute_result"
    }
   ],
   "source": [
    "y"
   ]
  },
  {
   "cell_type": "markdown",
   "id": "1f7f198e-efe7-442c-b2e2-40038599b6bc",
   "metadata": {},
   "source": [
    "Wenn wir jetzt den *Wert* von einer der *Variablen* durch einen anderen\n",
    "*Wert* ersetzen, bleibt der *Wert* der anderen *Variable* gleich."
   ]
  },
  {
   "cell_type": "code",
   "execution_count": 147,
   "id": "52c253d7-1f63-4804-b056-24504c0709d1",
   "metadata": {
    "ExecuteTime": {
     "end_time": "2024-08-22T10:24:05.480170114Z",
     "start_time": "2024-08-22T10:24:05.289706528Z"
    },
    "execution": {
     "iopub.execute_input": "2024-08-23T13:01:54.904129Z",
     "iopub.status.busy": "2024-08-23T13:01:54.903441Z",
     "iopub.status.idle": "2024-08-23T13:01:54.938238Z",
     "shell.execute_reply": "2024-08-23T13:01:54.937965Z"
    }
   },
   "outputs": [],
   "source": [
    "x = 5"
   ]
  },
  {
   "cell_type": "markdown",
   "id": "6ec99471-564d-4aa5-b497-7c640ba96783",
   "metadata": {},
   "source": [
    "<figure style=\"text-align:center\">\n",
    "<img src=\"x_5_y_3.svg\" style=\"width:15.0%; background-color:white;\" />\n",
    "\n",
    "<figcaption>Änderung des <em>Werts</em> einer der beiden\n",
    "<em>Variablen</em> aus der Abbildung <a href=\"#x_y_3\"\n",
    "data-reference-type=\"ref\" data-reference=\"x_y_3\">oben</a></figcaption>\n",
    "</figure>"
   ]
  },
  {
   "cell_type": "code",
   "execution_count": 148,
   "id": "8d7d977b-c989-4cf9-9f70-a7e97d1123c4",
   "metadata": {
    "execution": {
     "iopub.execute_input": "2024-08-23T13:01:54.940446Z",
     "iopub.status.busy": "2024-08-23T13:01:54.940071Z",
     "iopub.status.idle": "2024-08-23T13:01:54.967673Z",
     "shell.execute_reply": "2024-08-23T13:01:54.967421Z"
    }
   },
   "outputs": [
    {
     "data": {
      "text/plain": [
       "5"
      ]
     },
     "execution_count": 148,
     "metadata": {},
     "output_type": "execute_result"
    }
   ],
   "source": [
    "x"
   ]
  },
  {
   "cell_type": "code",
   "execution_count": 149,
   "id": "8fb274ba",
   "metadata": {
    "execution": {
     "iopub.execute_input": "2024-08-23T13:01:54.969842Z",
     "iopub.status.busy": "2024-08-23T13:01:54.969377Z",
     "iopub.status.idle": "2024-08-23T13:01:55.006534Z",
     "shell.execute_reply": "2024-08-23T13:01:55.006300Z"
    }
   },
   "outputs": [
    {
     "data": {
      "text/plain": [
       "3"
      ]
     },
     "execution_count": 149,
     "metadata": {},
     "output_type": "execute_result"
    }
   ],
   "source": [
    "y"
   ]
  },
  {
   "cell_type": "markdown",
   "id": "e5a95e00-070f-4f7a-8499-d92d9a2d6cd5",
   "metadata": {},
   "source": [
    "Das liegt daran, dass wir den *Wert* einer *Variable* bei einer\n",
    "*Zuweisung* durch einen neuen *Wert* ersetzen, aber nicht den alten\n",
    "*Wert* verändern.\n",
    "\n",
    "## Unveränderlichkeit\n",
    "\n",
    "Die *Werte* aller *Datentypen*, die wir bis jetzt kennengelernt haben,\n",
    "sind unveränderlich. Das heißt, dass wir zum Beispiel ein *Integer*\n",
    "nicht ändern können. Wir haben aber oben gesehen, dass wir den *Wert*\n",
    "einer *Variable* einfach durch einen neuen *Integer* ersetzen können. Wir\n",
    "werden bald *Werte* kennenlernen, die sich verändern lassen."
   ]
  },
  {
   "cell_type": "markdown",
   "id": "095a4d66-79bb-479b-81a5-fa305f2f07cf",
   "metadata": {},
   "source": [
    "# For-Schleifen\n",
    "\n",
    "## Schleifen\n",
    "\n",
    "Mithilfe von `if`-*Statements* kann festgelegt werden, dass bestimmte\n",
    "*Statements* nur dann ausgeführt werden, wenn eine Bedingung erfüllt\n",
    "ist. In den folgenden Kapiteln beschäftigen wir uns mit *Schleifen*. Mit\n",
    "diesen können *Statements* wiederholt ausgeführt werden.\n",
    "\n",
    "## Grundlagen\n",
    "\n",
    "Die erste *Schleife*, die wir kennenlernen ist die `for`-*Schleife*.\n",
    "Diese wird genutzt, wenn die Anzahl der Wiederholungen im Voraus bekannt\n",
    "ist.\n",
    "\n",
    "Bei einer `for`-*Schleife* steht am Anfang des sogenannten *Schleifenkopfs*\n",
    "das Schlüsselwort `for` . Danach folgt in Klammer ein *Variablenname*, das Schlüsselwort `in` und eine *Zahlenreihe*.\n",
    "Die *Variable* wird auch *Zählervariable* genannt, weil sie die Zahlen aus der *Zahlenreihe* durchläuft/durchzählt. Für die *Zahlenreihe* schreibt man die kleinste Zahl, die dazugehören soll, zwei Punkte und die größte Zahl der *Zahlenreihe*.\n",
    "\n",
    "Anschließend folgen in geschweiften Klammern die *Statements*, die wiederholt werden\n",
    "sollen. In diesen *Statements* kann die *Zählervariable* genutzt werden. Die *Statements* werden ausgeführt, bis die *Zählervariable* alle Zahlen aus der *Zahlenreihe* durchlaufen hat."
   ]
  },
  {
   "cell_type": "code",
   "execution_count": 150,
   "id": "ae86d342-aeb8-4841-880e-e7a60078a96b",
   "metadata": {
    "ExecuteTime": {
     "end_time": "2024-08-22T15:05:57.462991620Z",
     "start_time": "2024-08-22T15:05:56.515032811Z"
    },
    "execution": {
     "iopub.execute_input": "2024-08-23T13:01:55.008291Z",
     "iopub.status.busy": "2024-08-23T13:01:55.007942Z",
     "iopub.status.idle": "2024-08-23T13:01:55.149069Z",
     "shell.execute_reply": "2024-08-23T13:01:55.148632Z"
    }
   },
   "outputs": [
    {
     "name": "stdout",
     "output_type": "stream",
     "text": [
      "0\n",
      "1\n",
      "2\n"
     ]
    }
   ],
   "source": [
    "for (i in 0..2) {\n",
    "    println(i)\n",
    "}"
   ]
  },
  {
   "cell_type": "markdown",
   "id": "31bb9015-b47d-4f59-8a9c-8793ee28b98e",
   "metadata": {},
   "source": [
    "## Das Akkumulator-Pattern\n",
    "\n",
    "Oft will man über alle *Schleifendurchläufe* hinweg ein Ergebnis\n",
    "aufsammeln. Hierfür legt man vor dem Durchlaufen der *Schleife* eine veränderbare\n",
    "*Variable* an. Diese Variable nennt man auch *Akkumulator*. Diesem weist\n",
    "man den *Wert* zu, den man erhalten würde, wenn der Schleifenkörper nie\n",
    "ausgeführt wird. Diese *Variable* kann man nun bei jeder Wiederholung\n",
    "anpassen."
   ]
  },
  {
   "cell_type": "code",
   "execution_count": 151,
   "id": "4a2655b5",
   "metadata": {
    "ExecuteTime": {
     "end_time": "2024-08-22T14:57:45.471437968Z",
     "start_time": "2024-08-22T14:57:45.278403572Z"
    },
    "execution": {
     "iopub.execute_input": "2024-08-23T13:01:55.153525Z",
     "iopub.status.busy": "2024-08-23T13:01:55.152665Z",
     "iopub.status.idle": "2024-08-23T13:01:55.220666Z",
     "shell.execute_reply": "2024-08-23T13:01:55.220433Z"
    }
   },
   "outputs": [
    {
     "data": {
      "text/plain": [
       "6"
      ]
     },
     "execution_count": 151,
     "metadata": {},
     "output_type": "execute_result"
    }
   ],
   "source": [
    "var sum = 0 \n",
    "for (i in 1..3) {\n",
    "    sum = sum + i\n",
    "}    \n",
    "sum"
   ]
  },
  {
   "cell_type": "markdown",
   "id": "8d0d05ba",
   "metadata": {},
   "source": [
    "\n",
    "Um genau zu sehen, was bei jedem Schritt passiert, kann man die Funktion\n",
    "`println` nutzen.\n"
   ]
  },
  {
   "cell_type": "code",
   "execution_count": 152,
   "id": "881e2160",
   "metadata": {
    "ExecuteTime": {
     "end_time": "2024-08-22T14:59:54.615856995Z",
     "start_time": "2024-08-22T14:59:54.338482699Z"
    },
    "execution": {
     "iopub.execute_input": "2024-08-23T13:01:55.224276Z",
     "iopub.status.busy": "2024-08-23T13:01:55.223643Z",
     "iopub.status.idle": "2024-08-23T13:01:55.349881Z",
     "shell.execute_reply": "2024-08-23T13:01:55.349495Z"
    }
   },
   "outputs": [
    {
     "name": "stdout",
     "output_type": "stream",
     "text": [
      "i = 1\n",
      "sum = 1\n",
      "———\n",
      "i = 2\n",
      "sum = 3\n",
      "———\n",
      "i = 3\n",
      "sum = 6\n",
      "———\n"
     ]
    },
    {
     "data": {
      "text/plain": [
       "6"
      ]
     },
     "execution_count": 152,
     "metadata": {},
     "output_type": "execute_result"
    }
   ],
   "source": [
    "var sum = 0 \n",
    "for (i in 1.. 3) {\n",
    "    sum = sum + i\n",
    "    println(\"i = \" + i.toString())\n",
    "    println(\"sum = \" + sum.toString())\n",
    "    println(\"———\")\n",
    "}\n",
    "sum"
   ]
  },
  {
   "cell_type": "markdown",
   "id": "b43ff939b43a2226",
   "metadata": {},
   "source": [
    "Als Faustregel bei der Programmierung gilt, dass überall wo ein *Wert*, also ein *Literal* stehen kann, auch ein beliebiger Ausdruck mit dem entsprechenden *Typ* verwendet werden kann. Z.B. kann man auch für die Grenzen der Zahlenreihe Ausdrücke statt Zahlen schreiben."
   ]
  },
  {
   "cell_type": "code",
   "execution_count": 153,
   "id": "e66c6eb45fbcf912",
   "metadata": {
    "execution": {
     "iopub.execute_input": "2024-08-23T13:01:55.353607Z",
     "iopub.status.busy": "2024-08-23T13:01:55.352843Z",
     "iopub.status.idle": "2024-08-23T13:01:55.405067Z",
     "shell.execute_reply": "2024-08-23T13:01:55.405267Z"
    }
   },
   "outputs": [
    {
     "name": "stdout",
     "output_type": "stream",
     "text": [
      "6\n",
      "7\n",
      "8\n",
      "9\n"
     ]
    }
   ],
   "source": [
    "for (i in 2 * 3 .. 3 * 3) {\n",
    "    println(i)\n",
    "}\n"
   ]
  },
  {
   "cell_type": "markdown",
   "id": "711122efb81a0ac",
   "metadata": {},
   "source": [
    "Wir werden dies in Zukunft nicht bei jedem neuen Thema erklären."
   ]
  },
  {
   "cell_type": "markdown",
   "id": "1880a179-88d2-4236-bdd1-6b517f05de7e",
   "metadata": {},
   "source": [
    "# While-Schleifen\n",
    "\n",
    "## Motivation\n",
    "\n",
    "Bei `for`-*Schleifen* wird vor der ersten Wiederholung bestimmt, wie oft\n",
    "der *Schleifenkörper* wiederholt werden soll. Nicht immer ist vor der\n",
    "Ausführung bekannt, wie oft die *Statements* wiederholt werden sollen.\n",
    "\n",
    "Wenn wir z.B. alle Zweierpotenzen unter $50$ aufzählen wollen, ist\n",
    "uns erst klar, wie viele es davon gibt, wenn wir mit der Aufzählung\n",
    "fertig sind. Für solche Fälle gibt es sogenannte `while`-*Schleifen*.\n",
    "Sie werden so lange durchgeführt, wie eine angegebene Bedingung erfüllt\n",
    "ist.\n",
    "\n",
    "# Grundlagen\n",
    "\n",
    "Bei einer `while`-*Schleife* schreibt man im *Schleifenkopf* hinter dem\n",
    " Schlüsselwort *while* in Klammern eine Bedingung / einen\n",
    "*booleschen Ausdruck*. Anschließend folgt in geschweiften Klammern der *Schleifenkörper*. Dieser\n",
    "besteht aus den *Statements*, die wiederholt werden sollen und muss\n",
    "eingerückt werden.\n",
    "\n",
    "Die Ausführung der `while`-*Schleife* ist mit dem `if`-*Statement*\n",
    "vergleichbar. Zunächst wird die Bedingung geprüft. Wenn diese nicht\n",
    "erfüllt ist, wird der *Schleifenkörper* übersprungen.\n",
    "\n",
    "Wenn sie erfüllt ist, wird der *Schleifenkörper* ausgeführt. Im\n",
    "Gegensatz zu einem `if`-*Statement* springt der Interpreter danach\n",
    "zurück in die Zeile mit der Bedingung und prüft erneut, ob der\n",
    "*Schleifenkörper* ausgeführt werden soll. Der *Schleifenkörper* wird\n",
    "also so lange (englisch:* while*) wiederholt, wie die Bedingung erfüllt\n",
    "ist."
   ]
  },
  {
   "cell_type": "code",
   "execution_count": 154,
   "id": "af9830b2-6339-4d9e-beec-aa6ec756528d",
   "metadata": {
    "ExecuteTime": {
     "end_time": "2024-08-22T15:08:27.835466745Z",
     "start_time": "2024-08-22T15:08:27.492421673Z"
    },
    "execution": {
     "iopub.execute_input": "2024-08-23T13:01:55.407807Z",
     "iopub.status.busy": "2024-08-23T13:01:55.407379Z",
     "iopub.status.idle": "2024-08-23T13:01:55.460059Z",
     "shell.execute_reply": "2024-08-23T13:01:55.460260Z"
    }
   },
   "outputs": [
    {
     "name": "stdout",
     "output_type": "stream",
     "text": [
      "1\n",
      "2\n",
      "4\n",
      "8\n",
      "16\n",
      "32\n"
     ]
    }
   ],
   "source": [
    "var power = 1\n",
    "while (power < 50){\n",
    "    println(power)\n",
    "    power = power * 2\n",
    "}"
   ]
  },
  {
   "cell_type": "markdown",
   "id": "0f4af808-6297-4dc3-828b-0f02ed43b2db",
   "metadata": {},
   "source": [
    "# Strings als Buchstaben-Container\n",
    "\n",
    "## Motivation\n",
    "\n",
    "*Strings* sind aus einzelnen Buchstaben/*Charactern* zusammen gesetzt. Wenn wir die\n",
    "Buchstaben eines *Strings* von null beginnend durchnummerieren, steht\n",
    "unter jedem Buchstaben eine Zahl, die *Index* genannt wird.\n",
    "\n",
    "<figure style = \"text-align:center\" >\n",
    "<img src=\"grafik_array_hello.svg\" style=\"width:35.0%; ; background-color:white;\" />>\n",
    "\n",
    "<figcaption>String <code\n",
    "class=\"sourceCode kotlin\"><span class=\"co\">&#39;hello&#39;</span></code>\n",
    "mit Indizes</figcaption>\n",
    "</figure>\n",
    "\n",
    "Mit einem *String* und dem *Index* eines Buchstabens in diesem *String*\n",
    "können wir auf den Buchstaben zugreifenden. Hierfür schreiben wir den\n",
    "*Index* in eckigen Klammern hinter den *String*. Das Resultat ist kein *String*, sondern ein *Character."
   ]
  },
  {
   "cell_type": "code",
   "execution_count": 155,
   "id": "8b408759-980b-49d8-8943-2bc7259fedd7",
   "metadata": {
    "ExecuteTime": {
     "end_time": "2024-08-22T10:32:25.530275709Z",
     "start_time": "2024-08-22T10:32:25.390641603Z"
    },
    "execution": {
     "iopub.execute_input": "2024-08-23T13:01:55.465825Z",
     "iopub.status.busy": "2024-08-23T13:01:55.464763Z",
     "iopub.status.idle": "2024-08-23T13:01:55.503199Z",
     "shell.execute_reply": "2024-08-23T13:01:55.503461Z"
    }
   },
   "outputs": [
    {
     "data": {
      "text/plain": [
       "h"
      ]
     },
     "execution_count": 155,
     "metadata": {},
     "output_type": "execute_result"
    }
   ],
   "source": [
    "\"hello\"[0]"
   ]
  },
  {
   "cell_type": "code",
   "execution_count": 156,
   "id": "3c000bd7",
   "metadata": {
    "execution": {
     "iopub.execute_input": "2024-08-23T13:01:55.506987Z",
     "iopub.status.busy": "2024-08-23T13:01:55.506267Z",
     "iopub.status.idle": "2024-08-23T13:01:55.535860Z",
     "shell.execute_reply": "2024-08-23T13:01:55.536044Z"
    }
   },
   "outputs": [
    {
     "data": {
      "text/plain": [
       "l"
      ]
     },
     "execution_count": 156,
     "metadata": {},
     "output_type": "execute_result"
    }
   ],
   "source": [
    "\"hello\"[2]"
   ]
  },
  {
   "cell_type": "markdown",
   "id": "12ffda44-3f95-403a-baa5-ffa6059127ff",
   "metadata": {},
   "source": [
    "Das funktioniert natürlich auch, wenn einer der *Ausdrücke* vor oder in\n",
    "der Klammer zuerst ausgewertet werden muss."
   ]
  },
  {
   "cell_type": "code",
   "execution_count": 157,
   "id": "fb164766-2be4-40ff-ada1-19be79a5c1c8",
   "metadata": {
    "execution": {
     "iopub.execute_input": "2024-08-23T13:01:55.538817Z",
     "iopub.status.busy": "2024-08-23T13:01:55.538156Z",
     "iopub.status.idle": "2024-08-23T13:01:55.574510Z",
     "shell.execute_reply": "2024-08-23T13:01:55.574259Z"
    }
   },
   "outputs": [
    {
     "data": {
      "text/plain": [
       "y"
      ]
     },
     "execution_count": 157,
     "metadata": {},
     "output_type": "execute_result"
    }
   ],
   "source": [
    "(\"good\" + \"bye\")[3 + 2]"
   ]
  },
  {
   "cell_type": "code",
   "execution_count": 158,
   "id": "70b912a2",
   "metadata": {
    "ExecuteTime": {
     "end_time": "2024-08-22T15:11:58.642403093Z",
     "start_time": "2024-08-22T15:11:58.515610165Z"
    },
    "execution": {
     "iopub.execute_input": "2024-08-23T13:01:55.575984Z",
     "iopub.status.busy": "2024-08-23T13:01:55.575630Z",
     "iopub.status.idle": "2024-08-23T13:01:55.614877Z",
     "shell.execute_reply": "2024-08-23T13:01:55.614465Z"
    }
   },
   "outputs": [],
   "source": [
    "val x = \"hello\""
   ]
  },
  {
   "cell_type": "code",
   "execution_count": 159,
   "id": "5a6f0f00",
   "metadata": {
    "ExecuteTime": {
     "end_time": "2024-08-22T15:12:00.202407133Z",
     "start_time": "2024-08-22T15:11:59.959372358Z"
    },
    "execution": {
     "iopub.execute_input": "2024-08-23T13:01:55.617419Z",
     "iopub.status.busy": "2024-08-23T13:01:55.616761Z",
     "iopub.status.idle": "2024-08-23T13:01:55.659920Z",
     "shell.execute_reply": "2024-08-23T13:01:55.660115Z"
    }
   },
   "outputs": [
    {
     "data": {
      "text/plain": [
       "l"
      ]
     },
     "execution_count": 159,
     "metadata": {},
     "output_type": "execute_result"
    }
   ],
   "source": [
    "x[3]"
   ]
  },
  {
   "cell_type": "markdown",
   "id": "200726a6-d674-483a-91f6-8f00642a363c",
   "metadata": {},
   "source": [
    "Die *Indizes* des *Strings* `\"hello\"` gehen nur von $0$ bis $4$. Wenn\n",
    "wir einen *Index* über $4$ verwenden, erhalten wir einen `StringIndexOutOfBoundsException`."
   ]
  },
  {
   "cell_type": "code",
   "execution_count": 160,
   "id": "580df561-e517-4d86-81dd-65444b5b1052",
   "metadata": {
    "ExecuteTime": {
     "end_time": "2024-08-22T15:12:02.795462373Z",
     "start_time": "2024-08-22T15:12:02.575268991Z"
    },
    "execution": {
     "iopub.execute_input": "2024-08-23T13:01:55.665891Z",
     "iopub.status.busy": "2024-08-23T13:01:55.664935Z",
     "iopub.status.idle": "2024-08-23T13:01:55.735379Z",
     "shell.execute_reply": "2024-08-23T13:01:55.735070Z"
    }
   },
   "outputs": [
    {
     "name": "stderr",
     "output_type": "stream",
     "text": [
      "Index 5 out of bounds for length 5\n",
      "java.lang.StringIndexOutOfBoundsException: Index 5 out of bounds for length 5\n",
      "\tat java.base/jdk.internal.util.Preconditions$1.apply(Preconditions.java:55)\n",
      "\tat java.base/jdk.internal.util.Preconditions$1.apply(Preconditions.java:52)\n",
      "\tat java.base/jdk.internal.util.Preconditions$4.apply(Preconditions.java:213)\n",
      "\tat java.base/jdk.internal.util.Preconditions$4.apply(Preconditions.java:210)\n",
      "\tat java.base/jdk.internal.util.Preconditions.outOfBounds(Preconditions.java:98)\n",
      "\tat java.base/jdk.internal.util.Preconditions.outOfBoundsCheckIndex(Preconditions.java:106)\n",
      "\tat java.base/jdk.internal.util.Preconditions.checkIndex(Preconditions.java:302)\n",
      "\tat java.base/java.lang.String.checkIndex(String.java:4832)\n",
      "\tat java.base/java.lang.StringLatin1.charAt(StringLatin1.java:46)\n",
      "\tat java.base/java.lang.String.charAt(String.java:1555)\n",
      "\tat Line_159_jupyter.<init>(Line_159.jupyter.kts:1)\n",
      "\tat java.base/jdk.internal.reflect.DirectConstructorHandleAccessor.newInstance(DirectConstructorHandleAccessor.java:62)\n",
      "\tat java.base/java.lang.reflect.Constructor.newInstanceWithCaller(Constructor.java:502)\n",
      "\tat java.base/java.lang.reflect.Constructor.newInstance(Constructor.java:486)\n",
      "\tat kotlin.script.experimental.jvm.BasicJvmScriptEvaluator.evalWithConfigAndOtherScriptsResults(BasicJvmScriptEvaluator.kt:122)\n",
      "\tat kotlin.script.experimental.jvm.BasicJvmScriptEvaluator.invoke$suspendImpl(BasicJvmScriptEvaluator.kt:48)\n",
      "\tat kotlin.script.experimental.jvm.BasicJvmScriptEvaluator.invoke(BasicJvmScriptEvaluator.kt)\n",
      "\tat kotlin.script.experimental.jvm.BasicJvmReplEvaluator.eval(BasicJvmReplEvaluator.kt:49)\n",
      "\tat org.jetbrains.kotlinx.jupyter.repl.impl.InternalEvaluatorImpl$eval$resultWithDiagnostics$1.invokeSuspend(InternalEvaluatorImpl.kt:127)\n",
      "\tat kotlin.coroutines.jvm.internal.BaseContinuationImpl.resumeWith(ContinuationImpl.kt:33)\n",
      "\tat kotlinx.coroutines.DispatchedTask.run(DispatchedTask.kt:104)\n",
      "\tat kotlinx.coroutines.EventLoopImplBase.processNextEvent(EventLoop.common.kt:277)\n",
      "\tat kotlinx.coroutines.BlockingCoroutine.joinBlocking(Builders.kt:95)\n",
      "\tat kotlinx.coroutines.BuildersKt__BuildersKt.runBlocking(Builders.kt:69)\n",
      "\tat kotlinx.coroutines.BuildersKt.runBlocking(Unknown Source)\n",
      "\tat kotlinx.coroutines.BuildersKt__BuildersKt.runBlocking$default(Builders.kt:48)\n",
      "\tat kotlinx.coroutines.BuildersKt.runBlocking$default(Unknown Source)\n",
      "\tat org.jetbrains.kotlinx.jupyter.repl.impl.InternalEvaluatorImpl.eval(InternalEvaluatorImpl.kt:127)\n",
      "\tat org.jetbrains.kotlinx.jupyter.repl.impl.CellExecutorImpl$execute$1$result$1.invoke(CellExecutorImpl.kt:79)\n",
      "\tat org.jetbrains.kotlinx.jupyter.repl.impl.CellExecutorImpl$execute$1$result$1.invoke(CellExecutorImpl.kt:77)\n",
      "\tat org.jetbrains.kotlinx.jupyter.repl.impl.ReplForJupyterImpl.withHost(ReplForJupyterImpl.kt:758)\n",
      "\tat org.jetbrains.kotlinx.jupyter.repl.impl.CellExecutorImpl.execute(CellExecutorImpl.kt:77)\n",
      "\tat org.jetbrains.kotlinx.jupyter.repl.execution.CellExecutor$DefaultImpls.execute$default(CellExecutor.kt:12)\n",
      "\tat org.jetbrains.kotlinx.jupyter.repl.impl.ReplForJupyterImpl.evaluateUserCode(ReplForJupyterImpl.kt:581)\n",
      "\tat org.jetbrains.kotlinx.jupyter.repl.impl.ReplForJupyterImpl.access$evaluateUserCode(ReplForJupyterImpl.kt:136)\n",
      "\tat org.jetbrains.kotlinx.jupyter.repl.impl.ReplForJupyterImpl$evalEx$1.invoke(ReplForJupyterImpl.kt:439)\n",
      "\tat org.jetbrains.kotlinx.jupyter.repl.impl.ReplForJupyterImpl$evalEx$1.invoke(ReplForJupyterImpl.kt:436)\n",
      "\tat org.jetbrains.kotlinx.jupyter.repl.impl.ReplForJupyterImpl.withEvalContext(ReplForJupyterImpl.kt:417)\n",
      "\tat org.jetbrains.kotlinx.jupyter.repl.impl.ReplForJupyterImpl.evalEx(ReplForJupyterImpl.kt:436)\n",
      "\tat org.jetbrains.kotlinx.jupyter.messaging.IdeCompatibleMessageRequestProcessor$processExecuteRequest$1$response$1$1.invoke(IdeCompatibleMessageRequestProcessor.kt:140)\n",
      "\tat org.jetbrains.kotlinx.jupyter.messaging.IdeCompatibleMessageRequestProcessor$processExecuteRequest$1$response$1$1.invoke(IdeCompatibleMessageRequestProcessor.kt:139)\n",
      "\tat org.jetbrains.kotlinx.jupyter.execution.JupyterExecutorImpl$Task.execute(JupyterExecutorImpl.kt:42)\n",
      "\tat org.jetbrains.kotlinx.jupyter.execution.JupyterExecutorImpl$executorThread$1.invoke(JupyterExecutorImpl.kt:82)\n",
      "\tat org.jetbrains.kotlinx.jupyter.execution.JupyterExecutorImpl$executorThread$1.invoke(JupyterExecutorImpl.kt:80)\n",
      "\tat kotlin.concurrent.ThreadsKt$thread$thread$1.run(Thread.kt:30)\n"
     ]
    }
   ],
   "source": [
    "\"hello\"[5]"
   ]
  },
  {
   "cell_type": "markdown",
   "id": "349fee1a-aa52-49c2-b41a-a81131669f7f",
   "metadata": {},
   "source": [
    "## Länge eines Strings bestimmen\n",
    "\n",
    "Die Länge eines *Strings* kann man bestimmen, wenn man hinter diesen einen Punkt und `length` schreibt."
   ]
  },
  {
   "cell_type": "code",
   "execution_count": 161,
   "id": "bfcafd64-fb99-4b94-9610-a0a219a507c0",
   "metadata": {
    "execution": {
     "iopub.execute_input": "2024-08-23T13:01:55.738211Z",
     "iopub.status.busy": "2024-08-23T13:01:55.737679Z",
     "iopub.status.idle": "2024-08-23T13:01:55.786653Z",
     "shell.execute_reply": "2024-08-23T13:01:55.786854Z"
    }
   },
   "outputs": [
    {
     "data": {
      "text/plain": [
       "5"
      ]
     },
     "execution_count": 161,
     "metadata": {},
     "output_type": "execute_result"
    }
   ],
   "source": [
    "\"hello\".length"
   ]
  },
  {
   "cell_type": "markdown",
   "id": "ad2f9542-5666-4cb7-be2a-9ff8e6bcede3",
   "metadata": {},
   "source": [
    "Da die *Indizes* eines *Strings* bei $0$ anfangen, ist der höchste\n",
    "*Index* um eins kleiner als die Länge. \n",
    "\n",
    "## Iteration über Strings\n",
    "\n",
    "Wir können mit einer `for`-*Schleife* über die *Indizes* eines *Strings*\n",
    "iterieren. Hierbei schreiben wir in der Klammer als untere Grenze der *Zahlenreihe* $0$ und als obere Grenze eins weniger als die Länge des *Strings*.\n",
    "Dies entspricht gerade den *Indizes* des *Strings*.\n"
   ]
  },
  {
   "cell_type": "code",
   "execution_count": 162,
   "id": "555cd5a3",
   "metadata": {
    "ExecuteTime": {
     "end_time": "2024-08-22T15:17:31.138043106Z",
     "start_time": "2024-08-22T15:17:30.586143562Z"
    },
    "execution": {
     "iopub.execute_input": "2024-08-23T13:01:55.789484Z",
     "iopub.status.busy": "2024-08-23T13:01:55.788947Z",
     "iopub.status.idle": "2024-08-23T13:01:55.854456Z",
     "shell.execute_reply": "2024-08-23T13:01:55.854675Z"
    }
   },
   "outputs": [
    {
     "name": "stdout",
     "output_type": "stream",
     "text": [
      "0\n",
      "1\n",
      "2\n",
      "3\n",
      "4\n"
     ]
    }
   ],
   "source": [
    "for (i in 0..\"hello\".length - 1){\n",
    "    println(i)\n",
    "}"
   ]
  },
  {
   "cell_type": "code",
   "execution_count": 163,
   "id": "b161328b",
   "metadata": {
    "execution": {
     "iopub.execute_input": "2024-08-23T13:01:55.857010Z",
     "iopub.status.busy": "2024-08-23T13:01:55.856422Z",
     "iopub.status.idle": "2024-08-23T13:01:55.917721Z",
     "shell.execute_reply": "2024-08-23T13:01:55.918106Z"
    }
   },
   "outputs": [
    {
     "name": "stdout",
     "output_type": "stream",
     "text": [
      "0\n",
      "1\n",
      "2\n"
     ]
    }
   ],
   "source": [
    "for (i in 0..\"bye\".length - 1){\n",
    "    println(i)\n",
    "}"
   ]
  },
  {
   "cell_type": "markdown",
   "id": "5597bb5e",
   "metadata": {},
   "source": [
    "\n",
    "Im *Schleifenkörper* können wir die *Zählervariable* nutzen, um\n",
    "nacheinander auf die Buchstaben im *String* zuzugreifen.\n"
   ]
  },
  {
   "cell_type": "code",
   "execution_count": 164,
   "id": "345ee69a",
   "metadata": {
    "ExecuteTime": {
     "end_time": "2024-08-22T15:21:00.471416335Z",
     "start_time": "2024-08-22T15:21:00.317024941Z"
    },
    "execution": {
     "iopub.execute_input": "2024-08-23T13:01:55.923170Z",
     "iopub.status.busy": "2024-08-23T13:01:55.922137Z",
     "iopub.status.idle": "2024-08-23T13:01:56.004363Z",
     "shell.execute_reply": "2024-08-23T13:01:56.004921Z"
    }
   },
   "outputs": [
    {
     "name": "stdout",
     "output_type": "stream",
     "text": [
      "h\n",
      "e\n",
      "l\n",
      "l\n",
      "o\n"
     ]
    }
   ],
   "source": [
    "val greeting = \"hello\"\n",
    "\n",
    "for (i in 0..greeting.length - 1){\n",
    "    println(greeting[i])\n",
    "}"
   ]
  },
  {
   "cell_type": "markdown",
   "id": "4997673c",
   "metadata": {},
   "source": [
    "Wir können die *Zählervariable* auch direkt die Buchstaben in dem *String* durchlaufen lassen."
   ]
  },
  {
   "cell_type": "code",
   "execution_count": 165,
   "id": "5e76dd75",
   "metadata": {
    "ExecuteTime": {
     "end_time": "2024-08-22T15:22:05.254900597Z",
     "start_time": "2024-08-22T15:22:04.959777384Z"
    },
    "execution": {
     "iopub.execute_input": "2024-08-23T13:01:56.009822Z",
     "iopub.status.busy": "2024-08-23T13:01:56.008967Z",
     "iopub.status.idle": "2024-08-23T13:01:56.159080Z",
     "shell.execute_reply": "2024-08-23T13:01:56.159446Z"
    }
   },
   "outputs": [
    {
     "name": "stdout",
     "output_type": "stream",
     "text": [
      "h\n",
      "e\n",
      "l\n",
      "l\n",
      "o\n"
     ]
    }
   ],
   "source": [
    "val greeting = \"hello\"\n",
    "for (char in greeting) {\n",
    "    println(char)\n",
    "}"
   ]
  },
  {
   "cell_type": "markdown",
   "id": "cb66c8a5",
   "metadata": {},
   "source": [
    "Die Buchstaben sind selbst wieder *Strings*. D.h. wir können mit ihnen die *String-Addition* durchführen."
   ]
  },
  {
   "cell_type": "code",
   "execution_count": 166,
   "id": "50d75e7c",
   "metadata": {
    "ExecuteTime": {
     "end_time": "2024-08-22T15:23:40.965097971Z",
     "start_time": "2024-08-22T15:23:40.731823730Z"
    },
    "execution": {
     "iopub.execute_input": "2024-08-23T13:01:56.164094Z",
     "iopub.status.busy": "2024-08-23T13:01:56.163522Z",
     "iopub.status.idle": "2024-08-23T13:01:56.317877Z",
     "shell.execute_reply": "2024-08-23T13:01:56.317291Z"
    }
   },
   "outputs": [
    {
     "data": {
      "text/plain": [
       "olleh"
      ]
     },
     "execution_count": 166,
     "metadata": {},
     "output_type": "execute_result"
    }
   ],
   "source": [
    "val greeting = \"hello\"\n",
    "var reverse_greeting = \"\"\n",
    "\n",
    "for (char in greeting) {    \n",
    "    reverse_greeting = char + reverse_greeting\n",
    "}\n",
    "\n",
    "reverse_greeting"
   ]
  },
  {
   "cell_type": "markdown",
   "id": "589ea551add8720f",
   "metadata": {},
   "source": [
    "# Eigenschaften\n",
    "\n",
    "Um die Länge einer Liste haben wir hinter die Liste einen Punkt und `length` geschrieben."
   ]
  },
  {
   "cell_type": "code",
   "execution_count": 167,
   "id": "ab4cbdc5e9ecd417",
   "metadata": {
    "execution": {
     "iopub.execute_input": "2024-08-23T13:01:56.323996Z",
     "iopub.status.busy": "2024-08-23T13:01:56.323059Z",
     "iopub.status.idle": "2024-08-23T13:01:56.405736Z",
     "shell.execute_reply": "2024-08-23T13:01:56.405279Z"
    }
   },
   "outputs": [
    {
     "data": {
      "text/plain": [
       "5"
      ]
     },
     "execution_count": 167,
     "metadata": {},
     "output_type": "execute_result"
    }
   ],
   "source": [
    "\"hello\".length"
   ]
  },
  {
   "cell_type": "markdown",
   "id": "c76a8bea423d5ea4",
   "metadata": {},
   "source": [
    "Hierbei handelt es sich nicht um eine *Methode* (sonst wären Klammern notwendig), sondern um eine *Eigenschaft*. Der Zugriff erfolgt immer wie hier, mit einem Punkt und dem Namen der *Eigenschaft* hinter dem Element."
   ]
  },
  {
   "cell_type": "markdown",
   "id": "7f46ee4a-00d9-4990-8ff1-5fcdf7dda977",
   "metadata": {},
   "source": [
    "# Listen\n",
    "\n",
    "## Motivation\n",
    "\n",
    "Wir haben gesehen, dass ein *String* aus einzelnen Buchstaben besteht,\n",
    "auf die wir zugreifen können. Man sagt auch, dass ein *String* ein\n",
    "*Container* ist. Es ist auch bei anderen *Datentypen* möglich, mehre Werte\n",
    "in einem Container zu speichern. *Hierfür* verwenden wir sogenannte\n",
    "*Listen*.\n",
    "\n",
    "## Listen sind Werte\n",
    "\n",
    "In einer *Liste* können mehrere *Werte* mit demselben *Typ*\n",
    "abgespeichert werden. *Listen* können wir mit der Funktion `listOf` erzeugen. Dieser übergeben wir in Klammern die Werte, die wir in der Liste speichern wollen."
   ]
  },
  {
   "cell_type": "code",
   "execution_count": 168,
   "id": "b17616cd-c4f8-4ec6-b322-ffc3f09a69f2",
   "metadata": {
    "ExecuteTime": {
     "end_time": "2024-08-23T07:13:32.884540468Z",
     "start_time": "2024-08-23T07:13:32.641673996Z"
    },
    "execution": {
     "iopub.execute_input": "2024-08-23T13:01:56.410725Z",
     "iopub.status.busy": "2024-08-23T13:01:56.409481Z",
     "iopub.status.idle": "2024-08-23T13:01:56.520221Z",
     "shell.execute_reply": "2024-08-23T13:01:56.520463Z"
    }
   },
   "outputs": [
    {
     "data": {
      "text/plain": [
       "[true, false, true]"
      ]
     },
     "execution_count": 168,
     "metadata": {},
     "output_type": "execute_result"
    }
   ],
   "source": [
    "listOf(true, false, true) "
   ]
  },
  {
   "cell_type": "markdown",
   "id": "295af646-e881-42d1-a016-857c27973d05",
   "metadata": {},
   "source": [
    "*Listen* beinhalten *Werte* und sind selbst wieder *Werte*. Wir können\n",
    "also *Literale* für *Listen* in *Ausdrücken* verwenden. Eine\n",
    "*Operation*, die auf *Listen* definiert ist, ist die Addition. Durch\n",
    "sie werden zwei *Listen* zusammen gefügt."
   ]
  },
  {
   "cell_type": "code",
   "execution_count": 169,
   "id": "870f4f20-0d05-4dee-8bc7-dee56b846460",
   "metadata": {
    "ExecuteTime": {
     "end_time": "2024-08-23T07:13:33.256652153Z",
     "start_time": "2024-08-23T07:13:32.957135200Z"
    },
    "execution": {
     "iopub.execute_input": "2024-08-23T13:01:56.522914Z",
     "iopub.status.busy": "2024-08-23T13:01:56.522401Z",
     "iopub.status.idle": "2024-08-23T13:01:56.613678Z",
     "shell.execute_reply": "2024-08-23T13:01:56.614045Z"
    }
   },
   "outputs": [
    {
     "data": {
      "text/plain": [
       "[true, false, true]"
      ]
     },
     "execution_count": 169,
     "metadata": {},
     "output_type": "execute_result"
    }
   ],
   "source": [
    "listOf(true, false) + listOf(true)"
   ]
  },
  {
   "cell_type": "markdown",
   "id": "5237ab1e-9ab1-4945-b888-aea3acb4dbb9",
   "metadata": {},
   "source": [
    "Wir können *Listen* in *Variablen* speichern."
   ]
  },
  {
   "cell_type": "code",
   "execution_count": 170,
   "id": "dd5c12d4-9574-446a-ac70-3ed9273c15b8",
   "metadata": {
    "ExecuteTime": {
     "end_time": "2024-08-23T07:13:33.476683346Z",
     "start_time": "2024-08-23T07:13:33.305605494Z"
    },
    "execution": {
     "iopub.execute_input": "2024-08-23T13:01:56.620517Z",
     "iopub.status.busy": "2024-08-23T13:01:56.619403Z",
     "iopub.status.idle": "2024-08-23T13:01:56.668749Z",
     "shell.execute_reply": "2024-08-23T13:01:56.667498Z"
    }
   },
   "outputs": [
    {
     "data": {
      "text/plain": [
       "[true, false]"
      ]
     },
     "execution_count": 170,
     "metadata": {},
     "output_type": "execute_result"
    }
   ],
   "source": [
    "val xs = listOf(true, false)\n",
    "xs"
   ]
  },
  {
   "cell_type": "markdown",
   "id": "7d03db00-89ae-41d5-ad61-970e8db3f66c",
   "metadata": {},
   "source": [
    "Außerdem können wir Funktionen schreiben, die *Listen* als *Argumente*\n",
    "entgegennehmen, und/oder eine *Liste* zurückgeben."
   ]
  },
  {
   "cell_type": "code",
   "execution_count": 171,
   "id": "189bc9b2-7d90-4218-be49-f510ec74044b",
   "metadata": {
    "ExecuteTime": {
     "end_time": "2024-08-23T07:13:33.681969806Z",
     "start_time": "2024-08-23T07:13:33.493491958Z"
    },
    "execution": {
     "iopub.execute_input": "2024-08-23T13:01:56.673089Z",
     "iopub.status.busy": "2024-08-23T13:01:56.672261Z",
     "iopub.status.idle": "2024-08-23T13:01:56.803216Z",
     "shell.execute_reply": "2024-08-23T13:01:56.802508Z"
    }
   },
   "outputs": [],
   "source": [
    "fun repeatThreeTimes(ys:  List<Boolean>) :  List<Boolean> = ys + ys + ys"
   ]
  },
  {
   "cell_type": "code",
   "execution_count": 172,
   "id": "b3b07316-9601-4f7b-900b-817e1a2e7d49",
   "metadata": {
    "ExecuteTime": {
     "end_time": "2024-08-23T07:13:33.791580265Z",
     "start_time": "2024-08-23T07:13:33.696825149Z"
    },
    "execution": {
     "iopub.execute_input": "2024-08-23T13:01:56.809852Z",
     "iopub.status.busy": "2024-08-23T13:01:56.808483Z",
     "iopub.status.idle": "2024-08-23T13:01:56.893636Z",
     "shell.execute_reply": "2024-08-23T13:01:56.893966Z"
    }
   },
   "outputs": [
    {
     "data": {
      "text/plain": [
       "[true, false, true, false, true, false]"
      ]
     },
     "execution_count": 172,
     "metadata": {},
     "output_type": "execute_result"
    }
   ],
   "source": [
    "repeatThreeTimes(xs)"
   ]
  },
  {
   "cell_type": "markdown",
   "id": "a8b91d32-1cbf-4a06-b822-1c026bf40519",
   "metadata": {},
   "source": [
    "Bei der *Typannotation* schreibt man `List` und in spitzen Klammern den\n",
    "*Typ* der Elemente in der *Liste*.\n",
    "\n",
    "## Listen als Container\n",
    "\n",
    "In den nächsten Abschnitten werden wir *Listen* als Container\n",
    "benutzen, so wie wir das schon mit *Strings* getan haben.\n",
    "\n",
    "Auch die Elemente einer *Liste* haben *Indizes*, die mit null beginnen.\n",
    "Die können wir nutzen, um auf diese Elemente zuzugreifen.\n",
    "\n",
    "<figure style=\"text-align:center\">\n",
    "<img src=\"grafik_listen.svg\" style=\"width:35.0%; background-color:white;\" />\n",
    "\n",
    "<figcaption><em>Liste</em> <code\n",
    "class=\"sourceCode kotlin\">(<span class=\"va\">true</span>, <span class=\"va\">false</span>, <span class=\"va\">true</span>)</code>\n",
    "mit Indizes</figcaption>\n",
    "</figure>"
   ]
  },
  {
   "cell_type": "code",
   "execution_count": 173,
   "id": "669980b8",
   "metadata": {
    "ExecuteTime": {
     "end_time": "2024-08-23T07:13:33.927464990Z",
     "start_time": "2024-08-23T07:13:33.806198527Z"
    },
    "execution": {
     "iopub.execute_input": "2024-08-23T13:01:56.898254Z",
     "iopub.status.busy": "2024-08-23T13:01:56.897647Z",
     "iopub.status.idle": "2024-08-23T13:01:56.956613Z",
     "shell.execute_reply": "2024-08-23T13:01:56.956807Z"
    }
   },
   "outputs": [
    {
     "data": {
      "text/plain": [
       "true"
      ]
     },
     "execution_count": 173,
     "metadata": {},
     "output_type": "execute_result"
    }
   ],
   "source": [
    "listOf(true, false, true)[0]"
   ]
  },
  {
   "cell_type": "code",
   "execution_count": 174,
   "id": "1b123d0f",
   "metadata": {
    "ExecuteTime": {
     "end_time": "2024-08-23T07:13:34.202644645Z",
     "start_time": "2024-08-23T07:13:34.038043795Z"
    },
    "execution": {
     "iopub.execute_input": "2024-08-23T13:01:56.958740Z",
     "iopub.status.busy": "2024-08-23T13:01:56.958300Z",
     "iopub.status.idle": "2024-08-23T13:01:56.999454Z",
     "shell.execute_reply": "2024-08-23T13:01:56.999204Z"
    }
   },
   "outputs": [
    {
     "data": {
      "text/plain": [
       "true"
      ]
     },
     "execution_count": 174,
     "metadata": {},
     "output_type": "execute_result"
    }
   ],
   "source": [
    "listOf(true, false, true)[2]"
   ]
  },
  {
   "cell_type": "markdown",
   "id": "ee10c7c3-48a7-4506-b654-60ff9096e0bc",
   "metadata": {},
   "source": [
    "Das funktioniert natürlich auch, wenn einer der *Ausdrücke* vor oder in\n",
    "der Klammer zuerst ausgewertet werden muss."
   ]
  },
  {
   "cell_type": "code",
   "execution_count": 175,
   "id": "aa73d513-5141-494c-8f5d-4ae72f840f31",
   "metadata": {
    "ExecuteTime": {
     "end_time": "2024-08-23T07:13:34.416972074Z",
     "start_time": "2024-08-23T07:13:34.277743881Z"
    },
    "execution": {
     "iopub.execute_input": "2024-08-23T13:01:57.001179Z",
     "iopub.status.busy": "2024-08-23T13:01:57.000810Z",
     "iopub.status.idle": "2024-08-23T13:01:57.064278Z",
     "shell.execute_reply": "2024-08-23T13:01:57.064536Z"
    }
   },
   "outputs": [
    {
     "data": {
      "text/plain": [
       "you"
      ]
     },
     "execution_count": 175,
     "metadata": {},
     "output_type": "execute_result"
    }
   ],
   "source": [
    "val ys = listOf(\"hello\", \"how\", \"are\", \"you\")\n",
    "ys[2 + 1]"
   ]
  },
  {
   "cell_type": "markdown",
   "id": "9f97678b-122f-4d65-ad20-901b68bd68c5",
   "metadata": {},
   "source": [
    "Die *Indizes* der *Liste* `(true, false, true)` gehen nur von $0$ bis\n",
    "$2$. Wenn wir einen *Index* über $2$ verwenden, erhalten wir eine\n",
    "`ArrayIndexOutOfBoundsException`."
   ]
  },
  {
   "cell_type": "code",
   "execution_count": 176,
   "id": "86d921b7-6edf-4940-8904-d5949bf265a7",
   "metadata": {
    "ExecuteTime": {
     "end_time": "2024-08-23T07:13:34.590237830Z",
     "start_time": "2024-08-23T07:13:34.504439187Z"
    },
    "execution": {
     "iopub.execute_input": "2024-08-23T13:01:57.067105Z",
     "iopub.status.busy": "2024-08-23T13:01:57.066692Z",
     "iopub.status.idle": "2024-08-23T13:01:57.113653Z",
     "shell.execute_reply": "2024-08-23T13:01:57.113995Z"
    }
   },
   "outputs": [
    {
     "name": "stderr",
     "output_type": "stream",
     "text": [
      "Index 3 out of bounds for length 3\n",
      "java.lang.ArrayIndexOutOfBoundsException: Index 3 out of bounds for length 3\n",
      "\tat java.base/java.util.Arrays$ArrayList.get(Arrays.java:4266)\n",
      "\tat Line_175_jupyter.<init>(Line_175.jupyter.kts:1)\n",
      "\tat java.base/jdk.internal.reflect.DirectConstructorHandleAccessor.newInstance(DirectConstructorHandleAccessor.java:62)\n",
      "\tat java.base/java.lang.reflect.Constructor.newInstanceWithCaller(Constructor.java:502)\n",
      "\tat java.base/java.lang.reflect.Constructor.newInstance(Constructor.java:486)\n",
      "\tat kotlin.script.experimental.jvm.BasicJvmScriptEvaluator.evalWithConfigAndOtherScriptsResults(BasicJvmScriptEvaluator.kt:122)\n",
      "\tat kotlin.script.experimental.jvm.BasicJvmScriptEvaluator.invoke$suspendImpl(BasicJvmScriptEvaluator.kt:48)\n",
      "\tat kotlin.script.experimental.jvm.BasicJvmScriptEvaluator.invoke(BasicJvmScriptEvaluator.kt)\n",
      "\tat kotlin.script.experimental.jvm.BasicJvmReplEvaluator.eval(BasicJvmReplEvaluator.kt:49)\n",
      "\tat org.jetbrains.kotlinx.jupyter.repl.impl.InternalEvaluatorImpl$eval$resultWithDiagnostics$1.invokeSuspend(InternalEvaluatorImpl.kt:127)\n",
      "\tat kotlin.coroutines.jvm.internal.BaseContinuationImpl.resumeWith(ContinuationImpl.kt:33)\n",
      "\tat kotlinx.coroutines.DispatchedTask.run(DispatchedTask.kt:104)\n",
      "\tat kotlinx.coroutines.EventLoopImplBase.processNextEvent(EventLoop.common.kt:277)\n",
      "\tat kotlinx.coroutines.BlockingCoroutine.joinBlocking(Builders.kt:95)\n",
      "\tat kotlinx.coroutines.BuildersKt__BuildersKt.runBlocking(Builders.kt:69)\n",
      "\tat kotlinx.coroutines.BuildersKt.runBlocking(Unknown Source)\n",
      "\tat kotlinx.coroutines.BuildersKt__BuildersKt.runBlocking$default(Builders.kt:48)\n",
      "\tat kotlinx.coroutines.BuildersKt.runBlocking$default(Unknown Source)\n",
      "\tat org.jetbrains.kotlinx.jupyter.repl.impl.InternalEvaluatorImpl.eval(InternalEvaluatorImpl.kt:127)\n",
      "\tat org.jetbrains.kotlinx.jupyter.repl.impl.CellExecutorImpl$execute$1$result$1.invoke(CellExecutorImpl.kt:79)\n",
      "\tat org.jetbrains.kotlinx.jupyter.repl.impl.CellExecutorImpl$execute$1$result$1.invoke(CellExecutorImpl.kt:77)\n",
      "\tat org.jetbrains.kotlinx.jupyter.repl.impl.ReplForJupyterImpl.withHost(ReplForJupyterImpl.kt:758)\n",
      "\tat org.jetbrains.kotlinx.jupyter.repl.impl.CellExecutorImpl.execute(CellExecutorImpl.kt:77)\n",
      "\tat org.jetbrains.kotlinx.jupyter.repl.execution.CellExecutor$DefaultImpls.execute$default(CellExecutor.kt:12)\n",
      "\tat org.jetbrains.kotlinx.jupyter.repl.impl.ReplForJupyterImpl.evaluateUserCode(ReplForJupyterImpl.kt:581)\n",
      "\tat org.jetbrains.kotlinx.jupyter.repl.impl.ReplForJupyterImpl.access$evaluateUserCode(ReplForJupyterImpl.kt:136)\n",
      "\tat org.jetbrains.kotlinx.jupyter.repl.impl.ReplForJupyterImpl$evalEx$1.invoke(ReplForJupyterImpl.kt:439)\n",
      "\tat org.jetbrains.kotlinx.jupyter.repl.impl.ReplForJupyterImpl$evalEx$1.invoke(ReplForJupyterImpl.kt:436)\n",
      "\tat org.jetbrains.kotlinx.jupyter.repl.impl.ReplForJupyterImpl.withEvalContext(ReplForJupyterImpl.kt:417)\n",
      "\tat org.jetbrains.kotlinx.jupyter.repl.impl.ReplForJupyterImpl.evalEx(ReplForJupyterImpl.kt:436)\n",
      "\tat org.jetbrains.kotlinx.jupyter.messaging.IdeCompatibleMessageRequestProcessor$processExecuteRequest$1$response$1$1.invoke(IdeCompatibleMessageRequestProcessor.kt:140)\n",
      "\tat org.jetbrains.kotlinx.jupyter.messaging.IdeCompatibleMessageRequestProcessor$processExecuteRequest$1$response$1$1.invoke(IdeCompatibleMessageRequestProcessor.kt:139)\n",
      "\tat org.jetbrains.kotlinx.jupyter.execution.JupyterExecutorImpl$Task.execute(JupyterExecutorImpl.kt:42)\n",
      "\tat org.jetbrains.kotlinx.jupyter.execution.JupyterExecutorImpl$executorThread$1.invoke(JupyterExecutorImpl.kt:82)\n",
      "\tat org.jetbrains.kotlinx.jupyter.execution.JupyterExecutorImpl$executorThread$1.invoke(JupyterExecutorImpl.kt:80)\n",
      "\tat kotlin.concurrent.ThreadsKt$thread$thread$1.run(Thread.kt:30)\n"
     ]
    }
   ],
   "source": [
    "listOf(true, false, true)[3]"
   ]
  },
  {
   "cell_type": "markdown",
   "id": "6983069d-ca8a-434c-93b1-b581ba18be73",
   "metadata": {},
   "source": [
    "## Länge einer Liste bestimmen\n",
    "\n",
    "Die Länge einer *Liste* kann man mit einem Zugriff auf die Eigenschaft `size` bestimmen."
   ]
  },
  {
   "cell_type": "code",
   "execution_count": 177,
   "id": "4bc26ce6-b9bd-4042-b886-27846daac31d",
   "metadata": {
    "ExecuteTime": {
     "end_time": "2024-08-23T07:13:52.014199084Z",
     "start_time": "2024-08-23T07:13:51.901727545Z"
    },
    "execution": {
     "iopub.execute_input": "2024-08-23T13:01:57.117080Z",
     "iopub.status.busy": "2024-08-23T13:01:57.116415Z",
     "iopub.status.idle": "2024-08-23T13:01:57.156162Z",
     "shell.execute_reply": "2024-08-23T13:01:57.156360Z"
    }
   },
   "outputs": [
    {
     "data": {
      "text/plain": [
       "2"
      ]
     },
     "execution_count": 177,
     "metadata": {},
     "output_type": "execute_result"
    }
   ],
   "source": [
    "xs.size"
   ]
  },
  {
   "cell_type": "markdown",
   "id": "89b85445-b46d-4220-92d8-894cecd58fa5",
   "metadata": {},
   "source": [
    "Da die *Indizes* einer *Liste* bei $0$ anfangen, ist der höchste *Index*\n",
    "um eins kleiner als die Länge.\n",
    "\n",
    "## Iteration über Listen\n",
    "\n",
    "Wir können mit einer `for`-*Schleife* über die *Indizes* einer *Liste*\n",
    "iterieren. Hierbei schreiben wir in der Klammer die Länge des der\n",
    "*Liste*. Im *Schleifenkörper* können wir die *Zählervariable* nutzen, um\n",
    "nacheinander auf die Buchstaben in der *Liste* zuzugreifen."
   ]
  },
  {
   "cell_type": "code",
   "execution_count": 178,
   "id": "2d96eb39-e04c-4c9e-ab99-008633972910",
   "metadata": {
    "ExecuteTime": {
     "end_time": "2024-08-23T07:13:52.527859178Z",
     "start_time": "2024-08-23T07:13:52.115122615Z"
    },
    "execution": {
     "iopub.execute_input": "2024-08-23T13:01:57.158184Z",
     "iopub.status.busy": "2024-08-23T13:01:57.157771Z",
     "iopub.status.idle": "2024-08-23T13:01:57.230127Z",
     "shell.execute_reply": "2024-08-23T13:01:57.230426Z"
    }
   },
   "outputs": [
    {
     "name": "stdout",
     "output_type": "stream",
     "text": [
      "true\n",
      "false\n",
      "true\n"
     ]
    }
   ],
   "source": [
    "val xs = listOf(true, false, true)\n",
    "for (i in 0..xs.size -1){\n",
    "    println(xs[i])}"
   ]
  },
  {
   "cell_type": "markdown",
   "id": "7b27ae33-d875-4647-aabe-f11dcf6a6672",
   "metadata": {},
   "source": [
    "Wir können die *Zählervariable* auch direkt die Elemente der *Liste*\n",
    "durchlaufen lassen."
   ]
  },
  {
   "cell_type": "code",
   "execution_count": 179,
   "id": "681075e4-ba9e-4c31-aa28-bcd6d554a347",
   "metadata": {
    "ExecuteTime": {
     "end_time": "2024-08-23T07:13:52.693147293Z",
     "start_time": "2024-08-23T07:13:52.566272427Z"
    },
    "execution": {
     "iopub.execute_input": "2024-08-23T13:01:57.233966Z",
     "iopub.status.busy": "2024-08-23T13:01:57.233493Z",
     "iopub.status.idle": "2024-08-23T13:01:57.328942Z",
     "shell.execute_reply": "2024-08-23T13:01:57.329149Z"
    }
   },
   "outputs": [
    {
     "name": "stdout",
     "output_type": "stream",
     "text": [
      "true\n",
      "false\n",
      "true\n"
     ]
    }
   ],
   "source": [
    "for (x in xs){\n",
    "    println(x)\n",
    "}"
   ]
  },
  {
   "cell_type": "markdown",
   "id": "552fa6e0-689a-4120-bfc9-b4e546cc82fe",
   "metadata": {},
   "source": [
    "## Elemente hinzufügen\n",
    "\n",
    "Wenn wir einer *Liste* ein Element hinzufügen wollen, können wir\n",
    "stattdessen auch oft die *Liste* durch eine neue *Liste*, die aus der alten\n",
    "*Liste* und dem neuen Element besteht, ersetzen."
   ]
  },
  {
   "cell_type": "code",
   "execution_count": 180,
   "id": "5aa65919-5f50-4c0e-b3f9-f53d4cc7b543",
   "metadata": {
    "ExecuteTime": {
     "end_time": "2024-08-23T07:13:52.796890958Z",
     "start_time": "2024-08-23T07:13:52.702905449Z"
    },
    "execution": {
     "iopub.execute_input": "2024-08-23T13:01:57.331749Z",
     "iopub.status.busy": "2024-08-23T13:01:57.331241Z",
     "iopub.status.idle": "2024-08-23T13:01:57.405545Z",
     "shell.execute_reply": "2024-08-23T13:01:57.404679Z"
    }
   },
   "outputs": [],
   "source": [
    "var xs = listOf(true, false, true)"
   ]
  },
  {
   "cell_type": "markdown",
   "id": "dde7be85-94a8-4e53-ac80-0ce6d95d3b3a",
   "metadata": {},
   "source": [
    "<figure style=\"text-align:center\">\n",
    "<img src=\"variable_xs.svg\" style=\"width:35.0%; background-color:white;\" />\n",
    "\n",
    "<figcaption><em>Variable</em> <code class=\"sourceCode kotlin\">xs</code>\n",
    "mit dem <em>Wert</em> <code\n",
    "class=\"sourceCode kotlin\">[<span class=\"va\">true</span>, <span class=\"va\">false</span>, <span class=\"va\">true</span>]</code></figcaption>\n",
    "</figure>"
   ]
  },
  {
   "cell_type": "code",
   "execution_count": 181,
   "id": "2d653f4a-103e-461f-814e-31cd785374ff",
   "metadata": {
    "ExecuteTime": {
     "end_time": "2024-08-23T07:13:53.002629736Z",
     "start_time": "2024-08-23T07:13:52.803292762Z"
    },
    "execution": {
     "iopub.execute_input": "2024-08-23T13:01:57.409250Z",
     "iopub.status.busy": "2024-08-23T13:01:57.408555Z",
     "iopub.status.idle": "2024-08-23T13:01:57.489457Z",
     "shell.execute_reply": "2024-08-23T13:01:57.489028Z"
    }
   },
   "outputs": [],
   "source": [
    "xs = xs + listOf(false)"
   ]
  },
  {
   "cell_type": "markdown",
   "id": "877553ec-1e8a-41a3-8d7a-dec28599713c",
   "metadata": {},
   "source": [
    "<figure style=\"text-align:center\">\n",
    "<img src=\"variable_xs_updated.svg\" style=\"width:35.0%; background-color:white;\" />\n",
    "\n",
    "<figcaption><em>Variable</em> <code class=\"sourceCode kotlin\">xs</code>\n",
    "mit dem neuen <em>Wert</em> <code\n",
    "class=\"sourceCode kotlin\">[<span class=\"va\">true</span>, <span class=\"va\">false</span>, <span class=\"va\">true</span>, <span class=\"va\">false</span>]</code></figcaption>\n",
    "</figure>"
   ]
  },
  {
   "cell_type": "code",
   "execution_count": 182,
   "id": "52ececa8",
   "metadata": {
    "ExecuteTime": {
     "end_time": "2024-08-23T07:13:53.111792814Z",
     "start_time": "2024-08-23T07:13:53.023769946Z"
    },
    "execution": {
     "iopub.execute_input": "2024-08-23T13:01:57.491570Z",
     "iopub.status.busy": "2024-08-23T13:01:57.491068Z",
     "iopub.status.idle": "2024-08-23T13:01:57.530164Z",
     "shell.execute_reply": "2024-08-23T13:01:57.529903Z"
    }
   },
   "outputs": [
    {
     "data": {
      "text/plain": [
       "[true, false, true, false]"
      ]
     },
     "execution_count": 182,
     "metadata": {},
     "output_type": "execute_result"
    }
   ],
   "source": [
    "xs"
   ]
  },
  {
   "cell_type": "markdown",
   "id": "fa37dde87e83e5a9",
   "metadata": {},
   "source": [
    "# Listen verändern\n",
    "\n",
    "## Übersicht\n",
    "\n",
    "Wir haben bis jetzt nur unveränderliche *Werte* genutzt. Wir konnten\n",
    "zwar den *Wert* einer *Variablen* durch einen neuen *Wert* ersetzen aber\n",
    "**nicht** den *Wert* selbst ändern. Bei *veränderlichen Listen* ist dies jedoch\n",
    "möglich. Wir können eine solche *Liste* mit der Funktion `mutableListOf` erzeugen."
   ]
  },
  {
   "cell_type": "code",
   "execution_count": 183,
   "id": "5bbf534006c5e5d2",
   "metadata": {
    "ExecuteTime": {
     "end_time": "2024-08-23T06:28:42.080173147Z",
     "start_time": "2024-08-23T06:28:41.924432047Z"
    },
    "execution": {
     "iopub.execute_input": "2024-08-23T13:01:57.532104Z",
     "iopub.status.busy": "2024-08-23T13:01:57.531734Z",
     "iopub.status.idle": "2024-08-23T13:01:57.589263Z",
     "shell.execute_reply": "2024-08-23T13:01:57.588833Z"
    }
   },
   "outputs": [],
   "source": [
    "val xs = mutableListOf(true)"
   ]
  },
  {
   "cell_type": "markdown",
   "id": "1c345fdd-c2fd-4bc3-a806-247a35500a01",
   "metadata": {},
   "source": [
    "<figure style=\"text-align:center\">\n",
    "<img src=\"variable_xs_vor_append.svg\" style=\"width:35.0%; background-color:white;\" />\n",
    "\n",
    "<figcaption><em>Variable</em> <code class=\"sourceCode kotlin\">xs</code>\n",
    "nach dem <em>Initialisieren</em></figcaption>\n",
    "</figure>\n",
    "\n",
    "Wir haben die *Variable* `xs` mit dem Schlüsselwort `val` initialisiert. Eine Zuweisung eines anderen *Werts*ist also gar nicht möglich. Wir werden in den folgenden Abschnitten Möglichkeiten kennen lernen, den *Wert* der *Variablen* selbst zu verändern.\n",
    "\n",
    "## Elemente zur Liste hinzufügen\n",
    "\n",
    "Mit der Methode `add` können wir ein Element zu einer *Liste*\n",
    "hinzufügen. Hierbei wird tatsächlich der *Wert* selbst geändert."
   ]
  },
  {
   "cell_type": "code",
   "execution_count": 184,
   "id": "756a4380-3b4c-4923-8420-5fc24ec1075e",
   "metadata": {
    "ExecuteTime": {
     "end_time": "2024-08-23T06:28:42.268472145Z",
     "start_time": "2024-08-23T06:28:42.094667376Z"
    },
    "execution": {
     "iopub.execute_input": "2024-08-23T13:01:57.592160Z",
     "iopub.status.busy": "2024-08-23T13:01:57.591509Z",
     "iopub.status.idle": "2024-08-23T13:01:57.650583Z",
     "shell.execute_reply": "2024-08-23T13:01:57.650198Z"
    }
   },
   "outputs": [
    {
     "data": {
      "text/plain": [
       "true"
      ]
     },
     "execution_count": 184,
     "metadata": {},
     "output_type": "execute_result"
    }
   ],
   "source": [
    "xs.add(false)"
   ]
  },
  {
   "cell_type": "markdown",
   "id": "73e87a4e-2f54-4ad9-956e-fe11ed7fc252",
   "metadata": {},
   "source": [
    "<figure style=\"text-align:center\">\n",
    "<img src=\"variable_xs_nach_append.svg\" style=\"width:35.0%; background-color:white;\" />\n",
    "\n",
    "<figcaption><em>Variable</em> <code class=\"sourceCode kotlin\">xs</code>\n",
    "nach dem Hinzufügen des <em>Werts</em> <code\n",
    "class=\"sourceCode kotlin\"><span class=\"va\">false</span></code></figcaption>\n",
    "</figure>"
   ]
  },
  {
   "cell_type": "code",
   "execution_count": 185,
   "id": "888fb15c-4058-419e-b4ff-bbf6aef32281",
   "metadata": {
    "ExecuteTime": {
     "end_time": "2024-08-23T06:28:42.481318346Z",
     "start_time": "2024-08-23T06:28:42.346688818Z"
    },
    "execution": {
     "iopub.execute_input": "2024-08-23T13:01:57.653399Z",
     "iopub.status.busy": "2024-08-23T13:01:57.652826Z",
     "iopub.status.idle": "2024-08-23T13:01:57.699554Z",
     "shell.execute_reply": "2024-08-23T13:01:57.699861Z"
    }
   },
   "outputs": [
    {
     "data": {
      "text/plain": [
       "[true, false]"
      ]
     },
     "execution_count": 185,
     "metadata": {},
     "output_type": "execute_result"
    }
   ],
   "source": [
    "xs"
   ]
  },
  {
   "cell_type": "markdown",
   "id": "ec3aa600-72b5-4acd-a367-fc5c0534c29f",
   "metadata": {},
   "source": [
    "## Elemente austauschen\n",
    "\n",
    "Wir können ein Element einer *Liste* durch ein neues Element ersetzen.\n",
    "Hierfür schreiben auf der linken Seite des *Zuweisungsoperators* `=` den\n",
    "Namen der *Liste* und den *Index* des Elements, das wir austauschen\n",
    "wollen. Auf der rechten Seite steht ein Ausdruck. Dessen *Wert* wird an\n",
    "der entsprechenden Stelle in der *Liste* eingefügt."
   ]
  },
  {
   "cell_type": "code",
   "execution_count": 186,
   "id": "4e2d8c5c-f7d0-4da3-8caa-1b6cd4998766",
   "metadata": {
    "ExecuteTime": {
     "end_time": "2024-08-23T06:28:42.604567933Z",
     "start_time": "2024-08-23T06:28:42.514023172Z"
    },
    "execution": {
     "iopub.execute_input": "2024-08-23T13:01:57.702647Z",
     "iopub.status.busy": "2024-08-23T13:01:57.702000Z",
     "iopub.status.idle": "2024-08-23T13:01:57.753553Z",
     "shell.execute_reply": "2024-08-23T13:01:57.753107Z"
    }
   },
   "outputs": [],
   "source": [
    "val xs = mutableListOf(true, false, true)"
   ]
  },
  {
   "cell_type": "markdown",
   "id": "d9fa6cea-d535-4b56-9915-2c2f031a9402",
   "metadata": {},
   "source": [
    "<figure style=\"text-align:center\">\n",
    "<img src=\"variable_xs.svg\" style=\"width:35.0%; background-color:white;\" />\n",
    "\n",
    "<figcaption><em>Variable</em> <code class=\"sourceCode kotlin\">xs</code>\n",
    "mit dem <em>Wert</em> <code\n",
    "class=\"sourceCode kotlin\">[<span class=\"va\">true</span>, <span class=\"va\">false</span>, <span class=\"va\">true</span>]</code></figcaption>\n",
    "</figure>"
   ]
  },
  {
   "cell_type": "code",
   "execution_count": 187,
   "id": "bfc9ee8b-6478-4e98-9490-a01725f7c275",
   "metadata": {
    "ExecuteTime": {
     "end_time": "2024-08-23T06:28:42.775487567Z",
     "start_time": "2024-08-23T06:28:42.616873194Z"
    },
    "execution": {
     "iopub.execute_input": "2024-08-23T13:01:57.756451Z",
     "iopub.status.busy": "2024-08-23T13:01:57.755815Z",
     "iopub.status.idle": "2024-08-23T13:01:57.817003Z",
     "shell.execute_reply": "2024-08-23T13:01:57.816574Z"
    }
   },
   "outputs": [
    {
     "data": {
      "text/plain": [
       "[true, false, false]"
      ]
     },
     "execution_count": 187,
     "metadata": {},
     "output_type": "execute_result"
    }
   ],
   "source": [
    "xs[2] = false\n",
    "xs"
   ]
  },
  {
   "cell_type": "markdown",
   "id": "fe9eb96c-95cf-41d2-b43f-8dc35c664dbd",
   "metadata": {},
   "source": [
    "Auch hier wird tatsächlich der *Wert* der *Liste* geändert.\n",
    "\n",
    "<figure style=\"text-align:center\">\n",
    "<img src=\"variable_xs_updated.svg\" style=\"width:35.0%; background-color:white;\" />\n",
    "\n",
    "<figcaption><em>Variable</em> <code class=\"sourceCode kotlin\">xs</code>\n",
    "mit dem neuen <em>Wert</em> <code\n",
    "class=\"sourceCode kotlin\">[<span class=\"va\">true</span>, <span class=\"va\">false</span>, <span class=\"va\">false</span>]</code></figcaption>\n",
    "</figure>\n",
    "\n",
    "## Schwierigkeiten beim Umgang mit veränderlichen Werten\n",
    "\n",
    "Eine Schwierigkeit beim Umgang mit veränderlichen *Werten* sehen wir,\n",
    "wenn wir zwei *Variablen* erstellen, die auf denselben *Wert*\n",
    "verweisen. Dies ist immer der Fall, wenn wir `variablenname_1 = variablenname_2` schreiben, da hier nur eine Referenz kopiert wird. Der *Wert* an sich wird nicht kopiert."
   ]
  },
  {
   "cell_type": "code",
   "execution_count": 188,
   "id": "c85d0368-a206-47ff-910f-85077e0e74ad",
   "metadata": {
    "ExecuteTime": {
     "end_time": "2024-08-23T06:28:42.912136576Z",
     "start_time": "2024-08-23T06:28:42.795396127Z"
    },
    "execution": {
     "iopub.execute_input": "2024-08-23T13:01:57.820947Z",
     "iopub.status.busy": "2024-08-23T13:01:57.820064Z",
     "iopub.status.idle": "2024-08-23T13:01:57.875241Z",
     "shell.execute_reply": "2024-08-23T13:01:57.874904Z"
    }
   },
   "outputs": [],
   "source": [
    "val xs = mutableListOf(true, false, true)\n",
    "val ys = xs"
   ]
  },
  {
   "cell_type": "markdown",
   "id": "472f1d4f-db5c-44e4-bcc9-4945b18a7019",
   "metadata": {},
   "source": [
    "<figure style=\"text-align:center\">\n",
    "<img src=\"variablen_xs_ys_vor_änderung.svg\" style=\"width:35.0%; background-color:white;\" />\n",
    "\n",
    "<figcaption><em>Variablen</em> <code class=\"sourceCode kotlin\">xs</code>\n",
    "und <code class=\"sourceCode kotlin\">ys</code> nach der\n",
    "Initialisierung</figcaption>\n",
    "</figure>"
   ]
  },
  {
   "cell_type": "code",
   "execution_count": 189,
   "id": "9e2fecf6-f845-4ad7-bfa6-4e8a14bc1e91",
   "metadata": {
    "ExecuteTime": {
     "end_time": "2024-08-23T06:28:43.002407403Z",
     "start_time": "2024-08-23T06:28:42.932755035Z"
    },
    "execution": {
     "iopub.execute_input": "2024-08-23T13:01:57.878030Z",
     "iopub.status.busy": "2024-08-23T13:01:57.877318Z",
     "iopub.status.idle": "2024-08-23T13:01:57.920205Z",
     "shell.execute_reply": "2024-08-23T13:01:57.919873Z"
    }
   },
   "outputs": [],
   "source": [
    "ys[2] = false"
   ]
  },
  {
   "cell_type": "markdown",
   "id": "60d8af76-fc9d-47f9-919a-aadda76e2bc8",
   "metadata": {},
   "source": [
    "<figure style=\"text-align:center\">\n",
    "<img src=\"variablen_xs_ys_nach_änderung.svg\" style=\"width:35.0%; background-color:white;\" />\n",
    "\n",
    "<figcaption><em>Variablen</em> <code class=\"sourceCode kotlin\">xs</code>\n",
    "und <code class=\"sourceCode kotlin\">ys</code> nach dem\n",
    "Ändern</figcaption>\n",
    "</figure>"
   ]
  },
  {
   "cell_type": "code",
   "execution_count": 190,
   "id": "9d0b597a-511a-4469-817b-4a7977ea77f8",
   "metadata": {
    "ExecuteTime": {
     "end_time": "2024-08-23T06:28:43.097114065Z",
     "start_time": "2024-08-23T06:28:43.009836759Z"
    },
    "execution": {
     "iopub.execute_input": "2024-08-23T13:01:57.923216Z",
     "iopub.status.busy": "2024-08-23T13:01:57.922637Z",
     "iopub.status.idle": "2024-08-23T13:01:57.955008Z",
     "shell.execute_reply": "2024-08-23T13:01:57.955257Z"
    }
   },
   "outputs": [
    {
     "data": {
      "text/plain": [
       "[true, false, false]"
      ]
     },
     "execution_count": 190,
     "metadata": {},
     "output_type": "execute_result"
    }
   ],
   "source": [
    "xs"
   ]
  },
  {
   "cell_type": "markdown",
   "id": "96f4630a-bca1-4bdf-b152-9ba4b8d7b8d0",
   "metadata": {},
   "source": [
    "## Listen in Funktionen ändern\n",
    "\n",
    "Eine Funktion kann eine *veränderliche Liste*, die ihr übergeben wird ändern."
   ]
  },
  {
   "cell_type": "code",
   "execution_count": 191,
   "id": "5c2f6544-711f-4df2-8135-ab544799ccf3",
   "metadata": {
    "ExecuteTime": {
     "end_time": "2024-08-23T06:28:43.246608401Z",
     "start_time": "2024-08-23T06:28:43.109258095Z"
    },
    "execution": {
     "iopub.execute_input": "2024-08-23T13:01:57.959228Z",
     "iopub.status.busy": "2024-08-23T13:01:57.958290Z",
     "iopub.status.idle": "2024-08-23T13:01:58.025463Z",
     "shell.execute_reply": "2024-08-23T13:01:58.025733Z"
    }
   },
   "outputs": [
    {
     "data": {
      "text/plain": [
       "[false, true]"
      ]
     },
     "execution_count": 191,
     "metadata": {},
     "output_type": "execute_result"
    }
   ],
   "source": [
    "fun setFirstFalse(xs: MutableList<Boolean>): Unit {\n",
    "    xs[0] = false\n",
    "}\n",
    "val xs = mutableListOf(true, true)\n",
    "setFirstFalse(xs)\n",
    "xs"
   ]
  },
  {
   "cell_type": "markdown",
   "id": "84426b59-10b4-4bd9-9576-07457b2071d4",
   "metadata": {},
   "source": [
    "<figure style=\"text-align:center\">\n",
    "<img src=\"funktionsaufruf_set_first_false.svg\" style=\"width:35.0%; background-color:white;\" />\n",
    "\n",
    "<figcaption>Funktionsaufruf <code\n",
    "class=\"sourceCode kotlin\">set_first_false(xs)</code></figcaption>\n",
    "</figure>"
   ]
  },
  {
   "cell_type": "markdown",
   "id": "0d47efd6-5dea-4d40-84e2-6e1b955cbea1",
   "metadata": {},
   "source": [
    "# Kommazahlen\n",
    "\n",
    "## Grundlagen\n",
    "\n"
   ]
  },
  {
   "cell_type": "markdown",
   "id": "1d54d947-2d58-4799-b01c-030339cff018",
   "metadata": {},
   "source": [
    "Neben ganzen Zahlen gibt es in Kotlin auch Kommazahlen. Der *Typ* der Kommazahlen wird mit\n",
    "`Double` abgekürzt.\n",
    "\n",
    "Kommazahlen unterstützen alle *Rechenoperation*, die wir mit ganzen Zahlen\n",
    "verwendet haben."
   ]
  },
  {
   "cell_type": "code",
   "execution_count": 192,
   "id": "cdb2f39d-2ab6-41e9-ab39-a25cc4fa1994",
   "metadata": {
    "ExecuteTime": {
     "end_time": "2024-08-22T19:14:36.399915879Z",
     "start_time": "2024-08-22T19:14:36.270462066Z"
    },
    "execution": {
     "iopub.execute_input": "2024-08-23T13:01:58.028760Z",
     "iopub.status.busy": "2024-08-23T13:01:58.027865Z",
     "iopub.status.idle": "2024-08-23T13:01:58.073824Z",
     "shell.execute_reply": "2024-08-23T13:01:58.073408Z"
    }
   },
   "outputs": [
    {
     "data": {
      "text/plain": [
       "3.4"
      ]
     },
     "execution_count": 192,
     "metadata": {},
     "output_type": "execute_result"
    }
   ],
   "source": [
    "1.0 + 2.4"
   ]
  },
  {
   "cell_type": "code",
   "execution_count": 193,
   "id": "924b9410",
   "metadata": {
    "ExecuteTime": {
     "end_time": "2024-08-22T19:09:17.695865911Z",
     "start_time": "2024-08-22T19:09:17.470443632Z"
    },
    "execution": {
     "iopub.execute_input": "2024-08-23T13:01:58.076301Z",
     "iopub.status.busy": "2024-08-23T13:01:58.075709Z",
     "iopub.status.idle": "2024-08-23T13:01:58.104269Z",
     "shell.execute_reply": "2024-08-23T13:01:58.103931Z"
    }
   },
   "outputs": [
    {
     "data": {
      "text/plain": [
       "2.25"
      ]
     },
     "execution_count": 193,
     "metadata": {},
     "output_type": "execute_result"
    }
   ],
   "source": [
    "1.5 * 1.5"
   ]
  },
  {
   "cell_type": "code",
   "execution_count": 194,
   "id": "0d66dd96",
   "metadata": {
    "ExecuteTime": {
     "end_time": "2024-08-22T19:17:15.939680474Z",
     "start_time": "2024-08-22T19:17:15.842554811Z"
    },
    "execution": {
     "iopub.execute_input": "2024-08-23T13:01:58.108885Z",
     "iopub.status.busy": "2024-08-23T13:01:58.108088Z",
     "iopub.status.idle": "2024-08-23T13:01:58.149015Z",
     "shell.execute_reply": "2024-08-23T13:01:58.149287Z"
    }
   },
   "outputs": [
    {
     "data": {
      "text/plain": [
       "3.3333333333333335"
      ]
     },
     "execution_count": 194,
     "metadata": {},
     "output_type": "execute_result"
    }
   ],
   "source": [
    "10.0/3.0"
   ]
  },
  {
   "cell_type": "markdown",
   "id": "40cb0cd8-a8d2-4d34-bfd4-0c964a838e3f",
   "metadata": {},
   "source": [
    "Die Rechnung mit *Kommazahlen* führt leider oft zu Ergebnissen, die nicht\n",
    "ganz exakt sind."
   ]
  },
  {
   "cell_type": "code",
   "execution_count": 195,
   "id": "bd3079fd-ef27-4172-9c06-8e763ff3d077",
   "metadata": {
    "ExecuteTime": {
     "end_time": "2024-08-22T19:09:18.157608567Z",
     "start_time": "2024-08-22T19:09:17.998200856Z"
    },
    "execution": {
     "iopub.execute_input": "2024-08-23T13:01:58.152161Z",
     "iopub.status.busy": "2024-08-23T13:01:58.151024Z",
     "iopub.status.idle": "2024-08-23T13:01:58.222163Z",
     "shell.execute_reply": "2024-08-23T13:01:58.221899Z"
    }
   },
   "outputs": [
    {
     "data": {
      "text/plain": [
       "-1.6000000000000014"
      ]
     },
     "execution_count": 195,
     "metadata": {},
     "output_type": "execute_result"
    }
   ],
   "source": [
    "10.7 - 12.3"
   ]
  },
  {
   "cell_type": "markdown",
   "id": "c161140c-7d81-4914-b080-9de8c734ab7d",
   "metadata": {},
   "source": [
    "*Doubles* können wir wie alle *Werte*, in *Variablen* speichern, als\n",
    "*Argumente* und *Rückgabewerte* von Funktionen nutzen und in *Listen*\n",
    "speichern. Da dies nicht wirklich überraschend ist, wird es hier nicht\n",
    "nochmal vorgeführt.\n",
    "\n",
    "## Rechnungen mit Doubles und Integern\n",
    "\n",
    "Diese *Operationen* kann man auch mit einem *Integer* und einem *Double*\n",
    "verwenden. Dabei wird zunächst der *Integer* zu einem *Float*\n",
    "konvertiert und dann die entsprechende Rechnung durchgeführt."
   ]
  },
  {
   "cell_type": "code",
   "execution_count": 196,
   "id": "afeb01e3-2782-43ad-b08d-2fdb93c6dd8b",
   "metadata": {
    "ExecuteTime": {
     "end_time": "2024-08-22T19:09:18.332835172Z",
     "start_time": "2024-08-22T19:09:18.238778687Z"
    },
    "execution": {
     "iopub.execute_input": "2024-08-23T13:01:58.225006Z",
     "iopub.status.busy": "2024-08-23T13:01:58.224482Z",
     "iopub.status.idle": "2024-08-23T13:01:58.272227Z",
     "shell.execute_reply": "2024-08-23T13:01:58.272439Z"
    }
   },
   "outputs": [
    {
     "data": {
      "text/plain": [
       "3.3"
      ]
     },
     "execution_count": 196,
     "metadata": {},
     "output_type": "execute_result"
    }
   ],
   "source": [
    "1.3 + 2"
   ]
  },
  {
   "cell_type": "markdown",
   "id": "32eb1640-89bf-4eae-8cad-f41735578061",
   "metadata": {},
   "source": [
    "## Konvertierung\n",
    "\n",
    "Die *Konvertierung* kann auch manuell angewendet werden."
   ]
  },
  {
   "cell_type": "code",
   "execution_count": 197,
   "id": "86d62905-5ec4-4d7d-ba8c-f8efbfc4a43d",
   "metadata": {
    "ExecuteTime": {
     "end_time": "2024-08-22T19:16:28.554539827Z",
     "start_time": "2024-08-22T19:16:28.445416060Z"
    },
    "execution": {
     "iopub.execute_input": "2024-08-23T13:01:58.274239Z",
     "iopub.status.busy": "2024-08-23T13:01:58.273866Z",
     "iopub.status.idle": "2024-08-23T13:01:58.317629Z",
     "shell.execute_reply": "2024-08-23T13:01:58.317825Z"
    }
   },
   "outputs": [
    {
     "data": {
      "text/plain": [
       "10.0"
      ]
     },
     "execution_count": 197,
     "metadata": {},
     "output_type": "execute_result"
    }
   ],
   "source": [
    "10.toDouble()"
   ]
  },
  {
   "cell_type": "markdown",
   "id": "a1621f48-c353-446d-b49a-564bb37712f5",
   "metadata": {},
   "source": [
    "Auch eine *Konvertierung* in die andere Richtung ist möglich."
   ]
  },
  {
   "cell_type": "code",
   "execution_count": 198,
   "id": "eebf8fb4-d746-4d34-a94e-6b27f53c2019",
   "metadata": {
    "ExecuteTime": {
     "end_time": "2024-08-22T19:16:38.896255725Z",
     "start_time": "2024-08-22T19:16:38.711550422Z"
    },
    "execution": {
     "iopub.execute_input": "2024-08-23T13:01:58.319744Z",
     "iopub.status.busy": "2024-08-23T13:01:58.319410Z",
     "iopub.status.idle": "2024-08-23T13:01:58.362245Z",
     "shell.execute_reply": "2024-08-23T13:01:58.362451Z"
    }
   },
   "outputs": [
    {
     "data": {
      "text/plain": [
       "10"
      ]
     },
     "execution_count": 198,
     "metadata": {},
     "output_type": "execute_result"
    }
   ],
   "source": [
    "10.7.toInt()"
   ]
  },
  {
   "cell_type": "markdown",
   "id": "8e392890-8691-4246-b394-c804ca50bf9d",
   "metadata": {},
   "source": [
    "Bei einer *Konvertierung* von *Double* zu *Integer* wird immer\n",
    "abgerundet."
   ]
  }
 ],
 "metadata": {
  "kernelspec": {
   "display_name": "Kotlin",
   "language": "kotlin",
   "name": "kotlin"
  },
  "language_info": {
   "codemirror_mode": "text/x-kotlin",
   "file_extension": ".kt",
   "mimetype": "text/x-kotlin",
   "name": "kotlin",
   "nbconvert_exporter": "",
   "pygments_lexer": "kotlin",
   "version": "1.9.23"
  }
 },
 "nbformat": 4,
 "nbformat_minor": 5
}
