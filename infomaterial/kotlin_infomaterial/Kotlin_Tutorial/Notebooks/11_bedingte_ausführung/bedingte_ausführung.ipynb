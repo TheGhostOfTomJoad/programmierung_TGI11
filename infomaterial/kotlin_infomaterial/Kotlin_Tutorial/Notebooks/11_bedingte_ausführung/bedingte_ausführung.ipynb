{
 "cells": [
  {
   "metadata": {},
   "cell_type": "markdown",
   "source": [
    "# Bedingte Ausführung\n",
    "\n",
    "## Grundlagen\n",
    "\n",
    "Wir haben bis bisher drei Arten von *Statements* kennengelernt. Dies waren:\n",
    "\n",
    "1. Zuweisungsstatements. Mit diesen haben wir *Variablen* initialisiert.\n",
    "\n",
    "2. Aufrufe von Funktionen. Diese zu verwenden ergibt nur dann Sinn, wenn die Funktion einen Effekt hat. Beispiele hierfür waren `println` und `assert`. Alle Funktionen in denen wir direkt oder indirekt eine dieser Funktionen verwenden, haben auch einen Effekt.\n",
    "3. `return`-*Statements*. Bei diesen wird der *Wert* des *Ausdrucks* hinter `return` von der Funktion, in der das `return`-*Statement* steht, zurückgegeben. Anschließend kann dieser *Wert* dann in der Funktion genutzt werden, in der der Aufruf steht.\n",
    "    "
   ]
  },
  {
   "metadata": {},
   "cell_type": "markdown",
   "source": [
    "Bei Aufruf eines Programms werden alle *Statements* in der `main`-Funktion abgearbeitet. Bei einem Funktionsaufruf in der `main`-Funktion oder einer weiteren Funktion werden alle *Statements* in der aufgerufenen Funktion ausgeführt.\n",
    "\n",
    "## Statements in if-else-Ausdrücken\n",
    "\n",
    "Wir können in einem `if`-`else`-*Ausdruck* auch Blöcke mit *Statements* statt *Ausdrücken* verwenden und somit von einer Bedingung abhängig machen, welche *Statements* ausgeführt werden sollen."
   ]
  },
  {
   "metadata": {
    "ExecuteTime": {
     "end_time": "2024-08-24T13:22:01.801703466Z",
     "start_time": "2024-08-24T13:22:01.670201615Z"
    }
   },
   "cell_type": "code",
   "source": [
    "fun juggleMotivationBetter(count: Int): Unit {\n",
    "    if (count >= 15) {println(\"Great,\")\n",
    "                      println(\"add another ball!\")}\n",
    "    else {println(\"Try again,\")\n",
    "          println(\"until you got 15 repetitions!\")}\n",
    "}"
   ],
   "outputs": [],
   "execution_count": 7
  },
  {
   "metadata": {
    "ExecuteTime": {
     "end_time": "2024-08-24T13:22:06.752350260Z",
     "start_time": "2024-08-24T13:22:06.610442716Z"
    }
   },
   "cell_type": "code",
   "source": "juggleMotivationBetter(15)",
   "outputs": [
    {
     "name": "stdout",
     "output_type": "stream",
     "text": [
      "Great,\n",
      "add another ball!\n"
     ]
    }
   ],
   "execution_count": 9
  },
  {
   "metadata": {
    "ExecuteTime": {
     "end_time": "2024-08-24T13:22:03.906099898Z",
     "start_time": "2024-08-24T13:22:03.795210177Z"
    }
   },
   "cell_type": "code",
   "source": "juggleMotivationBetter(14)",
   "outputs": [
    {
     "name": "stdout",
     "output_type": "stream",
     "text": [
      "Try again,\n",
      "until you got 15 repetitions!\n"
     ]
    }
   ],
   "execution_count": 8
  },
  {
   "metadata": {},
   "cell_type": "markdown",
   "source": "Bei den `if`-`else`-*Ausdrücken* im letzten Kapitel war es immer notwendig `else` zu verwenden. Dies stellt sicher, dass der *Ausdruck* in jedem Fall einen *Wert* hat. Wenn wir aber in einem `if`-`else`/-*Ausdruck* *Statements* verwenden, ist dies nicht nötig."
  },
  {
   "cell_type": "code",
   "metadata": {
    "collapsed": true,
    "ExecuteTime": {
     "end_time": "2024-08-24T13:21:43.650726805Z",
     "start_time": "2024-08-24T13:21:43.527392159Z"
    }
   },
   "source": [
    "fun juggleMotivation(count: Int): Unit {\n",
    "    if (count >= 15) {println(\"Great,\")\n",
    "                      println(\"add another ball!\")}\n",
    "}"
   ],
   "outputs": [],
   "execution_count": 3
  },
  {
   "metadata": {
    "ExecuteTime": {
     "end_time": "2024-08-24T13:21:51.471339076Z",
     "start_time": "2024-08-24T13:21:51.304942384Z"
    }
   },
   "cell_type": "code",
   "source": "juggleMotivation(16)",
   "outputs": [
    {
     "name": "stdout",
     "output_type": "stream",
     "text": [
      "Great,\n",
      "add another ball!\n"
     ]
    }
   ],
   "execution_count": 4
  },
  {
   "metadata": {},
   "cell_type": "markdown",
   "source": "Wenn keine Bedingung erfüllt ist, werden einfach keine `Statements` ausgeführt."
  },
  {
   "metadata": {
    "ExecuteTime": {
     "end_time": "2024-08-24T13:21:55.227661062Z",
     "start_time": "2024-08-24T13:21:55.111669483Z"
    }
   },
   "cell_type": "code",
   "source": "juggleMotivation(14)",
   "outputs": [],
   "execution_count": 5
  },
  {
   "metadata": {},
   "cell_type": "markdown",
   "source": [
    "# Statements in when-Ausdrücken\n",
    "\n",
    "Die Verwendung von *Statements* und das Weglassen von `else` ist auch in `when`-Ausdrücke möglich."
   ]
  },
  {
   "metadata": {
    "ExecuteTime": {
     "end_time": "2024-08-24T13:21:41.590978283Z",
     "start_time": "2024-08-24T13:21:41.346386826Z"
    }
   },
   "cell_type": "code",
   "source": [
    "fun juggleMotivationMuchBetter(count: Int): Unit {\n",
    "    when {\n",
    "        count >= 15 -> {println(\"Great,\")\n",
    "                        println(\"add another ball!\")}\n",
    "        count >= 3 -> {println(\"Try again,\")\n",
    "                       println(\"until you got 15 repetitions!\")}\n",
    "    }\n",
    "}"
   ],
   "outputs": [],
   "execution_count": 2
  }
 ],
 "metadata": {
  "kernelspec": {
   "display_name": "Kotlin",
   "language": "kotlin",
   "name": "kotlin"
  },
  "language_info": {
   "name": "kotlin",
   "version": "1.9.23",
   "mimetype": "text/x-kotlin",
   "file_extension": ".kt",
   "pygments_lexer": "kotlin",
   "codemirror_mode": "text/x-kotlin",
   "nbconvert_exporter": ""
  }
 },
 "nbformat": 4,
 "nbformat_minor": 0
}
